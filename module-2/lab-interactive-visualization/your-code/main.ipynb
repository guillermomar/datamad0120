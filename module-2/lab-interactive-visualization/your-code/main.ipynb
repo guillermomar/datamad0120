{
 "cells": [
  {
   "cell_type": "markdown",
   "metadata": {},
   "source": [
    "# Interactive Visualization Lab\n",
    "\n",
    "Complete the following set of exercises to solidify your knowledge of interactive visualization using Plotly, Cufflinks, and IPyWidgets."
   ]
  },
  {
   "cell_type": "code",
   "execution_count": 17,
   "metadata": {},
   "outputs": [
    {
     "data": {
      "text/html": [
       "        <script type=\"text/javascript\">\n",
       "        window.PlotlyConfig = {MathJaxConfig: 'local'};\n",
       "        if (window.MathJax) {MathJax.Hub.Config({SVG: {font: \"STIX-Web\"}});}\n",
       "        if (typeof require !== 'undefined') {\n",
       "        require.undef(\"plotly\");\n",
       "        requirejs.config({\n",
       "            paths: {\n",
       "                'plotly': ['https://cdn.plot.ly/plotly-latest.min']\n",
       "            }\n",
       "        });\n",
       "        require(['plotly'], function(Plotly) {\n",
       "            window._Plotly = Plotly;\n",
       "        });\n",
       "        }\n",
       "        </script>\n",
       "        "
      ]
     },
     "metadata": {},
     "output_type": "display_data"
    }
   ],
   "source": [
    "import pandas as pd\n",
    "import chart_studio.plotly as py\n",
    "import plotly.graph_objects as go\n",
    "import cufflinks as cf\n",
    "from ipywidgets import interact\n",
    "import plotly.express as px\n",
    "\n",
    "cf.go_offline()"
   ]
  },
  {
   "cell_type": "code",
   "execution_count": 52,
   "metadata": {},
   "outputs": [],
   "source": [
    "data = pd.read_excel('../data/Online Retail.xlsx')"
   ]
  },
  {
   "cell_type": "markdown",
   "metadata": {},
   "source": [
    "## 1. Create an interactive bar chart showing total quantity and revenue by country (excluding United Kingdom) for the month of April 2011."
   ]
  },
  {
   "cell_type": "code",
   "execution_count": 4,
   "metadata": {},
   "outputs": [
    {
     "data": {
      "text/html": [
       "<div>\n",
       "<style scoped>\n",
       "    .dataframe tbody tr th:only-of-type {\n",
       "        vertical-align: middle;\n",
       "    }\n",
       "\n",
       "    .dataframe tbody tr th {\n",
       "        vertical-align: top;\n",
       "    }\n",
       "\n",
       "    .dataframe thead th {\n",
       "        text-align: right;\n",
       "    }\n",
       "</style>\n",
       "<table border=\"1\" class=\"dataframe\">\n",
       "  <thead>\n",
       "    <tr style=\"text-align: right;\">\n",
       "      <th></th>\n",
       "      <th>InvoiceNo</th>\n",
       "      <th>InvoiceDate</th>\n",
       "      <th>StockCode</th>\n",
       "      <th>Description</th>\n",
       "      <th>Quantity</th>\n",
       "      <th>UnitPrice</th>\n",
       "      <th>Revenue</th>\n",
       "      <th>CustomerID</th>\n",
       "      <th>Country</th>\n",
       "    </tr>\n",
       "  </thead>\n",
       "  <tbody>\n",
       "    <tr>\n",
       "      <th>0</th>\n",
       "      <td>536365</td>\n",
       "      <td>2010-12-01 08:26:00</td>\n",
       "      <td>85123A</td>\n",
       "      <td>CREAM HANGING HEART T-LIGHT HOLDER</td>\n",
       "      <td>6</td>\n",
       "      <td>2.55</td>\n",
       "      <td>15.3</td>\n",
       "      <td>17850</td>\n",
       "      <td>United Kingdom</td>\n",
       "    </tr>\n",
       "    <tr>\n",
       "      <th>1</th>\n",
       "      <td>536373</td>\n",
       "      <td>2010-12-01 09:02:00</td>\n",
       "      <td>85123A</td>\n",
       "      <td>CREAM HANGING HEART T-LIGHT HOLDER</td>\n",
       "      <td>6</td>\n",
       "      <td>2.55</td>\n",
       "      <td>15.3</td>\n",
       "      <td>17850</td>\n",
       "      <td>United Kingdom</td>\n",
       "    </tr>\n",
       "    <tr>\n",
       "      <th>2</th>\n",
       "      <td>536375</td>\n",
       "      <td>2010-12-01 09:32:00</td>\n",
       "      <td>85123A</td>\n",
       "      <td>CREAM HANGING HEART T-LIGHT HOLDER</td>\n",
       "      <td>6</td>\n",
       "      <td>2.55</td>\n",
       "      <td>15.3</td>\n",
       "      <td>17850</td>\n",
       "      <td>United Kingdom</td>\n",
       "    </tr>\n",
       "    <tr>\n",
       "      <th>3</th>\n",
       "      <td>536390</td>\n",
       "      <td>2010-12-01 10:19:00</td>\n",
       "      <td>85123A</td>\n",
       "      <td>CREAM HANGING HEART T-LIGHT HOLDER</td>\n",
       "      <td>64</td>\n",
       "      <td>2.55</td>\n",
       "      <td>163.2</td>\n",
       "      <td>17511</td>\n",
       "      <td>United Kingdom</td>\n",
       "    </tr>\n",
       "    <tr>\n",
       "      <th>4</th>\n",
       "      <td>536394</td>\n",
       "      <td>2010-12-01 10:39:00</td>\n",
       "      <td>85123A</td>\n",
       "      <td>CREAM HANGING HEART T-LIGHT HOLDER</td>\n",
       "      <td>32</td>\n",
       "      <td>2.55</td>\n",
       "      <td>81.6</td>\n",
       "      <td>13408</td>\n",
       "      <td>United Kingdom</td>\n",
       "    </tr>\n",
       "  </tbody>\n",
       "</table>\n",
       "</div>"
      ],
      "text/plain": [
       "   InvoiceNo         InvoiceDate StockCode  \\\n",
       "0     536365 2010-12-01 08:26:00    85123A   \n",
       "1     536373 2010-12-01 09:02:00    85123A   \n",
       "2     536375 2010-12-01 09:32:00    85123A   \n",
       "3     536390 2010-12-01 10:19:00    85123A   \n",
       "4     536394 2010-12-01 10:39:00    85123A   \n",
       "\n",
       "                          Description  Quantity  UnitPrice  Revenue  \\\n",
       "0  CREAM HANGING HEART T-LIGHT HOLDER         6       2.55     15.3   \n",
       "1  CREAM HANGING HEART T-LIGHT HOLDER         6       2.55     15.3   \n",
       "2  CREAM HANGING HEART T-LIGHT HOLDER         6       2.55     15.3   \n",
       "3  CREAM HANGING HEART T-LIGHT HOLDER        64       2.55    163.2   \n",
       "4  CREAM HANGING HEART T-LIGHT HOLDER        32       2.55     81.6   \n",
       "\n",
       "   CustomerID         Country  \n",
       "0       17850  United Kingdom  \n",
       "1       17850  United Kingdom  \n",
       "2       17850  United Kingdom  \n",
       "3       17511  United Kingdom  \n",
       "4       13408  United Kingdom  "
      ]
     },
     "execution_count": 4,
     "metadata": {},
     "output_type": "execute_result"
    }
   ],
   "source": [
    "data.head()\n"
   ]
  },
  {
   "cell_type": "code",
   "execution_count": 8,
   "metadata": {},
   "outputs": [],
   "source": [
    "data = data[(data[\"Country\"] != \"United Kingdom\" )]"
   ]
  },
  {
   "cell_type": "code",
   "execution_count": 9,
   "metadata": {},
   "outputs": [
    {
     "data": {
      "text/html": [
       "<div>\n",
       "<style scoped>\n",
       "    .dataframe tbody tr th:only-of-type {\n",
       "        vertical-align: middle;\n",
       "    }\n",
       "\n",
       "    .dataframe tbody tr th {\n",
       "        vertical-align: top;\n",
       "    }\n",
       "\n",
       "    .dataframe thead th {\n",
       "        text-align: right;\n",
       "    }\n",
       "</style>\n",
       "<table border=\"1\" class=\"dataframe\">\n",
       "  <thead>\n",
       "    <tr style=\"text-align: right;\">\n",
       "      <th></th>\n",
       "      <th>InvoiceNo</th>\n",
       "      <th>InvoiceDate</th>\n",
       "      <th>StockCode</th>\n",
       "      <th>Description</th>\n",
       "      <th>Quantity</th>\n",
       "      <th>UnitPrice</th>\n",
       "      <th>Revenue</th>\n",
       "      <th>CustomerID</th>\n",
       "      <th>Country</th>\n",
       "    </tr>\n",
       "  </thead>\n",
       "  <tbody>\n",
       "    <tr>\n",
       "      <th>103</th>\n",
       "      <td>538095</td>\n",
       "      <td>2010-12-09 14:55:00</td>\n",
       "      <td>85123A</td>\n",
       "      <td>CREAM HANGING HEART T-LIGHT HOLDER</td>\n",
       "      <td>1</td>\n",
       "      <td>2.95</td>\n",
       "      <td>2.95</td>\n",
       "      <td>17097</td>\n",
       "      <td>Spain</td>\n",
       "    </tr>\n",
       "    <tr>\n",
       "      <th>147</th>\n",
       "      <td>538826</td>\n",
       "      <td>2010-12-14 12:58:00</td>\n",
       "      <td>85123A</td>\n",
       "      <td>CREAM HANGING HEART T-LIGHT HOLDER</td>\n",
       "      <td>64</td>\n",
       "      <td>2.55</td>\n",
       "      <td>163.20</td>\n",
       "      <td>12370</td>\n",
       "      <td>Cyprus</td>\n",
       "    </tr>\n",
       "    <tr>\n",
       "      <th>179</th>\n",
       "      <td>539320</td>\n",
       "      <td>2010-12-16 19:16:00</td>\n",
       "      <td>85123A</td>\n",
       "      <td>CREAM HANGING HEART T-LIGHT HOLDER</td>\n",
       "      <td>24</td>\n",
       "      <td>2.95</td>\n",
       "      <td>70.80</td>\n",
       "      <td>14911</td>\n",
       "      <td>EIRE</td>\n",
       "    </tr>\n",
       "    <tr>\n",
       "      <th>183</th>\n",
       "      <td>539353</td>\n",
       "      <td>2010-12-17 11:30:00</td>\n",
       "      <td>85123A</td>\n",
       "      <td>CREAM HANGING HEART T-LIGHT HOLDER</td>\n",
       "      <td>6</td>\n",
       "      <td>2.95</td>\n",
       "      <td>17.70</td>\n",
       "      <td>12782</td>\n",
       "      <td>Portugal</td>\n",
       "    </tr>\n",
       "    <tr>\n",
       "      <th>198</th>\n",
       "      <td>539722</td>\n",
       "      <td>2010-12-21 13:45:00</td>\n",
       "      <td>85123A</td>\n",
       "      <td>CREAM HANGING HEART T-LIGHT HOLDER</td>\n",
       "      <td>24</td>\n",
       "      <td>2.95</td>\n",
       "      <td>70.80</td>\n",
       "      <td>14911</td>\n",
       "      <td>EIRE</td>\n",
       "    </tr>\n",
       "  </tbody>\n",
       "</table>\n",
       "</div>"
      ],
      "text/plain": [
       "     InvoiceNo         InvoiceDate StockCode  \\\n",
       "103     538095 2010-12-09 14:55:00    85123A   \n",
       "147     538826 2010-12-14 12:58:00    85123A   \n",
       "179     539320 2010-12-16 19:16:00    85123A   \n",
       "183     539353 2010-12-17 11:30:00    85123A   \n",
       "198     539722 2010-12-21 13:45:00    85123A   \n",
       "\n",
       "                            Description  Quantity  UnitPrice  Revenue  \\\n",
       "103  CREAM HANGING HEART T-LIGHT HOLDER         1       2.95     2.95   \n",
       "147  CREAM HANGING HEART T-LIGHT HOLDER        64       2.55   163.20   \n",
       "179  CREAM HANGING HEART T-LIGHT HOLDER        24       2.95    70.80   \n",
       "183  CREAM HANGING HEART T-LIGHT HOLDER         6       2.95    17.70   \n",
       "198  CREAM HANGING HEART T-LIGHT HOLDER        24       2.95    70.80   \n",
       "\n",
       "     CustomerID   Country  \n",
       "103       17097     Spain  \n",
       "147       12370    Cyprus  \n",
       "179       14911      EIRE  \n",
       "183       12782  Portugal  \n",
       "198       14911      EIRE  "
      ]
     },
     "execution_count": 9,
     "metadata": {},
     "output_type": "execute_result"
    }
   ],
   "source": [
    "data.head()"
   ]
  },
  {
   "cell_type": "code",
   "execution_count": 14,
   "metadata": {},
   "outputs": [],
   "source": [
    "data = data[(data[\"InvoiceDate\"] >= \"2011-04-01\") & (data[\"InvoiceDate\"] <= \"2011-04-30\" )]\n",
    "\n",
    "\n"
   ]
  },
  {
   "cell_type": "code",
   "execution_count": 15,
   "metadata": {},
   "outputs": [
    {
     "data": {
      "text/html": [
       "<div>\n",
       "<style scoped>\n",
       "    .dataframe tbody tr th:only-of-type {\n",
       "        vertical-align: middle;\n",
       "    }\n",
       "\n",
       "    .dataframe tbody tr th {\n",
       "        vertical-align: top;\n",
       "    }\n",
       "\n",
       "    .dataframe thead th {\n",
       "        text-align: right;\n",
       "    }\n",
       "</style>\n",
       "<table border=\"1\" class=\"dataframe\">\n",
       "  <thead>\n",
       "    <tr style=\"text-align: right;\">\n",
       "      <th></th>\n",
       "      <th>InvoiceNo</th>\n",
       "      <th>InvoiceDate</th>\n",
       "      <th>StockCode</th>\n",
       "      <th>Description</th>\n",
       "      <th>Quantity</th>\n",
       "      <th>UnitPrice</th>\n",
       "      <th>Revenue</th>\n",
       "      <th>CustomerID</th>\n",
       "      <th>Country</th>\n",
       "    </tr>\n",
       "  </thead>\n",
       "  <tbody>\n",
       "    <tr>\n",
       "      <th>724</th>\n",
       "      <td>549667</td>\n",
       "      <td>2011-04-11 12:20:00</td>\n",
       "      <td>85123A</td>\n",
       "      <td>CREAM HANGING HEART T-LIGHT HOLDER</td>\n",
       "      <td>6</td>\n",
       "      <td>2.95</td>\n",
       "      <td>17.70</td>\n",
       "      <td>14911</td>\n",
       "      <td>EIRE</td>\n",
       "    </tr>\n",
       "    <tr>\n",
       "      <th>807</th>\n",
       "      <td>551163</td>\n",
       "      <td>2011-04-26 15:52:00</td>\n",
       "      <td>85123A</td>\n",
       "      <td>CREAM HANGING HEART T-LIGHT HOLDER</td>\n",
       "      <td>9</td>\n",
       "      <td>2.95</td>\n",
       "      <td>26.55</td>\n",
       "      <td>12573</td>\n",
       "      <td>France</td>\n",
       "    </tr>\n",
       "    <tr>\n",
       "      <th>3320</th>\n",
       "      <td>550899</td>\n",
       "      <td>2011-04-21 12:07:00</td>\n",
       "      <td>22752</td>\n",
       "      <td>SET 7 BABUSHKA NESTING BOXES</td>\n",
       "      <td>2</td>\n",
       "      <td>8.50</td>\n",
       "      <td>17.00</td>\n",
       "      <td>13505</td>\n",
       "      <td>Switzerland</td>\n",
       "    </tr>\n",
       "    <tr>\n",
       "      <th>4880</th>\n",
       "      <td>550527</td>\n",
       "      <td>2011-04-19 10:48:00</td>\n",
       "      <td>84879</td>\n",
       "      <td>ASSORTED COLOUR BIRD ORNAMENT</td>\n",
       "      <td>40</td>\n",
       "      <td>1.69</td>\n",
       "      <td>67.60</td>\n",
       "      <td>12476</td>\n",
       "      <td>Germany</td>\n",
       "    </tr>\n",
       "    <tr>\n",
       "      <th>4882</th>\n",
       "      <td>550620</td>\n",
       "      <td>2011-04-19 13:39:00</td>\n",
       "      <td>84879</td>\n",
       "      <td>ASSORTED COLOUR BIRD ORNAMENT</td>\n",
       "      <td>32</td>\n",
       "      <td>1.69</td>\n",
       "      <td>54.08</td>\n",
       "      <td>12585</td>\n",
       "      <td>Germany</td>\n",
       "    </tr>\n",
       "    <tr>\n",
       "      <th>...</th>\n",
       "      <td>...</td>\n",
       "      <td>...</td>\n",
       "      <td>...</td>\n",
       "      <td>...</td>\n",
       "      <td>...</td>\n",
       "      <td>...</td>\n",
       "      <td>...</td>\n",
       "      <td>...</td>\n",
       "      <td>...</td>\n",
       "    </tr>\n",
       "    <tr>\n",
       "      <th>328231</th>\n",
       "      <td>550665</td>\n",
       "      <td>2011-04-20 09:31:00</td>\n",
       "      <td>23204</td>\n",
       "      <td>CHARLOTTE BAG APPLES DESIGN</td>\n",
       "      <td>50</td>\n",
       "      <td>0.85</td>\n",
       "      <td>42.50</td>\n",
       "      <td>12530</td>\n",
       "      <td>Germany</td>\n",
       "    </tr>\n",
       "    <tr>\n",
       "      <th>328238</th>\n",
       "      <td>550911</td>\n",
       "      <td>2011-04-21 13:11:00</td>\n",
       "      <td>23204</td>\n",
       "      <td>CHARLOTTE BAG APPLES DESIGN</td>\n",
       "      <td>10</td>\n",
       "      <td>0.85</td>\n",
       "      <td>8.50</td>\n",
       "      <td>12354</td>\n",
       "      <td>Spain</td>\n",
       "    </tr>\n",
       "    <tr>\n",
       "      <th>328244</th>\n",
       "      <td>551258</td>\n",
       "      <td>2011-04-27 12:02:00</td>\n",
       "      <td>23204</td>\n",
       "      <td>CHARLOTTE BAG APPLES DESIGN</td>\n",
       "      <td>20</td>\n",
       "      <td>0.85</td>\n",
       "      <td>17.00</td>\n",
       "      <td>12621</td>\n",
       "      <td>Germany</td>\n",
       "    </tr>\n",
       "    <tr>\n",
       "      <th>328681</th>\n",
       "      <td>551346</td>\n",
       "      <td>2011-04-28 09:12:00</td>\n",
       "      <td>23208</td>\n",
       "      <td>LUNCH BAG VINTAGE LEAF DESIGN</td>\n",
       "      <td>10</td>\n",
       "      <td>1.65</td>\n",
       "      <td>16.50</td>\n",
       "      <td>12362</td>\n",
       "      <td>Belgium</td>\n",
       "    </tr>\n",
       "    <tr>\n",
       "      <th>329262</th>\n",
       "      <td>550137</td>\n",
       "      <td>2011-04-14 13:59:00</td>\n",
       "      <td>44242B</td>\n",
       "      <td>PINK FEATHERS CURTAIN</td>\n",
       "      <td>20</td>\n",
       "      <td>1.25</td>\n",
       "      <td>25.00</td>\n",
       "      <td>12477</td>\n",
       "      <td>Germany</td>\n",
       "    </tr>\n",
       "  </tbody>\n",
       "</table>\n",
       "<p>1688 rows × 9 columns</p>\n",
       "</div>"
      ],
      "text/plain": [
       "        InvoiceNo         InvoiceDate StockCode  \\\n",
       "724        549667 2011-04-11 12:20:00    85123A   \n",
       "807        551163 2011-04-26 15:52:00    85123A   \n",
       "3320       550899 2011-04-21 12:07:00     22752   \n",
       "4880       550527 2011-04-19 10:48:00     84879   \n",
       "4882       550620 2011-04-19 13:39:00     84879   \n",
       "...           ...                 ...       ...   \n",
       "328231     550665 2011-04-20 09:31:00     23204   \n",
       "328238     550911 2011-04-21 13:11:00     23204   \n",
       "328244     551258 2011-04-27 12:02:00     23204   \n",
       "328681     551346 2011-04-28 09:12:00     23208   \n",
       "329262     550137 2011-04-14 13:59:00    44242B   \n",
       "\n",
       "                               Description  Quantity  UnitPrice  Revenue  \\\n",
       "724     CREAM HANGING HEART T-LIGHT HOLDER         6       2.95    17.70   \n",
       "807     CREAM HANGING HEART T-LIGHT HOLDER         9       2.95    26.55   \n",
       "3320          SET 7 BABUSHKA NESTING BOXES         2       8.50    17.00   \n",
       "4880         ASSORTED COLOUR BIRD ORNAMENT        40       1.69    67.60   \n",
       "4882         ASSORTED COLOUR BIRD ORNAMENT        32       1.69    54.08   \n",
       "...                                    ...       ...        ...      ...   \n",
       "328231         CHARLOTTE BAG APPLES DESIGN        50       0.85    42.50   \n",
       "328238         CHARLOTTE BAG APPLES DESIGN        10       0.85     8.50   \n",
       "328244         CHARLOTTE BAG APPLES DESIGN        20       0.85    17.00   \n",
       "328681       LUNCH BAG VINTAGE LEAF DESIGN        10       1.65    16.50   \n",
       "329262               PINK FEATHERS CURTAIN        20       1.25    25.00   \n",
       "\n",
       "        CustomerID      Country  \n",
       "724          14911         EIRE  \n",
       "807          12573       France  \n",
       "3320         13505  Switzerland  \n",
       "4880         12476      Germany  \n",
       "4882         12585      Germany  \n",
       "...            ...          ...  \n",
       "328231       12530      Germany  \n",
       "328238       12354        Spain  \n",
       "328244       12621      Germany  \n",
       "328681       12362      Belgium  \n",
       "329262       12477      Germany  \n",
       "\n",
       "[1688 rows x 9 columns]"
      ]
     },
     "execution_count": 15,
     "metadata": {},
     "output_type": "execute_result"
    }
   ],
   "source": [
    "data"
   ]
  },
  {
   "cell_type": "code",
   "execution_count": 41,
   "metadata": {},
   "outputs": [
    {
     "data": {
      "text/html": [
       "<div>\n",
       "<style scoped>\n",
       "    .dataframe tbody tr th:only-of-type {\n",
       "        vertical-align: middle;\n",
       "    }\n",
       "\n",
       "    .dataframe tbody tr th {\n",
       "        vertical-align: top;\n",
       "    }\n",
       "\n",
       "    .dataframe thead th {\n",
       "        text-align: right;\n",
       "    }\n",
       "</style>\n",
       "<table border=\"1\" class=\"dataframe\">\n",
       "  <thead>\n",
       "    <tr style=\"text-align: right;\">\n",
       "      <th></th>\n",
       "      <th>Quantity</th>\n",
       "      <th>Revenue</th>\n",
       "    </tr>\n",
       "    <tr>\n",
       "      <th>Country</th>\n",
       "      <th></th>\n",
       "      <th></th>\n",
       "    </tr>\n",
       "  </thead>\n",
       "  <tbody>\n",
       "    <tr>\n",
       "      <th>Australia</th>\n",
       "      <td>224</td>\n",
       "      <td>421.60</td>\n",
       "    </tr>\n",
       "    <tr>\n",
       "      <th>Austria</th>\n",
       "      <td>308</td>\n",
       "      <td>584.78</td>\n",
       "    </tr>\n",
       "    <tr>\n",
       "      <th>Belgium</th>\n",
       "      <td>1170</td>\n",
       "      <td>1788.48</td>\n",
       "    </tr>\n",
       "    <tr>\n",
       "      <th>Brazil</th>\n",
       "      <td>356</td>\n",
       "      <td>1143.60</td>\n",
       "    </tr>\n",
       "    <tr>\n",
       "      <th>Channel Islands</th>\n",
       "      <td>96</td>\n",
       "      <td>243.00</td>\n",
       "    </tr>\n",
       "    <tr>\n",
       "      <th>EIRE</th>\n",
       "      <td>4129</td>\n",
       "      <td>7270.50</td>\n",
       "    </tr>\n",
       "    <tr>\n",
       "      <th>Finland</th>\n",
       "      <td>810</td>\n",
       "      <td>1368.92</td>\n",
       "    </tr>\n",
       "    <tr>\n",
       "      <th>France</th>\n",
       "      <td>2265</td>\n",
       "      <td>3899.31</td>\n",
       "    </tr>\n",
       "    <tr>\n",
       "      <th>Germany</th>\n",
       "      <td>5702</td>\n",
       "      <td>10994.79</td>\n",
       "    </tr>\n",
       "    <tr>\n",
       "      <th>Greece</th>\n",
       "      <td>260</td>\n",
       "      <td>509.74</td>\n",
       "    </tr>\n",
       "    <tr>\n",
       "      <th>Iceland</th>\n",
       "      <td>483</td>\n",
       "      <td>636.25</td>\n",
       "    </tr>\n",
       "    <tr>\n",
       "      <th>Italy</th>\n",
       "      <td>653</td>\n",
       "      <td>737.83</td>\n",
       "    </tr>\n",
       "    <tr>\n",
       "      <th>Japan</th>\n",
       "      <td>8058</td>\n",
       "      <td>6548.50</td>\n",
       "    </tr>\n",
       "    <tr>\n",
       "      <th>Netherlands</th>\n",
       "      <td>1762</td>\n",
       "      <td>2886.56</td>\n",
       "    </tr>\n",
       "    <tr>\n",
       "      <th>Poland</th>\n",
       "      <td>432</td>\n",
       "      <td>705.84</td>\n",
       "    </tr>\n",
       "    <tr>\n",
       "      <th>Portugal</th>\n",
       "      <td>951</td>\n",
       "      <td>1687.75</td>\n",
       "    </tr>\n",
       "    <tr>\n",
       "      <th>Singapore</th>\n",
       "      <td>1384</td>\n",
       "      <td>2118.74</td>\n",
       "    </tr>\n",
       "    <tr>\n",
       "      <th>Spain</th>\n",
       "      <td>948</td>\n",
       "      <td>1645.65</td>\n",
       "    </tr>\n",
       "    <tr>\n",
       "      <th>Sweden</th>\n",
       "      <td>306</td>\n",
       "      <td>649.10</td>\n",
       "    </tr>\n",
       "    <tr>\n",
       "      <th>Switzerland</th>\n",
       "      <td>878</td>\n",
       "      <td>1756.94</td>\n",
       "    </tr>\n",
       "    <tr>\n",
       "      <th>USA</th>\n",
       "      <td>137</td>\n",
       "      <td>383.95</td>\n",
       "    </tr>\n",
       "  </tbody>\n",
       "</table>\n",
       "</div>"
      ],
      "text/plain": [
       "                 Quantity   Revenue\n",
       "Country                            \n",
       "Australia             224    421.60\n",
       "Austria               308    584.78\n",
       "Belgium              1170   1788.48\n",
       "Brazil                356   1143.60\n",
       "Channel Islands        96    243.00\n",
       "EIRE                 4129   7270.50\n",
       "Finland               810   1368.92\n",
       "France               2265   3899.31\n",
       "Germany              5702  10994.79\n",
       "Greece                260    509.74\n",
       "Iceland               483    636.25\n",
       "Italy                 653    737.83\n",
       "Japan                8058   6548.50\n",
       "Netherlands          1762   2886.56\n",
       "Poland                432    705.84\n",
       "Portugal              951   1687.75\n",
       "Singapore            1384   2118.74\n",
       "Spain                 948   1645.65\n",
       "Sweden                306    649.10\n",
       "Switzerland           878   1756.94\n",
       "USA                   137    383.95"
      ]
     },
     "execution_count": 41,
     "metadata": {},
     "output_type": "execute_result"
    }
   ],
   "source": [
    "data1 = data.groupby(\"Country\").agg({\"Quantity\":\"sum\",\"Revenue\":\"sum\"})\n",
    "data1"
   ]
  },
  {
   "cell_type": "code",
   "execution_count": null,
   "metadata": {},
   "outputs": [],
   "source": []
  },
  {
   "cell_type": "code",
   "execution_count": 51,
   "metadata": {},
   "outputs": [
    {
     "data": {
      "application/vnd.plotly.v1+json": {
       "config": {
        "plotlyServerURL": "https://plot.ly"
       },
       "data": [
        {
         "name": "Revenue",
         "type": "bar",
         "x": [
          "Australia",
          "Austria",
          "Belgium",
          "Brazil",
          "Channel Islands",
          "EIRE",
          "Finland",
          "France",
          "Germany",
          "Greece",
          "Iceland",
          "Italy",
          "Japan",
          "Netherlands",
          "Poland",
          "Portugal",
          "Singapore",
          "Spain",
          "Sweden",
          "Switzerland",
          "USA"
         ],
         "y": [
          421.6,
          584.78,
          1788.4799999999989,
          1143.6000000000001,
          243.00000000000003,
          7270.4999999999945,
          1368.92,
          3899.309999999998,
          10994.789999999995,
          509.73999999999995,
          636.2499999999999,
          737.8300000000002,
          6548.500000000001,
          2886.5600000000004,
          705.8399999999999,
          1687.7499999999998,
          2118.74,
          1645.65,
          649.1,
          1756.9399999999998,
          383.94999999999993
         ]
        },
        {
         "name": "Quantity",
         "type": "bar",
         "x": [
          "Australia",
          "Austria",
          "Belgium",
          "Brazil",
          "Channel Islands",
          "EIRE",
          "Finland",
          "France",
          "Germany",
          "Greece",
          "Iceland",
          "Italy",
          "Japan",
          "Netherlands",
          "Poland",
          "Portugal",
          "Singapore",
          "Spain",
          "Sweden",
          "Switzerland",
          "USA"
         ],
         "y": [
          224,
          308,
          1170,
          356,
          96,
          4129,
          810,
          2265,
          5702,
          260,
          483,
          653,
          8058,
          1762,
          432,
          951,
          1384,
          948,
          306,
          878,
          137
         ]
        }
       ],
       "layout": {
        "barmode": "group",
        "template": {
         "data": {
          "bar": [
           {
            "error_x": {
             "color": "#2a3f5f"
            },
            "error_y": {
             "color": "#2a3f5f"
            },
            "marker": {
             "line": {
              "color": "#E5ECF6",
              "width": 0.5
             }
            },
            "type": "bar"
           }
          ],
          "barpolar": [
           {
            "marker": {
             "line": {
              "color": "#E5ECF6",
              "width": 0.5
             }
            },
            "type": "barpolar"
           }
          ],
          "carpet": [
           {
            "aaxis": {
             "endlinecolor": "#2a3f5f",
             "gridcolor": "white",
             "linecolor": "white",
             "minorgridcolor": "white",
             "startlinecolor": "#2a3f5f"
            },
            "baxis": {
             "endlinecolor": "#2a3f5f",
             "gridcolor": "white",
             "linecolor": "white",
             "minorgridcolor": "white",
             "startlinecolor": "#2a3f5f"
            },
            "type": "carpet"
           }
          ],
          "choropleth": [
           {
            "colorbar": {
             "outlinewidth": 0,
             "ticks": ""
            },
            "type": "choropleth"
           }
          ],
          "contour": [
           {
            "colorbar": {
             "outlinewidth": 0,
             "ticks": ""
            },
            "colorscale": [
             [
              0,
              "#0d0887"
             ],
             [
              0.1111111111111111,
              "#46039f"
             ],
             [
              0.2222222222222222,
              "#7201a8"
             ],
             [
              0.3333333333333333,
              "#9c179e"
             ],
             [
              0.4444444444444444,
              "#bd3786"
             ],
             [
              0.5555555555555556,
              "#d8576b"
             ],
             [
              0.6666666666666666,
              "#ed7953"
             ],
             [
              0.7777777777777778,
              "#fb9f3a"
             ],
             [
              0.8888888888888888,
              "#fdca26"
             ],
             [
              1,
              "#f0f921"
             ]
            ],
            "type": "contour"
           }
          ],
          "contourcarpet": [
           {
            "colorbar": {
             "outlinewidth": 0,
             "ticks": ""
            },
            "type": "contourcarpet"
           }
          ],
          "heatmap": [
           {
            "colorbar": {
             "outlinewidth": 0,
             "ticks": ""
            },
            "colorscale": [
             [
              0,
              "#0d0887"
             ],
             [
              0.1111111111111111,
              "#46039f"
             ],
             [
              0.2222222222222222,
              "#7201a8"
             ],
             [
              0.3333333333333333,
              "#9c179e"
             ],
             [
              0.4444444444444444,
              "#bd3786"
             ],
             [
              0.5555555555555556,
              "#d8576b"
             ],
             [
              0.6666666666666666,
              "#ed7953"
             ],
             [
              0.7777777777777778,
              "#fb9f3a"
             ],
             [
              0.8888888888888888,
              "#fdca26"
             ],
             [
              1,
              "#f0f921"
             ]
            ],
            "type": "heatmap"
           }
          ],
          "heatmapgl": [
           {
            "colorbar": {
             "outlinewidth": 0,
             "ticks": ""
            },
            "colorscale": [
             [
              0,
              "#0d0887"
             ],
             [
              0.1111111111111111,
              "#46039f"
             ],
             [
              0.2222222222222222,
              "#7201a8"
             ],
             [
              0.3333333333333333,
              "#9c179e"
             ],
             [
              0.4444444444444444,
              "#bd3786"
             ],
             [
              0.5555555555555556,
              "#d8576b"
             ],
             [
              0.6666666666666666,
              "#ed7953"
             ],
             [
              0.7777777777777778,
              "#fb9f3a"
             ],
             [
              0.8888888888888888,
              "#fdca26"
             ],
             [
              1,
              "#f0f921"
             ]
            ],
            "type": "heatmapgl"
           }
          ],
          "histogram": [
           {
            "marker": {
             "colorbar": {
              "outlinewidth": 0,
              "ticks": ""
             }
            },
            "type": "histogram"
           }
          ],
          "histogram2d": [
           {
            "colorbar": {
             "outlinewidth": 0,
             "ticks": ""
            },
            "colorscale": [
             [
              0,
              "#0d0887"
             ],
             [
              0.1111111111111111,
              "#46039f"
             ],
             [
              0.2222222222222222,
              "#7201a8"
             ],
             [
              0.3333333333333333,
              "#9c179e"
             ],
             [
              0.4444444444444444,
              "#bd3786"
             ],
             [
              0.5555555555555556,
              "#d8576b"
             ],
             [
              0.6666666666666666,
              "#ed7953"
             ],
             [
              0.7777777777777778,
              "#fb9f3a"
             ],
             [
              0.8888888888888888,
              "#fdca26"
             ],
             [
              1,
              "#f0f921"
             ]
            ],
            "type": "histogram2d"
           }
          ],
          "histogram2dcontour": [
           {
            "colorbar": {
             "outlinewidth": 0,
             "ticks": ""
            },
            "colorscale": [
             [
              0,
              "#0d0887"
             ],
             [
              0.1111111111111111,
              "#46039f"
             ],
             [
              0.2222222222222222,
              "#7201a8"
             ],
             [
              0.3333333333333333,
              "#9c179e"
             ],
             [
              0.4444444444444444,
              "#bd3786"
             ],
             [
              0.5555555555555556,
              "#d8576b"
             ],
             [
              0.6666666666666666,
              "#ed7953"
             ],
             [
              0.7777777777777778,
              "#fb9f3a"
             ],
             [
              0.8888888888888888,
              "#fdca26"
             ],
             [
              1,
              "#f0f921"
             ]
            ],
            "type": "histogram2dcontour"
           }
          ],
          "mesh3d": [
           {
            "colorbar": {
             "outlinewidth": 0,
             "ticks": ""
            },
            "type": "mesh3d"
           }
          ],
          "parcoords": [
           {
            "line": {
             "colorbar": {
              "outlinewidth": 0,
              "ticks": ""
             }
            },
            "type": "parcoords"
           }
          ],
          "pie": [
           {
            "automargin": true,
            "type": "pie"
           }
          ],
          "scatter": [
           {
            "marker": {
             "colorbar": {
              "outlinewidth": 0,
              "ticks": ""
             }
            },
            "type": "scatter"
           }
          ],
          "scatter3d": [
           {
            "line": {
             "colorbar": {
              "outlinewidth": 0,
              "ticks": ""
             }
            },
            "marker": {
             "colorbar": {
              "outlinewidth": 0,
              "ticks": ""
             }
            },
            "type": "scatter3d"
           }
          ],
          "scattercarpet": [
           {
            "marker": {
             "colorbar": {
              "outlinewidth": 0,
              "ticks": ""
             }
            },
            "type": "scattercarpet"
           }
          ],
          "scattergeo": [
           {
            "marker": {
             "colorbar": {
              "outlinewidth": 0,
              "ticks": ""
             }
            },
            "type": "scattergeo"
           }
          ],
          "scattergl": [
           {
            "marker": {
             "colorbar": {
              "outlinewidth": 0,
              "ticks": ""
             }
            },
            "type": "scattergl"
           }
          ],
          "scattermapbox": [
           {
            "marker": {
             "colorbar": {
              "outlinewidth": 0,
              "ticks": ""
             }
            },
            "type": "scattermapbox"
           }
          ],
          "scatterpolar": [
           {
            "marker": {
             "colorbar": {
              "outlinewidth": 0,
              "ticks": ""
             }
            },
            "type": "scatterpolar"
           }
          ],
          "scatterpolargl": [
           {
            "marker": {
             "colorbar": {
              "outlinewidth": 0,
              "ticks": ""
             }
            },
            "type": "scatterpolargl"
           }
          ],
          "scatterternary": [
           {
            "marker": {
             "colorbar": {
              "outlinewidth": 0,
              "ticks": ""
             }
            },
            "type": "scatterternary"
           }
          ],
          "surface": [
           {
            "colorbar": {
             "outlinewidth": 0,
             "ticks": ""
            },
            "colorscale": [
             [
              0,
              "#0d0887"
             ],
             [
              0.1111111111111111,
              "#46039f"
             ],
             [
              0.2222222222222222,
              "#7201a8"
             ],
             [
              0.3333333333333333,
              "#9c179e"
             ],
             [
              0.4444444444444444,
              "#bd3786"
             ],
             [
              0.5555555555555556,
              "#d8576b"
             ],
             [
              0.6666666666666666,
              "#ed7953"
             ],
             [
              0.7777777777777778,
              "#fb9f3a"
             ],
             [
              0.8888888888888888,
              "#fdca26"
             ],
             [
              1,
              "#f0f921"
             ]
            ],
            "type": "surface"
           }
          ],
          "table": [
           {
            "cells": {
             "fill": {
              "color": "#EBF0F8"
             },
             "line": {
              "color": "white"
             }
            },
            "header": {
             "fill": {
              "color": "#C8D4E3"
             },
             "line": {
              "color": "white"
             }
            },
            "type": "table"
           }
          ]
         },
         "layout": {
          "annotationdefaults": {
           "arrowcolor": "#2a3f5f",
           "arrowhead": 0,
           "arrowwidth": 1
          },
          "coloraxis": {
           "colorbar": {
            "outlinewidth": 0,
            "ticks": ""
           }
          },
          "colorscale": {
           "diverging": [
            [
             0,
             "#8e0152"
            ],
            [
             0.1,
             "#c51b7d"
            ],
            [
             0.2,
             "#de77ae"
            ],
            [
             0.3,
             "#f1b6da"
            ],
            [
             0.4,
             "#fde0ef"
            ],
            [
             0.5,
             "#f7f7f7"
            ],
            [
             0.6,
             "#e6f5d0"
            ],
            [
             0.7,
             "#b8e186"
            ],
            [
             0.8,
             "#7fbc41"
            ],
            [
             0.9,
             "#4d9221"
            ],
            [
             1,
             "#276419"
            ]
           ],
           "sequential": [
            [
             0,
             "#0d0887"
            ],
            [
             0.1111111111111111,
             "#46039f"
            ],
            [
             0.2222222222222222,
             "#7201a8"
            ],
            [
             0.3333333333333333,
             "#9c179e"
            ],
            [
             0.4444444444444444,
             "#bd3786"
            ],
            [
             0.5555555555555556,
             "#d8576b"
            ],
            [
             0.6666666666666666,
             "#ed7953"
            ],
            [
             0.7777777777777778,
             "#fb9f3a"
            ],
            [
             0.8888888888888888,
             "#fdca26"
            ],
            [
             1,
             "#f0f921"
            ]
           ],
           "sequentialminus": [
            [
             0,
             "#0d0887"
            ],
            [
             0.1111111111111111,
             "#46039f"
            ],
            [
             0.2222222222222222,
             "#7201a8"
            ],
            [
             0.3333333333333333,
             "#9c179e"
            ],
            [
             0.4444444444444444,
             "#bd3786"
            ],
            [
             0.5555555555555556,
             "#d8576b"
            ],
            [
             0.6666666666666666,
             "#ed7953"
            ],
            [
             0.7777777777777778,
             "#fb9f3a"
            ],
            [
             0.8888888888888888,
             "#fdca26"
            ],
            [
             1,
             "#f0f921"
            ]
           ]
          },
          "colorway": [
           "#636efa",
           "#EF553B",
           "#00cc96",
           "#ab63fa",
           "#FFA15A",
           "#19d3f3",
           "#FF6692",
           "#B6E880",
           "#FF97FF",
           "#FECB52"
          ],
          "font": {
           "color": "#2a3f5f"
          },
          "geo": {
           "bgcolor": "white",
           "lakecolor": "white",
           "landcolor": "#E5ECF6",
           "showlakes": true,
           "showland": true,
           "subunitcolor": "white"
          },
          "hoverlabel": {
           "align": "left"
          },
          "hovermode": "closest",
          "mapbox": {
           "style": "light"
          },
          "paper_bgcolor": "white",
          "plot_bgcolor": "#E5ECF6",
          "polar": {
           "angularaxis": {
            "gridcolor": "white",
            "linecolor": "white",
            "ticks": ""
           },
           "bgcolor": "#E5ECF6",
           "radialaxis": {
            "gridcolor": "white",
            "linecolor": "white",
            "ticks": ""
           }
          },
          "scene": {
           "xaxis": {
            "backgroundcolor": "#E5ECF6",
            "gridcolor": "white",
            "gridwidth": 2,
            "linecolor": "white",
            "showbackground": true,
            "ticks": "",
            "zerolinecolor": "white"
           },
           "yaxis": {
            "backgroundcolor": "#E5ECF6",
            "gridcolor": "white",
            "gridwidth": 2,
            "linecolor": "white",
            "showbackground": true,
            "ticks": "",
            "zerolinecolor": "white"
           },
           "zaxis": {
            "backgroundcolor": "#E5ECF6",
            "gridcolor": "white",
            "gridwidth": 2,
            "linecolor": "white",
            "showbackground": true,
            "ticks": "",
            "zerolinecolor": "white"
           }
          },
          "shapedefaults": {
           "line": {
            "color": "#2a3f5f"
           }
          },
          "ternary": {
           "aaxis": {
            "gridcolor": "white",
            "linecolor": "white",
            "ticks": ""
           },
           "baxis": {
            "gridcolor": "white",
            "linecolor": "white",
            "ticks": ""
           },
           "bgcolor": "#E5ECF6",
           "caxis": {
            "gridcolor": "white",
            "linecolor": "white",
            "ticks": ""
           }
          },
          "title": {
           "x": 0.05
          },
          "xaxis": {
           "automargin": true,
           "gridcolor": "white",
           "linecolor": "white",
           "ticks": "",
           "title": {
            "standoff": 15
           },
           "zerolinecolor": "white",
           "zerolinewidth": 2
          },
          "yaxis": {
           "automargin": true,
           "gridcolor": "white",
           "linecolor": "white",
           "ticks": "",
           "title": {
            "standoff": 15
           },
           "zerolinecolor": "white",
           "zerolinewidth": 2
          }
         }
        }
       }
      },
      "text/html": [
       "<div>\n",
       "        \n",
       "        \n",
       "            <div id=\"54a48602-be1e-4f26-bbad-1241124b03ec\" class=\"plotly-graph-div\" style=\"height:525px; width:100%;\"></div>\n",
       "            <script type=\"text/javascript\">\n",
       "                require([\"plotly\"], function(Plotly) {\n",
       "                    window.PLOTLYENV=window.PLOTLYENV || {};\n",
       "                    \n",
       "                if (document.getElementById(\"54a48602-be1e-4f26-bbad-1241124b03ec\")) {\n",
       "                    Plotly.newPlot(\n",
       "                        '54a48602-be1e-4f26-bbad-1241124b03ec',\n",
       "                        [{\"name\": \"Revenue\", \"type\": \"bar\", \"x\": [\"Australia\", \"Austria\", \"Belgium\", \"Brazil\", \"Channel Islands\", \"EIRE\", \"Finland\", \"France\", \"Germany\", \"Greece\", \"Iceland\", \"Italy\", \"Japan\", \"Netherlands\", \"Poland\", \"Portugal\", \"Singapore\", \"Spain\", \"Sweden\", \"Switzerland\", \"USA\"], \"y\": [421.6, 584.78, 1788.4799999999989, 1143.6000000000001, 243.00000000000003, 7270.4999999999945, 1368.92, 3899.309999999998, 10994.789999999995, 509.73999999999995, 636.2499999999999, 737.8300000000002, 6548.500000000001, 2886.5600000000004, 705.8399999999999, 1687.7499999999998, 2118.74, 1645.65, 649.1, 1756.9399999999998, 383.94999999999993]}, {\"name\": \"Quantity\", \"type\": \"bar\", \"x\": [\"Australia\", \"Austria\", \"Belgium\", \"Brazil\", \"Channel Islands\", \"EIRE\", \"Finland\", \"France\", \"Germany\", \"Greece\", \"Iceland\", \"Italy\", \"Japan\", \"Netherlands\", \"Poland\", \"Portugal\", \"Singapore\", \"Spain\", \"Sweden\", \"Switzerland\", \"USA\"], \"y\": [224, 308, 1170, 356, 96, 4129, 810, 2265, 5702, 260, 483, 653, 8058, 1762, 432, 951, 1384, 948, 306, 878, 137]}],\n",
       "                        {\"barmode\": \"group\", \"template\": {\"data\": {\"bar\": [{\"error_x\": {\"color\": \"#2a3f5f\"}, \"error_y\": {\"color\": \"#2a3f5f\"}, \"marker\": {\"line\": {\"color\": \"#E5ECF6\", \"width\": 0.5}}, \"type\": \"bar\"}], \"barpolar\": [{\"marker\": {\"line\": {\"color\": \"#E5ECF6\", \"width\": 0.5}}, \"type\": \"barpolar\"}], \"carpet\": [{\"aaxis\": {\"endlinecolor\": \"#2a3f5f\", \"gridcolor\": \"white\", \"linecolor\": \"white\", \"minorgridcolor\": \"white\", \"startlinecolor\": \"#2a3f5f\"}, \"baxis\": {\"endlinecolor\": \"#2a3f5f\", \"gridcolor\": \"white\", \"linecolor\": \"white\", \"minorgridcolor\": \"white\", \"startlinecolor\": \"#2a3f5f\"}, \"type\": \"carpet\"}], \"choropleth\": [{\"colorbar\": {\"outlinewidth\": 0, \"ticks\": \"\"}, \"type\": \"choropleth\"}], \"contour\": [{\"colorbar\": {\"outlinewidth\": 0, \"ticks\": \"\"}, \"colorscale\": [[0.0, \"#0d0887\"], [0.1111111111111111, \"#46039f\"], [0.2222222222222222, \"#7201a8\"], [0.3333333333333333, \"#9c179e\"], [0.4444444444444444, \"#bd3786\"], [0.5555555555555556, \"#d8576b\"], [0.6666666666666666, \"#ed7953\"], [0.7777777777777778, \"#fb9f3a\"], [0.8888888888888888, \"#fdca26\"], [1.0, \"#f0f921\"]], \"type\": \"contour\"}], \"contourcarpet\": [{\"colorbar\": {\"outlinewidth\": 0, \"ticks\": \"\"}, \"type\": \"contourcarpet\"}], \"heatmap\": [{\"colorbar\": {\"outlinewidth\": 0, \"ticks\": \"\"}, \"colorscale\": [[0.0, \"#0d0887\"], [0.1111111111111111, \"#46039f\"], [0.2222222222222222, \"#7201a8\"], [0.3333333333333333, \"#9c179e\"], [0.4444444444444444, \"#bd3786\"], [0.5555555555555556, \"#d8576b\"], [0.6666666666666666, \"#ed7953\"], [0.7777777777777778, \"#fb9f3a\"], [0.8888888888888888, \"#fdca26\"], [1.0, \"#f0f921\"]], \"type\": \"heatmap\"}], \"heatmapgl\": [{\"colorbar\": {\"outlinewidth\": 0, \"ticks\": \"\"}, \"colorscale\": [[0.0, \"#0d0887\"], [0.1111111111111111, \"#46039f\"], [0.2222222222222222, \"#7201a8\"], [0.3333333333333333, \"#9c179e\"], [0.4444444444444444, \"#bd3786\"], [0.5555555555555556, \"#d8576b\"], [0.6666666666666666, \"#ed7953\"], [0.7777777777777778, \"#fb9f3a\"], [0.8888888888888888, \"#fdca26\"], [1.0, \"#f0f921\"]], \"type\": \"heatmapgl\"}], \"histogram\": [{\"marker\": {\"colorbar\": {\"outlinewidth\": 0, \"ticks\": \"\"}}, \"type\": \"histogram\"}], \"histogram2d\": [{\"colorbar\": {\"outlinewidth\": 0, \"ticks\": \"\"}, \"colorscale\": [[0.0, \"#0d0887\"], [0.1111111111111111, \"#46039f\"], [0.2222222222222222, \"#7201a8\"], [0.3333333333333333, \"#9c179e\"], [0.4444444444444444, \"#bd3786\"], [0.5555555555555556, \"#d8576b\"], [0.6666666666666666, \"#ed7953\"], [0.7777777777777778, \"#fb9f3a\"], [0.8888888888888888, \"#fdca26\"], [1.0, \"#f0f921\"]], \"type\": \"histogram2d\"}], \"histogram2dcontour\": [{\"colorbar\": {\"outlinewidth\": 0, \"ticks\": \"\"}, \"colorscale\": [[0.0, \"#0d0887\"], [0.1111111111111111, \"#46039f\"], [0.2222222222222222, \"#7201a8\"], [0.3333333333333333, \"#9c179e\"], [0.4444444444444444, \"#bd3786\"], [0.5555555555555556, \"#d8576b\"], [0.6666666666666666, \"#ed7953\"], [0.7777777777777778, \"#fb9f3a\"], [0.8888888888888888, \"#fdca26\"], [1.0, \"#f0f921\"]], \"type\": \"histogram2dcontour\"}], \"mesh3d\": [{\"colorbar\": {\"outlinewidth\": 0, \"ticks\": \"\"}, \"type\": \"mesh3d\"}], \"parcoords\": [{\"line\": {\"colorbar\": {\"outlinewidth\": 0, \"ticks\": \"\"}}, \"type\": \"parcoords\"}], \"pie\": [{\"automargin\": true, \"type\": \"pie\"}], \"scatter\": [{\"marker\": {\"colorbar\": {\"outlinewidth\": 0, \"ticks\": \"\"}}, \"type\": \"scatter\"}], \"scatter3d\": [{\"line\": {\"colorbar\": {\"outlinewidth\": 0, \"ticks\": \"\"}}, \"marker\": {\"colorbar\": {\"outlinewidth\": 0, \"ticks\": \"\"}}, \"type\": \"scatter3d\"}], \"scattercarpet\": [{\"marker\": {\"colorbar\": {\"outlinewidth\": 0, \"ticks\": \"\"}}, \"type\": \"scattercarpet\"}], \"scattergeo\": [{\"marker\": {\"colorbar\": {\"outlinewidth\": 0, \"ticks\": \"\"}}, \"type\": \"scattergeo\"}], \"scattergl\": [{\"marker\": {\"colorbar\": {\"outlinewidth\": 0, \"ticks\": \"\"}}, \"type\": \"scattergl\"}], \"scattermapbox\": [{\"marker\": {\"colorbar\": {\"outlinewidth\": 0, \"ticks\": \"\"}}, \"type\": \"scattermapbox\"}], \"scatterpolar\": [{\"marker\": {\"colorbar\": {\"outlinewidth\": 0, \"ticks\": \"\"}}, \"type\": \"scatterpolar\"}], \"scatterpolargl\": [{\"marker\": {\"colorbar\": {\"outlinewidth\": 0, \"ticks\": \"\"}}, \"type\": \"scatterpolargl\"}], \"scatterternary\": [{\"marker\": {\"colorbar\": {\"outlinewidth\": 0, \"ticks\": \"\"}}, \"type\": \"scatterternary\"}], \"surface\": [{\"colorbar\": {\"outlinewidth\": 0, \"ticks\": \"\"}, \"colorscale\": [[0.0, \"#0d0887\"], [0.1111111111111111, \"#46039f\"], [0.2222222222222222, \"#7201a8\"], [0.3333333333333333, \"#9c179e\"], [0.4444444444444444, \"#bd3786\"], [0.5555555555555556, \"#d8576b\"], [0.6666666666666666, \"#ed7953\"], [0.7777777777777778, \"#fb9f3a\"], [0.8888888888888888, \"#fdca26\"], [1.0, \"#f0f921\"]], \"type\": \"surface\"}], \"table\": [{\"cells\": {\"fill\": {\"color\": \"#EBF0F8\"}, \"line\": {\"color\": \"white\"}}, \"header\": {\"fill\": {\"color\": \"#C8D4E3\"}, \"line\": {\"color\": \"white\"}}, \"type\": \"table\"}]}, \"layout\": {\"annotationdefaults\": {\"arrowcolor\": \"#2a3f5f\", \"arrowhead\": 0, \"arrowwidth\": 1}, \"coloraxis\": {\"colorbar\": {\"outlinewidth\": 0, \"ticks\": \"\"}}, \"colorscale\": {\"diverging\": [[0, \"#8e0152\"], [0.1, \"#c51b7d\"], [0.2, \"#de77ae\"], [0.3, \"#f1b6da\"], [0.4, \"#fde0ef\"], [0.5, \"#f7f7f7\"], [0.6, \"#e6f5d0\"], [0.7, \"#b8e186\"], [0.8, \"#7fbc41\"], [0.9, \"#4d9221\"], [1, \"#276419\"]], \"sequential\": [[0.0, \"#0d0887\"], [0.1111111111111111, \"#46039f\"], [0.2222222222222222, \"#7201a8\"], [0.3333333333333333, \"#9c179e\"], [0.4444444444444444, \"#bd3786\"], [0.5555555555555556, \"#d8576b\"], [0.6666666666666666, \"#ed7953\"], [0.7777777777777778, \"#fb9f3a\"], [0.8888888888888888, \"#fdca26\"], [1.0, \"#f0f921\"]], \"sequentialminus\": [[0.0, \"#0d0887\"], [0.1111111111111111, \"#46039f\"], [0.2222222222222222, \"#7201a8\"], [0.3333333333333333, \"#9c179e\"], [0.4444444444444444, \"#bd3786\"], [0.5555555555555556, \"#d8576b\"], [0.6666666666666666, \"#ed7953\"], [0.7777777777777778, \"#fb9f3a\"], [0.8888888888888888, \"#fdca26\"], [1.0, \"#f0f921\"]]}, \"colorway\": [\"#636efa\", \"#EF553B\", \"#00cc96\", \"#ab63fa\", \"#FFA15A\", \"#19d3f3\", \"#FF6692\", \"#B6E880\", \"#FF97FF\", \"#FECB52\"], \"font\": {\"color\": \"#2a3f5f\"}, \"geo\": {\"bgcolor\": \"white\", \"lakecolor\": \"white\", \"landcolor\": \"#E5ECF6\", \"showlakes\": true, \"showland\": true, \"subunitcolor\": \"white\"}, \"hoverlabel\": {\"align\": \"left\"}, \"hovermode\": \"closest\", \"mapbox\": {\"style\": \"light\"}, \"paper_bgcolor\": \"white\", \"plot_bgcolor\": \"#E5ECF6\", \"polar\": {\"angularaxis\": {\"gridcolor\": \"white\", \"linecolor\": \"white\", \"ticks\": \"\"}, \"bgcolor\": \"#E5ECF6\", \"radialaxis\": {\"gridcolor\": \"white\", \"linecolor\": \"white\", \"ticks\": \"\"}}, \"scene\": {\"xaxis\": {\"backgroundcolor\": \"#E5ECF6\", \"gridcolor\": \"white\", \"gridwidth\": 2, \"linecolor\": \"white\", \"showbackground\": true, \"ticks\": \"\", \"zerolinecolor\": \"white\"}, \"yaxis\": {\"backgroundcolor\": \"#E5ECF6\", \"gridcolor\": \"white\", \"gridwidth\": 2, \"linecolor\": \"white\", \"showbackground\": true, \"ticks\": \"\", \"zerolinecolor\": \"white\"}, \"zaxis\": {\"backgroundcolor\": \"#E5ECF6\", \"gridcolor\": \"white\", \"gridwidth\": 2, \"linecolor\": \"white\", \"showbackground\": true, \"ticks\": \"\", \"zerolinecolor\": \"white\"}}, \"shapedefaults\": {\"line\": {\"color\": \"#2a3f5f\"}}, \"ternary\": {\"aaxis\": {\"gridcolor\": \"white\", \"linecolor\": \"white\", \"ticks\": \"\"}, \"baxis\": {\"gridcolor\": \"white\", \"linecolor\": \"white\", \"ticks\": \"\"}, \"bgcolor\": \"#E5ECF6\", \"caxis\": {\"gridcolor\": \"white\", \"linecolor\": \"white\", \"ticks\": \"\"}}, \"title\": {\"x\": 0.05}, \"xaxis\": {\"automargin\": true, \"gridcolor\": \"white\", \"linecolor\": \"white\", \"ticks\": \"\", \"title\": {\"standoff\": 15}, \"zerolinecolor\": \"white\", \"zerolinewidth\": 2}, \"yaxis\": {\"automargin\": true, \"gridcolor\": \"white\", \"linecolor\": \"white\", \"ticks\": \"\", \"title\": {\"standoff\": 15}, \"zerolinecolor\": \"white\", \"zerolinewidth\": 2}}}},\n",
       "                        {\"responsive\": true}\n",
       "                    ).then(function(){\n",
       "                            \n",
       "var gd = document.getElementById('54a48602-be1e-4f26-bbad-1241124b03ec');\n",
       "var x = new MutationObserver(function (mutations, observer) {{\n",
       "        var display = window.getComputedStyle(gd).display;\n",
       "        if (!display || display === 'none') {{\n",
       "            console.log([gd, 'removed!']);\n",
       "            Plotly.purge(gd);\n",
       "            observer.disconnect();\n",
       "        }}\n",
       "}});\n",
       "\n",
       "// Listen for the removal of the full notebook cells\n",
       "var notebookContainer = gd.closest('#notebook-container');\n",
       "if (notebookContainer) {{\n",
       "    x.observe(notebookContainer, {childList: true});\n",
       "}}\n",
       "\n",
       "// Listen for the clearing of the current output cell\n",
       "var outputEl = gd.closest('.output');\n",
       "if (outputEl) {{\n",
       "    x.observe(outputEl, {childList: true});\n",
       "}}\n",
       "\n",
       "                        })\n",
       "                };\n",
       "                });\n",
       "            </script>\n",
       "        </div>"
      ]
     },
     "metadata": {},
     "output_type": "display_data"
    }
   ],
   "source": [
    "fig = go.Figure(data=[\n",
    "    go.Bar(name='Revenue', x=data1.index, y=data1.Revenue),\n",
    "    go.Bar(name='Quantity', x=data1.index, y=data1.Quantity)\n",
    "])\n",
    "# Change the bar mode\n",
    "fig.update_layout(barmode='group')\n",
    "fig.show()"
   ]
  },
  {
   "cell_type": "markdown",
   "metadata": {},
   "source": [
    "## 2. Create an interactive line chart showing quantity and revenue sold to France between January 1st and May 31st 2011."
   ]
  },
  {
   "cell_type": "code",
   "execution_count": 73,
   "metadata": {},
   "outputs": [],
   "source": [
    "data2 = data"
   ]
  },
  {
   "cell_type": "code",
   "execution_count": 74,
   "metadata": {},
   "outputs": [],
   "source": [
    "data2 = data2[(data2[\"Country\"] == \"France\" )]\n"
   ]
  },
  {
   "cell_type": "code",
   "execution_count": 75,
   "metadata": {},
   "outputs": [
    {
     "data": {
      "text/html": [
       "<div>\n",
       "<style scoped>\n",
       "    .dataframe tbody tr th:only-of-type {\n",
       "        vertical-align: middle;\n",
       "    }\n",
       "\n",
       "    .dataframe tbody tr th {\n",
       "        vertical-align: top;\n",
       "    }\n",
       "\n",
       "    .dataframe thead th {\n",
       "        text-align: right;\n",
       "    }\n",
       "</style>\n",
       "<table border=\"1\" class=\"dataframe\">\n",
       "  <thead>\n",
       "    <tr style=\"text-align: right;\">\n",
       "      <th></th>\n",
       "      <th>InvoiceNo</th>\n",
       "      <th>InvoiceDate</th>\n",
       "      <th>StockCode</th>\n",
       "      <th>Description</th>\n",
       "      <th>Quantity</th>\n",
       "      <th>UnitPrice</th>\n",
       "      <th>Revenue</th>\n",
       "      <th>CustomerID</th>\n",
       "      <th>Country</th>\n",
       "    </tr>\n",
       "  </thead>\n",
       "  <tbody>\n",
       "    <tr>\n",
       "      <th>807</th>\n",
       "      <td>551163</td>\n",
       "      <td>2011-04-26 15:52:00</td>\n",
       "      <td>85123A</td>\n",
       "      <td>CREAM HANGING HEART T-LIGHT HOLDER</td>\n",
       "      <td>9</td>\n",
       "      <td>2.95</td>\n",
       "      <td>26.55</td>\n",
       "      <td>12573</td>\n",
       "      <td>France</td>\n",
       "    </tr>\n",
       "    <tr>\n",
       "      <th>1379</th>\n",
       "      <td>563502</td>\n",
       "      <td>2011-08-17 08:50:00</td>\n",
       "      <td>85123A</td>\n",
       "      <td>CREAM HANGING HEART T-LIGHT HOLDER</td>\n",
       "      <td>32</td>\n",
       "      <td>2.55</td>\n",
       "      <td>81.60</td>\n",
       "      <td>12722</td>\n",
       "      <td>France</td>\n",
       "    </tr>\n",
       "    <tr>\n",
       "      <th>1931</th>\n",
       "      <td>578541</td>\n",
       "      <td>2011-11-24 15:01:00</td>\n",
       "      <td>85123A</td>\n",
       "      <td>CREAM HANGING HEART T-LIGHT HOLDER</td>\n",
       "      <td>8</td>\n",
       "      <td>2.95</td>\n",
       "      <td>23.60</td>\n",
       "      <td>14277</td>\n",
       "      <td>France</td>\n",
       "    </tr>\n",
       "    <tr>\n",
       "      <th>2645</th>\n",
       "      <td>540976</td>\n",
       "      <td>2011-01-12 15:00:00</td>\n",
       "      <td>84029G</td>\n",
       "      <td>KNITTED UNION FLAG HOT WATER BOTTLE</td>\n",
       "      <td>4</td>\n",
       "      <td>3.75</td>\n",
       "      <td>15.00</td>\n",
       "      <td>12652</td>\n",
       "      <td>France</td>\n",
       "    </tr>\n",
       "    <tr>\n",
       "      <th>2706</th>\n",
       "      <td>566816</td>\n",
       "      <td>2011-09-15 10:53:00</td>\n",
       "      <td>84029G</td>\n",
       "      <td>KNITTED UNION FLAG HOT WATER BOTTLE</td>\n",
       "      <td>12</td>\n",
       "      <td>4.25</td>\n",
       "      <td>51.00</td>\n",
       "      <td>12731</td>\n",
       "      <td>France</td>\n",
       "    </tr>\n",
       "    <tr>\n",
       "      <th>...</th>\n",
       "      <td>...</td>\n",
       "      <td>...</td>\n",
       "      <td>...</td>\n",
       "      <td>...</td>\n",
       "      <td>...</td>\n",
       "      <td>...</td>\n",
       "      <td>...</td>\n",
       "      <td>...</td>\n",
       "      <td>...</td>\n",
       "    </tr>\n",
       "    <tr>\n",
       "      <th>395867</th>\n",
       "      <td>579634</td>\n",
       "      <td>2011-11-30 12:18:00</td>\n",
       "      <td>23578</td>\n",
       "      <td>SNACK TRAY RED GINGHAM</td>\n",
       "      <td>8</td>\n",
       "      <td>1.95</td>\n",
       "      <td>15.60</td>\n",
       "      <td>12598</td>\n",
       "      <td>France</td>\n",
       "    </tr>\n",
       "    <tr>\n",
       "      <th>395891</th>\n",
       "      <td>580736</td>\n",
       "      <td>2011-12-06 08:55:00</td>\n",
       "      <td>23580</td>\n",
       "      <td>SNACK TRAY HAPPY FOREST</td>\n",
       "      <td>8</td>\n",
       "      <td>1.95</td>\n",
       "      <td>15.60</td>\n",
       "      <td>12716</td>\n",
       "      <td>France</td>\n",
       "    </tr>\n",
       "    <tr>\n",
       "      <th>395902</th>\n",
       "      <td>579634</td>\n",
       "      <td>2011-11-30 12:18:00</td>\n",
       "      <td>23575</td>\n",
       "      <td>SNACK TRAY PAISLEY PARK</td>\n",
       "      <td>8</td>\n",
       "      <td>1.95</td>\n",
       "      <td>15.60</td>\n",
       "      <td>12598</td>\n",
       "      <td>France</td>\n",
       "    </tr>\n",
       "    <tr>\n",
       "      <th>395947</th>\n",
       "      <td>579634</td>\n",
       "      <td>2011-11-30 12:18:00</td>\n",
       "      <td>23576</td>\n",
       "      <td>SNACK TRAY RED VINTAGE DOILY</td>\n",
       "      <td>8</td>\n",
       "      <td>1.95</td>\n",
       "      <td>15.60</td>\n",
       "      <td>12598</td>\n",
       "      <td>France</td>\n",
       "    </tr>\n",
       "    <tr>\n",
       "      <th>396001</th>\n",
       "      <td>581001</td>\n",
       "      <td>2011-12-07 08:07:00</td>\n",
       "      <td>23562</td>\n",
       "      <td>SET OF 6 RIBBONS PERFECTLY PRETTY</td>\n",
       "      <td>6</td>\n",
       "      <td>2.89</td>\n",
       "      <td>17.34</td>\n",
       "      <td>12583</td>\n",
       "      <td>France</td>\n",
       "    </tr>\n",
       "  </tbody>\n",
       "</table>\n",
       "<p>8034 rows × 9 columns</p>\n",
       "</div>"
      ],
      "text/plain": [
       "        InvoiceNo         InvoiceDate StockCode  \\\n",
       "807        551163 2011-04-26 15:52:00    85123A   \n",
       "1379       563502 2011-08-17 08:50:00    85123A   \n",
       "1931       578541 2011-11-24 15:01:00    85123A   \n",
       "2645       540976 2011-01-12 15:00:00    84029G   \n",
       "2706       566816 2011-09-15 10:53:00    84029G   \n",
       "...           ...                 ...       ...   \n",
       "395867     579634 2011-11-30 12:18:00     23578   \n",
       "395891     580736 2011-12-06 08:55:00     23580   \n",
       "395902     579634 2011-11-30 12:18:00     23575   \n",
       "395947     579634 2011-11-30 12:18:00     23576   \n",
       "396001     581001 2011-12-07 08:07:00     23562   \n",
       "\n",
       "                                Description  Quantity  UnitPrice  Revenue  \\\n",
       "807      CREAM HANGING HEART T-LIGHT HOLDER         9       2.95    26.55   \n",
       "1379     CREAM HANGING HEART T-LIGHT HOLDER        32       2.55    81.60   \n",
       "1931     CREAM HANGING HEART T-LIGHT HOLDER         8       2.95    23.60   \n",
       "2645    KNITTED UNION FLAG HOT WATER BOTTLE         4       3.75    15.00   \n",
       "2706    KNITTED UNION FLAG HOT WATER BOTTLE        12       4.25    51.00   \n",
       "...                                     ...       ...        ...      ...   \n",
       "395867               SNACK TRAY RED GINGHAM         8       1.95    15.60   \n",
       "395891            SNACK TRAY HAPPY FOREST           8       1.95    15.60   \n",
       "395902              SNACK TRAY PAISLEY PARK         8       1.95    15.60   \n",
       "395947         SNACK TRAY RED VINTAGE DOILY         8       1.95    15.60   \n",
       "396001  SET OF 6 RIBBONS PERFECTLY PRETTY           6       2.89    17.34   \n",
       "\n",
       "        CustomerID Country  \n",
       "807          12573  France  \n",
       "1379         12722  France  \n",
       "1931         14277  France  \n",
       "2645         12652  France  \n",
       "2706         12731  France  \n",
       "...            ...     ...  \n",
       "395867       12598  France  \n",
       "395891       12716  France  \n",
       "395902       12598  France  \n",
       "395947       12598  France  \n",
       "396001       12583  France  \n",
       "\n",
       "[8034 rows x 9 columns]"
      ]
     },
     "execution_count": 75,
     "metadata": {},
     "output_type": "execute_result"
    }
   ],
   "source": [
    "data2"
   ]
  },
  {
   "cell_type": "code",
   "execution_count": 76,
   "metadata": {},
   "outputs": [
    {
     "name": "stderr",
     "output_type": "stream",
     "text": [
      "<ipython-input-76-8852500c9b11>:1: UserWarning:\n",
      "\n",
      "Boolean Series key will be reindexed to match DataFrame index.\n",
      "\n"
     ]
    }
   ],
   "source": [
    "data2 = data2[(data2[\"InvoiceDate\"] >= \"2011-01-01\") & (data[\"InvoiceDate\"] <= \"2011-05-31\" )]"
   ]
  },
  {
   "cell_type": "code",
   "execution_count": 80,
   "metadata": {},
   "outputs": [
    {
     "data": {
      "text/html": [
       "<div>\n",
       "<style scoped>\n",
       "    .dataframe tbody tr th:only-of-type {\n",
       "        vertical-align: middle;\n",
       "    }\n",
       "\n",
       "    .dataframe tbody tr th {\n",
       "        vertical-align: top;\n",
       "    }\n",
       "\n",
       "    .dataframe thead th {\n",
       "        text-align: right;\n",
       "    }\n",
       "</style>\n",
       "<table border=\"1\" class=\"dataframe\">\n",
       "  <thead>\n",
       "    <tr style=\"text-align: right;\">\n",
       "      <th></th>\n",
       "      <th>InvoiceNo</th>\n",
       "      <th>InvoiceDate</th>\n",
       "      <th>StockCode</th>\n",
       "      <th>Description</th>\n",
       "      <th>Quantity</th>\n",
       "      <th>UnitPrice</th>\n",
       "      <th>Revenue</th>\n",
       "      <th>CustomerID</th>\n",
       "      <th>Country</th>\n",
       "    </tr>\n",
       "  </thead>\n",
       "  <tbody>\n",
       "    <tr>\n",
       "      <th>807</th>\n",
       "      <td>551163</td>\n",
       "      <td>2011-04-26 15:52:00</td>\n",
       "      <td>85123A</td>\n",
       "      <td>CREAM HANGING HEART T-LIGHT HOLDER</td>\n",
       "      <td>9</td>\n",
       "      <td>2.95</td>\n",
       "      <td>26.55</td>\n",
       "      <td>12573</td>\n",
       "      <td>France</td>\n",
       "    </tr>\n",
       "    <tr>\n",
       "      <th>2645</th>\n",
       "      <td>540976</td>\n",
       "      <td>2011-01-12 15:00:00</td>\n",
       "      <td>84029G</td>\n",
       "      <td>KNITTED UNION FLAG HOT WATER BOTTLE</td>\n",
       "      <td>4</td>\n",
       "      <td>3.75</td>\n",
       "      <td>15.00</td>\n",
       "      <td>12652</td>\n",
       "      <td>France</td>\n",
       "    </tr>\n",
       "    <tr>\n",
       "      <th>3290</th>\n",
       "      <td>545181</td>\n",
       "      <td>2011-02-28 14:45:00</td>\n",
       "      <td>22752</td>\n",
       "      <td>SET 7 BABUSHKA NESTING BOXES</td>\n",
       "      <td>4</td>\n",
       "      <td>8.50</td>\n",
       "      <td>34.00</td>\n",
       "      <td>12509</td>\n",
       "      <td>France</td>\n",
       "    </tr>\n",
       "    <tr>\n",
       "      <th>4614</th>\n",
       "      <td>542629</td>\n",
       "      <td>2011-01-31 09:57:00</td>\n",
       "      <td>84879</td>\n",
       "      <td>ASSORTED COLOUR BIRD ORNAMENT</td>\n",
       "      <td>160</td>\n",
       "      <td>1.45</td>\n",
       "      <td>232.00</td>\n",
       "      <td>12731</td>\n",
       "      <td>France</td>\n",
       "    </tr>\n",
       "    <tr>\n",
       "      <th>4795</th>\n",
       "      <td>548409</td>\n",
       "      <td>2011-03-31 10:27:00</td>\n",
       "      <td>84879</td>\n",
       "      <td>ASSORTED COLOUR BIRD ORNAMENT</td>\n",
       "      <td>160</td>\n",
       "      <td>1.45</td>\n",
       "      <td>232.00</td>\n",
       "      <td>12731</td>\n",
       "      <td>France</td>\n",
       "    </tr>\n",
       "    <tr>\n",
       "      <th>...</th>\n",
       "      <td>...</td>\n",
       "      <td>...</td>\n",
       "      <td>...</td>\n",
       "      <td>...</td>\n",
       "      <td>...</td>\n",
       "      <td>...</td>\n",
       "      <td>...</td>\n",
       "      <td>...</td>\n",
       "      <td>...</td>\n",
       "    </tr>\n",
       "    <tr>\n",
       "      <th>345712</th>\n",
       "      <td>553566</td>\n",
       "      <td>2011-05-18 09:09:00</td>\n",
       "      <td>23112</td>\n",
       "      <td>PARISIENNE CURIO CABINET</td>\n",
       "      <td>2</td>\n",
       "      <td>7.50</td>\n",
       "      <td>15.00</td>\n",
       "      <td>12690</td>\n",
       "      <td>France</td>\n",
       "    </tr>\n",
       "    <tr>\n",
       "      <th>345885</th>\n",
       "      <td>552826</td>\n",
       "      <td>2011-05-11 13:20:00</td>\n",
       "      <td>23111</td>\n",
       "      <td>PARISIENNE SEWING BOX</td>\n",
       "      <td>2</td>\n",
       "      <td>12.50</td>\n",
       "      <td>25.00</td>\n",
       "      <td>14277</td>\n",
       "      <td>France</td>\n",
       "    </tr>\n",
       "    <tr>\n",
       "      <th>345892</th>\n",
       "      <td>553566</td>\n",
       "      <td>2011-05-18 09:09:00</td>\n",
       "      <td>23111</td>\n",
       "      <td>PARISIENNE SEWING BOX</td>\n",
       "      <td>4</td>\n",
       "      <td>12.50</td>\n",
       "      <td>50.00</td>\n",
       "      <td>12690</td>\n",
       "      <td>France</td>\n",
       "    </tr>\n",
       "    <tr>\n",
       "      <th>346009</th>\n",
       "      <td>552826</td>\n",
       "      <td>2011-05-11 13:20:00</td>\n",
       "      <td>23079</td>\n",
       "      <td>TOADSTOOL BEDSIDE LIGHT</td>\n",
       "      <td>4</td>\n",
       "      <td>8.95</td>\n",
       "      <td>35.80</td>\n",
       "      <td>14277</td>\n",
       "      <td>France</td>\n",
       "    </tr>\n",
       "    <tr>\n",
       "      <th>350024</th>\n",
       "      <td>553838</td>\n",
       "      <td>2011-05-19 12:10:00</td>\n",
       "      <td>23086</td>\n",
       "      <td>ZINC  STAR T-LIGHT HOLDER</td>\n",
       "      <td>32</td>\n",
       "      <td>1.25</td>\n",
       "      <td>40.00</td>\n",
       "      <td>12620</td>\n",
       "      <td>France</td>\n",
       "    </tr>\n",
       "  </tbody>\n",
       "</table>\n",
       "<p>2454 rows × 9 columns</p>\n",
       "</div>"
      ],
      "text/plain": [
       "        InvoiceNo         InvoiceDate StockCode  \\\n",
       "807        551163 2011-04-26 15:52:00    85123A   \n",
       "2645       540976 2011-01-12 15:00:00    84029G   \n",
       "3290       545181 2011-02-28 14:45:00     22752   \n",
       "4614       542629 2011-01-31 09:57:00     84879   \n",
       "4795       548409 2011-03-31 10:27:00     84879   \n",
       "...           ...                 ...       ...   \n",
       "345712     553566 2011-05-18 09:09:00     23112   \n",
       "345885     552826 2011-05-11 13:20:00     23111   \n",
       "345892     553566 2011-05-18 09:09:00     23111   \n",
       "346009     552826 2011-05-11 13:20:00     23079   \n",
       "350024     553838 2011-05-19 12:10:00     23086   \n",
       "\n",
       "                                Description  Quantity  UnitPrice  Revenue  \\\n",
       "807      CREAM HANGING HEART T-LIGHT HOLDER         9       2.95    26.55   \n",
       "2645    KNITTED UNION FLAG HOT WATER BOTTLE         4       3.75    15.00   \n",
       "3290           SET 7 BABUSHKA NESTING BOXES         4       8.50    34.00   \n",
       "4614          ASSORTED COLOUR BIRD ORNAMENT       160       1.45   232.00   \n",
       "4795          ASSORTED COLOUR BIRD ORNAMENT       160       1.45   232.00   \n",
       "...                                     ...       ...        ...      ...   \n",
       "345712             PARISIENNE CURIO CABINET         2       7.50    15.00   \n",
       "345885                PARISIENNE SEWING BOX         2      12.50    25.00   \n",
       "345892                PARISIENNE SEWING BOX         4      12.50    50.00   \n",
       "346009             TOADSTOOL BEDSIDE LIGHT          4       8.95    35.80   \n",
       "350024           ZINC  STAR T-LIGHT HOLDER         32       1.25    40.00   \n",
       "\n",
       "        CustomerID Country  \n",
       "807          12573  France  \n",
       "2645         12652  France  \n",
       "3290         12509  France  \n",
       "4614         12731  France  \n",
       "4795         12731  France  \n",
       "...            ...     ...  \n",
       "345712       12690  France  \n",
       "345885       14277  France  \n",
       "345892       12690  France  \n",
       "346009       14277  France  \n",
       "350024       12620  France  \n",
       "\n",
       "[2454 rows x 9 columns]"
      ]
     },
     "execution_count": 80,
     "metadata": {},
     "output_type": "execute_result"
    }
   ],
   "source": [
    "data2"
   ]
  },
  {
   "cell_type": "code",
   "execution_count": 81,
   "metadata": {},
   "outputs": [],
   "source": [
    "data2 = data2.groupby(\"InvoiceDate\").agg({\"Quantity\":\"sum\",\"Revenue\":\"sum\"})"
   ]
  },
  {
   "cell_type": "code",
   "execution_count": 82,
   "metadata": {},
   "outputs": [
    {
     "name": "stderr",
     "output_type": "stream",
     "text": [
      "C:\\Users\\guillermo.martinez\\AppData\\Local\\Continuum\\anaconda3\\envs\\ironhack\\lib\\site-packages\\plotly\\graph_objs\\_deprecations.py:378: DeprecationWarning:\n",
      "\n",
      "plotly.graph_objs.Line is deprecated.\n",
      "Please replace it with one of the following more specific types\n",
      "  - plotly.graph_objs.scatter.Line\n",
      "  - plotly.graph_objs.layout.shape.Line\n",
      "  - etc.\n",
      "\n",
      "\n"
     ]
    },
    {
     "data": {
      "application/vnd.plotly.v1+json": {
       "config": {
        "plotlyServerURL": "https://plot.ly"
       },
       "data": [
        {
         "name": "Revenue",
         "type": "scatter",
         "x": [
          "2011-01-05T12:42:00",
          "2011-01-05T14:48:00",
          "2011-01-06T14:26:00",
          "2011-01-06T16:12:00",
          "2011-01-07T12:07:00",
          "2011-01-07T13:13:00",
          "2011-01-09T12:46:00",
          "2011-01-10T13:22:00",
          "2011-01-11T07:57:00",
          "2011-01-11T11:48:00",
          "2011-01-11T13:31:00",
          "2011-01-11T15:00:00",
          "2011-01-12T09:43:00",
          "2011-01-12T14:13:00",
          "2011-01-12T15:00:00",
          "2011-01-14T09:13:00",
          "2011-01-14T09:20:00",
          "2011-01-14T10:42:00",
          "2011-01-17T15:17:00",
          "2011-01-19T11:51:00",
          "2011-01-20T10:47:00",
          "2011-01-20T10:48:00",
          "2011-01-23T15:17:00",
          "2011-01-24T15:32:00",
          "2011-01-28T09:20:00",
          "2011-01-28T10:45:00",
          "2011-01-28T13:37:00",
          "2011-01-31T09:57:00",
          "2011-01-31T15:36:00",
          "2011-02-01T14:58:00",
          "2011-02-02T09:06:00",
          "2011-02-02T15:22:00",
          "2011-02-04T11:45:00",
          "2011-02-08T13:28:00",
          "2011-02-09T10:11:00",
          "2011-02-10T15:38:00",
          "2011-02-15T14:17:00",
          "2011-02-16T11:45:00",
          "2011-02-17T10:08:00",
          "2011-02-18T10:53:00",
          "2011-02-18T15:23:00",
          "2011-02-21T08:38:00",
          "2011-02-21T14:58:00",
          "2011-02-23T16:44:00",
          "2011-02-23T16:45:00",
          "2011-02-27T11:58:00",
          "2011-02-28T11:43:00",
          "2011-02-28T11:58:00",
          "2011-02-28T14:42:00",
          "2011-02-28T14:45:00",
          "2011-03-01T10:31:00",
          "2011-03-01T12:26:00",
          "2011-03-03T12:06:00",
          "2011-03-03T12:20:00",
          "2011-03-04T09:08:00",
          "2011-03-11T12:00:00",
          "2011-03-13T14:55:00",
          "2011-03-14T11:38:00",
          "2011-03-15T16:39:00",
          "2011-03-16T14:37:00",
          "2011-03-16T15:17:00",
          "2011-03-20T15:58:00",
          "2011-03-21T12:42:00",
          "2011-03-21T12:44:00",
          "2011-03-22T11:28:00",
          "2011-03-23T12:06:00",
          "2011-03-23T13:33:00",
          "2011-03-23T13:39:00",
          "2011-03-23T14:55:00",
          "2011-03-25T10:19:00",
          "2011-03-27T13:07:00",
          "2011-03-28T10:15:00",
          "2011-03-31T10:27:00",
          "2011-03-31T10:29:00",
          "2011-03-31T13:40:00",
          "2011-04-01T09:19:00",
          "2011-04-01T11:10:00",
          "2011-04-04T11:18:00",
          "2011-04-07T13:07:00",
          "2011-04-14T14:15:00",
          "2011-04-17T11:21:00",
          "2011-04-17T15:33:00",
          "2011-04-20T09:20:00",
          "2011-04-21T08:54:00",
          "2011-04-21T10:16:00",
          "2011-04-26T15:52:00",
          "2011-04-28T11:45:00",
          "2011-05-03T08:40:00",
          "2011-05-03T09:33:00",
          "2011-05-03T09:34:00",
          "2011-05-03T12:02:00",
          "2011-05-03T12:03:00",
          "2011-05-05T09:29:00",
          "2011-05-08T16:10:00",
          "2011-05-09T09:47:00",
          "2011-05-09T15:12:00",
          "2011-05-10T12:55:00",
          "2011-05-11T13:20:00",
          "2011-05-11T15:07:00",
          "2011-05-12T11:50:00",
          "2011-05-13T09:24:00",
          "2011-05-13T13:15:00",
          "2011-05-13T15:48:00",
          "2011-05-15T13:45:00",
          "2011-05-16T09:10:00",
          "2011-05-16T12:04:00",
          "2011-05-17T09:28:00",
          "2011-05-18T09:09:00",
          "2011-05-18T10:34:00",
          "2011-05-18T12:18:00",
          "2011-05-19T12:10:00",
          "2011-05-19T12:29:00",
          "2011-05-20T11:34:00",
          "2011-05-22T13:01:00",
          "2011-05-22T14:33:00",
          "2011-05-23T09:48:00",
          "2011-05-24T09:25:00",
          "2011-05-25T10:08:00",
          "2011-05-25T12:44:00",
          "2011-05-25T12:54:00",
          "2011-05-26T14:53:00",
          "2011-05-26T17:16:00",
          "2011-05-27T13:49:00"
         ],
         "y": [
          502.07,
          763.11,
          283.77000000000004,
          425.25,
          676.16,
          298.93,
          113.99999999999999,
          1112.0600000000002,
          144,
          835.1999999999999,
          216.53999999999996,
          136.9,
          102.95,
          338.70000000000005,
          793.9799999999999,
          774.2200000000001,
          225.9,
          592.3100000000001,
          642.1400000000002,
          698.75,
          581.55,
          827.13,
          406.5,
          190.2,
          182.45,
          365.5799999999999,
          405.8,
          3174.43,
          363.54,
          456.84999999999997,
          454.89,
          132.5,
          1128.7299999999998,
          165.85999999999999,
          401.02000000000004,
          285.56,
          219.6,
          829.6600000000002,
          214,
          878.3000000000002,
          6.3,
          603.4200000000001,
          125.4,
          308,
          95.75999999999999,
          92.6,
          335.43,
          612.8599999999999,
          182.72,
          158.5,
          316.19999999999993,
          722.0600000000003,
          480.76000000000005,
          20.4,
          281.25,
          676.85,
          307.28999999999996,
          425.40000000000003,
          511.53999999999996,
          129.70999999999998,
          115.09000000000002,
          298.02,
          201.23999999999995,
          4.63,
          469.9800000000001,
          160.49999999999997,
          733.8800000000002,
          378,
          402.90000000000003,
          303.90999999999997,
          128.05,
          1028.2999999999995,
          1937.0600000000006,
          413.4,
          3243.1299999999997,
          138.75,
          252,
          513.5500000000001,
          312.2,
          615.1999999999999,
          509.57000000000005,
          84.65,
          469.2,
          73.50000000000003,
          579.0500000000001,
          160.54,
          191.1,
          528.8799999999999,
          620.8399999999999,
          24.9,
          162.48000000000002,
          336.24,
          200,
          984.4299999999998,
          295.5,
          205.4,
          453.09999999999997,
          1637.4299999999994,
          1381.3,
          278.53000000000003,
          459.98,
          89.25,
          397.28,
          133.4,
          550.74,
          121.88,
          739.62,
          335.01000000000005,
          332.20000000000005,
          76.32000000000001,
          561.6600000000001,
          316.85,
          956.4000000000001,
          615.21,
          169.5,
          385.96000000000004,
          357.34,
          231.12,
          390.96,
          514.74,
          196.5,
          362,
          367.0899999999999
         ]
        },
        {
         "name": "Quantity",
         "type": "scatter",
         "x": [
          "2011-01-05T12:42:00",
          "2011-01-05T14:48:00",
          "2011-01-06T14:26:00",
          "2011-01-06T16:12:00",
          "2011-01-07T12:07:00",
          "2011-01-07T13:13:00",
          "2011-01-09T12:46:00",
          "2011-01-10T13:22:00",
          "2011-01-11T07:57:00",
          "2011-01-11T11:48:00",
          "2011-01-11T13:31:00",
          "2011-01-11T15:00:00",
          "2011-01-12T09:43:00",
          "2011-01-12T14:13:00",
          "2011-01-12T15:00:00",
          "2011-01-14T09:13:00",
          "2011-01-14T09:20:00",
          "2011-01-14T10:42:00",
          "2011-01-17T15:17:00",
          "2011-01-19T11:51:00",
          "2011-01-20T10:47:00",
          "2011-01-20T10:48:00",
          "2011-01-23T15:17:00",
          "2011-01-24T15:32:00",
          "2011-01-28T09:20:00",
          "2011-01-28T10:45:00",
          "2011-01-28T13:37:00",
          "2011-01-31T09:57:00",
          "2011-01-31T15:36:00",
          "2011-02-01T14:58:00",
          "2011-02-02T09:06:00",
          "2011-02-02T15:22:00",
          "2011-02-04T11:45:00",
          "2011-02-08T13:28:00",
          "2011-02-09T10:11:00",
          "2011-02-10T15:38:00",
          "2011-02-15T14:17:00",
          "2011-02-16T11:45:00",
          "2011-02-17T10:08:00",
          "2011-02-18T10:53:00",
          "2011-02-18T15:23:00",
          "2011-02-21T08:38:00",
          "2011-02-21T14:58:00",
          "2011-02-23T16:44:00",
          "2011-02-23T16:45:00",
          "2011-02-27T11:58:00",
          "2011-02-28T11:43:00",
          "2011-02-28T11:58:00",
          "2011-02-28T14:42:00",
          "2011-02-28T14:45:00",
          "2011-03-01T10:31:00",
          "2011-03-01T12:26:00",
          "2011-03-03T12:06:00",
          "2011-03-03T12:20:00",
          "2011-03-04T09:08:00",
          "2011-03-11T12:00:00",
          "2011-03-13T14:55:00",
          "2011-03-14T11:38:00",
          "2011-03-15T16:39:00",
          "2011-03-16T14:37:00",
          "2011-03-16T15:17:00",
          "2011-03-20T15:58:00",
          "2011-03-21T12:42:00",
          "2011-03-21T12:44:00",
          "2011-03-22T11:28:00",
          "2011-03-23T12:06:00",
          "2011-03-23T13:33:00",
          "2011-03-23T13:39:00",
          "2011-03-23T14:55:00",
          "2011-03-25T10:19:00",
          "2011-03-27T13:07:00",
          "2011-03-28T10:15:00",
          "2011-03-31T10:27:00",
          "2011-03-31T10:29:00",
          "2011-03-31T13:40:00",
          "2011-04-01T09:19:00",
          "2011-04-01T11:10:00",
          "2011-04-04T11:18:00",
          "2011-04-07T13:07:00",
          "2011-04-14T14:15:00",
          "2011-04-17T11:21:00",
          "2011-04-17T15:33:00",
          "2011-04-20T09:20:00",
          "2011-04-21T08:54:00",
          "2011-04-21T10:16:00",
          "2011-04-26T15:52:00",
          "2011-04-28T11:45:00",
          "2011-05-03T08:40:00",
          "2011-05-03T09:33:00",
          "2011-05-03T09:34:00",
          "2011-05-03T12:02:00",
          "2011-05-03T12:03:00",
          "2011-05-05T09:29:00",
          "2011-05-08T16:10:00",
          "2011-05-09T09:47:00",
          "2011-05-09T15:12:00",
          "2011-05-10T12:55:00",
          "2011-05-11T13:20:00",
          "2011-05-11T15:07:00",
          "2011-05-12T11:50:00",
          "2011-05-13T09:24:00",
          "2011-05-13T13:15:00",
          "2011-05-13T15:48:00",
          "2011-05-15T13:45:00",
          "2011-05-16T09:10:00",
          "2011-05-16T12:04:00",
          "2011-05-17T09:28:00",
          "2011-05-18T09:09:00",
          "2011-05-18T10:34:00",
          "2011-05-18T12:18:00",
          "2011-05-19T12:10:00",
          "2011-05-19T12:29:00",
          "2011-05-20T11:34:00",
          "2011-05-22T13:01:00",
          "2011-05-22T14:33:00",
          "2011-05-23T09:48:00",
          "2011-05-24T09:25:00",
          "2011-05-25T10:08:00",
          "2011-05-25T12:44:00",
          "2011-05-25T12:54:00",
          "2011-05-26T14:53:00",
          "2011-05-26T17:16:00",
          "2011-05-27T13:49:00"
         ],
         "y": [
          359,
          369,
          261,
          177,
          488,
          103,
          78,
          628,
          168,
          576,
          120,
          114,
          43,
          131,
          498,
          543,
          78,
          440,
          263,
          383,
          211,
          491,
          120,
          84,
          59,
          406,
          102,
          1617,
          202,
          197,
          159,
          206,
          611,
          214,
          298,
          452,
          96,
          772,
          114,
          748,
          15,
          256,
          77,
          264,
          96,
          70,
          213,
          310,
          72,
          54,
          245,
          329,
          314,
          24,
          123,
          323,
          183,
          184,
          314,
          97,
          62,
          422,
          85,
          5,
          198,
          136,
          713,
          242,
          130,
          261,
          59,
          842,
          946,
          132,
          2271,
          88,
          240,
          293,
          236,
          284,
          375,
          25,
          196,
          23,
          275,
          84,
          146,
          368,
          350,
          6,
          120,
          192,
          98,
          773,
          162,
          332,
          458,
          859,
          734,
          105,
          202,
          33,
          267,
          140,
          220,
          58,
          476,
          103,
          152,
          72,
          434,
          126,
          464,
          229,
          62,
          304,
          208,
          180,
          180,
          374,
          86,
          424,
          155
         ]
        }
       ],
       "layout": {
        "barmode": "group",
        "template": {
         "data": {
          "bar": [
           {
            "error_x": {
             "color": "#2a3f5f"
            },
            "error_y": {
             "color": "#2a3f5f"
            },
            "marker": {
             "line": {
              "color": "#E5ECF6",
              "width": 0.5
             }
            },
            "type": "bar"
           }
          ],
          "barpolar": [
           {
            "marker": {
             "line": {
              "color": "#E5ECF6",
              "width": 0.5
             }
            },
            "type": "barpolar"
           }
          ],
          "carpet": [
           {
            "aaxis": {
             "endlinecolor": "#2a3f5f",
             "gridcolor": "white",
             "linecolor": "white",
             "minorgridcolor": "white",
             "startlinecolor": "#2a3f5f"
            },
            "baxis": {
             "endlinecolor": "#2a3f5f",
             "gridcolor": "white",
             "linecolor": "white",
             "minorgridcolor": "white",
             "startlinecolor": "#2a3f5f"
            },
            "type": "carpet"
           }
          ],
          "choropleth": [
           {
            "colorbar": {
             "outlinewidth": 0,
             "ticks": ""
            },
            "type": "choropleth"
           }
          ],
          "contour": [
           {
            "colorbar": {
             "outlinewidth": 0,
             "ticks": ""
            },
            "colorscale": [
             [
              0,
              "#0d0887"
             ],
             [
              0.1111111111111111,
              "#46039f"
             ],
             [
              0.2222222222222222,
              "#7201a8"
             ],
             [
              0.3333333333333333,
              "#9c179e"
             ],
             [
              0.4444444444444444,
              "#bd3786"
             ],
             [
              0.5555555555555556,
              "#d8576b"
             ],
             [
              0.6666666666666666,
              "#ed7953"
             ],
             [
              0.7777777777777778,
              "#fb9f3a"
             ],
             [
              0.8888888888888888,
              "#fdca26"
             ],
             [
              1,
              "#f0f921"
             ]
            ],
            "type": "contour"
           }
          ],
          "contourcarpet": [
           {
            "colorbar": {
             "outlinewidth": 0,
             "ticks": ""
            },
            "type": "contourcarpet"
           }
          ],
          "heatmap": [
           {
            "colorbar": {
             "outlinewidth": 0,
             "ticks": ""
            },
            "colorscale": [
             [
              0,
              "#0d0887"
             ],
             [
              0.1111111111111111,
              "#46039f"
             ],
             [
              0.2222222222222222,
              "#7201a8"
             ],
             [
              0.3333333333333333,
              "#9c179e"
             ],
             [
              0.4444444444444444,
              "#bd3786"
             ],
             [
              0.5555555555555556,
              "#d8576b"
             ],
             [
              0.6666666666666666,
              "#ed7953"
             ],
             [
              0.7777777777777778,
              "#fb9f3a"
             ],
             [
              0.8888888888888888,
              "#fdca26"
             ],
             [
              1,
              "#f0f921"
             ]
            ],
            "type": "heatmap"
           }
          ],
          "heatmapgl": [
           {
            "colorbar": {
             "outlinewidth": 0,
             "ticks": ""
            },
            "colorscale": [
             [
              0,
              "#0d0887"
             ],
             [
              0.1111111111111111,
              "#46039f"
             ],
             [
              0.2222222222222222,
              "#7201a8"
             ],
             [
              0.3333333333333333,
              "#9c179e"
             ],
             [
              0.4444444444444444,
              "#bd3786"
             ],
             [
              0.5555555555555556,
              "#d8576b"
             ],
             [
              0.6666666666666666,
              "#ed7953"
             ],
             [
              0.7777777777777778,
              "#fb9f3a"
             ],
             [
              0.8888888888888888,
              "#fdca26"
             ],
             [
              1,
              "#f0f921"
             ]
            ],
            "type": "heatmapgl"
           }
          ],
          "histogram": [
           {
            "marker": {
             "colorbar": {
              "outlinewidth": 0,
              "ticks": ""
             }
            },
            "type": "histogram"
           }
          ],
          "histogram2d": [
           {
            "colorbar": {
             "outlinewidth": 0,
             "ticks": ""
            },
            "colorscale": [
             [
              0,
              "#0d0887"
             ],
             [
              0.1111111111111111,
              "#46039f"
             ],
             [
              0.2222222222222222,
              "#7201a8"
             ],
             [
              0.3333333333333333,
              "#9c179e"
             ],
             [
              0.4444444444444444,
              "#bd3786"
             ],
             [
              0.5555555555555556,
              "#d8576b"
             ],
             [
              0.6666666666666666,
              "#ed7953"
             ],
             [
              0.7777777777777778,
              "#fb9f3a"
             ],
             [
              0.8888888888888888,
              "#fdca26"
             ],
             [
              1,
              "#f0f921"
             ]
            ],
            "type": "histogram2d"
           }
          ],
          "histogram2dcontour": [
           {
            "colorbar": {
             "outlinewidth": 0,
             "ticks": ""
            },
            "colorscale": [
             [
              0,
              "#0d0887"
             ],
             [
              0.1111111111111111,
              "#46039f"
             ],
             [
              0.2222222222222222,
              "#7201a8"
             ],
             [
              0.3333333333333333,
              "#9c179e"
             ],
             [
              0.4444444444444444,
              "#bd3786"
             ],
             [
              0.5555555555555556,
              "#d8576b"
             ],
             [
              0.6666666666666666,
              "#ed7953"
             ],
             [
              0.7777777777777778,
              "#fb9f3a"
             ],
             [
              0.8888888888888888,
              "#fdca26"
             ],
             [
              1,
              "#f0f921"
             ]
            ],
            "type": "histogram2dcontour"
           }
          ],
          "mesh3d": [
           {
            "colorbar": {
             "outlinewidth": 0,
             "ticks": ""
            },
            "type": "mesh3d"
           }
          ],
          "parcoords": [
           {
            "line": {
             "colorbar": {
              "outlinewidth": 0,
              "ticks": ""
             }
            },
            "type": "parcoords"
           }
          ],
          "pie": [
           {
            "automargin": true,
            "type": "pie"
           }
          ],
          "scatter": [
           {
            "marker": {
             "colorbar": {
              "outlinewidth": 0,
              "ticks": ""
             }
            },
            "type": "scatter"
           }
          ],
          "scatter3d": [
           {
            "line": {
             "colorbar": {
              "outlinewidth": 0,
              "ticks": ""
             }
            },
            "marker": {
             "colorbar": {
              "outlinewidth": 0,
              "ticks": ""
             }
            },
            "type": "scatter3d"
           }
          ],
          "scattercarpet": [
           {
            "marker": {
             "colorbar": {
              "outlinewidth": 0,
              "ticks": ""
             }
            },
            "type": "scattercarpet"
           }
          ],
          "scattergeo": [
           {
            "marker": {
             "colorbar": {
              "outlinewidth": 0,
              "ticks": ""
             }
            },
            "type": "scattergeo"
           }
          ],
          "scattergl": [
           {
            "marker": {
             "colorbar": {
              "outlinewidth": 0,
              "ticks": ""
             }
            },
            "type": "scattergl"
           }
          ],
          "scattermapbox": [
           {
            "marker": {
             "colorbar": {
              "outlinewidth": 0,
              "ticks": ""
             }
            },
            "type": "scattermapbox"
           }
          ],
          "scatterpolar": [
           {
            "marker": {
             "colorbar": {
              "outlinewidth": 0,
              "ticks": ""
             }
            },
            "type": "scatterpolar"
           }
          ],
          "scatterpolargl": [
           {
            "marker": {
             "colorbar": {
              "outlinewidth": 0,
              "ticks": ""
             }
            },
            "type": "scatterpolargl"
           }
          ],
          "scatterternary": [
           {
            "marker": {
             "colorbar": {
              "outlinewidth": 0,
              "ticks": ""
             }
            },
            "type": "scatterternary"
           }
          ],
          "surface": [
           {
            "colorbar": {
             "outlinewidth": 0,
             "ticks": ""
            },
            "colorscale": [
             [
              0,
              "#0d0887"
             ],
             [
              0.1111111111111111,
              "#46039f"
             ],
             [
              0.2222222222222222,
              "#7201a8"
             ],
             [
              0.3333333333333333,
              "#9c179e"
             ],
             [
              0.4444444444444444,
              "#bd3786"
             ],
             [
              0.5555555555555556,
              "#d8576b"
             ],
             [
              0.6666666666666666,
              "#ed7953"
             ],
             [
              0.7777777777777778,
              "#fb9f3a"
             ],
             [
              0.8888888888888888,
              "#fdca26"
             ],
             [
              1,
              "#f0f921"
             ]
            ],
            "type": "surface"
           }
          ],
          "table": [
           {
            "cells": {
             "fill": {
              "color": "#EBF0F8"
             },
             "line": {
              "color": "white"
             }
            },
            "header": {
             "fill": {
              "color": "#C8D4E3"
             },
             "line": {
              "color": "white"
             }
            },
            "type": "table"
           }
          ]
         },
         "layout": {
          "annotationdefaults": {
           "arrowcolor": "#2a3f5f",
           "arrowhead": 0,
           "arrowwidth": 1
          },
          "coloraxis": {
           "colorbar": {
            "outlinewidth": 0,
            "ticks": ""
           }
          },
          "colorscale": {
           "diverging": [
            [
             0,
             "#8e0152"
            ],
            [
             0.1,
             "#c51b7d"
            ],
            [
             0.2,
             "#de77ae"
            ],
            [
             0.3,
             "#f1b6da"
            ],
            [
             0.4,
             "#fde0ef"
            ],
            [
             0.5,
             "#f7f7f7"
            ],
            [
             0.6,
             "#e6f5d0"
            ],
            [
             0.7,
             "#b8e186"
            ],
            [
             0.8,
             "#7fbc41"
            ],
            [
             0.9,
             "#4d9221"
            ],
            [
             1,
             "#276419"
            ]
           ],
           "sequential": [
            [
             0,
             "#0d0887"
            ],
            [
             0.1111111111111111,
             "#46039f"
            ],
            [
             0.2222222222222222,
             "#7201a8"
            ],
            [
             0.3333333333333333,
             "#9c179e"
            ],
            [
             0.4444444444444444,
             "#bd3786"
            ],
            [
             0.5555555555555556,
             "#d8576b"
            ],
            [
             0.6666666666666666,
             "#ed7953"
            ],
            [
             0.7777777777777778,
             "#fb9f3a"
            ],
            [
             0.8888888888888888,
             "#fdca26"
            ],
            [
             1,
             "#f0f921"
            ]
           ],
           "sequentialminus": [
            [
             0,
             "#0d0887"
            ],
            [
             0.1111111111111111,
             "#46039f"
            ],
            [
             0.2222222222222222,
             "#7201a8"
            ],
            [
             0.3333333333333333,
             "#9c179e"
            ],
            [
             0.4444444444444444,
             "#bd3786"
            ],
            [
             0.5555555555555556,
             "#d8576b"
            ],
            [
             0.6666666666666666,
             "#ed7953"
            ],
            [
             0.7777777777777778,
             "#fb9f3a"
            ],
            [
             0.8888888888888888,
             "#fdca26"
            ],
            [
             1,
             "#f0f921"
            ]
           ]
          },
          "colorway": [
           "#636efa",
           "#EF553B",
           "#00cc96",
           "#ab63fa",
           "#FFA15A",
           "#19d3f3",
           "#FF6692",
           "#B6E880",
           "#FF97FF",
           "#FECB52"
          ],
          "font": {
           "color": "#2a3f5f"
          },
          "geo": {
           "bgcolor": "white",
           "lakecolor": "white",
           "landcolor": "#E5ECF6",
           "showlakes": true,
           "showland": true,
           "subunitcolor": "white"
          },
          "hoverlabel": {
           "align": "left"
          },
          "hovermode": "closest",
          "mapbox": {
           "style": "light"
          },
          "paper_bgcolor": "white",
          "plot_bgcolor": "#E5ECF6",
          "polar": {
           "angularaxis": {
            "gridcolor": "white",
            "linecolor": "white",
            "ticks": ""
           },
           "bgcolor": "#E5ECF6",
           "radialaxis": {
            "gridcolor": "white",
            "linecolor": "white",
            "ticks": ""
           }
          },
          "scene": {
           "xaxis": {
            "backgroundcolor": "#E5ECF6",
            "gridcolor": "white",
            "gridwidth": 2,
            "linecolor": "white",
            "showbackground": true,
            "ticks": "",
            "zerolinecolor": "white"
           },
           "yaxis": {
            "backgroundcolor": "#E5ECF6",
            "gridcolor": "white",
            "gridwidth": 2,
            "linecolor": "white",
            "showbackground": true,
            "ticks": "",
            "zerolinecolor": "white"
           },
           "zaxis": {
            "backgroundcolor": "#E5ECF6",
            "gridcolor": "white",
            "gridwidth": 2,
            "linecolor": "white",
            "showbackground": true,
            "ticks": "",
            "zerolinecolor": "white"
           }
          },
          "shapedefaults": {
           "line": {
            "color": "#2a3f5f"
           }
          },
          "ternary": {
           "aaxis": {
            "gridcolor": "white",
            "linecolor": "white",
            "ticks": ""
           },
           "baxis": {
            "gridcolor": "white",
            "linecolor": "white",
            "ticks": ""
           },
           "bgcolor": "#E5ECF6",
           "caxis": {
            "gridcolor": "white",
            "linecolor": "white",
            "ticks": ""
           }
          },
          "title": {
           "x": 0.05
          },
          "xaxis": {
           "automargin": true,
           "gridcolor": "white",
           "linecolor": "white",
           "ticks": "",
           "title": {
            "standoff": 15
           },
           "zerolinecolor": "white",
           "zerolinewidth": 2
          },
          "yaxis": {
           "automargin": true,
           "gridcolor": "white",
           "linecolor": "white",
           "ticks": "",
           "title": {
            "standoff": 15
           },
           "zerolinecolor": "white",
           "zerolinewidth": 2
          }
         }
        }
       }
      },
      "text/html": [
       "<div>\n",
       "        \n",
       "        \n",
       "            <div id=\"e12be207-39d7-462c-a9d3-32547660a56e\" class=\"plotly-graph-div\" style=\"height:525px; width:100%;\"></div>\n",
       "            <script type=\"text/javascript\">\n",
       "                require([\"plotly\"], function(Plotly) {\n",
       "                    window.PLOTLYENV=window.PLOTLYENV || {};\n",
       "                    \n",
       "                if (document.getElementById(\"e12be207-39d7-462c-a9d3-32547660a56e\")) {\n",
       "                    Plotly.newPlot(\n",
       "                        'e12be207-39d7-462c-a9d3-32547660a56e',\n",
       "                        [{\"name\": \"Revenue\", \"type\": \"scatter\", \"x\": [\"2011-01-05T12:42:00\", \"2011-01-05T14:48:00\", \"2011-01-06T14:26:00\", \"2011-01-06T16:12:00\", \"2011-01-07T12:07:00\", \"2011-01-07T13:13:00\", \"2011-01-09T12:46:00\", \"2011-01-10T13:22:00\", \"2011-01-11T07:57:00\", \"2011-01-11T11:48:00\", \"2011-01-11T13:31:00\", \"2011-01-11T15:00:00\", \"2011-01-12T09:43:00\", \"2011-01-12T14:13:00\", \"2011-01-12T15:00:00\", \"2011-01-14T09:13:00\", \"2011-01-14T09:20:00\", \"2011-01-14T10:42:00\", \"2011-01-17T15:17:00\", \"2011-01-19T11:51:00\", \"2011-01-20T10:47:00\", \"2011-01-20T10:48:00\", \"2011-01-23T15:17:00\", \"2011-01-24T15:32:00\", \"2011-01-28T09:20:00\", \"2011-01-28T10:45:00\", \"2011-01-28T13:37:00\", \"2011-01-31T09:57:00\", \"2011-01-31T15:36:00\", \"2011-02-01T14:58:00\", \"2011-02-02T09:06:00\", \"2011-02-02T15:22:00\", \"2011-02-04T11:45:00\", \"2011-02-08T13:28:00\", \"2011-02-09T10:11:00\", \"2011-02-10T15:38:00\", \"2011-02-15T14:17:00\", \"2011-02-16T11:45:00\", \"2011-02-17T10:08:00\", \"2011-02-18T10:53:00\", \"2011-02-18T15:23:00\", \"2011-02-21T08:38:00\", \"2011-02-21T14:58:00\", \"2011-02-23T16:44:00\", \"2011-02-23T16:45:00\", \"2011-02-27T11:58:00\", \"2011-02-28T11:43:00\", \"2011-02-28T11:58:00\", \"2011-02-28T14:42:00\", \"2011-02-28T14:45:00\", \"2011-03-01T10:31:00\", \"2011-03-01T12:26:00\", \"2011-03-03T12:06:00\", \"2011-03-03T12:20:00\", \"2011-03-04T09:08:00\", \"2011-03-11T12:00:00\", \"2011-03-13T14:55:00\", \"2011-03-14T11:38:00\", \"2011-03-15T16:39:00\", \"2011-03-16T14:37:00\", \"2011-03-16T15:17:00\", \"2011-03-20T15:58:00\", \"2011-03-21T12:42:00\", \"2011-03-21T12:44:00\", \"2011-03-22T11:28:00\", \"2011-03-23T12:06:00\", \"2011-03-23T13:33:00\", \"2011-03-23T13:39:00\", \"2011-03-23T14:55:00\", \"2011-03-25T10:19:00\", \"2011-03-27T13:07:00\", \"2011-03-28T10:15:00\", \"2011-03-31T10:27:00\", \"2011-03-31T10:29:00\", \"2011-03-31T13:40:00\", \"2011-04-01T09:19:00\", \"2011-04-01T11:10:00\", \"2011-04-04T11:18:00\", \"2011-04-07T13:07:00\", \"2011-04-14T14:15:00\", \"2011-04-17T11:21:00\", \"2011-04-17T15:33:00\", \"2011-04-20T09:20:00\", \"2011-04-21T08:54:00\", \"2011-04-21T10:16:00\", \"2011-04-26T15:52:00\", \"2011-04-28T11:45:00\", \"2011-05-03T08:40:00\", \"2011-05-03T09:33:00\", \"2011-05-03T09:34:00\", \"2011-05-03T12:02:00\", \"2011-05-03T12:03:00\", \"2011-05-05T09:29:00\", \"2011-05-08T16:10:00\", \"2011-05-09T09:47:00\", \"2011-05-09T15:12:00\", \"2011-05-10T12:55:00\", \"2011-05-11T13:20:00\", \"2011-05-11T15:07:00\", \"2011-05-12T11:50:00\", \"2011-05-13T09:24:00\", \"2011-05-13T13:15:00\", \"2011-05-13T15:48:00\", \"2011-05-15T13:45:00\", \"2011-05-16T09:10:00\", \"2011-05-16T12:04:00\", \"2011-05-17T09:28:00\", \"2011-05-18T09:09:00\", \"2011-05-18T10:34:00\", \"2011-05-18T12:18:00\", \"2011-05-19T12:10:00\", \"2011-05-19T12:29:00\", \"2011-05-20T11:34:00\", \"2011-05-22T13:01:00\", \"2011-05-22T14:33:00\", \"2011-05-23T09:48:00\", \"2011-05-24T09:25:00\", \"2011-05-25T10:08:00\", \"2011-05-25T12:44:00\", \"2011-05-25T12:54:00\", \"2011-05-26T14:53:00\", \"2011-05-26T17:16:00\", \"2011-05-27T13:49:00\"], \"y\": [502.07, 763.11, 283.77000000000004, 425.25, 676.16, 298.93, 113.99999999999999, 1112.0600000000002, 144.0, 835.1999999999999, 216.53999999999996, 136.9, 102.95, 338.70000000000005, 793.9799999999999, 774.2200000000001, 225.9, 592.3100000000001, 642.1400000000002, 698.75, 581.55, 827.13, 406.5, 190.2, 182.45, 365.5799999999999, 405.8, 3174.43, 363.54, 456.84999999999997, 454.89, 132.5, 1128.7299999999998, 165.85999999999999, 401.02000000000004, 285.56, 219.6, 829.6600000000002, 214.0, 878.3000000000002, 6.3, 603.4200000000001, 125.4, 308.0, 95.75999999999999, 92.6, 335.43, 612.8599999999999, 182.72, 158.5, 316.19999999999993, 722.0600000000003, 480.76000000000005, 20.4, 281.25, 676.85, 307.28999999999996, 425.40000000000003, 511.53999999999996, 129.70999999999998, 115.09000000000002, 298.02, 201.23999999999995, 4.63, 469.9800000000001, 160.49999999999997, 733.8800000000002, 378.0, 402.90000000000003, 303.90999999999997, 128.05, 1028.2999999999995, 1937.0600000000006, 413.4, 3243.1299999999997, 138.75, 252.0, 513.5500000000001, 312.2, 615.1999999999999, 509.57000000000005, 84.65, 469.2, 73.50000000000003, 579.0500000000001, 160.54, 191.1, 528.8799999999999, 620.8399999999999, 24.9, 162.48000000000002, 336.24, 200.0, 984.4299999999998, 295.5, 205.4, 453.09999999999997, 1637.4299999999994, 1381.3, 278.53000000000003, 459.98, 89.25, 397.28, 133.4, 550.74, 121.88, 739.62, 335.01000000000005, 332.20000000000005, 76.32000000000001, 561.6600000000001, 316.85, 956.4000000000001, 615.21, 169.5, 385.96000000000004, 357.34, 231.12, 390.96, 514.74, 196.5, 362.0, 367.0899999999999]}, {\"name\": \"Quantity\", \"type\": \"scatter\", \"x\": [\"2011-01-05T12:42:00\", \"2011-01-05T14:48:00\", \"2011-01-06T14:26:00\", \"2011-01-06T16:12:00\", \"2011-01-07T12:07:00\", \"2011-01-07T13:13:00\", \"2011-01-09T12:46:00\", \"2011-01-10T13:22:00\", \"2011-01-11T07:57:00\", \"2011-01-11T11:48:00\", \"2011-01-11T13:31:00\", \"2011-01-11T15:00:00\", \"2011-01-12T09:43:00\", \"2011-01-12T14:13:00\", \"2011-01-12T15:00:00\", \"2011-01-14T09:13:00\", \"2011-01-14T09:20:00\", \"2011-01-14T10:42:00\", \"2011-01-17T15:17:00\", \"2011-01-19T11:51:00\", \"2011-01-20T10:47:00\", \"2011-01-20T10:48:00\", \"2011-01-23T15:17:00\", \"2011-01-24T15:32:00\", \"2011-01-28T09:20:00\", \"2011-01-28T10:45:00\", \"2011-01-28T13:37:00\", \"2011-01-31T09:57:00\", \"2011-01-31T15:36:00\", \"2011-02-01T14:58:00\", \"2011-02-02T09:06:00\", \"2011-02-02T15:22:00\", \"2011-02-04T11:45:00\", \"2011-02-08T13:28:00\", \"2011-02-09T10:11:00\", \"2011-02-10T15:38:00\", \"2011-02-15T14:17:00\", \"2011-02-16T11:45:00\", \"2011-02-17T10:08:00\", \"2011-02-18T10:53:00\", \"2011-02-18T15:23:00\", \"2011-02-21T08:38:00\", \"2011-02-21T14:58:00\", \"2011-02-23T16:44:00\", \"2011-02-23T16:45:00\", \"2011-02-27T11:58:00\", \"2011-02-28T11:43:00\", \"2011-02-28T11:58:00\", \"2011-02-28T14:42:00\", \"2011-02-28T14:45:00\", \"2011-03-01T10:31:00\", \"2011-03-01T12:26:00\", \"2011-03-03T12:06:00\", \"2011-03-03T12:20:00\", \"2011-03-04T09:08:00\", \"2011-03-11T12:00:00\", \"2011-03-13T14:55:00\", \"2011-03-14T11:38:00\", \"2011-03-15T16:39:00\", \"2011-03-16T14:37:00\", \"2011-03-16T15:17:00\", \"2011-03-20T15:58:00\", \"2011-03-21T12:42:00\", \"2011-03-21T12:44:00\", \"2011-03-22T11:28:00\", \"2011-03-23T12:06:00\", \"2011-03-23T13:33:00\", \"2011-03-23T13:39:00\", \"2011-03-23T14:55:00\", \"2011-03-25T10:19:00\", \"2011-03-27T13:07:00\", \"2011-03-28T10:15:00\", \"2011-03-31T10:27:00\", \"2011-03-31T10:29:00\", \"2011-03-31T13:40:00\", \"2011-04-01T09:19:00\", \"2011-04-01T11:10:00\", \"2011-04-04T11:18:00\", \"2011-04-07T13:07:00\", \"2011-04-14T14:15:00\", \"2011-04-17T11:21:00\", \"2011-04-17T15:33:00\", \"2011-04-20T09:20:00\", \"2011-04-21T08:54:00\", \"2011-04-21T10:16:00\", \"2011-04-26T15:52:00\", \"2011-04-28T11:45:00\", \"2011-05-03T08:40:00\", \"2011-05-03T09:33:00\", \"2011-05-03T09:34:00\", \"2011-05-03T12:02:00\", \"2011-05-03T12:03:00\", \"2011-05-05T09:29:00\", \"2011-05-08T16:10:00\", \"2011-05-09T09:47:00\", \"2011-05-09T15:12:00\", \"2011-05-10T12:55:00\", \"2011-05-11T13:20:00\", \"2011-05-11T15:07:00\", \"2011-05-12T11:50:00\", \"2011-05-13T09:24:00\", \"2011-05-13T13:15:00\", \"2011-05-13T15:48:00\", \"2011-05-15T13:45:00\", \"2011-05-16T09:10:00\", \"2011-05-16T12:04:00\", \"2011-05-17T09:28:00\", \"2011-05-18T09:09:00\", \"2011-05-18T10:34:00\", \"2011-05-18T12:18:00\", \"2011-05-19T12:10:00\", \"2011-05-19T12:29:00\", \"2011-05-20T11:34:00\", \"2011-05-22T13:01:00\", \"2011-05-22T14:33:00\", \"2011-05-23T09:48:00\", \"2011-05-24T09:25:00\", \"2011-05-25T10:08:00\", \"2011-05-25T12:44:00\", \"2011-05-25T12:54:00\", \"2011-05-26T14:53:00\", \"2011-05-26T17:16:00\", \"2011-05-27T13:49:00\"], \"y\": [359, 369, 261, 177, 488, 103, 78, 628, 168, 576, 120, 114, 43, 131, 498, 543, 78, 440, 263, 383, 211, 491, 120, 84, 59, 406, 102, 1617, 202, 197, 159, 206, 611, 214, 298, 452, 96, 772, 114, 748, 15, 256, 77, 264, 96, 70, 213, 310, 72, 54, 245, 329, 314, 24, 123, 323, 183, 184, 314, 97, 62, 422, 85, 5, 198, 136, 713, 242, 130, 261, 59, 842, 946, 132, 2271, 88, 240, 293, 236, 284, 375, 25, 196, 23, 275, 84, 146, 368, 350, 6, 120, 192, 98, 773, 162, 332, 458, 859, 734, 105, 202, 33, 267, 140, 220, 58, 476, 103, 152, 72, 434, 126, 464, 229, 62, 304, 208, 180, 180, 374, 86, 424, 155]}],\n",
       "                        {\"barmode\": \"group\", \"template\": {\"data\": {\"bar\": [{\"error_x\": {\"color\": \"#2a3f5f\"}, \"error_y\": {\"color\": \"#2a3f5f\"}, \"marker\": {\"line\": {\"color\": \"#E5ECF6\", \"width\": 0.5}}, \"type\": \"bar\"}], \"barpolar\": [{\"marker\": {\"line\": {\"color\": \"#E5ECF6\", \"width\": 0.5}}, \"type\": \"barpolar\"}], \"carpet\": [{\"aaxis\": {\"endlinecolor\": \"#2a3f5f\", \"gridcolor\": \"white\", \"linecolor\": \"white\", \"minorgridcolor\": \"white\", \"startlinecolor\": \"#2a3f5f\"}, \"baxis\": {\"endlinecolor\": \"#2a3f5f\", \"gridcolor\": \"white\", \"linecolor\": \"white\", \"minorgridcolor\": \"white\", \"startlinecolor\": \"#2a3f5f\"}, \"type\": \"carpet\"}], \"choropleth\": [{\"colorbar\": {\"outlinewidth\": 0, \"ticks\": \"\"}, \"type\": \"choropleth\"}], \"contour\": [{\"colorbar\": {\"outlinewidth\": 0, \"ticks\": \"\"}, \"colorscale\": [[0.0, \"#0d0887\"], [0.1111111111111111, \"#46039f\"], [0.2222222222222222, \"#7201a8\"], [0.3333333333333333, \"#9c179e\"], [0.4444444444444444, \"#bd3786\"], [0.5555555555555556, \"#d8576b\"], [0.6666666666666666, \"#ed7953\"], [0.7777777777777778, \"#fb9f3a\"], [0.8888888888888888, \"#fdca26\"], [1.0, \"#f0f921\"]], \"type\": \"contour\"}], \"contourcarpet\": [{\"colorbar\": {\"outlinewidth\": 0, \"ticks\": \"\"}, \"type\": \"contourcarpet\"}], \"heatmap\": [{\"colorbar\": {\"outlinewidth\": 0, \"ticks\": \"\"}, \"colorscale\": [[0.0, \"#0d0887\"], [0.1111111111111111, \"#46039f\"], [0.2222222222222222, \"#7201a8\"], [0.3333333333333333, \"#9c179e\"], [0.4444444444444444, \"#bd3786\"], [0.5555555555555556, \"#d8576b\"], [0.6666666666666666, \"#ed7953\"], [0.7777777777777778, \"#fb9f3a\"], [0.8888888888888888, \"#fdca26\"], [1.0, \"#f0f921\"]], \"type\": \"heatmap\"}], \"heatmapgl\": [{\"colorbar\": {\"outlinewidth\": 0, \"ticks\": \"\"}, \"colorscale\": [[0.0, \"#0d0887\"], [0.1111111111111111, \"#46039f\"], [0.2222222222222222, \"#7201a8\"], [0.3333333333333333, \"#9c179e\"], [0.4444444444444444, \"#bd3786\"], [0.5555555555555556, \"#d8576b\"], [0.6666666666666666, \"#ed7953\"], [0.7777777777777778, \"#fb9f3a\"], [0.8888888888888888, \"#fdca26\"], [1.0, \"#f0f921\"]], \"type\": \"heatmapgl\"}], \"histogram\": [{\"marker\": {\"colorbar\": {\"outlinewidth\": 0, \"ticks\": \"\"}}, \"type\": \"histogram\"}], \"histogram2d\": [{\"colorbar\": {\"outlinewidth\": 0, \"ticks\": \"\"}, \"colorscale\": [[0.0, \"#0d0887\"], [0.1111111111111111, \"#46039f\"], [0.2222222222222222, \"#7201a8\"], [0.3333333333333333, \"#9c179e\"], [0.4444444444444444, \"#bd3786\"], [0.5555555555555556, \"#d8576b\"], [0.6666666666666666, \"#ed7953\"], [0.7777777777777778, \"#fb9f3a\"], [0.8888888888888888, \"#fdca26\"], [1.0, \"#f0f921\"]], \"type\": \"histogram2d\"}], \"histogram2dcontour\": [{\"colorbar\": {\"outlinewidth\": 0, \"ticks\": \"\"}, \"colorscale\": [[0.0, \"#0d0887\"], [0.1111111111111111, \"#46039f\"], [0.2222222222222222, \"#7201a8\"], [0.3333333333333333, \"#9c179e\"], [0.4444444444444444, \"#bd3786\"], [0.5555555555555556, \"#d8576b\"], [0.6666666666666666, \"#ed7953\"], [0.7777777777777778, \"#fb9f3a\"], [0.8888888888888888, \"#fdca26\"], [1.0, \"#f0f921\"]], \"type\": \"histogram2dcontour\"}], \"mesh3d\": [{\"colorbar\": {\"outlinewidth\": 0, \"ticks\": \"\"}, \"type\": \"mesh3d\"}], \"parcoords\": [{\"line\": {\"colorbar\": {\"outlinewidth\": 0, \"ticks\": \"\"}}, \"type\": \"parcoords\"}], \"pie\": [{\"automargin\": true, \"type\": \"pie\"}], \"scatter\": [{\"marker\": {\"colorbar\": {\"outlinewidth\": 0, \"ticks\": \"\"}}, \"type\": \"scatter\"}], \"scatter3d\": [{\"line\": {\"colorbar\": {\"outlinewidth\": 0, \"ticks\": \"\"}}, \"marker\": {\"colorbar\": {\"outlinewidth\": 0, \"ticks\": \"\"}}, \"type\": \"scatter3d\"}], \"scattercarpet\": [{\"marker\": {\"colorbar\": {\"outlinewidth\": 0, \"ticks\": \"\"}}, \"type\": \"scattercarpet\"}], \"scattergeo\": [{\"marker\": {\"colorbar\": {\"outlinewidth\": 0, \"ticks\": \"\"}}, \"type\": \"scattergeo\"}], \"scattergl\": [{\"marker\": {\"colorbar\": {\"outlinewidth\": 0, \"ticks\": \"\"}}, \"type\": \"scattergl\"}], \"scattermapbox\": [{\"marker\": {\"colorbar\": {\"outlinewidth\": 0, \"ticks\": \"\"}}, \"type\": \"scattermapbox\"}], \"scatterpolar\": [{\"marker\": {\"colorbar\": {\"outlinewidth\": 0, \"ticks\": \"\"}}, \"type\": \"scatterpolar\"}], \"scatterpolargl\": [{\"marker\": {\"colorbar\": {\"outlinewidth\": 0, \"ticks\": \"\"}}, \"type\": \"scatterpolargl\"}], \"scatterternary\": [{\"marker\": {\"colorbar\": {\"outlinewidth\": 0, \"ticks\": \"\"}}, \"type\": \"scatterternary\"}], \"surface\": [{\"colorbar\": {\"outlinewidth\": 0, \"ticks\": \"\"}, \"colorscale\": [[0.0, \"#0d0887\"], [0.1111111111111111, \"#46039f\"], [0.2222222222222222, \"#7201a8\"], [0.3333333333333333, \"#9c179e\"], [0.4444444444444444, \"#bd3786\"], [0.5555555555555556, \"#d8576b\"], [0.6666666666666666, \"#ed7953\"], [0.7777777777777778, \"#fb9f3a\"], [0.8888888888888888, \"#fdca26\"], [1.0, \"#f0f921\"]], \"type\": \"surface\"}], \"table\": [{\"cells\": {\"fill\": {\"color\": \"#EBF0F8\"}, \"line\": {\"color\": \"white\"}}, \"header\": {\"fill\": {\"color\": \"#C8D4E3\"}, \"line\": {\"color\": \"white\"}}, \"type\": \"table\"}]}, \"layout\": {\"annotationdefaults\": {\"arrowcolor\": \"#2a3f5f\", \"arrowhead\": 0, \"arrowwidth\": 1}, \"coloraxis\": {\"colorbar\": {\"outlinewidth\": 0, \"ticks\": \"\"}}, \"colorscale\": {\"diverging\": [[0, \"#8e0152\"], [0.1, \"#c51b7d\"], [0.2, \"#de77ae\"], [0.3, \"#f1b6da\"], [0.4, \"#fde0ef\"], [0.5, \"#f7f7f7\"], [0.6, \"#e6f5d0\"], [0.7, \"#b8e186\"], [0.8, \"#7fbc41\"], [0.9, \"#4d9221\"], [1, \"#276419\"]], \"sequential\": [[0.0, \"#0d0887\"], [0.1111111111111111, \"#46039f\"], [0.2222222222222222, \"#7201a8\"], [0.3333333333333333, \"#9c179e\"], [0.4444444444444444, \"#bd3786\"], [0.5555555555555556, \"#d8576b\"], [0.6666666666666666, \"#ed7953\"], [0.7777777777777778, \"#fb9f3a\"], [0.8888888888888888, \"#fdca26\"], [1.0, \"#f0f921\"]], \"sequentialminus\": [[0.0, \"#0d0887\"], [0.1111111111111111, \"#46039f\"], [0.2222222222222222, \"#7201a8\"], [0.3333333333333333, \"#9c179e\"], [0.4444444444444444, \"#bd3786\"], [0.5555555555555556, \"#d8576b\"], [0.6666666666666666, \"#ed7953\"], [0.7777777777777778, \"#fb9f3a\"], [0.8888888888888888, \"#fdca26\"], [1.0, \"#f0f921\"]]}, \"colorway\": [\"#636efa\", \"#EF553B\", \"#00cc96\", \"#ab63fa\", \"#FFA15A\", \"#19d3f3\", \"#FF6692\", \"#B6E880\", \"#FF97FF\", \"#FECB52\"], \"font\": {\"color\": \"#2a3f5f\"}, \"geo\": {\"bgcolor\": \"white\", \"lakecolor\": \"white\", \"landcolor\": \"#E5ECF6\", \"showlakes\": true, \"showland\": true, \"subunitcolor\": \"white\"}, \"hoverlabel\": {\"align\": \"left\"}, \"hovermode\": \"closest\", \"mapbox\": {\"style\": \"light\"}, \"paper_bgcolor\": \"white\", \"plot_bgcolor\": \"#E5ECF6\", \"polar\": {\"angularaxis\": {\"gridcolor\": \"white\", \"linecolor\": \"white\", \"ticks\": \"\"}, \"bgcolor\": \"#E5ECF6\", \"radialaxis\": {\"gridcolor\": \"white\", \"linecolor\": \"white\", \"ticks\": \"\"}}, \"scene\": {\"xaxis\": {\"backgroundcolor\": \"#E5ECF6\", \"gridcolor\": \"white\", \"gridwidth\": 2, \"linecolor\": \"white\", \"showbackground\": true, \"ticks\": \"\", \"zerolinecolor\": \"white\"}, \"yaxis\": {\"backgroundcolor\": \"#E5ECF6\", \"gridcolor\": \"white\", \"gridwidth\": 2, \"linecolor\": \"white\", \"showbackground\": true, \"ticks\": \"\", \"zerolinecolor\": \"white\"}, \"zaxis\": {\"backgroundcolor\": \"#E5ECF6\", \"gridcolor\": \"white\", \"gridwidth\": 2, \"linecolor\": \"white\", \"showbackground\": true, \"ticks\": \"\", \"zerolinecolor\": \"white\"}}, \"shapedefaults\": {\"line\": {\"color\": \"#2a3f5f\"}}, \"ternary\": {\"aaxis\": {\"gridcolor\": \"white\", \"linecolor\": \"white\", \"ticks\": \"\"}, \"baxis\": {\"gridcolor\": \"white\", \"linecolor\": \"white\", \"ticks\": \"\"}, \"bgcolor\": \"#E5ECF6\", \"caxis\": {\"gridcolor\": \"white\", \"linecolor\": \"white\", \"ticks\": \"\"}}, \"title\": {\"x\": 0.05}, \"xaxis\": {\"automargin\": true, \"gridcolor\": \"white\", \"linecolor\": \"white\", \"ticks\": \"\", \"title\": {\"standoff\": 15}, \"zerolinecolor\": \"white\", \"zerolinewidth\": 2}, \"yaxis\": {\"automargin\": true, \"gridcolor\": \"white\", \"linecolor\": \"white\", \"ticks\": \"\", \"title\": {\"standoff\": 15}, \"zerolinecolor\": \"white\", \"zerolinewidth\": 2}}}},\n",
       "                        {\"responsive\": true}\n",
       "                    ).then(function(){\n",
       "                            \n",
       "var gd = document.getElementById('e12be207-39d7-462c-a9d3-32547660a56e');\n",
       "var x = new MutationObserver(function (mutations, observer) {{\n",
       "        var display = window.getComputedStyle(gd).display;\n",
       "        if (!display || display === 'none') {{\n",
       "            console.log([gd, 'removed!']);\n",
       "            Plotly.purge(gd);\n",
       "            observer.disconnect();\n",
       "        }}\n",
       "}});\n",
       "\n",
       "// Listen for the removal of the full notebook cells\n",
       "var notebookContainer = gd.closest('#notebook-container');\n",
       "if (notebookContainer) {{\n",
       "    x.observe(notebookContainer, {childList: true});\n",
       "}}\n",
       "\n",
       "// Listen for the clearing of the current output cell\n",
       "var outputEl = gd.closest('.output');\n",
       "if (outputEl) {{\n",
       "    x.observe(outputEl, {childList: true});\n",
       "}}\n",
       "\n",
       "                        })\n",
       "                };\n",
       "                });\n",
       "            </script>\n",
       "        </div>"
      ]
     },
     "metadata": {},
     "output_type": "display_data"
    }
   ],
   "source": [
    "fig = go.Figure(data=[\n",
    "    go.Line(name='Revenue', x=data2.index, y=data2.Revenue),\n",
    "    go.Line(name='Quantity', x=data2.index, y=data2.Quantity)\n",
    "])\n",
    "# Change the bar mode\n",
    "fig.update_layout(barmode='group')\n",
    "fig.show()"
   ]
  },
  {
   "cell_type": "markdown",
   "metadata": {},
   "source": [
    "## 3. Create an interactive scatter plot showing the relationship between average quantity (x-axis) and average unit price (y-axis) for the product PARTY BUNTING with the plot points color-coded by country (categories)."
   ]
  },
  {
   "cell_type": "code",
   "execution_count": 105,
   "metadata": {},
   "outputs": [],
   "source": [
    "data3 = data"
   ]
  },
  {
   "cell_type": "code",
   "execution_count": 106,
   "metadata": {},
   "outputs": [
    {
     "data": {
      "text/html": [
       "<div>\n",
       "<style scoped>\n",
       "    .dataframe tbody tr th:only-of-type {\n",
       "        vertical-align: middle;\n",
       "    }\n",
       "\n",
       "    .dataframe tbody tr th {\n",
       "        vertical-align: top;\n",
       "    }\n",
       "\n",
       "    .dataframe thead th {\n",
       "        text-align: right;\n",
       "    }\n",
       "</style>\n",
       "<table border=\"1\" class=\"dataframe\">\n",
       "  <thead>\n",
       "    <tr style=\"text-align: right;\">\n",
       "      <th></th>\n",
       "      <th>InvoiceNo</th>\n",
       "      <th>InvoiceDate</th>\n",
       "      <th>StockCode</th>\n",
       "      <th>Description</th>\n",
       "      <th>Quantity</th>\n",
       "      <th>UnitPrice</th>\n",
       "      <th>Revenue</th>\n",
       "      <th>CustomerID</th>\n",
       "      <th>Country</th>\n",
       "    </tr>\n",
       "  </thead>\n",
       "  <tbody>\n",
       "    <tr>\n",
       "      <th>0</th>\n",
       "      <td>536365</td>\n",
       "      <td>2010-12-01 08:26:00</td>\n",
       "      <td>85123A</td>\n",
       "      <td>CREAM HANGING HEART T-LIGHT HOLDER</td>\n",
       "      <td>6</td>\n",
       "      <td>2.55</td>\n",
       "      <td>15.3</td>\n",
       "      <td>17850</td>\n",
       "      <td>United Kingdom</td>\n",
       "    </tr>\n",
       "    <tr>\n",
       "      <th>1</th>\n",
       "      <td>536373</td>\n",
       "      <td>2010-12-01 09:02:00</td>\n",
       "      <td>85123A</td>\n",
       "      <td>CREAM HANGING HEART T-LIGHT HOLDER</td>\n",
       "      <td>6</td>\n",
       "      <td>2.55</td>\n",
       "      <td>15.3</td>\n",
       "      <td>17850</td>\n",
       "      <td>United Kingdom</td>\n",
       "    </tr>\n",
       "    <tr>\n",
       "      <th>2</th>\n",
       "      <td>536375</td>\n",
       "      <td>2010-12-01 09:32:00</td>\n",
       "      <td>85123A</td>\n",
       "      <td>CREAM HANGING HEART T-LIGHT HOLDER</td>\n",
       "      <td>6</td>\n",
       "      <td>2.55</td>\n",
       "      <td>15.3</td>\n",
       "      <td>17850</td>\n",
       "      <td>United Kingdom</td>\n",
       "    </tr>\n",
       "    <tr>\n",
       "      <th>3</th>\n",
       "      <td>536390</td>\n",
       "      <td>2010-12-01 10:19:00</td>\n",
       "      <td>85123A</td>\n",
       "      <td>CREAM HANGING HEART T-LIGHT HOLDER</td>\n",
       "      <td>64</td>\n",
       "      <td>2.55</td>\n",
       "      <td>163.2</td>\n",
       "      <td>17511</td>\n",
       "      <td>United Kingdom</td>\n",
       "    </tr>\n",
       "    <tr>\n",
       "      <th>4</th>\n",
       "      <td>536394</td>\n",
       "      <td>2010-12-01 10:39:00</td>\n",
       "      <td>85123A</td>\n",
       "      <td>CREAM HANGING HEART T-LIGHT HOLDER</td>\n",
       "      <td>32</td>\n",
       "      <td>2.55</td>\n",
       "      <td>81.6</td>\n",
       "      <td>13408</td>\n",
       "      <td>United Kingdom</td>\n",
       "    </tr>\n",
       "  </tbody>\n",
       "</table>\n",
       "</div>"
      ],
      "text/plain": [
       "   InvoiceNo         InvoiceDate StockCode  \\\n",
       "0     536365 2010-12-01 08:26:00    85123A   \n",
       "1     536373 2010-12-01 09:02:00    85123A   \n",
       "2     536375 2010-12-01 09:32:00    85123A   \n",
       "3     536390 2010-12-01 10:19:00    85123A   \n",
       "4     536394 2010-12-01 10:39:00    85123A   \n",
       "\n",
       "                          Description  Quantity  UnitPrice  Revenue  \\\n",
       "0  CREAM HANGING HEART T-LIGHT HOLDER         6       2.55     15.3   \n",
       "1  CREAM HANGING HEART T-LIGHT HOLDER         6       2.55     15.3   \n",
       "2  CREAM HANGING HEART T-LIGHT HOLDER         6       2.55     15.3   \n",
       "3  CREAM HANGING HEART T-LIGHT HOLDER        64       2.55    163.2   \n",
       "4  CREAM HANGING HEART T-LIGHT HOLDER        32       2.55     81.6   \n",
       "\n",
       "   CustomerID         Country  \n",
       "0       17850  United Kingdom  \n",
       "1       17850  United Kingdom  \n",
       "2       17850  United Kingdom  \n",
       "3       17511  United Kingdom  \n",
       "4       13408  United Kingdom  "
      ]
     },
     "execution_count": 106,
     "metadata": {},
     "output_type": "execute_result"
    }
   ],
   "source": [
    "data3.head()"
   ]
  },
  {
   "cell_type": "code",
   "execution_count": 107,
   "metadata": {},
   "outputs": [],
   "source": [
    "data3 = data3[(data3[\"Description\"] == \"PARTY BUNTING\" )]"
   ]
  },
  {
   "cell_type": "code",
   "execution_count": 108,
   "metadata": {},
   "outputs": [
    {
     "data": {
      "text/html": [
       "<div>\n",
       "<style scoped>\n",
       "    .dataframe tbody tr th:only-of-type {\n",
       "        vertical-align: middle;\n",
       "    }\n",
       "\n",
       "    .dataframe tbody tr th {\n",
       "        vertical-align: top;\n",
       "    }\n",
       "\n",
       "    .dataframe thead th {\n",
       "        text-align: right;\n",
       "    }\n",
       "</style>\n",
       "<table border=\"1\" class=\"dataframe\">\n",
       "  <thead>\n",
       "    <tr style=\"text-align: right;\">\n",
       "      <th></th>\n",
       "      <th>InvoiceNo</th>\n",
       "      <th>InvoiceDate</th>\n",
       "      <th>StockCode</th>\n",
       "      <th>Description</th>\n",
       "      <th>Quantity</th>\n",
       "      <th>UnitPrice</th>\n",
       "      <th>Revenue</th>\n",
       "      <th>CustomerID</th>\n",
       "      <th>Country</th>\n",
       "    </tr>\n",
       "  </thead>\n",
       "  <tbody>\n",
       "    <tr>\n",
       "      <th>252864</th>\n",
       "      <td>536956</td>\n",
       "      <td>2010-12-03 12:43:00</td>\n",
       "      <td>47566</td>\n",
       "      <td>PARTY BUNTING</td>\n",
       "      <td>5</td>\n",
       "      <td>4.65</td>\n",
       "      <td>23.25</td>\n",
       "      <td>14210</td>\n",
       "      <td>United Kingdom</td>\n",
       "    </tr>\n",
       "    <tr>\n",
       "      <th>252865</th>\n",
       "      <td>537065</td>\n",
       "      <td>2010-12-05 11:57:00</td>\n",
       "      <td>47566</td>\n",
       "      <td>PARTY BUNTING</td>\n",
       "      <td>5</td>\n",
       "      <td>4.65</td>\n",
       "      <td>23.25</td>\n",
       "      <td>12567</td>\n",
       "      <td>France</td>\n",
       "    </tr>\n",
       "    <tr>\n",
       "      <th>252866</th>\n",
       "      <td>537128</td>\n",
       "      <td>2010-12-05 12:15:00</td>\n",
       "      <td>47566</td>\n",
       "      <td>PARTY BUNTING</td>\n",
       "      <td>2</td>\n",
       "      <td>4.65</td>\n",
       "      <td>9.30</td>\n",
       "      <td>12841</td>\n",
       "      <td>United Kingdom</td>\n",
       "    </tr>\n",
       "    <tr>\n",
       "      <th>252867</th>\n",
       "      <td>537142</td>\n",
       "      <td>2010-12-05 12:57:00</td>\n",
       "      <td>47566</td>\n",
       "      <td>PARTY BUNTING</td>\n",
       "      <td>1</td>\n",
       "      <td>4.65</td>\n",
       "      <td>4.65</td>\n",
       "      <td>12748</td>\n",
       "      <td>United Kingdom</td>\n",
       "    </tr>\n",
       "    <tr>\n",
       "      <th>252868</th>\n",
       "      <td>537420</td>\n",
       "      <td>2010-12-06 15:18:00</td>\n",
       "      <td>47566</td>\n",
       "      <td>PARTY BUNTING</td>\n",
       "      <td>5</td>\n",
       "      <td>4.65</td>\n",
       "      <td>23.25</td>\n",
       "      <td>17519</td>\n",
       "      <td>United Kingdom</td>\n",
       "    </tr>\n",
       "  </tbody>\n",
       "</table>\n",
       "</div>"
      ],
      "text/plain": [
       "        InvoiceNo         InvoiceDate StockCode    Description  Quantity  \\\n",
       "252864     536956 2010-12-03 12:43:00     47566  PARTY BUNTING         5   \n",
       "252865     537065 2010-12-05 11:57:00     47566  PARTY BUNTING         5   \n",
       "252866     537128 2010-12-05 12:15:00     47566  PARTY BUNTING         2   \n",
       "252867     537142 2010-12-05 12:57:00     47566  PARTY BUNTING         1   \n",
       "252868     537420 2010-12-06 15:18:00     47566  PARTY BUNTING         5   \n",
       "\n",
       "        UnitPrice  Revenue  CustomerID         Country  \n",
       "252864       4.65    23.25       14210  United Kingdom  \n",
       "252865       4.65    23.25       12567          France  \n",
       "252866       4.65     9.30       12841  United Kingdom  \n",
       "252867       4.65     4.65       12748  United Kingdom  \n",
       "252868       4.65    23.25       17519  United Kingdom  "
      ]
     },
     "execution_count": 108,
     "metadata": {},
     "output_type": "execute_result"
    }
   ],
   "source": [
    "data3.head()"
   ]
  },
  {
   "cell_type": "code",
   "execution_count": 109,
   "metadata": {},
   "outputs": [],
   "source": [
    "data3 = data3.groupby(\"Country\").agg({\"Quantity\":\"mean\",\"UnitPrice\":\"mean\"})"
   ]
  },
  {
   "cell_type": "code",
   "execution_count": 110,
   "metadata": {},
   "outputs": [
    {
     "data": {
      "text/html": [
       "<div>\n",
       "<style scoped>\n",
       "    .dataframe tbody tr th:only-of-type {\n",
       "        vertical-align: middle;\n",
       "    }\n",
       "\n",
       "    .dataframe tbody tr th {\n",
       "        vertical-align: top;\n",
       "    }\n",
       "\n",
       "    .dataframe thead th {\n",
       "        text-align: right;\n",
       "    }\n",
       "</style>\n",
       "<table border=\"1\" class=\"dataframe\">\n",
       "  <thead>\n",
       "    <tr style=\"text-align: right;\">\n",
       "      <th></th>\n",
       "      <th>Quantity</th>\n",
       "      <th>UnitPrice</th>\n",
       "    </tr>\n",
       "    <tr>\n",
       "      <th>Country</th>\n",
       "      <th></th>\n",
       "      <th></th>\n",
       "    </tr>\n",
       "  </thead>\n",
       "  <tbody>\n",
       "    <tr>\n",
       "      <th>Australia</th>\n",
       "      <td>33.125000</td>\n",
       "      <td>4.712500</td>\n",
       "    </tr>\n",
       "    <tr>\n",
       "      <th>Austria</th>\n",
       "      <td>8.000000</td>\n",
       "      <td>4.950000</td>\n",
       "    </tr>\n",
       "    <tr>\n",
       "      <th>Belgium</th>\n",
       "      <td>4.000000</td>\n",
       "      <td>4.950000</td>\n",
       "    </tr>\n",
       "    <tr>\n",
       "      <th>Channel Islands</th>\n",
       "      <td>13.333333</td>\n",
       "      <td>4.950000</td>\n",
       "    </tr>\n",
       "    <tr>\n",
       "      <th>Cyprus</th>\n",
       "      <td>2.333333</td>\n",
       "      <td>4.750000</td>\n",
       "    </tr>\n",
       "    <tr>\n",
       "      <th>Denmark</th>\n",
       "      <td>12.000000</td>\n",
       "      <td>4.950000</td>\n",
       "    </tr>\n",
       "    <tr>\n",
       "      <th>EIRE</th>\n",
       "      <td>21.210526</td>\n",
       "      <td>4.739474</td>\n",
       "    </tr>\n",
       "    <tr>\n",
       "      <th>Finland</th>\n",
       "      <td>6.000000</td>\n",
       "      <td>4.950000</td>\n",
       "    </tr>\n",
       "    <tr>\n",
       "      <th>France</th>\n",
       "      <td>5.727273</td>\n",
       "      <td>4.922727</td>\n",
       "    </tr>\n",
       "    <tr>\n",
       "      <th>Germany</th>\n",
       "      <td>6.800000</td>\n",
       "      <td>4.890000</td>\n",
       "    </tr>\n",
       "    <tr>\n",
       "      <th>Israel</th>\n",
       "      <td>1.000000</td>\n",
       "      <td>4.950000</td>\n",
       "    </tr>\n",
       "    <tr>\n",
       "      <th>Japan</th>\n",
       "      <td>56.666667</td>\n",
       "      <td>4.183333</td>\n",
       "    </tr>\n",
       "    <tr>\n",
       "      <th>Lebanon</th>\n",
       "      <td>15.000000</td>\n",
       "      <td>4.650000</td>\n",
       "    </tr>\n",
       "    <tr>\n",
       "      <th>Netherlands</th>\n",
       "      <td>50.000000</td>\n",
       "      <td>4.150000</td>\n",
       "    </tr>\n",
       "    <tr>\n",
       "      <th>Norway</th>\n",
       "      <td>6.000000</td>\n",
       "      <td>4.950000</td>\n",
       "    </tr>\n",
       "    <tr>\n",
       "      <th>Singapore</th>\n",
       "      <td>8.000000</td>\n",
       "      <td>4.950000</td>\n",
       "    </tr>\n",
       "    <tr>\n",
       "      <th>South Africa</th>\n",
       "      <td>4.000000</td>\n",
       "      <td>4.950000</td>\n",
       "    </tr>\n",
       "    <tr>\n",
       "      <th>Spain</th>\n",
       "      <td>4.750000</td>\n",
       "      <td>4.837500</td>\n",
       "    </tr>\n",
       "    <tr>\n",
       "      <th>Switzerland</th>\n",
       "      <td>17.200000</td>\n",
       "      <td>4.790000</td>\n",
       "    </tr>\n",
       "    <tr>\n",
       "      <th>United Kingdom</th>\n",
       "      <td>10.705432</td>\n",
       "      <td>4.880926</td>\n",
       "    </tr>\n",
       "  </tbody>\n",
       "</table>\n",
       "</div>"
      ],
      "text/plain": [
       "                  Quantity  UnitPrice\n",
       "Country                              \n",
       "Australia        33.125000   4.712500\n",
       "Austria           8.000000   4.950000\n",
       "Belgium           4.000000   4.950000\n",
       "Channel Islands  13.333333   4.950000\n",
       "Cyprus            2.333333   4.750000\n",
       "Denmark          12.000000   4.950000\n",
       "EIRE             21.210526   4.739474\n",
       "Finland           6.000000   4.950000\n",
       "France            5.727273   4.922727\n",
       "Germany           6.800000   4.890000\n",
       "Israel            1.000000   4.950000\n",
       "Japan            56.666667   4.183333\n",
       "Lebanon          15.000000   4.650000\n",
       "Netherlands      50.000000   4.150000\n",
       "Norway            6.000000   4.950000\n",
       "Singapore         8.000000   4.950000\n",
       "South Africa      4.000000   4.950000\n",
       "Spain             4.750000   4.837500\n",
       "Switzerland      17.200000   4.790000\n",
       "United Kingdom   10.705432   4.880926"
      ]
     },
     "execution_count": 110,
     "metadata": {},
     "output_type": "execute_result"
    }
   ],
   "source": [
    "data3"
   ]
  },
  {
   "cell_type": "code",
   "execution_count": 119,
   "metadata": {},
   "outputs": [
    {
     "data": {
      "application/vnd.plotly.v1+json": {
       "config": {
        "plotlyServerURL": "https://plot.ly"
       },
       "data": [
        {
         "hoverlabel": {
          "namelength": 0
         },
         "hovertemplate": "color=Australia<br>Quantity=%{marker.size}<br>UnitPrice=%{y}",
         "legendgroup": "color=Australia",
         "marker": {
          "color": "#636efa",
          "size": [
           33.125
          ],
          "sizemode": "area",
          "sizeref": 0.14166666666666666,
          "symbol": "circle"
         },
         "mode": "markers",
         "name": "color=Australia",
         "showlegend": true,
         "type": "scatter",
         "x": [
          33.125
         ],
         "xaxis": "x",
         "y": [
          4.7125
         ],
         "yaxis": "y"
        },
        {
         "hoverlabel": {
          "namelength": 0
         },
         "hovertemplate": "color=Austria<br>Quantity=%{marker.size}<br>UnitPrice=%{y}",
         "legendgroup": "color=Austria",
         "marker": {
          "color": "#EF553B",
          "size": [
           8
          ],
          "sizemode": "area",
          "sizeref": 0.14166666666666666,
          "symbol": "circle"
         },
         "mode": "markers",
         "name": "color=Austria",
         "showlegend": true,
         "type": "scatter",
         "x": [
          8
         ],
         "xaxis": "x",
         "y": [
          4.95
         ],
         "yaxis": "y"
        },
        {
         "hoverlabel": {
          "namelength": 0
         },
         "hovertemplate": "color=Belgium<br>Quantity=%{marker.size}<br>UnitPrice=%{y}",
         "legendgroup": "color=Belgium",
         "marker": {
          "color": "#00cc96",
          "size": [
           4
          ],
          "sizemode": "area",
          "sizeref": 0.14166666666666666,
          "symbol": "circle"
         },
         "mode": "markers",
         "name": "color=Belgium",
         "showlegend": true,
         "type": "scatter",
         "x": [
          4
         ],
         "xaxis": "x",
         "y": [
          4.95
         ],
         "yaxis": "y"
        },
        {
         "hoverlabel": {
          "namelength": 0
         },
         "hovertemplate": "color=Channel Islands<br>Quantity=%{marker.size}<br>UnitPrice=%{y}",
         "legendgroup": "color=Channel Islands",
         "marker": {
          "color": "#ab63fa",
          "size": [
           13.333333333333334
          ],
          "sizemode": "area",
          "sizeref": 0.14166666666666666,
          "symbol": "circle"
         },
         "mode": "markers",
         "name": "color=Channel Islands",
         "showlegend": true,
         "type": "scatter",
         "x": [
          13.333333333333334
         ],
         "xaxis": "x",
         "y": [
          4.95
         ],
         "yaxis": "y"
        },
        {
         "hoverlabel": {
          "namelength": 0
         },
         "hovertemplate": "color=Cyprus<br>Quantity=%{marker.size}<br>UnitPrice=%{y}",
         "legendgroup": "color=Cyprus",
         "marker": {
          "color": "#FFA15A",
          "size": [
           2.3333333333333335
          ],
          "sizemode": "area",
          "sizeref": 0.14166666666666666,
          "symbol": "circle"
         },
         "mode": "markers",
         "name": "color=Cyprus",
         "showlegend": true,
         "type": "scatter",
         "x": [
          2.3333333333333335
         ],
         "xaxis": "x",
         "y": [
          4.75
         ],
         "yaxis": "y"
        },
        {
         "hoverlabel": {
          "namelength": 0
         },
         "hovertemplate": "color=Denmark<br>Quantity=%{marker.size}<br>UnitPrice=%{y}",
         "legendgroup": "color=Denmark",
         "marker": {
          "color": "#19d3f3",
          "size": [
           12
          ],
          "sizemode": "area",
          "sizeref": 0.14166666666666666,
          "symbol": "circle"
         },
         "mode": "markers",
         "name": "color=Denmark",
         "showlegend": true,
         "type": "scatter",
         "x": [
          12
         ],
         "xaxis": "x",
         "y": [
          4.95
         ],
         "yaxis": "y"
        },
        {
         "hoverlabel": {
          "namelength": 0
         },
         "hovertemplate": "color=EIRE<br>Quantity=%{marker.size}<br>UnitPrice=%{y}",
         "legendgroup": "color=EIRE",
         "marker": {
          "color": "#FF6692",
          "size": [
           21.210526315789473
          ],
          "sizemode": "area",
          "sizeref": 0.14166666666666666,
          "symbol": "circle"
         },
         "mode": "markers",
         "name": "color=EIRE",
         "showlegend": true,
         "type": "scatter",
         "x": [
          21.210526315789473
         ],
         "xaxis": "x",
         "y": [
          4.739473684210528
         ],
         "yaxis": "y"
        },
        {
         "hoverlabel": {
          "namelength": 0
         },
         "hovertemplate": "color=Finland<br>Quantity=%{marker.size}<br>UnitPrice=%{y}",
         "legendgroup": "color=Finland",
         "marker": {
          "color": "#B6E880",
          "size": [
           6
          ],
          "sizemode": "area",
          "sizeref": 0.14166666666666666,
          "symbol": "circle"
         },
         "mode": "markers",
         "name": "color=Finland",
         "showlegend": true,
         "type": "scatter",
         "x": [
          6
         ],
         "xaxis": "x",
         "y": [
          4.95
         ],
         "yaxis": "y"
        },
        {
         "hoverlabel": {
          "namelength": 0
         },
         "hovertemplate": "color=France<br>Quantity=%{marker.size}<br>UnitPrice=%{y}",
         "legendgroup": "color=France",
         "marker": {
          "color": "#FF97FF",
          "size": [
           5.7272727272727275
          ],
          "sizemode": "area",
          "sizeref": 0.14166666666666666,
          "symbol": "circle"
         },
         "mode": "markers",
         "name": "color=France",
         "showlegend": true,
         "type": "scatter",
         "x": [
          5.7272727272727275
         ],
         "xaxis": "x",
         "y": [
          4.922727272727275
         ],
         "yaxis": "y"
        },
        {
         "hoverlabel": {
          "namelength": 0
         },
         "hovertemplate": "color=Germany<br>Quantity=%{marker.size}<br>UnitPrice=%{y}",
         "legendgroup": "color=Germany",
         "marker": {
          "color": "#FECB52",
          "size": [
           6.8
          ],
          "sizemode": "area",
          "sizeref": 0.14166666666666666,
          "symbol": "circle"
         },
         "mode": "markers",
         "name": "color=Germany",
         "showlegend": true,
         "type": "scatter",
         "x": [
          6.8
         ],
         "xaxis": "x",
         "y": [
          4.89
         ],
         "yaxis": "y"
        },
        {
         "hoverlabel": {
          "namelength": 0
         },
         "hovertemplate": "color=Israel<br>Quantity=%{marker.size}<br>UnitPrice=%{y}",
         "legendgroup": "color=Israel",
         "marker": {
          "color": "#636efa",
          "size": [
           1
          ],
          "sizemode": "area",
          "sizeref": 0.14166666666666666,
          "symbol": "circle"
         },
         "mode": "markers",
         "name": "color=Israel",
         "showlegend": true,
         "type": "scatter",
         "x": [
          1
         ],
         "xaxis": "x",
         "y": [
          4.95
         ],
         "yaxis": "y"
        },
        {
         "hoverlabel": {
          "namelength": 0
         },
         "hovertemplate": "color=Japan<br>Quantity=%{marker.size}<br>UnitPrice=%{y}",
         "legendgroup": "color=Japan",
         "marker": {
          "color": "#EF553B",
          "size": [
           56.666666666666664
          ],
          "sizemode": "area",
          "sizeref": 0.14166666666666666,
          "symbol": "circle"
         },
         "mode": "markers",
         "name": "color=Japan",
         "showlegend": true,
         "type": "scatter",
         "x": [
          56.666666666666664
         ],
         "xaxis": "x",
         "y": [
          4.183333333333334
         ],
         "yaxis": "y"
        },
        {
         "hoverlabel": {
          "namelength": 0
         },
         "hovertemplate": "color=Lebanon<br>Quantity=%{marker.size}<br>UnitPrice=%{y}",
         "legendgroup": "color=Lebanon",
         "marker": {
          "color": "#00cc96",
          "size": [
           15
          ],
          "sizemode": "area",
          "sizeref": 0.14166666666666666,
          "symbol": "circle"
         },
         "mode": "markers",
         "name": "color=Lebanon",
         "showlegend": true,
         "type": "scatter",
         "x": [
          15
         ],
         "xaxis": "x",
         "y": [
          4.65
         ],
         "yaxis": "y"
        },
        {
         "hoverlabel": {
          "namelength": 0
         },
         "hovertemplate": "color=Netherlands<br>Quantity=%{marker.size}<br>UnitPrice=%{y}",
         "legendgroup": "color=Netherlands",
         "marker": {
          "color": "#ab63fa",
          "size": [
           50
          ],
          "sizemode": "area",
          "sizeref": 0.14166666666666666,
          "symbol": "circle"
         },
         "mode": "markers",
         "name": "color=Netherlands",
         "showlegend": true,
         "type": "scatter",
         "x": [
          50
         ],
         "xaxis": "x",
         "y": [
          4.15
         ],
         "yaxis": "y"
        },
        {
         "hoverlabel": {
          "namelength": 0
         },
         "hovertemplate": "color=Norway<br>Quantity=%{marker.size}<br>UnitPrice=%{y}",
         "legendgroup": "color=Norway",
         "marker": {
          "color": "#FFA15A",
          "size": [
           6
          ],
          "sizemode": "area",
          "sizeref": 0.14166666666666666,
          "symbol": "circle"
         },
         "mode": "markers",
         "name": "color=Norway",
         "showlegend": true,
         "type": "scatter",
         "x": [
          6
         ],
         "xaxis": "x",
         "y": [
          4.95
         ],
         "yaxis": "y"
        },
        {
         "hoverlabel": {
          "namelength": 0
         },
         "hovertemplate": "color=Singapore<br>Quantity=%{marker.size}<br>UnitPrice=%{y}",
         "legendgroup": "color=Singapore",
         "marker": {
          "color": "#19d3f3",
          "size": [
           8
          ],
          "sizemode": "area",
          "sizeref": 0.14166666666666666,
          "symbol": "circle"
         },
         "mode": "markers",
         "name": "color=Singapore",
         "showlegend": true,
         "type": "scatter",
         "x": [
          8
         ],
         "xaxis": "x",
         "y": [
          4.95
         ],
         "yaxis": "y"
        },
        {
         "hoverlabel": {
          "namelength": 0
         },
         "hovertemplate": "color=South Africa<br>Quantity=%{marker.size}<br>UnitPrice=%{y}",
         "legendgroup": "color=South Africa",
         "marker": {
          "color": "#FF6692",
          "size": [
           4
          ],
          "sizemode": "area",
          "sizeref": 0.14166666666666666,
          "symbol": "circle"
         },
         "mode": "markers",
         "name": "color=South Africa",
         "showlegend": true,
         "type": "scatter",
         "x": [
          4
         ],
         "xaxis": "x",
         "y": [
          4.95
         ],
         "yaxis": "y"
        },
        {
         "hoverlabel": {
          "namelength": 0
         },
         "hovertemplate": "color=Spain<br>Quantity=%{marker.size}<br>UnitPrice=%{y}",
         "legendgroup": "color=Spain",
         "marker": {
          "color": "#B6E880",
          "size": [
           4.75
          ],
          "sizemode": "area",
          "sizeref": 0.14166666666666666,
          "symbol": "circle"
         },
         "mode": "markers",
         "name": "color=Spain",
         "showlegend": true,
         "type": "scatter",
         "x": [
          4.75
         ],
         "xaxis": "x",
         "y": [
          4.8375
         ],
         "yaxis": "y"
        },
        {
         "hoverlabel": {
          "namelength": 0
         },
         "hovertemplate": "color=Switzerland<br>Quantity=%{marker.size}<br>UnitPrice=%{y}",
         "legendgroup": "color=Switzerland",
         "marker": {
          "color": "#FF97FF",
          "size": [
           17.2
          ],
          "sizemode": "area",
          "sizeref": 0.14166666666666666,
          "symbol": "circle"
         },
         "mode": "markers",
         "name": "color=Switzerland",
         "showlegend": true,
         "type": "scatter",
         "x": [
          17.2
         ],
         "xaxis": "x",
         "y": [
          4.79
         ],
         "yaxis": "y"
        },
        {
         "hoverlabel": {
          "namelength": 0
         },
         "hovertemplate": "color=United Kingdom<br>Quantity=%{marker.size}<br>UnitPrice=%{y}",
         "legendgroup": "color=United Kingdom",
         "marker": {
          "color": "#FECB52",
          "size": [
           10.705432287681713
          ],
          "sizemode": "area",
          "sizeref": 0.14166666666666666,
          "symbol": "circle"
         },
         "mode": "markers",
         "name": "color=United Kingdom",
         "showlegend": true,
         "type": "scatter",
         "x": [
          10.705432287681713
         ],
         "xaxis": "x",
         "y": [
          4.880925784238609
         ],
         "yaxis": "y"
        }
       ],
       "layout": {
        "legend": {
         "itemsizing": "constant",
         "tracegroupgap": 0
        },
        "margin": {
         "t": 60
        },
        "template": {
         "data": {
          "bar": [
           {
            "error_x": {
             "color": "#2a3f5f"
            },
            "error_y": {
             "color": "#2a3f5f"
            },
            "marker": {
             "line": {
              "color": "#E5ECF6",
              "width": 0.5
             }
            },
            "type": "bar"
           }
          ],
          "barpolar": [
           {
            "marker": {
             "line": {
              "color": "#E5ECF6",
              "width": 0.5
             }
            },
            "type": "barpolar"
           }
          ],
          "carpet": [
           {
            "aaxis": {
             "endlinecolor": "#2a3f5f",
             "gridcolor": "white",
             "linecolor": "white",
             "minorgridcolor": "white",
             "startlinecolor": "#2a3f5f"
            },
            "baxis": {
             "endlinecolor": "#2a3f5f",
             "gridcolor": "white",
             "linecolor": "white",
             "minorgridcolor": "white",
             "startlinecolor": "#2a3f5f"
            },
            "type": "carpet"
           }
          ],
          "choropleth": [
           {
            "colorbar": {
             "outlinewidth": 0,
             "ticks": ""
            },
            "type": "choropleth"
           }
          ],
          "contour": [
           {
            "colorbar": {
             "outlinewidth": 0,
             "ticks": ""
            },
            "colorscale": [
             [
              0,
              "#0d0887"
             ],
             [
              0.1111111111111111,
              "#46039f"
             ],
             [
              0.2222222222222222,
              "#7201a8"
             ],
             [
              0.3333333333333333,
              "#9c179e"
             ],
             [
              0.4444444444444444,
              "#bd3786"
             ],
             [
              0.5555555555555556,
              "#d8576b"
             ],
             [
              0.6666666666666666,
              "#ed7953"
             ],
             [
              0.7777777777777778,
              "#fb9f3a"
             ],
             [
              0.8888888888888888,
              "#fdca26"
             ],
             [
              1,
              "#f0f921"
             ]
            ],
            "type": "contour"
           }
          ],
          "contourcarpet": [
           {
            "colorbar": {
             "outlinewidth": 0,
             "ticks": ""
            },
            "type": "contourcarpet"
           }
          ],
          "heatmap": [
           {
            "colorbar": {
             "outlinewidth": 0,
             "ticks": ""
            },
            "colorscale": [
             [
              0,
              "#0d0887"
             ],
             [
              0.1111111111111111,
              "#46039f"
             ],
             [
              0.2222222222222222,
              "#7201a8"
             ],
             [
              0.3333333333333333,
              "#9c179e"
             ],
             [
              0.4444444444444444,
              "#bd3786"
             ],
             [
              0.5555555555555556,
              "#d8576b"
             ],
             [
              0.6666666666666666,
              "#ed7953"
             ],
             [
              0.7777777777777778,
              "#fb9f3a"
             ],
             [
              0.8888888888888888,
              "#fdca26"
             ],
             [
              1,
              "#f0f921"
             ]
            ],
            "type": "heatmap"
           }
          ],
          "heatmapgl": [
           {
            "colorbar": {
             "outlinewidth": 0,
             "ticks": ""
            },
            "colorscale": [
             [
              0,
              "#0d0887"
             ],
             [
              0.1111111111111111,
              "#46039f"
             ],
             [
              0.2222222222222222,
              "#7201a8"
             ],
             [
              0.3333333333333333,
              "#9c179e"
             ],
             [
              0.4444444444444444,
              "#bd3786"
             ],
             [
              0.5555555555555556,
              "#d8576b"
             ],
             [
              0.6666666666666666,
              "#ed7953"
             ],
             [
              0.7777777777777778,
              "#fb9f3a"
             ],
             [
              0.8888888888888888,
              "#fdca26"
             ],
             [
              1,
              "#f0f921"
             ]
            ],
            "type": "heatmapgl"
           }
          ],
          "histogram": [
           {
            "marker": {
             "colorbar": {
              "outlinewidth": 0,
              "ticks": ""
             }
            },
            "type": "histogram"
           }
          ],
          "histogram2d": [
           {
            "colorbar": {
             "outlinewidth": 0,
             "ticks": ""
            },
            "colorscale": [
             [
              0,
              "#0d0887"
             ],
             [
              0.1111111111111111,
              "#46039f"
             ],
             [
              0.2222222222222222,
              "#7201a8"
             ],
             [
              0.3333333333333333,
              "#9c179e"
             ],
             [
              0.4444444444444444,
              "#bd3786"
             ],
             [
              0.5555555555555556,
              "#d8576b"
             ],
             [
              0.6666666666666666,
              "#ed7953"
             ],
             [
              0.7777777777777778,
              "#fb9f3a"
             ],
             [
              0.8888888888888888,
              "#fdca26"
             ],
             [
              1,
              "#f0f921"
             ]
            ],
            "type": "histogram2d"
           }
          ],
          "histogram2dcontour": [
           {
            "colorbar": {
             "outlinewidth": 0,
             "ticks": ""
            },
            "colorscale": [
             [
              0,
              "#0d0887"
             ],
             [
              0.1111111111111111,
              "#46039f"
             ],
             [
              0.2222222222222222,
              "#7201a8"
             ],
             [
              0.3333333333333333,
              "#9c179e"
             ],
             [
              0.4444444444444444,
              "#bd3786"
             ],
             [
              0.5555555555555556,
              "#d8576b"
             ],
             [
              0.6666666666666666,
              "#ed7953"
             ],
             [
              0.7777777777777778,
              "#fb9f3a"
             ],
             [
              0.8888888888888888,
              "#fdca26"
             ],
             [
              1,
              "#f0f921"
             ]
            ],
            "type": "histogram2dcontour"
           }
          ],
          "mesh3d": [
           {
            "colorbar": {
             "outlinewidth": 0,
             "ticks": ""
            },
            "type": "mesh3d"
           }
          ],
          "parcoords": [
           {
            "line": {
             "colorbar": {
              "outlinewidth": 0,
              "ticks": ""
             }
            },
            "type": "parcoords"
           }
          ],
          "pie": [
           {
            "automargin": true,
            "type": "pie"
           }
          ],
          "scatter": [
           {
            "marker": {
             "colorbar": {
              "outlinewidth": 0,
              "ticks": ""
             }
            },
            "type": "scatter"
           }
          ],
          "scatter3d": [
           {
            "line": {
             "colorbar": {
              "outlinewidth": 0,
              "ticks": ""
             }
            },
            "marker": {
             "colorbar": {
              "outlinewidth": 0,
              "ticks": ""
             }
            },
            "type": "scatter3d"
           }
          ],
          "scattercarpet": [
           {
            "marker": {
             "colorbar": {
              "outlinewidth": 0,
              "ticks": ""
             }
            },
            "type": "scattercarpet"
           }
          ],
          "scattergeo": [
           {
            "marker": {
             "colorbar": {
              "outlinewidth": 0,
              "ticks": ""
             }
            },
            "type": "scattergeo"
           }
          ],
          "scattergl": [
           {
            "marker": {
             "colorbar": {
              "outlinewidth": 0,
              "ticks": ""
             }
            },
            "type": "scattergl"
           }
          ],
          "scattermapbox": [
           {
            "marker": {
             "colorbar": {
              "outlinewidth": 0,
              "ticks": ""
             }
            },
            "type": "scattermapbox"
           }
          ],
          "scatterpolar": [
           {
            "marker": {
             "colorbar": {
              "outlinewidth": 0,
              "ticks": ""
             }
            },
            "type": "scatterpolar"
           }
          ],
          "scatterpolargl": [
           {
            "marker": {
             "colorbar": {
              "outlinewidth": 0,
              "ticks": ""
             }
            },
            "type": "scatterpolargl"
           }
          ],
          "scatterternary": [
           {
            "marker": {
             "colorbar": {
              "outlinewidth": 0,
              "ticks": ""
             }
            },
            "type": "scatterternary"
           }
          ],
          "surface": [
           {
            "colorbar": {
             "outlinewidth": 0,
             "ticks": ""
            },
            "colorscale": [
             [
              0,
              "#0d0887"
             ],
             [
              0.1111111111111111,
              "#46039f"
             ],
             [
              0.2222222222222222,
              "#7201a8"
             ],
             [
              0.3333333333333333,
              "#9c179e"
             ],
             [
              0.4444444444444444,
              "#bd3786"
             ],
             [
              0.5555555555555556,
              "#d8576b"
             ],
             [
              0.6666666666666666,
              "#ed7953"
             ],
             [
              0.7777777777777778,
              "#fb9f3a"
             ],
             [
              0.8888888888888888,
              "#fdca26"
             ],
             [
              1,
              "#f0f921"
             ]
            ],
            "type": "surface"
           }
          ],
          "table": [
           {
            "cells": {
             "fill": {
              "color": "#EBF0F8"
             },
             "line": {
              "color": "white"
             }
            },
            "header": {
             "fill": {
              "color": "#C8D4E3"
             },
             "line": {
              "color": "white"
             }
            },
            "type": "table"
           }
          ]
         },
         "layout": {
          "annotationdefaults": {
           "arrowcolor": "#2a3f5f",
           "arrowhead": 0,
           "arrowwidth": 1
          },
          "coloraxis": {
           "colorbar": {
            "outlinewidth": 0,
            "ticks": ""
           }
          },
          "colorscale": {
           "diverging": [
            [
             0,
             "#8e0152"
            ],
            [
             0.1,
             "#c51b7d"
            ],
            [
             0.2,
             "#de77ae"
            ],
            [
             0.3,
             "#f1b6da"
            ],
            [
             0.4,
             "#fde0ef"
            ],
            [
             0.5,
             "#f7f7f7"
            ],
            [
             0.6,
             "#e6f5d0"
            ],
            [
             0.7,
             "#b8e186"
            ],
            [
             0.8,
             "#7fbc41"
            ],
            [
             0.9,
             "#4d9221"
            ],
            [
             1,
             "#276419"
            ]
           ],
           "sequential": [
            [
             0,
             "#0d0887"
            ],
            [
             0.1111111111111111,
             "#46039f"
            ],
            [
             0.2222222222222222,
             "#7201a8"
            ],
            [
             0.3333333333333333,
             "#9c179e"
            ],
            [
             0.4444444444444444,
             "#bd3786"
            ],
            [
             0.5555555555555556,
             "#d8576b"
            ],
            [
             0.6666666666666666,
             "#ed7953"
            ],
            [
             0.7777777777777778,
             "#fb9f3a"
            ],
            [
             0.8888888888888888,
             "#fdca26"
            ],
            [
             1,
             "#f0f921"
            ]
           ],
           "sequentialminus": [
            [
             0,
             "#0d0887"
            ],
            [
             0.1111111111111111,
             "#46039f"
            ],
            [
             0.2222222222222222,
             "#7201a8"
            ],
            [
             0.3333333333333333,
             "#9c179e"
            ],
            [
             0.4444444444444444,
             "#bd3786"
            ],
            [
             0.5555555555555556,
             "#d8576b"
            ],
            [
             0.6666666666666666,
             "#ed7953"
            ],
            [
             0.7777777777777778,
             "#fb9f3a"
            ],
            [
             0.8888888888888888,
             "#fdca26"
            ],
            [
             1,
             "#f0f921"
            ]
           ]
          },
          "colorway": [
           "#636efa",
           "#EF553B",
           "#00cc96",
           "#ab63fa",
           "#FFA15A",
           "#19d3f3",
           "#FF6692",
           "#B6E880",
           "#FF97FF",
           "#FECB52"
          ],
          "font": {
           "color": "#2a3f5f"
          },
          "geo": {
           "bgcolor": "white",
           "lakecolor": "white",
           "landcolor": "#E5ECF6",
           "showlakes": true,
           "showland": true,
           "subunitcolor": "white"
          },
          "hoverlabel": {
           "align": "left"
          },
          "hovermode": "closest",
          "mapbox": {
           "style": "light"
          },
          "paper_bgcolor": "white",
          "plot_bgcolor": "#E5ECF6",
          "polar": {
           "angularaxis": {
            "gridcolor": "white",
            "linecolor": "white",
            "ticks": ""
           },
           "bgcolor": "#E5ECF6",
           "radialaxis": {
            "gridcolor": "white",
            "linecolor": "white",
            "ticks": ""
           }
          },
          "scene": {
           "xaxis": {
            "backgroundcolor": "#E5ECF6",
            "gridcolor": "white",
            "gridwidth": 2,
            "linecolor": "white",
            "showbackground": true,
            "ticks": "",
            "zerolinecolor": "white"
           },
           "yaxis": {
            "backgroundcolor": "#E5ECF6",
            "gridcolor": "white",
            "gridwidth": 2,
            "linecolor": "white",
            "showbackground": true,
            "ticks": "",
            "zerolinecolor": "white"
           },
           "zaxis": {
            "backgroundcolor": "#E5ECF6",
            "gridcolor": "white",
            "gridwidth": 2,
            "linecolor": "white",
            "showbackground": true,
            "ticks": "",
            "zerolinecolor": "white"
           }
          },
          "shapedefaults": {
           "line": {
            "color": "#2a3f5f"
           }
          },
          "ternary": {
           "aaxis": {
            "gridcolor": "white",
            "linecolor": "white",
            "ticks": ""
           },
           "baxis": {
            "gridcolor": "white",
            "linecolor": "white",
            "ticks": ""
           },
           "bgcolor": "#E5ECF6",
           "caxis": {
            "gridcolor": "white",
            "linecolor": "white",
            "ticks": ""
           }
          },
          "title": {
           "x": 0.05
          },
          "xaxis": {
           "automargin": true,
           "gridcolor": "white",
           "linecolor": "white",
           "ticks": "",
           "title": {
            "standoff": 15
           },
           "zerolinecolor": "white",
           "zerolinewidth": 2
          },
          "yaxis": {
           "automargin": true,
           "gridcolor": "white",
           "linecolor": "white",
           "ticks": "",
           "title": {
            "standoff": 15
           },
           "zerolinecolor": "white",
           "zerolinewidth": 2
          }
         }
        },
        "xaxis": {
         "anchor": "y",
         "domain": [
          0,
          1
         ],
         "title": {
          "text": "Quantity"
         }
        },
        "yaxis": {
         "anchor": "x",
         "domain": [
          0,
          1
         ],
         "title": {
          "text": "UnitPrice"
         }
        }
       }
      },
      "text/html": [
       "<div>\n",
       "        \n",
       "        \n",
       "            <div id=\"8d10ef49-61a4-4d63-bd18-afe81da58a06\" class=\"plotly-graph-div\" style=\"height:525px; width:100%;\"></div>\n",
       "            <script type=\"text/javascript\">\n",
       "                require([\"plotly\"], function(Plotly) {\n",
       "                    window.PLOTLYENV=window.PLOTLYENV || {};\n",
       "                    \n",
       "                if (document.getElementById(\"8d10ef49-61a4-4d63-bd18-afe81da58a06\")) {\n",
       "                    Plotly.newPlot(\n",
       "                        '8d10ef49-61a4-4d63-bd18-afe81da58a06',\n",
       "                        [{\"hoverlabel\": {\"namelength\": 0}, \"hovertemplate\": \"color=Australia<br>Quantity=%{marker.size}<br>UnitPrice=%{y}\", \"legendgroup\": \"color=Australia\", \"marker\": {\"color\": \"#636efa\", \"size\": [33.125], \"sizemode\": \"area\", \"sizeref\": 0.14166666666666666, \"symbol\": \"circle\"}, \"mode\": \"markers\", \"name\": \"color=Australia\", \"showlegend\": true, \"type\": \"scatter\", \"x\": [33.125], \"xaxis\": \"x\", \"y\": [4.7125], \"yaxis\": \"y\"}, {\"hoverlabel\": {\"namelength\": 0}, \"hovertemplate\": \"color=Austria<br>Quantity=%{marker.size}<br>UnitPrice=%{y}\", \"legendgroup\": \"color=Austria\", \"marker\": {\"color\": \"#EF553B\", \"size\": [8.0], \"sizemode\": \"area\", \"sizeref\": 0.14166666666666666, \"symbol\": \"circle\"}, \"mode\": \"markers\", \"name\": \"color=Austria\", \"showlegend\": true, \"type\": \"scatter\", \"x\": [8.0], \"xaxis\": \"x\", \"y\": [4.95], \"yaxis\": \"y\"}, {\"hoverlabel\": {\"namelength\": 0}, \"hovertemplate\": \"color=Belgium<br>Quantity=%{marker.size}<br>UnitPrice=%{y}\", \"legendgroup\": \"color=Belgium\", \"marker\": {\"color\": \"#00cc96\", \"size\": [4.0], \"sizemode\": \"area\", \"sizeref\": 0.14166666666666666, \"symbol\": \"circle\"}, \"mode\": \"markers\", \"name\": \"color=Belgium\", \"showlegend\": true, \"type\": \"scatter\", \"x\": [4.0], \"xaxis\": \"x\", \"y\": [4.95], \"yaxis\": \"y\"}, {\"hoverlabel\": {\"namelength\": 0}, \"hovertemplate\": \"color=Channel Islands<br>Quantity=%{marker.size}<br>UnitPrice=%{y}\", \"legendgroup\": \"color=Channel Islands\", \"marker\": {\"color\": \"#ab63fa\", \"size\": [13.333333333333334], \"sizemode\": \"area\", \"sizeref\": 0.14166666666666666, \"symbol\": \"circle\"}, \"mode\": \"markers\", \"name\": \"color=Channel Islands\", \"showlegend\": true, \"type\": \"scatter\", \"x\": [13.333333333333334], \"xaxis\": \"x\", \"y\": [4.95], \"yaxis\": \"y\"}, {\"hoverlabel\": {\"namelength\": 0}, \"hovertemplate\": \"color=Cyprus<br>Quantity=%{marker.size}<br>UnitPrice=%{y}\", \"legendgroup\": \"color=Cyprus\", \"marker\": {\"color\": \"#FFA15A\", \"size\": [2.3333333333333335], \"sizemode\": \"area\", \"sizeref\": 0.14166666666666666, \"symbol\": \"circle\"}, \"mode\": \"markers\", \"name\": \"color=Cyprus\", \"showlegend\": true, \"type\": \"scatter\", \"x\": [2.3333333333333335], \"xaxis\": \"x\", \"y\": [4.75], \"yaxis\": \"y\"}, {\"hoverlabel\": {\"namelength\": 0}, \"hovertemplate\": \"color=Denmark<br>Quantity=%{marker.size}<br>UnitPrice=%{y}\", \"legendgroup\": \"color=Denmark\", \"marker\": {\"color\": \"#19d3f3\", \"size\": [12.0], \"sizemode\": \"area\", \"sizeref\": 0.14166666666666666, \"symbol\": \"circle\"}, \"mode\": \"markers\", \"name\": \"color=Denmark\", \"showlegend\": true, \"type\": \"scatter\", \"x\": [12.0], \"xaxis\": \"x\", \"y\": [4.95], \"yaxis\": \"y\"}, {\"hoverlabel\": {\"namelength\": 0}, \"hovertemplate\": \"color=EIRE<br>Quantity=%{marker.size}<br>UnitPrice=%{y}\", \"legendgroup\": \"color=EIRE\", \"marker\": {\"color\": \"#FF6692\", \"size\": [21.210526315789473], \"sizemode\": \"area\", \"sizeref\": 0.14166666666666666, \"symbol\": \"circle\"}, \"mode\": \"markers\", \"name\": \"color=EIRE\", \"showlegend\": true, \"type\": \"scatter\", \"x\": [21.210526315789473], \"xaxis\": \"x\", \"y\": [4.739473684210528], \"yaxis\": \"y\"}, {\"hoverlabel\": {\"namelength\": 0}, \"hovertemplate\": \"color=Finland<br>Quantity=%{marker.size}<br>UnitPrice=%{y}\", \"legendgroup\": \"color=Finland\", \"marker\": {\"color\": \"#B6E880\", \"size\": [6.0], \"sizemode\": \"area\", \"sizeref\": 0.14166666666666666, \"symbol\": \"circle\"}, \"mode\": \"markers\", \"name\": \"color=Finland\", \"showlegend\": true, \"type\": \"scatter\", \"x\": [6.0], \"xaxis\": \"x\", \"y\": [4.95], \"yaxis\": \"y\"}, {\"hoverlabel\": {\"namelength\": 0}, \"hovertemplate\": \"color=France<br>Quantity=%{marker.size}<br>UnitPrice=%{y}\", \"legendgroup\": \"color=France\", \"marker\": {\"color\": \"#FF97FF\", \"size\": [5.7272727272727275], \"sizemode\": \"area\", \"sizeref\": 0.14166666666666666, \"symbol\": \"circle\"}, \"mode\": \"markers\", \"name\": \"color=France\", \"showlegend\": true, \"type\": \"scatter\", \"x\": [5.7272727272727275], \"xaxis\": \"x\", \"y\": [4.922727272727275], \"yaxis\": \"y\"}, {\"hoverlabel\": {\"namelength\": 0}, \"hovertemplate\": \"color=Germany<br>Quantity=%{marker.size}<br>UnitPrice=%{y}\", \"legendgroup\": \"color=Germany\", \"marker\": {\"color\": \"#FECB52\", \"size\": [6.8], \"sizemode\": \"area\", \"sizeref\": 0.14166666666666666, \"symbol\": \"circle\"}, \"mode\": \"markers\", \"name\": \"color=Germany\", \"showlegend\": true, \"type\": \"scatter\", \"x\": [6.8], \"xaxis\": \"x\", \"y\": [4.89], \"yaxis\": \"y\"}, {\"hoverlabel\": {\"namelength\": 0}, \"hovertemplate\": \"color=Israel<br>Quantity=%{marker.size}<br>UnitPrice=%{y}\", \"legendgroup\": \"color=Israel\", \"marker\": {\"color\": \"#636efa\", \"size\": [1.0], \"sizemode\": \"area\", \"sizeref\": 0.14166666666666666, \"symbol\": \"circle\"}, \"mode\": \"markers\", \"name\": \"color=Israel\", \"showlegend\": true, \"type\": \"scatter\", \"x\": [1.0], \"xaxis\": \"x\", \"y\": [4.95], \"yaxis\": \"y\"}, {\"hoverlabel\": {\"namelength\": 0}, \"hovertemplate\": \"color=Japan<br>Quantity=%{marker.size}<br>UnitPrice=%{y}\", \"legendgroup\": \"color=Japan\", \"marker\": {\"color\": \"#EF553B\", \"size\": [56.666666666666664], \"sizemode\": \"area\", \"sizeref\": 0.14166666666666666, \"symbol\": \"circle\"}, \"mode\": \"markers\", \"name\": \"color=Japan\", \"showlegend\": true, \"type\": \"scatter\", \"x\": [56.666666666666664], \"xaxis\": \"x\", \"y\": [4.183333333333334], \"yaxis\": \"y\"}, {\"hoverlabel\": {\"namelength\": 0}, \"hovertemplate\": \"color=Lebanon<br>Quantity=%{marker.size}<br>UnitPrice=%{y}\", \"legendgroup\": \"color=Lebanon\", \"marker\": {\"color\": \"#00cc96\", \"size\": [15.0], \"sizemode\": \"area\", \"sizeref\": 0.14166666666666666, \"symbol\": \"circle\"}, \"mode\": \"markers\", \"name\": \"color=Lebanon\", \"showlegend\": true, \"type\": \"scatter\", \"x\": [15.0], \"xaxis\": \"x\", \"y\": [4.65], \"yaxis\": \"y\"}, {\"hoverlabel\": {\"namelength\": 0}, \"hovertemplate\": \"color=Netherlands<br>Quantity=%{marker.size}<br>UnitPrice=%{y}\", \"legendgroup\": \"color=Netherlands\", \"marker\": {\"color\": \"#ab63fa\", \"size\": [50.0], \"sizemode\": \"area\", \"sizeref\": 0.14166666666666666, \"symbol\": \"circle\"}, \"mode\": \"markers\", \"name\": \"color=Netherlands\", \"showlegend\": true, \"type\": \"scatter\", \"x\": [50.0], \"xaxis\": \"x\", \"y\": [4.15], \"yaxis\": \"y\"}, {\"hoverlabel\": {\"namelength\": 0}, \"hovertemplate\": \"color=Norway<br>Quantity=%{marker.size}<br>UnitPrice=%{y}\", \"legendgroup\": \"color=Norway\", \"marker\": {\"color\": \"#FFA15A\", \"size\": [6.0], \"sizemode\": \"area\", \"sizeref\": 0.14166666666666666, \"symbol\": \"circle\"}, \"mode\": \"markers\", \"name\": \"color=Norway\", \"showlegend\": true, \"type\": \"scatter\", \"x\": [6.0], \"xaxis\": \"x\", \"y\": [4.95], \"yaxis\": \"y\"}, {\"hoverlabel\": {\"namelength\": 0}, \"hovertemplate\": \"color=Singapore<br>Quantity=%{marker.size}<br>UnitPrice=%{y}\", \"legendgroup\": \"color=Singapore\", \"marker\": {\"color\": \"#19d3f3\", \"size\": [8.0], \"sizemode\": \"area\", \"sizeref\": 0.14166666666666666, \"symbol\": \"circle\"}, \"mode\": \"markers\", \"name\": \"color=Singapore\", \"showlegend\": true, \"type\": \"scatter\", \"x\": [8.0], \"xaxis\": \"x\", \"y\": [4.95], \"yaxis\": \"y\"}, {\"hoverlabel\": {\"namelength\": 0}, \"hovertemplate\": \"color=South Africa<br>Quantity=%{marker.size}<br>UnitPrice=%{y}\", \"legendgroup\": \"color=South Africa\", \"marker\": {\"color\": \"#FF6692\", \"size\": [4.0], \"sizemode\": \"area\", \"sizeref\": 0.14166666666666666, \"symbol\": \"circle\"}, \"mode\": \"markers\", \"name\": \"color=South Africa\", \"showlegend\": true, \"type\": \"scatter\", \"x\": [4.0], \"xaxis\": \"x\", \"y\": [4.95], \"yaxis\": \"y\"}, {\"hoverlabel\": {\"namelength\": 0}, \"hovertemplate\": \"color=Spain<br>Quantity=%{marker.size}<br>UnitPrice=%{y}\", \"legendgroup\": \"color=Spain\", \"marker\": {\"color\": \"#B6E880\", \"size\": [4.75], \"sizemode\": \"area\", \"sizeref\": 0.14166666666666666, \"symbol\": \"circle\"}, \"mode\": \"markers\", \"name\": \"color=Spain\", \"showlegend\": true, \"type\": \"scatter\", \"x\": [4.75], \"xaxis\": \"x\", \"y\": [4.8375], \"yaxis\": \"y\"}, {\"hoverlabel\": {\"namelength\": 0}, \"hovertemplate\": \"color=Switzerland<br>Quantity=%{marker.size}<br>UnitPrice=%{y}\", \"legendgroup\": \"color=Switzerland\", \"marker\": {\"color\": \"#FF97FF\", \"size\": [17.2], \"sizemode\": \"area\", \"sizeref\": 0.14166666666666666, \"symbol\": \"circle\"}, \"mode\": \"markers\", \"name\": \"color=Switzerland\", \"showlegend\": true, \"type\": \"scatter\", \"x\": [17.2], \"xaxis\": \"x\", \"y\": [4.79], \"yaxis\": \"y\"}, {\"hoverlabel\": {\"namelength\": 0}, \"hovertemplate\": \"color=United Kingdom<br>Quantity=%{marker.size}<br>UnitPrice=%{y}\", \"legendgroup\": \"color=United Kingdom\", \"marker\": {\"color\": \"#FECB52\", \"size\": [10.705432287681713], \"sizemode\": \"area\", \"sizeref\": 0.14166666666666666, \"symbol\": \"circle\"}, \"mode\": \"markers\", \"name\": \"color=United Kingdom\", \"showlegend\": true, \"type\": \"scatter\", \"x\": [10.705432287681713], \"xaxis\": \"x\", \"y\": [4.880925784238609], \"yaxis\": \"y\"}],\n",
       "                        {\"legend\": {\"itemsizing\": \"constant\", \"tracegroupgap\": 0}, \"margin\": {\"t\": 60}, \"template\": {\"data\": {\"bar\": [{\"error_x\": {\"color\": \"#2a3f5f\"}, \"error_y\": {\"color\": \"#2a3f5f\"}, \"marker\": {\"line\": {\"color\": \"#E5ECF6\", \"width\": 0.5}}, \"type\": \"bar\"}], \"barpolar\": [{\"marker\": {\"line\": {\"color\": \"#E5ECF6\", \"width\": 0.5}}, \"type\": \"barpolar\"}], \"carpet\": [{\"aaxis\": {\"endlinecolor\": \"#2a3f5f\", \"gridcolor\": \"white\", \"linecolor\": \"white\", \"minorgridcolor\": \"white\", \"startlinecolor\": \"#2a3f5f\"}, \"baxis\": {\"endlinecolor\": \"#2a3f5f\", \"gridcolor\": \"white\", \"linecolor\": \"white\", \"minorgridcolor\": \"white\", \"startlinecolor\": \"#2a3f5f\"}, \"type\": \"carpet\"}], \"choropleth\": [{\"colorbar\": {\"outlinewidth\": 0, \"ticks\": \"\"}, \"type\": \"choropleth\"}], \"contour\": [{\"colorbar\": {\"outlinewidth\": 0, \"ticks\": \"\"}, \"colorscale\": [[0.0, \"#0d0887\"], [0.1111111111111111, \"#46039f\"], [0.2222222222222222, \"#7201a8\"], [0.3333333333333333, \"#9c179e\"], [0.4444444444444444, \"#bd3786\"], [0.5555555555555556, \"#d8576b\"], [0.6666666666666666, \"#ed7953\"], [0.7777777777777778, \"#fb9f3a\"], [0.8888888888888888, \"#fdca26\"], [1.0, \"#f0f921\"]], \"type\": \"contour\"}], \"contourcarpet\": [{\"colorbar\": {\"outlinewidth\": 0, \"ticks\": \"\"}, \"type\": \"contourcarpet\"}], \"heatmap\": [{\"colorbar\": {\"outlinewidth\": 0, \"ticks\": \"\"}, \"colorscale\": [[0.0, \"#0d0887\"], [0.1111111111111111, \"#46039f\"], [0.2222222222222222, \"#7201a8\"], [0.3333333333333333, \"#9c179e\"], [0.4444444444444444, \"#bd3786\"], [0.5555555555555556, \"#d8576b\"], [0.6666666666666666, \"#ed7953\"], [0.7777777777777778, \"#fb9f3a\"], [0.8888888888888888, \"#fdca26\"], [1.0, \"#f0f921\"]], \"type\": \"heatmap\"}], \"heatmapgl\": [{\"colorbar\": {\"outlinewidth\": 0, \"ticks\": \"\"}, \"colorscale\": [[0.0, \"#0d0887\"], [0.1111111111111111, \"#46039f\"], [0.2222222222222222, \"#7201a8\"], [0.3333333333333333, \"#9c179e\"], [0.4444444444444444, \"#bd3786\"], [0.5555555555555556, \"#d8576b\"], [0.6666666666666666, \"#ed7953\"], [0.7777777777777778, \"#fb9f3a\"], [0.8888888888888888, \"#fdca26\"], [1.0, \"#f0f921\"]], \"type\": \"heatmapgl\"}], \"histogram\": [{\"marker\": {\"colorbar\": {\"outlinewidth\": 0, \"ticks\": \"\"}}, \"type\": \"histogram\"}], \"histogram2d\": [{\"colorbar\": {\"outlinewidth\": 0, \"ticks\": \"\"}, \"colorscale\": [[0.0, \"#0d0887\"], [0.1111111111111111, \"#46039f\"], [0.2222222222222222, \"#7201a8\"], [0.3333333333333333, \"#9c179e\"], [0.4444444444444444, \"#bd3786\"], [0.5555555555555556, \"#d8576b\"], [0.6666666666666666, \"#ed7953\"], [0.7777777777777778, \"#fb9f3a\"], [0.8888888888888888, \"#fdca26\"], [1.0, \"#f0f921\"]], \"type\": \"histogram2d\"}], \"histogram2dcontour\": [{\"colorbar\": {\"outlinewidth\": 0, \"ticks\": \"\"}, \"colorscale\": [[0.0, \"#0d0887\"], [0.1111111111111111, \"#46039f\"], [0.2222222222222222, \"#7201a8\"], [0.3333333333333333, \"#9c179e\"], [0.4444444444444444, \"#bd3786\"], [0.5555555555555556, \"#d8576b\"], [0.6666666666666666, \"#ed7953\"], [0.7777777777777778, \"#fb9f3a\"], [0.8888888888888888, \"#fdca26\"], [1.0, \"#f0f921\"]], \"type\": \"histogram2dcontour\"}], \"mesh3d\": [{\"colorbar\": {\"outlinewidth\": 0, \"ticks\": \"\"}, \"type\": \"mesh3d\"}], \"parcoords\": [{\"line\": {\"colorbar\": {\"outlinewidth\": 0, \"ticks\": \"\"}}, \"type\": \"parcoords\"}], \"pie\": [{\"automargin\": true, \"type\": \"pie\"}], \"scatter\": [{\"marker\": {\"colorbar\": {\"outlinewidth\": 0, \"ticks\": \"\"}}, \"type\": \"scatter\"}], \"scatter3d\": [{\"line\": {\"colorbar\": {\"outlinewidth\": 0, \"ticks\": \"\"}}, \"marker\": {\"colorbar\": {\"outlinewidth\": 0, \"ticks\": \"\"}}, \"type\": \"scatter3d\"}], \"scattercarpet\": [{\"marker\": {\"colorbar\": {\"outlinewidth\": 0, \"ticks\": \"\"}}, \"type\": \"scattercarpet\"}], \"scattergeo\": [{\"marker\": {\"colorbar\": {\"outlinewidth\": 0, \"ticks\": \"\"}}, \"type\": \"scattergeo\"}], \"scattergl\": [{\"marker\": {\"colorbar\": {\"outlinewidth\": 0, \"ticks\": \"\"}}, \"type\": \"scattergl\"}], \"scattermapbox\": [{\"marker\": {\"colorbar\": {\"outlinewidth\": 0, \"ticks\": \"\"}}, \"type\": \"scattermapbox\"}], \"scatterpolar\": [{\"marker\": {\"colorbar\": {\"outlinewidth\": 0, \"ticks\": \"\"}}, \"type\": \"scatterpolar\"}], \"scatterpolargl\": [{\"marker\": {\"colorbar\": {\"outlinewidth\": 0, \"ticks\": \"\"}}, \"type\": \"scatterpolargl\"}], \"scatterternary\": [{\"marker\": {\"colorbar\": {\"outlinewidth\": 0, \"ticks\": \"\"}}, \"type\": \"scatterternary\"}], \"surface\": [{\"colorbar\": {\"outlinewidth\": 0, \"ticks\": \"\"}, \"colorscale\": [[0.0, \"#0d0887\"], [0.1111111111111111, \"#46039f\"], [0.2222222222222222, \"#7201a8\"], [0.3333333333333333, \"#9c179e\"], [0.4444444444444444, \"#bd3786\"], [0.5555555555555556, \"#d8576b\"], [0.6666666666666666, \"#ed7953\"], [0.7777777777777778, \"#fb9f3a\"], [0.8888888888888888, \"#fdca26\"], [1.0, \"#f0f921\"]], \"type\": \"surface\"}], \"table\": [{\"cells\": {\"fill\": {\"color\": \"#EBF0F8\"}, \"line\": {\"color\": \"white\"}}, \"header\": {\"fill\": {\"color\": \"#C8D4E3\"}, \"line\": {\"color\": \"white\"}}, \"type\": \"table\"}]}, \"layout\": {\"annotationdefaults\": {\"arrowcolor\": \"#2a3f5f\", \"arrowhead\": 0, \"arrowwidth\": 1}, \"coloraxis\": {\"colorbar\": {\"outlinewidth\": 0, \"ticks\": \"\"}}, \"colorscale\": {\"diverging\": [[0, \"#8e0152\"], [0.1, \"#c51b7d\"], [0.2, \"#de77ae\"], [0.3, \"#f1b6da\"], [0.4, \"#fde0ef\"], [0.5, \"#f7f7f7\"], [0.6, \"#e6f5d0\"], [0.7, \"#b8e186\"], [0.8, \"#7fbc41\"], [0.9, \"#4d9221\"], [1, \"#276419\"]], \"sequential\": [[0.0, \"#0d0887\"], [0.1111111111111111, \"#46039f\"], [0.2222222222222222, \"#7201a8\"], [0.3333333333333333, \"#9c179e\"], [0.4444444444444444, \"#bd3786\"], [0.5555555555555556, \"#d8576b\"], [0.6666666666666666, \"#ed7953\"], [0.7777777777777778, \"#fb9f3a\"], [0.8888888888888888, \"#fdca26\"], [1.0, \"#f0f921\"]], \"sequentialminus\": [[0.0, \"#0d0887\"], [0.1111111111111111, \"#46039f\"], [0.2222222222222222, \"#7201a8\"], [0.3333333333333333, \"#9c179e\"], [0.4444444444444444, \"#bd3786\"], [0.5555555555555556, \"#d8576b\"], [0.6666666666666666, \"#ed7953\"], [0.7777777777777778, \"#fb9f3a\"], [0.8888888888888888, \"#fdca26\"], [1.0, \"#f0f921\"]]}, \"colorway\": [\"#636efa\", \"#EF553B\", \"#00cc96\", \"#ab63fa\", \"#FFA15A\", \"#19d3f3\", \"#FF6692\", \"#B6E880\", \"#FF97FF\", \"#FECB52\"], \"font\": {\"color\": \"#2a3f5f\"}, \"geo\": {\"bgcolor\": \"white\", \"lakecolor\": \"white\", \"landcolor\": \"#E5ECF6\", \"showlakes\": true, \"showland\": true, \"subunitcolor\": \"white\"}, \"hoverlabel\": {\"align\": \"left\"}, \"hovermode\": \"closest\", \"mapbox\": {\"style\": \"light\"}, \"paper_bgcolor\": \"white\", \"plot_bgcolor\": \"#E5ECF6\", \"polar\": {\"angularaxis\": {\"gridcolor\": \"white\", \"linecolor\": \"white\", \"ticks\": \"\"}, \"bgcolor\": \"#E5ECF6\", \"radialaxis\": {\"gridcolor\": \"white\", \"linecolor\": \"white\", \"ticks\": \"\"}}, \"scene\": {\"xaxis\": {\"backgroundcolor\": \"#E5ECF6\", \"gridcolor\": \"white\", \"gridwidth\": 2, \"linecolor\": \"white\", \"showbackground\": true, \"ticks\": \"\", \"zerolinecolor\": \"white\"}, \"yaxis\": {\"backgroundcolor\": \"#E5ECF6\", \"gridcolor\": \"white\", \"gridwidth\": 2, \"linecolor\": \"white\", \"showbackground\": true, \"ticks\": \"\", \"zerolinecolor\": \"white\"}, \"zaxis\": {\"backgroundcolor\": \"#E5ECF6\", \"gridcolor\": \"white\", \"gridwidth\": 2, \"linecolor\": \"white\", \"showbackground\": true, \"ticks\": \"\", \"zerolinecolor\": \"white\"}}, \"shapedefaults\": {\"line\": {\"color\": \"#2a3f5f\"}}, \"ternary\": {\"aaxis\": {\"gridcolor\": \"white\", \"linecolor\": \"white\", \"ticks\": \"\"}, \"baxis\": {\"gridcolor\": \"white\", \"linecolor\": \"white\", \"ticks\": \"\"}, \"bgcolor\": \"#E5ECF6\", \"caxis\": {\"gridcolor\": \"white\", \"linecolor\": \"white\", \"ticks\": \"\"}}, \"title\": {\"x\": 0.05}, \"xaxis\": {\"automargin\": true, \"gridcolor\": \"white\", \"linecolor\": \"white\", \"ticks\": \"\", \"title\": {\"standoff\": 15}, \"zerolinecolor\": \"white\", \"zerolinewidth\": 2}, \"yaxis\": {\"automargin\": true, \"gridcolor\": \"white\", \"linecolor\": \"white\", \"ticks\": \"\", \"title\": {\"standoff\": 15}, \"zerolinecolor\": \"white\", \"zerolinewidth\": 2}}}, \"xaxis\": {\"anchor\": \"y\", \"domain\": [0.0, 1.0], \"title\": {\"text\": \"Quantity\"}}, \"yaxis\": {\"anchor\": \"x\", \"domain\": [0.0, 1.0], \"title\": {\"text\": \"UnitPrice\"}}},\n",
       "                        {\"responsive\": true}\n",
       "                    ).then(function(){\n",
       "                            \n",
       "var gd = document.getElementById('8d10ef49-61a4-4d63-bd18-afe81da58a06');\n",
       "var x = new MutationObserver(function (mutations, observer) {{\n",
       "        var display = window.getComputedStyle(gd).display;\n",
       "        if (!display || display === 'none') {{\n",
       "            console.log([gd, 'removed!']);\n",
       "            Plotly.purge(gd);\n",
       "            observer.disconnect();\n",
       "        }}\n",
       "}});\n",
       "\n",
       "// Listen for the removal of the full notebook cells\n",
       "var notebookContainer = gd.closest('#notebook-container');\n",
       "if (notebookContainer) {{\n",
       "    x.observe(notebookContainer, {childList: true});\n",
       "}}\n",
       "\n",
       "// Listen for the clearing of the current output cell\n",
       "var outputEl = gd.closest('.output');\n",
       "if (outputEl) {{\n",
       "    x.observe(outputEl, {childList: true});\n",
       "}}\n",
       "\n",
       "                        })\n",
       "                };\n",
       "                });\n",
       "            </script>\n",
       "        </div>"
      ]
     },
     "metadata": {},
     "output_type": "display_data"
    }
   ],
   "source": [
    "fig = px.scatter(data3, x=data3.Quantity, y=data3.UnitPrice, color=data3.index , size=data3.Quantity)\n",
    "\n",
    "fig.show()"
   ]
  },
  {
   "cell_type": "markdown",
   "metadata": {},
   "source": [
    "## 4. Create a set of interactive histograms showing the distributions of quantity per invoice for the following countries: EIRE, Germany, France, and Netherlands."
   ]
  },
  {
   "cell_type": "code",
   "execution_count": 350,
   "metadata": {},
   "outputs": [],
   "source": [
    "data4 = data"
   ]
  },
  {
   "cell_type": "code",
   "execution_count": 351,
   "metadata": {},
   "outputs": [],
   "source": [
    "data4 = data4[(data4[\"Country\"] == \"EIRE\" ) | (data4[\"Country\"] == \"Germany\" ) | (data4[\"Country\"] == \"France\" ) | (data4[\"Country\"] == \"Netherlands\" ) ]"
   ]
  },
  {
   "cell_type": "code",
   "execution_count": 355,
   "metadata": {},
   "outputs": [
    {
     "data": {
      "text/html": [
       "<div>\n",
       "<style scoped>\n",
       "    .dataframe tbody tr th:only-of-type {\n",
       "        vertical-align: middle;\n",
       "    }\n",
       "\n",
       "    .dataframe tbody tr th {\n",
       "        vertical-align: top;\n",
       "    }\n",
       "\n",
       "    .dataframe thead th {\n",
       "        text-align: right;\n",
       "    }\n",
       "</style>\n",
       "<table border=\"1\" class=\"dataframe\">\n",
       "  <thead>\n",
       "    <tr style=\"text-align: right;\">\n",
       "      <th>Country</th>\n",
       "      <th>EIRE</th>\n",
       "      <th>France</th>\n",
       "      <th>Germany</th>\n",
       "      <th>Netherlands</th>\n",
       "    </tr>\n",
       "    <tr>\n",
       "      <th>InvoiceNo</th>\n",
       "      <th></th>\n",
       "      <th></th>\n",
       "      <th></th>\n",
       "      <th></th>\n",
       "    </tr>\n",
       "  </thead>\n",
       "  <tbody>\n",
       "    <tr>\n",
       "      <th>536370</th>\n",
       "      <td>NaN</td>\n",
       "      <td>446.0</td>\n",
       "      <td>NaN</td>\n",
       "      <td>NaN</td>\n",
       "    </tr>\n",
       "    <tr>\n",
       "      <th>536403</th>\n",
       "      <td>NaN</td>\n",
       "      <td>NaN</td>\n",
       "      <td>NaN</td>\n",
       "      <td>96.0</td>\n",
       "    </tr>\n",
       "    <tr>\n",
       "      <th>536527</th>\n",
       "      <td>NaN</td>\n",
       "      <td>NaN</td>\n",
       "      <td>156.0</td>\n",
       "      <td>NaN</td>\n",
       "    </tr>\n",
       "    <tr>\n",
       "      <th>536540</th>\n",
       "      <td>230.0</td>\n",
       "      <td>NaN</td>\n",
       "      <td>NaN</td>\n",
       "      <td>NaN</td>\n",
       "    </tr>\n",
       "    <tr>\n",
       "      <th>536541</th>\n",
       "      <td>12.0</td>\n",
       "      <td>NaN</td>\n",
       "      <td>NaN</td>\n",
       "      <td>NaN</td>\n",
       "    </tr>\n",
       "    <tr>\n",
       "      <th>...</th>\n",
       "      <td>...</td>\n",
       "      <td>...</td>\n",
       "      <td>...</td>\n",
       "      <td>...</td>\n",
       "    </tr>\n",
       "    <tr>\n",
       "      <th>581494</th>\n",
       "      <td>NaN</td>\n",
       "      <td>NaN</td>\n",
       "      <td>186.0</td>\n",
       "      <td>NaN</td>\n",
       "    </tr>\n",
       "    <tr>\n",
       "      <th>581570</th>\n",
       "      <td>NaN</td>\n",
       "      <td>NaN</td>\n",
       "      <td>95.0</td>\n",
       "      <td>NaN</td>\n",
       "    </tr>\n",
       "    <tr>\n",
       "      <th>581574</th>\n",
       "      <td>NaN</td>\n",
       "      <td>NaN</td>\n",
       "      <td>86.0</td>\n",
       "      <td>NaN</td>\n",
       "    </tr>\n",
       "    <tr>\n",
       "      <th>581578</th>\n",
       "      <td>NaN</td>\n",
       "      <td>NaN</td>\n",
       "      <td>505.0</td>\n",
       "      <td>NaN</td>\n",
       "    </tr>\n",
       "    <tr>\n",
       "      <th>581587</th>\n",
       "      <td>NaN</td>\n",
       "      <td>105.0</td>\n",
       "      <td>NaN</td>\n",
       "      <td>NaN</td>\n",
       "    </tr>\n",
       "  </tbody>\n",
       "</table>\n",
       "<p>1171 rows × 4 columns</p>\n",
       "</div>"
      ],
      "text/plain": [
       "Country     EIRE  France  Germany  Netherlands\n",
       "InvoiceNo                                     \n",
       "536370       NaN   446.0      NaN          NaN\n",
       "536403       NaN     NaN      NaN         96.0\n",
       "536527       NaN     NaN    156.0          NaN\n",
       "536540     230.0     NaN      NaN          NaN\n",
       "536541      12.0     NaN      NaN          NaN\n",
       "...          ...     ...      ...          ...\n",
       "581494       NaN     NaN    186.0          NaN\n",
       "581570       NaN     NaN     95.0          NaN\n",
       "581574       NaN     NaN     86.0          NaN\n",
       "581578       NaN     NaN    505.0          NaN\n",
       "581587       NaN   105.0      NaN          NaN\n",
       "\n",
       "[1171 rows x 4 columns]"
      ]
     },
     "execution_count": 355,
     "metadata": {},
     "output_type": "execute_result"
    }
   ],
   "source": [
    "quantityperinvoice"
   ]
  },
  {
   "cell_type": "code",
   "execution_count": 352,
   "metadata": {},
   "outputs": [
    {
     "data": {
      "application/vnd.plotly.v1+json": {
       "config": {
        "linkText": "Export to plot.ly",
        "plotlyServerURL": "https://plot.ly",
        "showLink": true
       },
       "data": [
        {
         "histfunc": "count",
         "histnorm": "",
         "marker": {
          "color": "rgba(255, 153, 51, 1.0)",
          "line": {
           "color": "#4D5663",
           "width": 1.3
          }
         },
         "name": "EIRE",
         "opacity": 0.8,
         "orientation": "v",
         "type": "histogram",
         "x": [
          null,
          null,
          null,
          230,
          12,
          6,
          null,
          null,
          null,
          1548,
          null,
          null,
          827,
          null,
          null,
          null,
          null,
          null,
          null,
          null,
          134,
          475,
          3,
          null,
          null,
          null,
          null,
          null,
          null,
          null,
          null,
          null,
          null,
          null,
          287,
          null,
          null,
          null,
          379,
          null,
          null,
          null,
          358,
          null,
          null,
          null,
          null,
          null,
          null,
          null,
          null,
          373,
          null,
          null,
          null,
          154,
          null,
          null,
          null,
          null,
          344,
          null,
          null,
          null,
          null,
          null,
          107,
          null,
          null,
          null,
          null,
          null,
          null,
          null,
          null,
          null,
          null,
          null,
          84,
          null,
          null,
          null,
          null,
          null,
          null,
          null,
          null,
          null,
          null,
          null,
          null,
          null,
          null,
          null,
          null,
          null,
          null,
          null,
          6198,
          null,
          null,
          null,
          null,
          286,
          null,
          null,
          null,
          null,
          null,
          null,
          1332,
          null,
          null,
          null,
          null,
          null,
          46,
          null,
          null,
          null,
          null,
          null,
          690,
          null,
          154,
          null,
          null,
          null,
          null,
          null,
          null,
          null,
          null,
          null,
          null,
          null,
          null,
          null,
          463,
          null,
          null,
          null,
          null,
          null,
          null,
          null,
          null,
          270,
          null,
          74,
          null,
          null,
          null,
          null,
          null,
          null,
          null,
          null,
          null,
          939,
          null,
          null,
          null,
          470,
          1932,
          null,
          null,
          86,
          null,
          null,
          null,
          null,
          60,
          null,
          null,
          null,
          null,
          null,
          null,
          null,
          null,
          668,
          null,
          null,
          null,
          null,
          null,
          null,
          null,
          null,
          null,
          null,
          null,
          null,
          null,
          669,
          null,
          null,
          null,
          null,
          null,
          263,
          593,
          null,
          null,
          null,
          null,
          null,
          null,
          null,
          263,
          2826,
          108,
          218,
          null,
          null,
          null,
          null,
          null,
          206,
          498,
          230,
          511,
          328,
          335,
          null,
          null,
          null,
          null,
          null,
          null,
          416,
          265,
          null,
          null,
          null,
          null,
          null,
          72,
          null,
          null,
          null,
          null,
          null,
          null,
          null,
          null,
          null,
          null,
          null,
          null,
          null,
          113,
          null,
          null,
          533,
          null,
          null,
          null,
          null,
          null,
          744,
          null,
          null,
          null,
          null,
          null,
          null,
          null,
          null,
          null,
          null,
          null,
          44,
          null,
          null,
          null,
          null,
          null,
          713,
          1162,
          null,
          null,
          null,
          76,
          null,
          null,
          655,
          null,
          271,
          118,
          null,
          null,
          null,
          null,
          477,
          null,
          112,
          null,
          null,
          null,
          null,
          null,
          null,
          null,
          150,
          null,
          null,
          null,
          233,
          null,
          null,
          null,
          null,
          null,
          null,
          null,
          null,
          null,
          162,
          null,
          null,
          null,
          null,
          null,
          null,
          null,
          null,
          null,
          null,
          297,
          235,
          null,
          null,
          null,
          null,
          null,
          null,
          192,
          null,
          1694,
          null,
          446,
          null,
          null,
          null,
          null,
          null,
          null,
          null,
          null,
          null,
          null,
          null,
          null,
          null,
          null,
          null,
          null,
          null,
          null,
          null,
          null,
          null,
          null,
          null,
          null,
          null,
          null,
          null,
          138,
          526,
          null,
          543,
          null,
          711,
          494,
          null,
          null,
          null,
          null,
          null,
          null,
          636,
          null,
          null,
          null,
          null,
          null,
          null,
          null,
          null,
          112,
          284,
          225,
          null,
          null,
          null,
          null,
          null,
          null,
          null,
          null,
          401,
          null,
          null,
          null,
          null,
          null,
          null,
          null,
          null,
          null,
          null,
          null,
          null,
          null,
          304,
          4,
          4,
          null,
          null,
          null,
          null,
          null,
          null,
          null,
          null,
          null,
          null,
          null,
          null,
          null,
          null,
          null,
          null,
          null,
          null,
          null,
          null,
          null,
          null,
          null,
          null,
          null,
          404,
          null,
          191,
          null,
          null,
          null,
          null,
          2090,
          492,
          null,
          null,
          244,
          261,
          null,
          null,
          null,
          null,
          null,
          null,
          null,
          null,
          null,
          427,
          null,
          null,
          null,
          null,
          null,
          null,
          null,
          null,
          2642,
          384,
          268,
          null,
          null,
          null,
          355,
          null,
          null,
          null,
          83,
          null,
          null,
          null,
          null,
          null,
          null,
          48,
          null,
          null,
          null,
          308,
          280,
          null,
          186,
          1,
          null,
          null,
          571,
          48,
          null,
          314,
          79,
          null,
          null,
          null,
          null,
          null,
          2086,
          17,
          null,
          394,
          null,
          null,
          81,
          18,
          697,
          null,
          null,
          null,
          null,
          null,
          20,
          null,
          null,
          null,
          null,
          null,
          null,
          null,
          null,
          null,
          null,
          null,
          null,
          null,
          null,
          null,
          null,
          null,
          null,
          null,
          null,
          null,
          null,
          688,
          null,
          177,
          null,
          null,
          null,
          null,
          1202,
          null,
          null,
          5726,
          496,
          762,
          null,
          256,
          null,
          null,
          null,
          null,
          null,
          null,
          null,
          null,
          null,
          269,
          null,
          228,
          146,
          null,
          null,
          null,
          null,
          null,
          251,
          null,
          null,
          602,
          55,
          null,
          362,
          2270,
          null,
          286,
          1410,
          5246,
          null,
          null,
          null,
          null,
          null,
          null,
          null,
          null,
          null,
          2270,
          null,
          null,
          null,
          null,
          null,
          744,
          null,
          null,
          603,
          null,
          null,
          null,
          null,
          391,
          314,
          872,
          null,
          554,
          null,
          491,
          null,
          null,
          null,
          null,
          579,
          null,
          null,
          null,
          null,
          579,
          12,
          null,
          38,
          null,
          null,
          null,
          null,
          644,
          null,
          147,
          null,
          null,
          null,
          null,
          null,
          null,
          null,
          null,
          null,
          null,
          null,
          null,
          null,
          null,
          null,
          null,
          null,
          null,
          null,
          null,
          null,
          null,
          null,
          null,
          572,
          null,
          null,
          null,
          276,
          null,
          null,
          null,
          null,
          null,
          null,
          null,
          null,
          1776,
          408,
          null,
          null,
          163,
          null,
          null,
          1272,
          null,
          null,
          null,
          null,
          null,
          null,
          5034,
          456,
          null,
          null,
          1145,
          140,
          null,
          null,
          null,
          null,
          417,
          null,
          331,
          null,
          942,
          null,
          185,
          null,
          null,
          null,
          null,
          null,
          null,
          null,
          null,
          null,
          null,
          null,
          null,
          null,
          null,
          null,
          null,
          null,
          null,
          734,
          null,
          null,
          225,
          null,
          84,
          null,
          null,
          null,
          null,
          null,
          null,
          null,
          null,
          null,
          null,
          null,
          null,
          null,
          null,
          166,
          null,
          615,
          null,
          342,
          null,
          null,
          null,
          93,
          null,
          null,
          null,
          null,
          132,
          null,
          null,
          null,
          670,
          5,
          null,
          null,
          null,
          null,
          null,
          null,
          null,
          null,
          717,
          null,
          1242,
          null,
          null,
          null,
          223,
          256,
          null,
          202,
          null,
          null,
          null,
          549,
          70,
          null,
          333,
          58,
          16,
          null,
          null,
          null,
          null,
          null,
          null,
          2720,
          null,
          385,
          null,
          null,
          null,
          18,
          null,
          null,
          null,
          null,
          null,
          null,
          null,
          null,
          null,
          null,
          null,
          null,
          null,
          null,
          null,
          228,
          null,
          null,
          null,
          null,
          null,
          null,
          null,
          null,
          null,
          448,
          null,
          null,
          null,
          null,
          null,
          null,
          360,
          null,
          646,
          null,
          null,
          12,
          null,
          null,
          85,
          416,
          null,
          1704,
          46,
          75,
          510,
          2,
          null,
          null,
          null,
          null,
          null,
          null,
          null,
          406,
          null,
          null,
          null,
          null,
          null,
          352,
          null,
          null,
          null,
          null,
          null,
          null,
          668,
          456,
          null,
          66,
          599,
          223,
          572,
          36,
          null,
          283,
          342,
          null,
          null,
          null,
          null,
          null,
          null,
          711,
          null,
          null,
          null,
          null,
          4462,
          null,
          null,
          null,
          null,
          null,
          null,
          490,
          null,
          null,
          414,
          487,
          null,
          null,
          null,
          null,
          220,
          null,
          null,
          null,
          null,
          null,
          null,
          null,
          null,
          null,
          null,
          null,
          null,
          null,
          null,
          null,
          null,
          null,
          null,
          184,
          null,
          null,
          null,
          null,
          null,
          null,
          391,
          null,
          624,
          null,
          null,
          null,
          270,
          null,
          null,
          null,
          null,
          null,
          null,
          null,
          null,
          null,
          null,
          null,
          null,
          null,
          null,
          null,
          324,
          29,
          null,
          334,
          null,
          78,
          null,
          null,
          null,
          null,
          null,
          580,
          null,
          null,
          null,
          null,
          null,
          null,
          null,
          null,
          null,
          null,
          null,
          null,
          496,
          null,
          null,
          152,
          null,
          null,
          840,
          null,
          null,
          258,
          null,
          null,
          null,
          null,
          null,
          1200,
          945,
          null,
          null,
          205,
          null,
          null,
          null,
          null,
          533,
          null,
          null,
          null,
          198,
          52,
          226,
          194,
          null,
          null,
          null,
          2900,
          null,
          null,
          null,
          null,
          null,
          null,
          null,
          null,
          null,
          147,
          null,
          null,
          null,
          null,
          248,
          null,
          null,
          null,
          null,
          null,
          null,
          383,
          null,
          null,
          null,
          null,
          null,
          null,
          null,
          null,
          null,
          296,
          null,
          null,
          440,
          null,
          null,
          12,
          614,
          null,
          null,
          null,
          870,
          null,
          null,
          null,
          null,
          null,
          238,
          null,
          375,
          59,
          null,
          null,
          null,
          null,
          null,
          null,
          null,
          null,
          142,
          null,
          null,
          null,
          null,
          null,
          null,
          null,
          null,
          null,
          null,
          null,
          null,
          91,
          null,
          225,
          605,
          null,
          340,
          null,
          null,
          null,
          null,
          null,
          null,
          null,
          null,
          null,
          null,
          null,
          null,
          99,
          354,
          null,
          null,
          null,
          132,
          null,
          null,
          null,
          null,
          131,
          null,
          null,
          null,
          256,
          null,
          null,
          null,
          null,
          null,
          null,
          null,
          534,
          null,
          null,
          null,
          null,
          184,
          34,
          null,
          null,
          null,
          null,
          null,
          null,
          null,
          null,
          817,
          609,
          572,
          null,
          null,
          null,
          null,
          null,
          null,
          null,
          null,
          null,
          806,
          null,
          null,
          null,
          null,
          null
         ]
        },
        {
         "histfunc": "count",
         "histnorm": "",
         "marker": {
          "color": "rgba(55, 128, 191, 1.0)",
          "line": {
           "color": "#4D5663",
           "width": 1.3
          }
         },
         "name": "France",
         "opacity": 0.8,
         "orientation": "v",
         "type": "histogram",
         "x": [
          446,
          null,
          null,
          null,
          null,
          null,
          null,
          106,
          null,
          null,
          null,
          130,
          null,
          null,
          602,
          null,
          null,
          null,
          null,
          null,
          null,
          null,
          null,
          581,
          164,
          null,
          null,
          120,
          null,
          null,
          106,
          8,
          null,
          552,
          null,
          339,
          null,
          410,
          null,
          null,
          134,
          3,
          null,
          null,
          null,
          null,
          null,
          null,
          null,
          332,
          null,
          null,
          64,
          null,
          null,
          null,
          null,
          128,
          599,
          null,
          null,
          24,
          null,
          88,
          null,
          null,
          null,
          359,
          369,
          261,
          177,
          null,
          null,
          488,
          null,
          103,
          null,
          78,
          null,
          null,
          null,
          628,
          168,
          null,
          576,
          120,
          114,
          43,
          null,
          131,
          498,
          null,
          543,
          78,
          null,
          null,
          440,
          null,
          null,
          null,
          null,
          null,
          263,
          null,
          null,
          null,
          383,
          null,
          null,
          702,
          null,
          null,
          120,
          null,
          null,
          null,
          null,
          84,
          null,
          null,
          null,
          null,
          null,
          null,
          null,
          null,
          null,
          null,
          59,
          406,
          102,
          null,
          null,
          1617,
          null,
          null,
          null,
          202,
          null,
          null,
          null,
          197,
          159,
          null,
          206,
          null,
          null,
          null,
          null,
          null,
          611,
          null,
          214,
          298,
          null,
          null,
          null,
          452,
          null,
          null,
          null,
          null,
          96,
          null,
          null,
          772,
          114,
          null,
          null,
          null,
          null,
          748,
          null,
          15,
          256,
          null,
          null,
          null,
          null,
          77,
          null,
          null,
          null,
          264,
          96,
          null,
          null,
          70,
          213,
          310,
          72,
          54,
          245,
          null,
          329,
          null,
          314,
          24,
          null,
          null,
          123,
          null,
          null,
          null,
          null,
          null,
          null,
          null,
          null,
          null,
          null,
          null,
          null,
          null,
          null,
          323,
          183,
          null,
          184,
          null,
          null,
          null,
          null,
          null,
          null,
          314,
          null,
          97,
          62,
          null,
          null,
          null,
          null,
          null,
          null,
          null,
          null,
          null,
          null,
          null,
          null,
          422,
          85,
          5,
          198,
          null,
          null,
          null,
          136,
          713,
          242,
          130,
          null,
          null,
          261,
          null,
          null,
          null,
          null,
          null,
          59,
          null,
          842,
          null,
          null,
          null,
          null,
          null,
          null,
          null,
          946,
          132,
          null,
          null,
          null,
          2271,
          88,
          240,
          null,
          null,
          null,
          293,
          null,
          null,
          null,
          null,
          null,
          null,
          null,
          null,
          null,
          236,
          null,
          null,
          null,
          null,
          null,
          null,
          null,
          null,
          null,
          284,
          null,
          null,
          null,
          null,
          375,
          25,
          null,
          null,
          null,
          null,
          196,
          null,
          23,
          275,
          null,
          null,
          84,
          null,
          null,
          null,
          146,
          null,
          null,
          368,
          350,
          6,
          120,
          192,
          null,
          null,
          null,
          null,
          null,
          null,
          null,
          98,
          null,
          null,
          null,
          null,
          null,
          773,
          162,
          null,
          332,
          458,
          null,
          null,
          859,
          null,
          null,
          null,
          734,
          null,
          null,
          null,
          null,
          null,
          null,
          null,
          105,
          null,
          null,
          null,
          202,
          33,
          267,
          140,
          null,
          null,
          220,
          null,
          58,
          null,
          null,
          476,
          null,
          103,
          152,
          72,
          null,
          null,
          null,
          null,
          null,
          434,
          null,
          126,
          null,
          null,
          null,
          null,
          null,
          464,
          null,
          229,
          null,
          null,
          62,
          304,
          null,
          null,
          null,
          null,
          null,
          208,
          null,
          180,
          null,
          180,
          374,
          null,
          null,
          null,
          null,
          null,
          null,
          null,
          null,
          86,
          null,
          424,
          null,
          155,
          null,
          null,
          null,
          200,
          null,
          null,
          null,
          null,
          null,
          null,
          null,
          null,
          null,
          1184,
          347,
          null,
          358,
          null,
          115,
          null,
          null,
          null,
          216,
          216,
          464,
          444,
          null,
          null,
          null,
          null,
          null,
          null,
          null,
          320,
          460,
          160,
          null,
          714,
          null,
          549,
          null,
          null,
          null,
          110,
          232,
          null,
          356,
          170,
          139,
          206,
          null,
          null,
          null,
          null,
          null,
          267,
          null,
          514,
          null,
          62,
          null,
          null,
          null,
          50,
          208,
          null,
          null,
          null,
          350,
          270,
          384,
          null,
          null,
          null,
          null,
          null,
          null,
          410,
          null,
          null,
          null,
          null,
          null,
          118,
          null,
          null,
          null,
          108,
          null,
          null,
          null,
          null,
          null,
          null,
          null,
          null,
          null,
          284,
          78,
          null,
          256,
          null,
          null,
          321,
          592,
          null,
          null,
          null,
          null,
          322,
          null,
          135,
          198,
          236,
          48,
          76,
          262,
          null,
          156,
          null,
          null,
          116,
          666,
          null,
          null,
          null,
          null,
          null,
          null,
          null,
          null,
          46,
          null,
          82,
          838,
          null,
          null,
          null,
          32,
          null,
          null,
          null,
          null,
          null,
          null,
          null,
          null,
          null,
          null,
          null,
          null,
          null,
          null,
          null,
          234,
          null,
          null,
          null,
          null,
          null,
          147,
          null,
          null,
          null,
          null,
          null,
          500,
          null,
          null,
          null,
          null,
          null,
          null,
          52,
          null,
          null,
          690,
          279,
          null,
          null,
          null,
          320,
          162,
          null,
          null,
          null,
          null,
          null,
          null,
          null,
          null,
          null,
          197,
          null,
          null,
          null,
          null,
          null,
          null,
          null,
          178,
          3,
          603,
          null,
          null,
          null,
          400,
          null,
          null,
          null,
          null,
          231,
          null,
          228,
          459,
          null,
          null,
          null,
          33,
          null,
          null,
          234,
          null,
          null,
          null,
          null,
          54,
          null,
          402,
          null,
          105,
          null,
          139,
          null,
          null,
          null,
          null,
          null,
          null,
          784,
          170,
          null,
          204,
          145,
          null,
          null,
          null,
          null,
          null,
          null,
          688,
          null,
          null,
          820,
          120,
          198,
          null,
          null,
          null,
          270,
          null,
          null,
          98,
          54,
          null,
          null,
          null,
          null,
          null,
          null,
          506,
          null,
          null,
          142,
          184,
          null,
          null,
          null,
          null,
          null,
          null,
          null,
          265,
          null,
          646,
          null,
          719,
          null,
          644,
          209,
          null,
          null,
          null,
          null,
          null,
          104,
          292,
          719,
          null,
          null,
          42,
          null,
          null,
          72,
          null,
          null,
          null,
          436,
          null,
          null,
          1060,
          null,
          164,
          6,
          null,
          null,
          null,
          228,
          null,
          null,
          null,
          241,
          177,
          null,
          189,
          null,
          null,
          null,
          null,
          306,
          null,
          null,
          274,
          null,
          null,
          416,
          64,
          63,
          null,
          null,
          484,
          255,
          null,
          null,
          null,
          null,
          172,
          null,
          282,
          null,
          null,
          null,
          475,
          null,
          null,
          null,
          null,
          169,
          111,
          null,
          null,
          null,
          null,
          null,
          64,
          265,
          null,
          null,
          null,
          null,
          null,
          null,
          335,
          162,
          null,
          201,
          286,
          null,
          null,
          null,
          null,
          710,
          173,
          183,
          null,
          156,
          80,
          34,
          null,
          null,
          885,
          null,
          null,
          160,
          188,
          2,
          null,
          null,
          null,
          null,
          null,
          null,
          null,
          null,
          null,
          null,
          null,
          29,
          null,
          null,
          null,
          184,
          342,
          null,
          null,
          null,
          null,
          null,
          60,
          null,
          158,
          null,
          null,
          null,
          null,
          null,
          null,
          2801,
          null,
          null,
          null,
          null,
          null,
          null,
          162,
          null,
          null,
          null,
          72,
          98,
          null,
          218,
          100,
          122,
          null,
          null,
          null,
          null,
          null,
          232,
          null,
          null,
          null,
          null,
          null,
          null,
          null,
          null,
          null,
          null,
          null,
          null,
          null,
          null,
          null,
          null,
          null,
          null,
          null,
          null,
          null,
          null,
          566,
          null,
          165,
          null,
          null,
          null,
          null,
          null,
          null,
          null,
          null,
          524,
          null,
          null,
          null,
          null,
          null,
          null,
          null,
          null,
          null,
          null,
          null,
          null,
          136,
          297,
          48,
          null,
          null,
          null,
          76,
          null,
          null,
          5202,
          36,
          null,
          null,
          5,
          null,
          208,
          null,
          null,
          326,
          null,
          90,
          null,
          null,
          null,
          344,
          258,
          421,
          null,
          null,
          null,
          null,
          288,
          null,
          567,
          null,
          373,
          92,
          null,
          304,
          33,
          null,
          null,
          null,
          null,
          null,
          null,
          null,
          null,
          null,
          406,
          459,
          341,
          151,
          null,
          null,
          null,
          null,
          null,
          183,
          104,
          100,
          206,
          213,
          330,
          203,
          null,
          null,
          null,
          null,
          null,
          null,
          220,
          null,
          null,
          null,
          336,
          null,
          760,
          200,
          null,
          null,
          96,
          null,
          null,
          69,
          343,
          null,
          320,
          222,
          null,
          null,
          null,
          36,
          null,
          439,
          null,
          null,
          null,
          null,
          null,
          null,
          null,
          null,
          null,
          null,
          24,
          662,
          null,
          null,
          null,
          null,
          null,
          null,
          null,
          null,
          null,
          108,
          null,
          null,
          null,
          766,
          210,
          null,
          null,
          null,
          510,
          null,
          298,
          null,
          154,
          null,
          null,
          null,
          92,
          null,
          null,
          null,
          null,
          221,
          77,
          null,
          null,
          null,
          268,
          null,
          null,
          182,
          null,
          171,
          null,
          null,
          null,
          null,
          null,
          null,
          null,
          null,
          null,
          null,
          212,
          7,
          null,
          null,
          null,
          null,
          132,
          null,
          null,
          null,
          825,
          null,
          null,
          null,
          439,
          null,
          310,
          null,
          68,
          null,
          null,
          null,
          null,
          null,
          126,
          386,
          386,
          null,
          338,
          null,
          null,
          null,
          300,
          null,
          267,
          null,
          null,
          147,
          236,
          null,
          null,
          null,
          806,
          97,
          null,
          null,
          null,
          168,
          320,
          null,
          84,
          null,
          694,
          14,
          210,
          null,
          null,
          null,
          null,
          74,
          252,
          null,
          null,
          null,
          null,
          467,
          203,
          300,
          24,
          250,
          null,
          309,
          null,
          null,
          null,
          247,
          null,
          null,
          null,
          null,
          null,
          null,
          18,
          null,
          null,
          null,
          null,
          null,
          null,
          105
         ]
        },
        {
         "histfunc": "count",
         "histnorm": "",
         "marker": {
          "color": "rgba(50, 171, 96, 1.0)",
          "line": {
           "color": "#4D5663",
           "width": 1.3
          }
         },
         "name": "Germany",
         "opacity": 0.8,
         "orientation": "v",
         "type": "histogram",
         "x": [
          null,
          null,
          156,
          null,
          null,
          null,
          147,
          null,
          76,
          null,
          30,
          null,
          null,
          59,
          null,
          76,
          10,
          966,
          295,
          88,
          null,
          null,
          null,
          null,
          null,
          150,
          132,
          null,
          84,
          225,
          null,
          null,
          82,
          null,
          null,
          null,
          1075,
          null,
          null,
          2,
          null,
          null,
          null,
          42,
          433,
          6,
          133,
          81,
          322,
          null,
          221,
          null,
          null,
          388,
          333,
          null,
          null,
          null,
          null,
          228,
          null,
          null,
          null,
          null,
          62,
          866,
          null,
          null,
          null,
          null,
          null,
          92,
          410,
          null,
          1775,
          null,
          363,
          null,
          null,
          242,
          389,
          null,
          null,
          86,
          null,
          null,
          null,
          null,
          95,
          null,
          null,
          95,
          null,
          null,
          164,
          10,
          null,
          null,
          null,
          70,
          404,
          171,
          null,
          null,
          112,
          36,
          null,
          null,
          null,
          null,
          null,
          null,
          null,
          245,
          45,
          902,
          null,
          null,
          603,
          314,
          221,
          482,
          null,
          206,
          null,
          234,
          125,
          46,
          null,
          null,
          null,
          278,
          180,
          null,
          126,
          468,
          null,
          null,
          null,
          59,
          null,
          null,
          null,
          36,
          null,
          102,
          174,
          null,
          182,
          null,
          null,
          null,
          null,
          null,
          159,
          50,
          177,
          null,
          639,
          null,
          46,
          409,
          null,
          null,
          null,
          null,
          null,
          null,
          302,
          76,
          108,
          null,
          null,
          null,
          null,
          null,
          null,
          266,
          515,
          null,
          null,
          null,
          198,
          null,
          null,
          583,
          122,
          null,
          null,
          null,
          null,
          null,
          null,
          384,
          null,
          null,
          null,
          null,
          341,
          192,
          null,
          null,
          null,
          90,
          190,
          76,
          75,
          168,
          189,
          null,
          null,
          null,
          null,
          null,
          613,
          null,
          null,
          null,
          null,
          null,
          null,
          null,
          null,
          null,
          null,
          null,
          48,
          null,
          null,
          366,
          388,
          null,
          null,
          168,
          288,
          12,
          222,
          546,
          null,
          87,
          24,
          null,
          null,
          null,
          null,
          null,
          484,
          482,
          null,
          null,
          null,
          null,
          null,
          126,
          null,
          null,
          null,
          480,
          506,
          null,
          null,
          null,
          null,
          421,
          268,
          156,
          null,
          null,
          null,
          172,
          null,
          null,
          48,
          null,
          44,
          null,
          null,
          null,
          108,
          null,
          null,
          null,
          347,
          40,
          null,
          null,
          null,
          null,
          236,
          null,
          null,
          null,
          757,
          84,
          218,
          null,
          244,
          null,
          40,
          98,
          728,
          null,
          78,
          226,
          27,
          null,
          null,
          null,
          617,
          null,
          401,
          466,
          null,
          230,
          null,
          null,
          145,
          68,
          null,
          null,
          460,
          null,
          null,
          84,
          639,
          null,
          null,
          null,
          null,
          null,
          null,
          null,
          110,
          10,
          142,
          238,
          48,
          null,
          null,
          16,
          null,
          224,
          null,
          null,
          null,
          377,
          null,
          null,
          164,
          145,
          null,
          202,
          null,
          null,
          null,
          83,
          643,
          104,
          695,
          null,
          null,
          null,
          null,
          4282,
          288,
          32,
          null,
          null,
          null,
          null,
          null,
          null,
          null,
          null,
          null,
          null,
          null,
          null,
          526,
          null,
          null,
          null,
          null,
          null,
          425,
          90,
          196,
          null,
          468,
          null,
          46,
          34,
          null,
          null,
          null,
          null,
          null,
          null,
          578,
          382,
          null,
          null,
          161,
          null,
          12,
          30,
          242,
          null,
          119,
          null,
          null,
          null,
          null,
          191,
          79,
          39,
          34,
          null,
          null,
          null,
          184,
          null,
          null,
          null,
          337,
          null,
          254,
          null,
          32,
          null,
          null,
          null,
          553,
          null,
          653,
          420,
          null,
          22,
          237,
          null,
          null,
          288,
          null,
          null,
          null,
          null,
          290,
          null,
          null,
          null,
          null,
          null,
          null,
          null,
          78,
          36,
          null,
          null,
          null,
          null,
          null,
          null,
          88,
          null,
          342,
          null,
          99,
          null,
          412,
          null,
          null,
          784,
          null,
          null,
          null,
          null,
          null,
          null,
          null,
          457,
          12,
          null,
          null,
          null,
          null,
          null,
          null,
          null,
          1346,
          null,
          null,
          null,
          270,
          null,
          null,
          null,
          null,
          null,
          null,
          143,
          null,
          null,
          71,
          null,
          null,
          null,
          15,
          null,
          null,
          null,
          null,
          null,
          null,
          null,
          null,
          null,
          166,
          null,
          46,
          578,
          null,
          null,
          null,
          null,
          null,
          60,
          null,
          863,
          null,
          null,
          null,
          292,
          148,
          142,
          396,
          null,
          159,
          null,
          null,
          null,
          null,
          null,
          null,
          124,
          null,
          252,
          192,
          null,
          null,
          91,
          776,
          null,
          300,
          null,
          115,
          294,
          105,
          null,
          null,
          null,
          null,
          null,
          null,
          null,
          null,
          null,
          25,
          56,
          192,
          331,
          812,
          306,
          null,
          152,
          516,
          null,
          297,
          null,
          null,
          422,
          null,
          469,
          408,
          332,
          null,
          222,
          null,
          null,
          null,
          174,
          null,
          null,
          null,
          null,
          null,
          null,
          645,
          262,
          136,
          null,
          325,
          187,
          null,
          null,
          552,
          null,
          32,
          null,
          null,
          132,
          416,
          null,
          60,
          271,
          null,
          34,
          null,
          null,
          null,
          null,
          null,
          null,
          null,
          null,
          null,
          null,
          null,
          null,
          null,
          460,
          null,
          20,
          null,
          316,
          48,
          null,
          null,
          null,
          null,
          null,
          null,
          99,
          214,
          null,
          null,
          null,
          185,
          null,
          384,
          348,
          322,
          359,
          null,
          null,
          null,
          275,
          null,
          70,
          null,
          176,
          29,
          375,
          6,
          392,
          109,
          null,
          null,
          288,
          null,
          null,
          null,
          190,
          null,
          null,
          null,
          68,
          null,
          131,
          1151,
          null,
          null,
          null,
          486,
          null,
          null,
          null,
          312,
          null,
          null,
          null,
          null,
          402,
          38,
          340,
          266,
          556,
          null,
          null,
          null,
          null,
          null,
          null,
          null,
          324,
          10,
          316,
          20,
          null,
          null,
          null,
          null,
          null,
          null,
          null,
          null,
          null,
          null,
          null,
          532,
          124,
          8,
          null,
          null,
          null,
          null,
          766,
          null,
          193,
          80,
          null,
          null,
          212,
          null,
          null,
          262,
          null,
          null,
          null,
          null,
          null,
          226,
          181,
          68,
          null,
          null,
          null,
          13,
          null,
          null,
          1231,
          null,
          174,
          null,
          230,
          null,
          null,
          null,
          104,
          null,
          430,
          null,
          null,
          null,
          null,
          336,
          null,
          null,
          null,
          null,
          null,
          null,
          128,
          null,
          63,
          null,
          138,
          424,
          526,
          null,
          null,
          456,
          null,
          292,
          null,
          null,
          null,
          null,
          260,
          null,
          208,
          null,
          null,
          null,
          null,
          163,
          null,
          null,
          null,
          null,
          null,
          321,
          null,
          null,
          163,
          null,
          175,
          null,
          null,
          null,
          null,
          null,
          null,
          null,
          null,
          395,
          782,
          null,
          962,
          null,
          null,
          null,
          null,
          null,
          null,
          194,
          50,
          null,
          849,
          66,
          175,
          244,
          862,
          12,
          null,
          346,
          180,
          null,
          null,
          null,
          1292,
          100,
          122,
          null,
          null,
          null,
          null,
          null,
          112,
          null,
          311,
          252,
          null,
          null,
          null,
          null,
          null,
          null,
          null,
          null,
          322,
          null,
          93,
          26,
          328,
          null,
          null,
          null,
          null,
          null,
          null,
          67,
          878,
          null,
          176,
          316,
          null,
          222,
          532,
          476,
          null,
          null,
          1550,
          null,
          null,
          null,
          null,
          null,
          295,
          null,
          null,
          82,
          343,
          null,
          290,
          576,
          1,
          null,
          917,
          null,
          128,
          null,
          null,
          null,
          null,
          null,
          106,
          48,
          552,
          null,
          null,
          null,
          null,
          null,
          201,
          null,
          null,
          68,
          null,
          292,
          128,
          4,
          18,
          null,
          null,
          null,
          null,
          null,
          null,
          null,
          136,
          108,
          null,
          null,
          74,
          457,
          null,
          null,
          null,
          160,
          154,
          null,
          112,
          null,
          null,
          64,
          null,
          null,
          null,
          null,
          null,
          null,
          null,
          null,
          null,
          63,
          null,
          372,
          null,
          null,
          39,
          null,
          null,
          520,
          256,
          105,
          null,
          null,
          139,
          null,
          136,
          null,
          null,
          null,
          null,
          null,
          84,
          null,
          12,
          null,
          null,
          null,
          null,
          null,
          null,
          null,
          null,
          null,
          null,
          146,
          null,
          48,
          131,
          null,
          null,
          158,
          null,
          321,
          null,
          null,
          null,
          null,
          317,
          603,
          null,
          null,
          null,
          null,
          null,
          null,
          null,
          null,
          165,
          70,
          null,
          null,
          55,
          null,
          null,
          null,
          null,
          null,
          536,
          250,
          90,
          null,
          259,
          null,
          null,
          null,
          495,
          108,
          5,
          121,
          576,
          null,
          221,
          42,
          152,
          null,
          null,
          511,
          473,
          null,
          null,
          127,
          96,
          null,
          null,
          338,
          null,
          56,
          null,
          80,
          9,
          null,
          null,
          null,
          52,
          null,
          null,
          null,
          null,
          null,
          null,
          317,
          null,
          3,
          null,
          null,
          341,
          null,
          null,
          219,
          null,
          null,
          null,
          null,
          null,
          null,
          null,
          39,
          null,
          null,
          72,
          458,
          null,
          200,
          null,
          256,
          582,
          130,
          null,
          358,
          59,
          322,
          null,
          45,
          null,
          null,
          null,
          null,
          null,
          292,
          null,
          382,
          null,
          null,
          null,
          48,
          null,
          306,
          228,
          48,
          null,
          null,
          null,
          null,
          null,
          null,
          null,
          148,
          null,
          108,
          null,
          null,
          85,
          null,
          156,
          null,
          null,
          null,
          null,
          8,
          null,
          null,
          null,
          286,
          178,
          null,
          33,
          null,
          null,
          6,
          null,
          null,
          146,
          null,
          null,
          null,
          null,
          null,
          163,
          null,
          null,
          null,
          null,
          null,
          null,
          null,
          889,
          134,
          22,
          987,
          null,
          null,
          null,
          186,
          95,
          86,
          505,
          null
         ]
        },
        {
         "histfunc": "count",
         "histnorm": "",
         "marker": {
          "color": "rgba(128, 0, 128, 1.0)",
          "line": {
           "color": "#4D5663",
           "width": 1.3
          }
         },
         "name": "Netherlands",
         "opacity": 0.8,
         "orientation": "v",
         "type": "histogram",
         "x": [
          null,
          96,
          null,
          null,
          null,
          null,
          null,
          null,
          null,
          null,
          null,
          null,
          null,
          null,
          null,
          null,
          null,
          null,
          null,
          null,
          null,
          null,
          null,
          null,
          null,
          null,
          null,
          null,
          null,
          null,
          null,
          null,
          null,
          null,
          null,
          null,
          null,
          null,
          null,
          null,
          null,
          null,
          null,
          null,
          null,
          null,
          null,
          null,
          null,
          null,
          null,
          null,
          null,
          null,
          null,
          null,
          45,
          null,
          null,
          null,
          null,
          null,
          6668,
          null,
          null,
          null,
          null,
          null,
          null,
          null,
          null,
          null,
          null,
          null,
          null,
          null,
          null,
          null,
          null,
          null,
          null,
          null,
          null,
          null,
          null,
          null,
          null,
          null,
          null,
          null,
          null,
          null,
          null,
          null,
          null,
          null,
          null,
          8210,
          null,
          null,
          null,
          null,
          null,
          null,
          null,
          null,
          null,
          6072,
          288,
          null,
          null,
          5730,
          null,
          null,
          null,
          null,
          null,
          null,
          null,
          null,
          null,
          null,
          null,
          null,
          null,
          null,
          null,
          null,
          null,
          null,
          null,
          null,
          null,
          null,
          null,
          null,
          116,
          null,
          null,
          null,
          111,
          null,
          null,
          null,
          null,
          null,
          null,
          null,
          null,
          null,
          null,
          1116,
          null,
          null,
          null,
          null,
          null,
          null,
          null,
          null,
          null,
          null,
          null,
          null,
          null,
          null,
          null,
          null,
          null,
          null,
          null,
          null,
          null,
          null,
          null,
          8174,
          4034,
          null,
          null,
          null,
          2940,
          null,
          null,
          null,
          null,
          null,
          null,
          null,
          null,
          null,
          null,
          null,
          null,
          null,
          null,
          null,
          null,
          null,
          null,
          null,
          null,
          null,
          null,
          null,
          null,
          null,
          null,
          null,
          null,
          275,
          null,
          null,
          null,
          null,
          null,
          null,
          null,
          151,
          null,
          null,
          null,
          null,
          null,
          null,
          null,
          null,
          null,
          null,
          null,
          null,
          null,
          null,
          null,
          null,
          null,
          null,
          null,
          null,
          null,
          null,
          null,
          null,
          null,
          null,
          null,
          169,
          null,
          null,
          null,
          null,
          null,
          null,
          null,
          null,
          null,
          null,
          722,
          null,
          null,
          103,
          null,
          null,
          null,
          null,
          null,
          null,
          1070,
          11116,
          1208,
          null,
          null,
          null,
          null,
          null,
          null,
          null,
          null,
          null,
          null,
          null,
          null,
          null,
          null,
          null,
          null,
          636,
          700,
          null,
          null,
          null,
          null,
          null,
          null,
          null,
          null,
          null,
          null,
          null,
          null,
          null,
          null,
          null,
          null,
          null,
          null,
          null,
          null,
          null,
          null,
          null,
          null,
          null,
          null,
          null,
          null,
          null,
          null,
          null,
          null,
          null,
          null,
          426,
          null,
          null,
          null,
          null,
          null,
          null,
          null,
          null,
          null,
          null,
          null,
          null,
          null,
          null,
          null,
          null,
          null,
          null,
          null,
          null,
          null,
          null,
          null,
          null,
          null,
          null,
          null,
          null,
          null,
          null,
          200,
          72,
          null,
          null,
          null,
          null,
          null,
          924,
          12266,
          72,
          null,
          null,
          null,
          null,
          null,
          null,
          null,
          null,
          null,
          null,
          null,
          null,
          null,
          null,
          null,
          null,
          null,
          null,
          null,
          null,
          408,
          null,
          null,
          null,
          null,
          null,
          null,
          null,
          null,
          null,
          null,
          null,
          null,
          null,
          126,
          null,
          null,
          null,
          null,
          null,
          null,
          null,
          null,
          null,
          null,
          null,
          null,
          null,
          960,
          null,
          null,
          null,
          null,
          null,
          null,
          null,
          null,
          null,
          null,
          null,
          4664,
          null,
          null,
          null,
          null,
          64,
          null,
          null,
          164,
          1038,
          null,
          1836,
          null,
          null,
          328,
          null,
          null,
          null,
          null,
          null,
          null,
          312,
          null,
          null,
          null,
          null,
          null,
          null,
          null,
          null,
          null,
          null,
          null,
          null,
          null,
          null,
          84,
          null,
          null,
          null,
          null,
          null,
          null,
          null,
          null,
          null,
          null,
          null,
          null,
          null,
          null,
          null,
          null,
          null,
          null,
          null,
          null,
          null,
          null,
          null,
          null,
          null,
          4718,
          null,
          null,
          61,
          null,
          null,
          null,
          350,
          null,
          null,
          null,
          null,
          null,
          null,
          null,
          null,
          null,
          null,
          null,
          null,
          null,
          null,
          null,
          null,
          null,
          null,
          8998,
          424,
          1588,
          null,
          null,
          null,
          null,
          null,
          null,
          null,
          null,
          null,
          null,
          null,
          null,
          null,
          null,
          null,
          null,
          null,
          null,
          null,
          null,
          null,
          null,
          null,
          null,
          null,
          null,
          null,
          null,
          null,
          null,
          null,
          null,
          null,
          null,
          null,
          null,
          null,
          null,
          null,
          null,
          null,
          null,
          null,
          null,
          null,
          null,
          null,
          null,
          null,
          null,
          null,
          null,
          null,
          null,
          null,
          null,
          null,
          null,
          null,
          9,
          null,
          null,
          null,
          null,
          null,
          null,
          null,
          null,
          null,
          null,
          null,
          null,
          null,
          null,
          null,
          null,
          null,
          null,
          null,
          null,
          null,
          null,
          null,
          null,
          null,
          null,
          null,
          null,
          null,
          null,
          null,
          null,
          null,
          null,
          null,
          null,
          null,
          null,
          null,
          null,
          null,
          null,
          null,
          7807,
          375,
          null,
          null,
          null,
          null,
          14730,
          null,
          992,
          null,
          null,
          null,
          null,
          null,
          null,
          null,
          null,
          null,
          null,
          null,
          null,
          null,
          null,
          null,
          null,
          null,
          null,
          null,
          null,
          null,
          null,
          null,
          null,
          null,
          null,
          null,
          null,
          288,
          null,
          null,
          null,
          null,
          null,
          null,
          null,
          null,
          null,
          null,
          null,
          null,
          null,
          null,
          null,
          null,
          null,
          null,
          4628,
          480,
          null,
          null,
          null,
          null,
          null,
          null,
          null,
          null,
          null,
          null,
          null,
          null,
          null,
          null,
          null,
          null,
          null,
          null,
          null,
          null,
          null,
          null,
          null,
          null,
          null,
          null,
          null,
          null,
          null,
          null,
          null,
          null,
          null,
          null,
          null,
          null,
          null,
          null,
          null,
          null,
          null,
          null,
          1012,
          1,
          null,
          null,
          null,
          null,
          null,
          null,
          144,
          null,
          null,
          null,
          null,
          null,
          4951,
          null,
          null,
          null,
          null,
          null,
          null,
          null,
          null,
          null,
          null,
          null,
          null,
          null,
          6932,
          3717,
          null,
          null,
          null,
          null,
          null,
          null,
          null,
          null,
          null,
          null,
          null,
          null,
          null,
          null,
          null,
          null,
          null,
          null,
          null,
          null,
          null,
          null,
          545,
          null,
          null,
          null,
          null,
          null,
          null,
          null,
          null,
          null,
          null,
          null,
          null,
          null,
          null,
          null,
          null,
          null,
          null,
          null,
          null,
          null,
          null,
          null,
          null,
          null,
          null,
          null,
          null,
          null,
          null,
          null,
          null,
          null,
          null,
          null,
          null,
          null,
          null,
          null,
          null,
          null,
          null,
          null,
          null,
          null,
          null,
          null,
          null,
          null,
          3,
          null,
          null,
          null,
          332,
          15,
          null,
          null,
          null,
          null,
          null,
          null,
          null,
          null,
          null,
          null,
          null,
          null,
          null,
          null,
          null,
          null,
          null,
          null,
          211,
          null,
          null,
          null,
          null,
          null,
          null,
          null,
          null,
          null,
          null,
          null,
          null,
          null,
          null,
          null,
          null,
          null,
          null,
          null,
          null,
          null,
          null,
          null,
          null,
          null,
          null,
          null,
          null,
          null,
          null,
          null,
          null,
          null,
          null,
          null,
          null,
          null,
          null,
          null,
          null,
          null,
          null,
          null,
          null,
          null,
          null,
          null,
          null,
          null,
          269,
          null,
          null,
          null,
          null,
          null,
          null,
          null,
          null,
          null,
          13392,
          3020,
          1728,
          null,
          null,
          null,
          null,
          null,
          1780,
          null,
          null,
          null,
          660,
          29,
          null,
          null,
          null,
          null,
          null,
          null,
          null,
          null,
          null,
          3069,
          2400,
          300,
          null,
          null,
          null,
          null,
          null,
          null,
          null,
          null,
          null,
          null,
          null,
          null,
          null,
          null,
          null,
          null,
          null,
          null,
          null,
          null,
          null,
          null,
          2454,
          216,
          62,
          null,
          null,
          null,
          null,
          null,
          null,
          null,
          null,
          null,
          null,
          null,
          null,
          null,
          null,
          null,
          null,
          null,
          null,
          null,
          null,
          null,
          null,
          null,
          null,
          null,
          6712,
          1040,
          null,
          null,
          null,
          null,
          null,
          null,
          null,
          32,
          null,
          null,
          null,
          null,
          null,
          null,
          null,
          null,
          null,
          null,
          null,
          null,
          null,
          null,
          null,
          null,
          null,
          null,
          null,
          null,
          null,
          null,
          null,
          null,
          null,
          null,
          null,
          null,
          null,
          null,
          null,
          null,
          null,
          null,
          null,
          null,
          null,
          null,
          146,
          null,
          null,
          null,
          null,
          null,
          null,
          null,
          null,
          null,
          null,
          null,
          null,
          null,
          null,
          null,
          null,
          null,
          null,
          null,
          null,
          null,
          null,
          null,
          null,
          null,
          null,
          null,
          32,
          null,
          null,
          null,
          152,
          null,
          null,
          null,
          null,
          null,
          null,
          null,
          null,
          null,
          null,
          null,
          null,
          372,
          null,
          null,
          136,
          null,
          null,
          5760,
          200,
          1284,
          null,
          null,
          null,
          null,
          null,
          null,
          null,
          null,
          null,
          null,
          null,
          null,
          null,
          null,
          null,
          null,
          null,
          null,
          null,
          null,
          null,
          null,
          null,
          null,
          null,
          null,
          null,
          null,
          null,
          null,
          null,
          null,
          null,
          null,
          50,
          null,
          null,
          null,
          null,
          null,
          null,
          null,
          null,
          null,
          null,
          null,
          null,
          null,
          null,
          null,
          null,
          null,
          null,
          null,
          null,
          null,
          null,
          null,
          null,
          null,
          null,
          null,
          null,
          null,
          null,
          null,
          null,
          null,
          null,
          null,
          null,
          null,
          null,
          null,
          null,
          null,
          null,
          7366,
          452,
          null,
          null,
          null,
          null,
          null,
          140,
          null,
          null,
          null,
          null,
          null,
          null
         ]
        }
       ],
       "layout": {
        "barmode": "overlay",
        "legend": {
         "bgcolor": "#F5F6F9",
         "font": {
          "color": "#4D5663"
         }
        },
        "paper_bgcolor": "#F5F6F9",
        "plot_bgcolor": "#F5F6F9",
        "template": {
         "data": {
          "bar": [
           {
            "error_x": {
             "color": "#2a3f5f"
            },
            "error_y": {
             "color": "#2a3f5f"
            },
            "marker": {
             "line": {
              "color": "#E5ECF6",
              "width": 0.5
             }
            },
            "type": "bar"
           }
          ],
          "barpolar": [
           {
            "marker": {
             "line": {
              "color": "#E5ECF6",
              "width": 0.5
             }
            },
            "type": "barpolar"
           }
          ],
          "carpet": [
           {
            "aaxis": {
             "endlinecolor": "#2a3f5f",
             "gridcolor": "white",
             "linecolor": "white",
             "minorgridcolor": "white",
             "startlinecolor": "#2a3f5f"
            },
            "baxis": {
             "endlinecolor": "#2a3f5f",
             "gridcolor": "white",
             "linecolor": "white",
             "minorgridcolor": "white",
             "startlinecolor": "#2a3f5f"
            },
            "type": "carpet"
           }
          ],
          "choropleth": [
           {
            "colorbar": {
             "outlinewidth": 0,
             "ticks": ""
            },
            "type": "choropleth"
           }
          ],
          "contour": [
           {
            "colorbar": {
             "outlinewidth": 0,
             "ticks": ""
            },
            "colorscale": [
             [
              0,
              "#0d0887"
             ],
             [
              0.1111111111111111,
              "#46039f"
             ],
             [
              0.2222222222222222,
              "#7201a8"
             ],
             [
              0.3333333333333333,
              "#9c179e"
             ],
             [
              0.4444444444444444,
              "#bd3786"
             ],
             [
              0.5555555555555556,
              "#d8576b"
             ],
             [
              0.6666666666666666,
              "#ed7953"
             ],
             [
              0.7777777777777778,
              "#fb9f3a"
             ],
             [
              0.8888888888888888,
              "#fdca26"
             ],
             [
              1,
              "#f0f921"
             ]
            ],
            "type": "contour"
           }
          ],
          "contourcarpet": [
           {
            "colorbar": {
             "outlinewidth": 0,
             "ticks": ""
            },
            "type": "contourcarpet"
           }
          ],
          "heatmap": [
           {
            "colorbar": {
             "outlinewidth": 0,
             "ticks": ""
            },
            "colorscale": [
             [
              0,
              "#0d0887"
             ],
             [
              0.1111111111111111,
              "#46039f"
             ],
             [
              0.2222222222222222,
              "#7201a8"
             ],
             [
              0.3333333333333333,
              "#9c179e"
             ],
             [
              0.4444444444444444,
              "#bd3786"
             ],
             [
              0.5555555555555556,
              "#d8576b"
             ],
             [
              0.6666666666666666,
              "#ed7953"
             ],
             [
              0.7777777777777778,
              "#fb9f3a"
             ],
             [
              0.8888888888888888,
              "#fdca26"
             ],
             [
              1,
              "#f0f921"
             ]
            ],
            "type": "heatmap"
           }
          ],
          "heatmapgl": [
           {
            "colorbar": {
             "outlinewidth": 0,
             "ticks": ""
            },
            "colorscale": [
             [
              0,
              "#0d0887"
             ],
             [
              0.1111111111111111,
              "#46039f"
             ],
             [
              0.2222222222222222,
              "#7201a8"
             ],
             [
              0.3333333333333333,
              "#9c179e"
             ],
             [
              0.4444444444444444,
              "#bd3786"
             ],
             [
              0.5555555555555556,
              "#d8576b"
             ],
             [
              0.6666666666666666,
              "#ed7953"
             ],
             [
              0.7777777777777778,
              "#fb9f3a"
             ],
             [
              0.8888888888888888,
              "#fdca26"
             ],
             [
              1,
              "#f0f921"
             ]
            ],
            "type": "heatmapgl"
           }
          ],
          "histogram": [
           {
            "marker": {
             "colorbar": {
              "outlinewidth": 0,
              "ticks": ""
             }
            },
            "type": "histogram"
           }
          ],
          "histogram2d": [
           {
            "colorbar": {
             "outlinewidth": 0,
             "ticks": ""
            },
            "colorscale": [
             [
              0,
              "#0d0887"
             ],
             [
              0.1111111111111111,
              "#46039f"
             ],
             [
              0.2222222222222222,
              "#7201a8"
             ],
             [
              0.3333333333333333,
              "#9c179e"
             ],
             [
              0.4444444444444444,
              "#bd3786"
             ],
             [
              0.5555555555555556,
              "#d8576b"
             ],
             [
              0.6666666666666666,
              "#ed7953"
             ],
             [
              0.7777777777777778,
              "#fb9f3a"
             ],
             [
              0.8888888888888888,
              "#fdca26"
             ],
             [
              1,
              "#f0f921"
             ]
            ],
            "type": "histogram2d"
           }
          ],
          "histogram2dcontour": [
           {
            "colorbar": {
             "outlinewidth": 0,
             "ticks": ""
            },
            "colorscale": [
             [
              0,
              "#0d0887"
             ],
             [
              0.1111111111111111,
              "#46039f"
             ],
             [
              0.2222222222222222,
              "#7201a8"
             ],
             [
              0.3333333333333333,
              "#9c179e"
             ],
             [
              0.4444444444444444,
              "#bd3786"
             ],
             [
              0.5555555555555556,
              "#d8576b"
             ],
             [
              0.6666666666666666,
              "#ed7953"
             ],
             [
              0.7777777777777778,
              "#fb9f3a"
             ],
             [
              0.8888888888888888,
              "#fdca26"
             ],
             [
              1,
              "#f0f921"
             ]
            ],
            "type": "histogram2dcontour"
           }
          ],
          "mesh3d": [
           {
            "colorbar": {
             "outlinewidth": 0,
             "ticks": ""
            },
            "type": "mesh3d"
           }
          ],
          "parcoords": [
           {
            "line": {
             "colorbar": {
              "outlinewidth": 0,
              "ticks": ""
             }
            },
            "type": "parcoords"
           }
          ],
          "pie": [
           {
            "automargin": true,
            "type": "pie"
           }
          ],
          "scatter": [
           {
            "marker": {
             "colorbar": {
              "outlinewidth": 0,
              "ticks": ""
             }
            },
            "type": "scatter"
           }
          ],
          "scatter3d": [
           {
            "line": {
             "colorbar": {
              "outlinewidth": 0,
              "ticks": ""
             }
            },
            "marker": {
             "colorbar": {
              "outlinewidth": 0,
              "ticks": ""
             }
            },
            "type": "scatter3d"
           }
          ],
          "scattercarpet": [
           {
            "marker": {
             "colorbar": {
              "outlinewidth": 0,
              "ticks": ""
             }
            },
            "type": "scattercarpet"
           }
          ],
          "scattergeo": [
           {
            "marker": {
             "colorbar": {
              "outlinewidth": 0,
              "ticks": ""
             }
            },
            "type": "scattergeo"
           }
          ],
          "scattergl": [
           {
            "marker": {
             "colorbar": {
              "outlinewidth": 0,
              "ticks": ""
             }
            },
            "type": "scattergl"
           }
          ],
          "scattermapbox": [
           {
            "marker": {
             "colorbar": {
              "outlinewidth": 0,
              "ticks": ""
             }
            },
            "type": "scattermapbox"
           }
          ],
          "scatterpolar": [
           {
            "marker": {
             "colorbar": {
              "outlinewidth": 0,
              "ticks": ""
             }
            },
            "type": "scatterpolar"
           }
          ],
          "scatterpolargl": [
           {
            "marker": {
             "colorbar": {
              "outlinewidth": 0,
              "ticks": ""
             }
            },
            "type": "scatterpolargl"
           }
          ],
          "scatterternary": [
           {
            "marker": {
             "colorbar": {
              "outlinewidth": 0,
              "ticks": ""
             }
            },
            "type": "scatterternary"
           }
          ],
          "surface": [
           {
            "colorbar": {
             "outlinewidth": 0,
             "ticks": ""
            },
            "colorscale": [
             [
              0,
              "#0d0887"
             ],
             [
              0.1111111111111111,
              "#46039f"
             ],
             [
              0.2222222222222222,
              "#7201a8"
             ],
             [
              0.3333333333333333,
              "#9c179e"
             ],
             [
              0.4444444444444444,
              "#bd3786"
             ],
             [
              0.5555555555555556,
              "#d8576b"
             ],
             [
              0.6666666666666666,
              "#ed7953"
             ],
             [
              0.7777777777777778,
              "#fb9f3a"
             ],
             [
              0.8888888888888888,
              "#fdca26"
             ],
             [
              1,
              "#f0f921"
             ]
            ],
            "type": "surface"
           }
          ],
          "table": [
           {
            "cells": {
             "fill": {
              "color": "#EBF0F8"
             },
             "line": {
              "color": "white"
             }
            },
            "header": {
             "fill": {
              "color": "#C8D4E3"
             },
             "line": {
              "color": "white"
             }
            },
            "type": "table"
           }
          ]
         },
         "layout": {
          "annotationdefaults": {
           "arrowcolor": "#2a3f5f",
           "arrowhead": 0,
           "arrowwidth": 1
          },
          "coloraxis": {
           "colorbar": {
            "outlinewidth": 0,
            "ticks": ""
           }
          },
          "colorscale": {
           "diverging": [
            [
             0,
             "#8e0152"
            ],
            [
             0.1,
             "#c51b7d"
            ],
            [
             0.2,
             "#de77ae"
            ],
            [
             0.3,
             "#f1b6da"
            ],
            [
             0.4,
             "#fde0ef"
            ],
            [
             0.5,
             "#f7f7f7"
            ],
            [
             0.6,
             "#e6f5d0"
            ],
            [
             0.7,
             "#b8e186"
            ],
            [
             0.8,
             "#7fbc41"
            ],
            [
             0.9,
             "#4d9221"
            ],
            [
             1,
             "#276419"
            ]
           ],
           "sequential": [
            [
             0,
             "#0d0887"
            ],
            [
             0.1111111111111111,
             "#46039f"
            ],
            [
             0.2222222222222222,
             "#7201a8"
            ],
            [
             0.3333333333333333,
             "#9c179e"
            ],
            [
             0.4444444444444444,
             "#bd3786"
            ],
            [
             0.5555555555555556,
             "#d8576b"
            ],
            [
             0.6666666666666666,
             "#ed7953"
            ],
            [
             0.7777777777777778,
             "#fb9f3a"
            ],
            [
             0.8888888888888888,
             "#fdca26"
            ],
            [
             1,
             "#f0f921"
            ]
           ],
           "sequentialminus": [
            [
             0,
             "#0d0887"
            ],
            [
             0.1111111111111111,
             "#46039f"
            ],
            [
             0.2222222222222222,
             "#7201a8"
            ],
            [
             0.3333333333333333,
             "#9c179e"
            ],
            [
             0.4444444444444444,
             "#bd3786"
            ],
            [
             0.5555555555555556,
             "#d8576b"
            ],
            [
             0.6666666666666666,
             "#ed7953"
            ],
            [
             0.7777777777777778,
             "#fb9f3a"
            ],
            [
             0.8888888888888888,
             "#fdca26"
            ],
            [
             1,
             "#f0f921"
            ]
           ]
          },
          "colorway": [
           "#636efa",
           "#EF553B",
           "#00cc96",
           "#ab63fa",
           "#FFA15A",
           "#19d3f3",
           "#FF6692",
           "#B6E880",
           "#FF97FF",
           "#FECB52"
          ],
          "font": {
           "color": "#2a3f5f"
          },
          "geo": {
           "bgcolor": "white",
           "lakecolor": "white",
           "landcolor": "#E5ECF6",
           "showlakes": true,
           "showland": true,
           "subunitcolor": "white"
          },
          "hoverlabel": {
           "align": "left"
          },
          "hovermode": "closest",
          "mapbox": {
           "style": "light"
          },
          "paper_bgcolor": "white",
          "plot_bgcolor": "#E5ECF6",
          "polar": {
           "angularaxis": {
            "gridcolor": "white",
            "linecolor": "white",
            "ticks": ""
           },
           "bgcolor": "#E5ECF6",
           "radialaxis": {
            "gridcolor": "white",
            "linecolor": "white",
            "ticks": ""
           }
          },
          "scene": {
           "xaxis": {
            "backgroundcolor": "#E5ECF6",
            "gridcolor": "white",
            "gridwidth": 2,
            "linecolor": "white",
            "showbackground": true,
            "ticks": "",
            "zerolinecolor": "white"
           },
           "yaxis": {
            "backgroundcolor": "#E5ECF6",
            "gridcolor": "white",
            "gridwidth": 2,
            "linecolor": "white",
            "showbackground": true,
            "ticks": "",
            "zerolinecolor": "white"
           },
           "zaxis": {
            "backgroundcolor": "#E5ECF6",
            "gridcolor": "white",
            "gridwidth": 2,
            "linecolor": "white",
            "showbackground": true,
            "ticks": "",
            "zerolinecolor": "white"
           }
          },
          "shapedefaults": {
           "line": {
            "color": "#2a3f5f"
           }
          },
          "ternary": {
           "aaxis": {
            "gridcolor": "white",
            "linecolor": "white",
            "ticks": ""
           },
           "baxis": {
            "gridcolor": "white",
            "linecolor": "white",
            "ticks": ""
           },
           "bgcolor": "#E5ECF6",
           "caxis": {
            "gridcolor": "white",
            "linecolor": "white",
            "ticks": ""
           }
          },
          "title": {
           "x": 0.05
          },
          "xaxis": {
           "automargin": true,
           "gridcolor": "white",
           "linecolor": "white",
           "ticks": "",
           "title": {
            "standoff": 15
           },
           "zerolinecolor": "white",
           "zerolinewidth": 2
          },
          "yaxis": {
           "automargin": true,
           "gridcolor": "white",
           "linecolor": "white",
           "ticks": "",
           "title": {
            "standoff": 15
           },
           "zerolinecolor": "white",
           "zerolinewidth": 2
          }
         }
        },
        "title": {
         "font": {
          "color": "#4D5663"
         },
         "text": "Distribution of invoice quantities"
        },
        "xaxis": {
         "gridcolor": "#E1E5ED",
         "showgrid": true,
         "tickfont": {
          "color": "#4D5663"
         },
         "title": {
          "font": {
           "color": "#4D5663"
          },
          "text": "Quantity of Invoice"
         },
         "zerolinecolor": "#E1E5ED"
        },
        "yaxis": {
         "gridcolor": "#E1E5ED",
         "showgrid": true,
         "tickfont": {
          "color": "#4D5663"
         },
         "title": {
          "font": {
           "color": "#4D5663"
          },
          "text": "Amount of invoices"
         },
         "zerolinecolor": "#E1E5ED"
        }
       }
      },
      "text/html": [
       "<div>\n",
       "        \n",
       "        \n",
       "            <div id=\"ec7e5d51-db88-459e-bcd7-b21b550cd548\" class=\"plotly-graph-div\" style=\"height:525px; width:100%;\"></div>\n",
       "            <script type=\"text/javascript\">\n",
       "                require([\"plotly\"], function(Plotly) {\n",
       "                    window.PLOTLYENV=window.PLOTLYENV || {};\n",
       "                    window.PLOTLYENV.BASE_URL='https://plot.ly';\n",
       "                    \n",
       "                if (document.getElementById(\"ec7e5d51-db88-459e-bcd7-b21b550cd548\")) {\n",
       "                    Plotly.newPlot(\n",
       "                        'ec7e5d51-db88-459e-bcd7-b21b550cd548',\n",
       "                        [{\"histfunc\": \"count\", \"histnorm\": \"\", \"marker\": {\"color\": \"rgba(255, 153, 51, 1.0)\", \"line\": {\"color\": \"#4D5663\", \"width\": 1.3}}, \"name\": \"EIRE\", \"opacity\": 0.8, \"orientation\": \"v\", \"type\": \"histogram\", \"x\": [null, null, null, 230.0, 12.0, 6.0, null, null, null, 1548.0, null, null, 827.0, null, null, null, null, null, null, null, 134.0, 475.0, 3.0, null, null, null, null, null, null, null, null, null, null, null, 287.0, null, null, null, 379.0, null, null, null, 358.0, null, null, null, null, null, null, null, null, 373.0, null, null, null, 154.0, null, null, null, null, 344.0, null, null, null, null, null, 107.0, null, null, null, null, null, null, null, null, null, null, null, 84.0, null, null, null, null, null, null, null, null, null, null, null, null, null, null, null, null, null, null, null, 6198.0, null, null, null, null, 286.0, null, null, null, null, null, null, 1332.0, null, null, null, null, null, 46.0, null, null, null, null, null, 690.0, null, 154.0, null, null, null, null, null, null, null, null, null, null, null, null, null, 463.0, null, null, null, null, null, null, null, null, 270.0, null, 74.0, null, null, null, null, null, null, null, null, null, 939.0, null, null, null, 470.0, 1932.0, null, null, 86.0, null, null, null, null, 60.0, null, null, null, null, null, null, null, null, 668.0, null, null, null, null, null, null, null, null, null, null, null, null, null, 669.0, null, null, null, null, null, 263.0, 593.0, null, null, null, null, null, null, null, 263.0, 2826.0, 108.0, 218.0, null, null, null, null, null, 206.0, 498.0, 230.0, 511.0, 328.0, 335.0, null, null, null, null, null, null, 416.0, 265.0, null, null, null, null, null, 72.0, null, null, null, null, null, null, null, null, null, null, null, null, null, 113.0, null, null, 533.0, null, null, null, null, null, 744.0, null, null, null, null, null, null, null, null, null, null, null, 44.0, null, null, null, null, null, 713.0, 1162.0, null, null, null, 76.0, null, null, 655.0, null, 271.0, 118.0, null, null, null, null, 477.0, null, 112.0, null, null, null, null, null, null, null, 150.0, null, null, null, 233.0, null, null, null, null, null, null, null, null, null, 162.0, null, null, null, null, null, null, null, null, null, null, 297.0, 235.0, null, null, null, null, null, null, 192.0, null, 1694.0, null, 446.0, null, null, null, null, null, null, null, null, null, null, null, null, null, null, null, null, null, null, null, null, null, null, null, null, null, null, null, 138.0, 526.0, null, 543.0, null, 711.0, 494.0, null, null, null, null, null, null, 636.0, null, null, null, null, null, null, null, null, 112.0, 284.0, 225.0, null, null, null, null, null, null, null, null, 401.0, null, null, null, null, null, null, null, null, null, null, null, null, null, 304.0, 4.0, 4.0, null, null, null, null, null, null, null, null, null, null, null, null, null, null, null, null, null, null, null, null, null, null, null, null, null, 404.0, null, 191.0, null, null, null, null, 2090.0, 492.0, null, null, 244.0, 261.0, null, null, null, null, null, null, null, null, null, 427.0, null, null, null, null, null, null, null, null, 2642.0, 384.0, 268.0, null, null, null, 355.0, null, null, null, 83.0, null, null, null, null, null, null, 48.0, null, null, null, 308.0, 280.0, null, 186.0, 1.0, null, null, 571.0, 48.0, null, 314.0, 79.0, null, null, null, null, null, 2086.0, 17.0, null, 394.0, null, null, 81.0, 18.0, 697.0, null, null, null, null, null, 20.0, null, null, null, null, null, null, null, null, null, null, null, null, null, null, null, null, null, null, null, null, null, null, 688.0, null, 177.0, null, null, null, null, 1202.0, null, null, 5726.0, 496.0, 762.0, null, 256.0, null, null, null, null, null, null, null, null, null, 269.0, null, 228.0, 146.0, null, null, null, null, null, 251.0, null, null, 602.0, 55.0, null, 362.0, 2270.0, null, 286.0, 1410.0, 5246.0, null, null, null, null, null, null, null, null, null, 2270.0, null, null, null, null, null, 744.0, null, null, 603.0, null, null, null, null, 391.0, 314.0, 872.0, null, 554.0, null, 491.0, null, null, null, null, 579.0, null, null, null, null, 579.0, 12.0, null, 38.0, null, null, null, null, 644.0, null, 147.0, null, null, null, null, null, null, null, null, null, null, null, null, null, null, null, null, null, null, null, null, null, null, null, null, 572.0, null, null, null, 276.0, null, null, null, null, null, null, null, null, 1776.0, 408.0, null, null, 163.0, null, null, 1272.0, null, null, null, null, null, null, 5034.0, 456.0, null, null, 1145.0, 140.0, null, null, null, null, 417.0, null, 331.0, null, 942.0, null, 185.0, null, null, null, null, null, null, null, null, null, null, null, null, null, null, null, null, null, null, 734.0, null, null, 225.0, null, 84.0, null, null, null, null, null, null, null, null, null, null, null, null, null, null, 166.0, null, 615.0, null, 342.0, null, null, null, 93.0, null, null, null, null, 132.0, null, null, null, 670.0, 5.0, null, null, null, null, null, null, null, null, 717.0, null, 1242.0, null, null, null, 223.0, 256.0, null, 202.0, null, null, null, 549.0, 70.0, null, 333.0, 58.0, 16.0, null, null, null, null, null, null, 2720.0, null, 385.0, null, null, null, 18.0, null, null, null, null, null, null, null, null, null, null, null, null, null, null, null, 228.0, null, null, null, null, null, null, null, null, null, 448.0, null, null, null, null, null, null, 360.0, null, 646.0, null, null, 12.0, null, null, 85.0, 416.0, null, 1704.0, 46.0, 75.0, 510.0, 2.0, null, null, null, null, null, null, null, 406.0, null, null, null, null, null, 352.0, null, null, null, null, null, null, 668.0, 456.0, null, 66.0, 599.0, 223.0, 572.0, 36.0, null, 283.0, 342.0, null, null, null, null, null, null, 711.0, null, null, null, null, 4462.0, null, null, null, null, null, null, 490.0, null, null, 414.0, 487.0, null, null, null, null, 220.0, null, null, null, null, null, null, null, null, null, null, null, null, null, null, null, null, null, null, 184.0, null, null, null, null, null, null, 391.0, null, 624.0, null, null, null, 270.0, null, null, null, null, null, null, null, null, null, null, null, null, null, null, null, 324.0, 29.0, null, 334.0, null, 78.0, null, null, null, null, null, 580.0, null, null, null, null, null, null, null, null, null, null, null, null, 496.0, null, null, 152.0, null, null, 840.0, null, null, 258.0, null, null, null, null, null, 1200.0, 945.0, null, null, 205.0, null, null, null, null, 533.0, null, null, null, 198.0, 52.0, 226.0, 194.0, null, null, null, 2900.0, null, null, null, null, null, null, null, null, null, 147.0, null, null, null, null, 248.0, null, null, null, null, null, null, 383.0, null, null, null, null, null, null, null, null, null, 296.0, null, null, 440.0, null, null, 12.0, 614.0, null, null, null, 870.0, null, null, null, null, null, 238.0, null, 375.0, 59.0, null, null, null, null, null, null, null, null, 142.0, null, null, null, null, null, null, null, null, null, null, null, null, 91.0, null, 225.0, 605.0, null, 340.0, null, null, null, null, null, null, null, null, null, null, null, null, 99.0, 354.0, null, null, null, 132.0, null, null, null, null, 131.0, null, null, null, 256.0, null, null, null, null, null, null, null, 534.0, null, null, null, null, 184.0, 34.0, null, null, null, null, null, null, null, null, 817.0, 609.0, 572.0, null, null, null, null, null, null, null, null, null, 806.0, null, null, null, null, null]}, {\"histfunc\": \"count\", \"histnorm\": \"\", \"marker\": {\"color\": \"rgba(55, 128, 191, 1.0)\", \"line\": {\"color\": \"#4D5663\", \"width\": 1.3}}, \"name\": \"France\", \"opacity\": 0.8, \"orientation\": \"v\", \"type\": \"histogram\", \"x\": [446.0, null, null, null, null, null, null, 106.0, null, null, null, 130.0, null, null, 602.0, null, null, null, null, null, null, null, null, 581.0, 164.0, null, null, 120.0, null, null, 106.0, 8.0, null, 552.0, null, 339.0, null, 410.0, null, null, 134.0, 3.0, null, null, null, null, null, null, null, 332.0, null, null, 64.0, null, null, null, null, 128.0, 599.0, null, null, 24.0, null, 88.0, null, null, null, 359.0, 369.0, 261.0, 177.0, null, null, 488.0, null, 103.0, null, 78.0, null, null, null, 628.0, 168.0, null, 576.0, 120.0, 114.0, 43.0, null, 131.0, 498.0, null, 543.0, 78.0, null, null, 440.0, null, null, null, null, null, 263.0, null, null, null, 383.0, null, null, 702.0, null, null, 120.0, null, null, null, null, 84.0, null, null, null, null, null, null, null, null, null, null, 59.0, 406.0, 102.0, null, null, 1617.0, null, null, null, 202.0, null, null, null, 197.0, 159.0, null, 206.0, null, null, null, null, null, 611.0, null, 214.0, 298.0, null, null, null, 452.0, null, null, null, null, 96.0, null, null, 772.0, 114.0, null, null, null, null, 748.0, null, 15.0, 256.0, null, null, null, null, 77.0, null, null, null, 264.0, 96.0, null, null, 70.0, 213.0, 310.0, 72.0, 54.0, 245.0, null, 329.0, null, 314.0, 24.0, null, null, 123.0, null, null, null, null, null, null, null, null, null, null, null, null, null, null, 323.0, 183.0, null, 184.0, null, null, null, null, null, null, 314.0, null, 97.0, 62.0, null, null, null, null, null, null, null, null, null, null, null, null, 422.0, 85.0, 5.0, 198.0, null, null, null, 136.0, 713.0, 242.0, 130.0, null, null, 261.0, null, null, null, null, null, 59.0, null, 842.0, null, null, null, null, null, null, null, 946.0, 132.0, null, null, null, 2271.0, 88.0, 240.0, null, null, null, 293.0, null, null, null, null, null, null, null, null, null, 236.0, null, null, null, null, null, null, null, null, null, 284.0, null, null, null, null, 375.0, 25.0, null, null, null, null, 196.0, null, 23.0, 275.0, null, null, 84.0, null, null, null, 146.0, null, null, 368.0, 350.0, 6.0, 120.0, 192.0, null, null, null, null, null, null, null, 98.0, null, null, null, null, null, 773.0, 162.0, null, 332.0, 458.0, null, null, 859.0, null, null, null, 734.0, null, null, null, null, null, null, null, 105.0, null, null, null, 202.0, 33.0, 267.0, 140.0, null, null, 220.0, null, 58.0, null, null, 476.0, null, 103.0, 152.0, 72.0, null, null, null, null, null, 434.0, null, 126.0, null, null, null, null, null, 464.0, null, 229.0, null, null, 62.0, 304.0, null, null, null, null, null, 208.0, null, 180.0, null, 180.0, 374.0, null, null, null, null, null, null, null, null, 86.0, null, 424.0, null, 155.0, null, null, null, 200.0, null, null, null, null, null, null, null, null, null, 1184.0, 347.0, null, 358.0, null, 115.0, null, null, null, 216.0, 216.0, 464.0, 444.0, null, null, null, null, null, null, null, 320.0, 460.0, 160.0, null, 714.0, null, 549.0, null, null, null, 110.0, 232.0, null, 356.0, 170.0, 139.0, 206.0, null, null, null, null, null, 267.0, null, 514.0, null, 62.0, null, null, null, 50.0, 208.0, null, null, null, 350.0, 270.0, 384.0, null, null, null, null, null, null, 410.0, null, null, null, null, null, 118.0, null, null, null, 108.0, null, null, null, null, null, null, null, null, null, 284.0, 78.0, null, 256.0, null, null, 321.0, 592.0, null, null, null, null, 322.0, null, 135.0, 198.0, 236.0, 48.0, 76.0, 262.0, null, 156.0, null, null, 116.0, 666.0, null, null, null, null, null, null, null, null, 46.0, null, 82.0, 838.0, null, null, null, 32.0, null, null, null, null, null, null, null, null, null, null, null, null, null, null, null, 234.0, null, null, null, null, null, 147.0, null, null, null, null, null, 500.0, null, null, null, null, null, null, 52.0, null, null, 690.0, 279.0, null, null, null, 320.0, 162.0, null, null, null, null, null, null, null, null, null, 197.0, null, null, null, null, null, null, null, 178.0, 3.0, 603.0, null, null, null, 400.0, null, null, null, null, 231.0, null, 228.0, 459.0, null, null, null, 33.0, null, null, 234.0, null, null, null, null, 54.0, null, 402.0, null, 105.0, null, 139.0, null, null, null, null, null, null, 784.0, 170.0, null, 204.0, 145.0, null, null, null, null, null, null, 688.0, null, null, 820.0, 120.0, 198.0, null, null, null, 270.0, null, null, 98.0, 54.0, null, null, null, null, null, null, 506.0, null, null, 142.0, 184.0, null, null, null, null, null, null, null, 265.0, null, 646.0, null, 719.0, null, 644.0, 209.0, null, null, null, null, null, 104.0, 292.0, 719.0, null, null, 42.0, null, null, 72.0, null, null, null, 436.0, null, null, 1060.0, null, 164.0, 6.0, null, null, null, 228.0, null, null, null, 241.0, 177.0, null, 189.0, null, null, null, null, 306.0, null, null, 274.0, null, null, 416.0, 64.0, 63.0, null, null, 484.0, 255.0, null, null, null, null, 172.0, null, 282.0, null, null, null, 475.0, null, null, null, null, 169.0, 111.0, null, null, null, null, null, 64.0, 265.0, null, null, null, null, null, null, 335.0, 162.0, null, 201.0, 286.0, null, null, null, null, 710.0, 173.0, 183.0, null, 156.0, 80.0, 34.0, null, null, 885.0, null, null, 160.0, 188.0, 2.0, null, null, null, null, null, null, null, null, null, null, null, 29.0, null, null, null, 184.0, 342.0, null, null, null, null, null, 60.0, null, 158.0, null, null, null, null, null, null, 2801.0, null, null, null, null, null, null, 162.0, null, null, null, 72.0, 98.0, null, 218.0, 100.0, 122.0, null, null, null, null, null, 232.0, null, null, null, null, null, null, null, null, null, null, null, null, null, null, null, null, null, null, null, null, null, null, 566.0, null, 165.0, null, null, null, null, null, null, null, null, 524.0, null, null, null, null, null, null, null, null, null, null, null, null, 136.0, 297.0, 48.0, null, null, null, 76.0, null, null, 5202.0, 36.0, null, null, 5.0, null, 208.0, null, null, 326.0, null, 90.0, null, null, null, 344.0, 258.0, 421.0, null, null, null, null, 288.0, null, 567.0, null, 373.0, 92.0, null, 304.0, 33.0, null, null, null, null, null, null, null, null, null, 406.0, 459.0, 341.0, 151.0, null, null, null, null, null, 183.0, 104.0, 100.0, 206.0, 213.0, 330.0, 203.0, null, null, null, null, null, null, 220.0, null, null, null, 336.0, null, 760.0, 200.0, null, null, 96.0, null, null, 69.0, 343.0, null, 320.0, 222.0, null, null, null, 36.0, null, 439.0, null, null, null, null, null, null, null, null, null, null, 24.0, 662.0, null, null, null, null, null, null, null, null, null, 108.0, null, null, null, 766.0, 210.0, null, null, null, 510.0, null, 298.0, null, 154.0, null, null, null, 92.0, null, null, null, null, 221.0, 77.0, null, null, null, 268.0, null, null, 182.0, null, 171.0, null, null, null, null, null, null, null, null, null, null, 212.0, 7.0, null, null, null, null, 132.0, null, null, null, 825.0, null, null, null, 439.0, null, 310.0, null, 68.0, null, null, null, null, null, 126.0, 386.0, 386.0, null, 338.0, null, null, null, 300.0, null, 267.0, null, null, 147.0, 236.0, null, null, null, 806.0, 97.0, null, null, null, 168.0, 320.0, null, 84.0, null, 694.0, 14.0, 210.0, null, null, null, null, 74.0, 252.0, null, null, null, null, 467.0, 203.0, 300.0, 24.0, 250.0, null, 309.0, null, null, null, 247.0, null, null, null, null, null, null, 18.0, null, null, null, null, null, null, 105.0]}, {\"histfunc\": \"count\", \"histnorm\": \"\", \"marker\": {\"color\": \"rgba(50, 171, 96, 1.0)\", \"line\": {\"color\": \"#4D5663\", \"width\": 1.3}}, \"name\": \"Germany\", \"opacity\": 0.8, \"orientation\": \"v\", \"type\": \"histogram\", \"x\": [null, null, 156.0, null, null, null, 147.0, null, 76.0, null, 30.0, null, null, 59.0, null, 76.0, 10.0, 966.0, 295.0, 88.0, null, null, null, null, null, 150.0, 132.0, null, 84.0, 225.0, null, null, 82.0, null, null, null, 1075.0, null, null, 2.0, null, null, null, 42.0, 433.0, 6.0, 133.0, 81.0, 322.0, null, 221.0, null, null, 388.0, 333.0, null, null, null, null, 228.0, null, null, null, null, 62.0, 866.0, null, null, null, null, null, 92.0, 410.0, null, 1775.0, null, 363.0, null, null, 242.0, 389.0, null, null, 86.0, null, null, null, null, 95.0, null, null, 95.0, null, null, 164.0, 10.0, null, null, null, 70.0, 404.0, 171.0, null, null, 112.0, 36.0, null, null, null, null, null, null, null, 245.0, 45.0, 902.0, null, null, 603.0, 314.0, 221.0, 482.0, null, 206.0, null, 234.0, 125.0, 46.0, null, null, null, 278.0, 180.0, null, 126.0, 468.0, null, null, null, 59.0, null, null, null, 36.0, null, 102.0, 174.0, null, 182.0, null, null, null, null, null, 159.0, 50.0, 177.0, null, 639.0, null, 46.0, 409.0, null, null, null, null, null, null, 302.0, 76.0, 108.0, null, null, null, null, null, null, 266.0, 515.0, null, null, null, 198.0, null, null, 583.0, 122.0, null, null, null, null, null, null, 384.0, null, null, null, null, 341.0, 192.0, null, null, null, 90.0, 190.0, 76.0, 75.0, 168.0, 189.0, null, null, null, null, null, 613.0, null, null, null, null, null, null, null, null, null, null, null, 48.0, null, null, 366.0, 388.0, null, null, 168.0, 288.0, 12.0, 222.0, 546.0, null, 87.0, 24.0, null, null, null, null, null, 484.0, 482.0, null, null, null, null, null, 126.0, null, null, null, 480.0, 506.0, null, null, null, null, 421.0, 268.0, 156.0, null, null, null, 172.0, null, null, 48.0, null, 44.0, null, null, null, 108.0, null, null, null, 347.0, 40.0, null, null, null, null, 236.0, null, null, null, 757.0, 84.0, 218.0, null, 244.0, null, 40.0, 98.0, 728.0, null, 78.0, 226.0, 27.0, null, null, null, 617.0, null, 401.0, 466.0, null, 230.0, null, null, 145.0, 68.0, null, null, 460.0, null, null, 84.0, 639.0, null, null, null, null, null, null, null, 110.0, 10.0, 142.0, 238.0, 48.0, null, null, 16.0, null, 224.0, null, null, null, 377.0, null, null, 164.0, 145.0, null, 202.0, null, null, null, 83.0, 643.0, 104.0, 695.0, null, null, null, null, 4282.0, 288.0, 32.0, null, null, null, null, null, null, null, null, null, null, null, null, 526.0, null, null, null, null, null, 425.0, 90.0, 196.0, null, 468.0, null, 46.0, 34.0, null, null, null, null, null, null, 578.0, 382.0, null, null, 161.0, null, 12.0, 30.0, 242.0, null, 119.0, null, null, null, null, 191.0, 79.0, 39.0, 34.0, null, null, null, 184.0, null, null, null, 337.0, null, 254.0, null, 32.0, null, null, null, 553.0, null, 653.0, 420.0, null, 22.0, 237.0, null, null, 288.0, null, null, null, null, 290.0, null, null, null, null, null, null, null, 78.0, 36.0, null, null, null, null, null, null, 88.0, null, 342.0, null, 99.0, null, 412.0, null, null, 784.0, null, null, null, null, null, null, null, 457.0, 12.0, null, null, null, null, null, null, null, 1346.0, null, null, null, 270.0, null, null, null, null, null, null, 143.0, null, null, 71.0, null, null, null, 15.0, null, null, null, null, null, null, null, null, null, 166.0, null, 46.0, 578.0, null, null, null, null, null, 60.0, null, 863.0, null, null, null, 292.0, 148.0, 142.0, 396.0, null, 159.0, null, null, null, null, null, null, 124.0, null, 252.0, 192.0, null, null, 91.0, 776.0, null, 300.0, null, 115.0, 294.0, 105.0, null, null, null, null, null, null, null, null, null, 25.0, 56.0, 192.0, 331.0, 812.0, 306.0, null, 152.0, 516.0, null, 297.0, null, null, 422.0, null, 469.0, 408.0, 332.0, null, 222.0, null, null, null, 174.0, null, null, null, null, null, null, 645.0, 262.0, 136.0, null, 325.0, 187.0, null, null, 552.0, null, 32.0, null, null, 132.0, 416.0, null, 60.0, 271.0, null, 34.0, null, null, null, null, null, null, null, null, null, null, null, null, null, 460.0, null, 20.0, null, 316.0, 48.0, null, null, null, null, null, null, 99.0, 214.0, null, null, null, 185.0, null, 384.0, 348.0, 322.0, 359.0, null, null, null, 275.0, null, 70.0, null, 176.0, 29.0, 375.0, 6.0, 392.0, 109.0, null, null, 288.0, null, null, null, 190.0, null, null, null, 68.0, null, 131.0, 1151.0, null, null, null, 486.0, null, null, null, 312.0, null, null, null, null, 402.0, 38.0, 340.0, 266.0, 556.0, null, null, null, null, null, null, null, 324.0, 10.0, 316.0, 20.0, null, null, null, null, null, null, null, null, null, null, null, 532.0, 124.0, 8.0, null, null, null, null, 766.0, null, 193.0, 80.0, null, null, 212.0, null, null, 262.0, null, null, null, null, null, 226.0, 181.0, 68.0, null, null, null, 13.0, null, null, 1231.0, null, 174.0, null, 230.0, null, null, null, 104.0, null, 430.0, null, null, null, null, 336.0, null, null, null, null, null, null, 128.0, null, 63.0, null, 138.0, 424.0, 526.0, null, null, 456.0, null, 292.0, null, null, null, null, 260.0, null, 208.0, null, null, null, null, 163.0, null, null, null, null, null, 321.0, null, null, 163.0, null, 175.0, null, null, null, null, null, null, null, null, 395.0, 782.0, null, 962.0, null, null, null, null, null, null, 194.0, 50.0, null, 849.0, 66.0, 175.0, 244.0, 862.0, 12.0, null, 346.0, 180.0, null, null, null, 1292.0, 100.0, 122.0, null, null, null, null, null, 112.0, null, 311.0, 252.0, null, null, null, null, null, null, null, null, 322.0, null, 93.0, 26.0, 328.0, null, null, null, null, null, null, 67.0, 878.0, null, 176.0, 316.0, null, 222.0, 532.0, 476.0, null, null, 1550.0, null, null, null, null, null, 295.0, null, null, 82.0, 343.0, null, 290.0, 576.0, 1.0, null, 917.0, null, 128.0, null, null, null, null, null, 106.0, 48.0, 552.0, null, null, null, null, null, 201.0, null, null, 68.0, null, 292.0, 128.0, 4.0, 18.0, null, null, null, null, null, null, null, 136.0, 108.0, null, null, 74.0, 457.0, null, null, null, 160.0, 154.0, null, 112.0, null, null, 64.0, null, null, null, null, null, null, null, null, null, 63.0, null, 372.0, null, null, 39.0, null, null, 520.0, 256.0, 105.0, null, null, 139.0, null, 136.0, null, null, null, null, null, 84.0, null, 12.0, null, null, null, null, null, null, null, null, null, null, 146.0, null, 48.0, 131.0, null, null, 158.0, null, 321.0, null, null, null, null, 317.0, 603.0, null, null, null, null, null, null, null, null, 165.0, 70.0, null, null, 55.0, null, null, null, null, null, 536.0, 250.0, 90.0, null, 259.0, null, null, null, 495.0, 108.0, 5.0, 121.0, 576.0, null, 221.0, 42.0, 152.0, null, null, 511.0, 473.0, null, null, 127.0, 96.0, null, null, 338.0, null, 56.0, null, 80.0, 9.0, null, null, null, 52.0, null, null, null, null, null, null, 317.0, null, 3.0, null, null, 341.0, null, null, 219.0, null, null, null, null, null, null, null, 39.0, null, null, 72.0, 458.0, null, 200.0, null, 256.0, 582.0, 130.0, null, 358.0, 59.0, 322.0, null, 45.0, null, null, null, null, null, 292.0, null, 382.0, null, null, null, 48.0, null, 306.0, 228.0, 48.0, null, null, null, null, null, null, null, 148.0, null, 108.0, null, null, 85.0, null, 156.0, null, null, null, null, 8.0, null, null, null, 286.0, 178.0, null, 33.0, null, null, 6.0, null, null, 146.0, null, null, null, null, null, 163.0, null, null, null, null, null, null, null, 889.0, 134.0, 22.0, 987.0, null, null, null, 186.0, 95.0, 86.0, 505.0, null]}, {\"histfunc\": \"count\", \"histnorm\": \"\", \"marker\": {\"color\": \"rgba(128, 0, 128, 1.0)\", \"line\": {\"color\": \"#4D5663\", \"width\": 1.3}}, \"name\": \"Netherlands\", \"opacity\": 0.8, \"orientation\": \"v\", \"type\": \"histogram\", \"x\": [null, 96.0, null, null, null, null, null, null, null, null, null, null, null, null, null, null, null, null, null, null, null, null, null, null, null, null, null, null, null, null, null, null, null, null, null, null, null, null, null, null, null, null, null, null, null, null, null, null, null, null, null, null, null, null, null, null, 45.0, null, null, null, null, null, 6668.0, null, null, null, null, null, null, null, null, null, null, null, null, null, null, null, null, null, null, null, null, null, null, null, null, null, null, null, null, null, null, null, null, null, null, 8210.0, null, null, null, null, null, null, null, null, null, 6072.0, 288.0, null, null, 5730.0, null, null, null, null, null, null, null, null, null, null, null, null, null, null, null, null, null, null, null, null, null, null, null, null, 116.0, null, null, null, 111.0, null, null, null, null, null, null, null, null, null, null, 1116.0, null, null, null, null, null, null, null, null, null, null, null, null, null, null, null, null, null, null, null, null, null, null, null, 8174.0, 4034.0, null, null, null, 2940.0, null, null, null, null, null, null, null, null, null, null, null, null, null, null, null, null, null, null, null, null, null, null, null, null, null, null, null, null, 275.0, null, null, null, null, null, null, null, 151.0, null, null, null, null, null, null, null, null, null, null, null, null, null, null, null, null, null, null, null, null, null, null, null, null, null, null, null, 169.0, null, null, null, null, null, null, null, null, null, null, 722.0, null, null, 103.0, null, null, null, null, null, null, 1070.0, 11116.0, 1208.0, null, null, null, null, null, null, null, null, null, null, null, null, null, null, null, null, 636.0, 700.0, null, null, null, null, null, null, null, null, null, null, null, null, null, null, null, null, null, null, null, null, null, null, null, null, null, null, null, null, null, null, null, null, null, null, 426.0, null, null, null, null, null, null, null, null, null, null, null, null, null, null, null, null, null, null, null, null, null, null, null, null, null, null, null, null, null, null, 200.0, 72.0, null, null, null, null, null, 924.0, 12266.0, 72.0, null, null, null, null, null, null, null, null, null, null, null, null, null, null, null, null, null, null, null, null, 408.0, null, null, null, null, null, null, null, null, null, null, null, null, null, 126.0, null, null, null, null, null, null, null, null, null, null, null, null, null, 960.0, null, null, null, null, null, null, null, null, null, null, null, 4664.0, null, null, null, null, 64.0, null, null, 164.0, 1038.0, null, 1836.0, null, null, 328.0, null, null, null, null, null, null, 312.0, null, null, null, null, null, null, null, null, null, null, null, null, null, null, 84.0, null, null, null, null, null, null, null, null, null, null, null, null, null, null, null, null, null, null, null, null, null, null, null, null, null, 4718.0, null, null, 61.0, null, null, null, 350.0, null, null, null, null, null, null, null, null, null, null, null, null, null, null, null, null, null, null, 8998.0, 424.0, 1588.0, null, null, null, null, null, null, null, null, null, null, null, null, null, null, null, null, null, null, null, null, null, null, null, null, null, null, null, null, null, null, null, null, null, null, null, null, null, null, null, null, null, null, null, null, null, null, null, null, null, null, null, null, null, null, null, null, null, null, null, 9.0, null, null, null, null, null, null, null, null, null, null, null, null, null, null, null, null, null, null, null, null, null, null, null, null, null, null, null, null, null, null, null, null, null, null, null, null, null, null, null, null, null, null, null, 7807.0, 375.0, null, null, null, null, 14730.0, null, 992.0, null, null, null, null, null, null, null, null, null, null, null, null, null, null, null, null, null, null, null, null, null, null, null, null, null, null, null, null, 288.0, null, null, null, null, null, null, null, null, null, null, null, null, null, null, null, null, null, null, 4628.0, 480.0, null, null, null, null, null, null, null, null, null, null, null, null, null, null, null, null, null, null, null, null, null, null, null, null, null, null, null, null, null, null, null, null, null, null, null, null, null, null, null, null, null, null, 1012.0, 1.0, null, null, null, null, null, null, 144.0, null, null, null, null, null, 4951.0, null, null, null, null, null, null, null, null, null, null, null, null, null, 6932.0, 3717.0, null, null, null, null, null, null, null, null, null, null, null, null, null, null, null, null, null, null, null, null, null, null, 545.0, null, null, null, null, null, null, null, null, null, null, null, null, null, null, null, null, null, null, null, null, null, null, null, null, null, null, null, null, null, null, null, null, null, null, null, null, null, null, null, null, null, null, null, null, null, null, null, null, null, 3.0, null, null, null, 332.0, 15.0, null, null, null, null, null, null, null, null, null, null, null, null, null, null, null, null, null, null, 211.0, null, null, null, null, null, null, null, null, null, null, null, null, null, null, null, null, null, null, null, null, null, null, null, null, null, null, null, null, null, null, null, null, null, null, null, null, null, null, null, null, null, null, null, null, null, null, null, null, null, 269.0, null, null, null, null, null, null, null, null, null, 13392.0, 3020.0, 1728.0, null, null, null, null, null, 1780.0, null, null, null, 660.0, 29.0, null, null, null, null, null, null, null, null, null, 3069.0, 2400.0, 300.0, null, null, null, null, null, null, null, null, null, null, null, null, null, null, null, null, null, null, null, null, null, null, 2454.0, 216.0, 62.0, null, null, null, null, null, null, null, null, null, null, null, null, null, null, null, null, null, null, null, null, null, null, null, null, null, 6712.0, 1040.0, null, null, null, null, null, null, null, 32.0, null, null, null, null, null, null, null, null, null, null, null, null, null, null, null, null, null, null, null, null, null, null, null, null, null, null, null, null, null, null, null, null, null, null, null, null, null, null, 146.0, null, null, null, null, null, null, null, null, null, null, null, null, null, null, null, null, null, null, null, null, null, null, null, null, null, null, null, 32.0, null, null, null, 152.0, null, null, null, null, null, null, null, null, null, null, null, null, 372.0, null, null, 136.0, null, null, 5760.0, 200.0, 1284.0, null, null, null, null, null, null, null, null, null, null, null, null, null, null, null, null, null, null, null, null, null, null, null, null, null, null, null, null, null, null, null, null, null, null, 50.0, null, null, null, null, null, null, null, null, null, null, null, null, null, null, null, null, null, null, null, null, null, null, null, null, null, null, null, null, null, null, null, null, null, null, null, null, null, null, null, null, null, null, 7366.0, 452.0, null, null, null, null, null, 140.0, null, null, null, null, null, null]}],\n",
       "                        {\"barmode\": \"overlay\", \"legend\": {\"bgcolor\": \"#F5F6F9\", \"font\": {\"color\": \"#4D5663\"}}, \"paper_bgcolor\": \"#F5F6F9\", \"plot_bgcolor\": \"#F5F6F9\", \"template\": {\"data\": {\"bar\": [{\"error_x\": {\"color\": \"#2a3f5f\"}, \"error_y\": {\"color\": \"#2a3f5f\"}, \"marker\": {\"line\": {\"color\": \"#E5ECF6\", \"width\": 0.5}}, \"type\": \"bar\"}], \"barpolar\": [{\"marker\": {\"line\": {\"color\": \"#E5ECF6\", \"width\": 0.5}}, \"type\": \"barpolar\"}], \"carpet\": [{\"aaxis\": {\"endlinecolor\": \"#2a3f5f\", \"gridcolor\": \"white\", \"linecolor\": \"white\", \"minorgridcolor\": \"white\", \"startlinecolor\": \"#2a3f5f\"}, \"baxis\": {\"endlinecolor\": \"#2a3f5f\", \"gridcolor\": \"white\", \"linecolor\": \"white\", \"minorgridcolor\": \"white\", \"startlinecolor\": \"#2a3f5f\"}, \"type\": \"carpet\"}], \"choropleth\": [{\"colorbar\": {\"outlinewidth\": 0, \"ticks\": \"\"}, \"type\": \"choropleth\"}], \"contour\": [{\"colorbar\": {\"outlinewidth\": 0, \"ticks\": \"\"}, \"colorscale\": [[0.0, \"#0d0887\"], [0.1111111111111111, \"#46039f\"], [0.2222222222222222, \"#7201a8\"], [0.3333333333333333, \"#9c179e\"], [0.4444444444444444, \"#bd3786\"], [0.5555555555555556, \"#d8576b\"], [0.6666666666666666, \"#ed7953\"], [0.7777777777777778, \"#fb9f3a\"], [0.8888888888888888, \"#fdca26\"], [1.0, \"#f0f921\"]], \"type\": \"contour\"}], \"contourcarpet\": [{\"colorbar\": {\"outlinewidth\": 0, \"ticks\": \"\"}, \"type\": \"contourcarpet\"}], \"heatmap\": [{\"colorbar\": {\"outlinewidth\": 0, \"ticks\": \"\"}, \"colorscale\": [[0.0, \"#0d0887\"], [0.1111111111111111, \"#46039f\"], [0.2222222222222222, \"#7201a8\"], [0.3333333333333333, \"#9c179e\"], [0.4444444444444444, \"#bd3786\"], [0.5555555555555556, \"#d8576b\"], [0.6666666666666666, \"#ed7953\"], [0.7777777777777778, \"#fb9f3a\"], [0.8888888888888888, \"#fdca26\"], [1.0, \"#f0f921\"]], \"type\": \"heatmap\"}], \"heatmapgl\": [{\"colorbar\": {\"outlinewidth\": 0, \"ticks\": \"\"}, \"colorscale\": [[0.0, \"#0d0887\"], [0.1111111111111111, \"#46039f\"], [0.2222222222222222, \"#7201a8\"], [0.3333333333333333, \"#9c179e\"], [0.4444444444444444, \"#bd3786\"], [0.5555555555555556, \"#d8576b\"], [0.6666666666666666, \"#ed7953\"], [0.7777777777777778, \"#fb9f3a\"], [0.8888888888888888, \"#fdca26\"], [1.0, \"#f0f921\"]], \"type\": \"heatmapgl\"}], \"histogram\": [{\"marker\": {\"colorbar\": {\"outlinewidth\": 0, \"ticks\": \"\"}}, \"type\": \"histogram\"}], \"histogram2d\": [{\"colorbar\": {\"outlinewidth\": 0, \"ticks\": \"\"}, \"colorscale\": [[0.0, \"#0d0887\"], [0.1111111111111111, \"#46039f\"], [0.2222222222222222, \"#7201a8\"], [0.3333333333333333, \"#9c179e\"], [0.4444444444444444, \"#bd3786\"], [0.5555555555555556, \"#d8576b\"], [0.6666666666666666, \"#ed7953\"], [0.7777777777777778, \"#fb9f3a\"], [0.8888888888888888, \"#fdca26\"], [1.0, \"#f0f921\"]], \"type\": \"histogram2d\"}], \"histogram2dcontour\": [{\"colorbar\": {\"outlinewidth\": 0, \"ticks\": \"\"}, \"colorscale\": [[0.0, \"#0d0887\"], [0.1111111111111111, \"#46039f\"], [0.2222222222222222, \"#7201a8\"], [0.3333333333333333, \"#9c179e\"], [0.4444444444444444, \"#bd3786\"], [0.5555555555555556, \"#d8576b\"], [0.6666666666666666, \"#ed7953\"], [0.7777777777777778, \"#fb9f3a\"], [0.8888888888888888, \"#fdca26\"], [1.0, \"#f0f921\"]], \"type\": \"histogram2dcontour\"}], \"mesh3d\": [{\"colorbar\": {\"outlinewidth\": 0, \"ticks\": \"\"}, \"type\": \"mesh3d\"}], \"parcoords\": [{\"line\": {\"colorbar\": {\"outlinewidth\": 0, \"ticks\": \"\"}}, \"type\": \"parcoords\"}], \"pie\": [{\"automargin\": true, \"type\": \"pie\"}], \"scatter\": [{\"marker\": {\"colorbar\": {\"outlinewidth\": 0, \"ticks\": \"\"}}, \"type\": \"scatter\"}], \"scatter3d\": [{\"line\": {\"colorbar\": {\"outlinewidth\": 0, \"ticks\": \"\"}}, \"marker\": {\"colorbar\": {\"outlinewidth\": 0, \"ticks\": \"\"}}, \"type\": \"scatter3d\"}], \"scattercarpet\": [{\"marker\": {\"colorbar\": {\"outlinewidth\": 0, \"ticks\": \"\"}}, \"type\": \"scattercarpet\"}], \"scattergeo\": [{\"marker\": {\"colorbar\": {\"outlinewidth\": 0, \"ticks\": \"\"}}, \"type\": \"scattergeo\"}], \"scattergl\": [{\"marker\": {\"colorbar\": {\"outlinewidth\": 0, \"ticks\": \"\"}}, \"type\": \"scattergl\"}], \"scattermapbox\": [{\"marker\": {\"colorbar\": {\"outlinewidth\": 0, \"ticks\": \"\"}}, \"type\": \"scattermapbox\"}], \"scatterpolar\": [{\"marker\": {\"colorbar\": {\"outlinewidth\": 0, \"ticks\": \"\"}}, \"type\": \"scatterpolar\"}], \"scatterpolargl\": [{\"marker\": {\"colorbar\": {\"outlinewidth\": 0, \"ticks\": \"\"}}, \"type\": \"scatterpolargl\"}], \"scatterternary\": [{\"marker\": {\"colorbar\": {\"outlinewidth\": 0, \"ticks\": \"\"}}, \"type\": \"scatterternary\"}], \"surface\": [{\"colorbar\": {\"outlinewidth\": 0, \"ticks\": \"\"}, \"colorscale\": [[0.0, \"#0d0887\"], [0.1111111111111111, \"#46039f\"], [0.2222222222222222, \"#7201a8\"], [0.3333333333333333, \"#9c179e\"], [0.4444444444444444, \"#bd3786\"], [0.5555555555555556, \"#d8576b\"], [0.6666666666666666, \"#ed7953\"], [0.7777777777777778, \"#fb9f3a\"], [0.8888888888888888, \"#fdca26\"], [1.0, \"#f0f921\"]], \"type\": \"surface\"}], \"table\": [{\"cells\": {\"fill\": {\"color\": \"#EBF0F8\"}, \"line\": {\"color\": \"white\"}}, \"header\": {\"fill\": {\"color\": \"#C8D4E3\"}, \"line\": {\"color\": \"white\"}}, \"type\": \"table\"}]}, \"layout\": {\"annotationdefaults\": {\"arrowcolor\": \"#2a3f5f\", \"arrowhead\": 0, \"arrowwidth\": 1}, \"coloraxis\": {\"colorbar\": {\"outlinewidth\": 0, \"ticks\": \"\"}}, \"colorscale\": {\"diverging\": [[0, \"#8e0152\"], [0.1, \"#c51b7d\"], [0.2, \"#de77ae\"], [0.3, \"#f1b6da\"], [0.4, \"#fde0ef\"], [0.5, \"#f7f7f7\"], [0.6, \"#e6f5d0\"], [0.7, \"#b8e186\"], [0.8, \"#7fbc41\"], [0.9, \"#4d9221\"], [1, \"#276419\"]], \"sequential\": [[0.0, \"#0d0887\"], [0.1111111111111111, \"#46039f\"], [0.2222222222222222, \"#7201a8\"], [0.3333333333333333, \"#9c179e\"], [0.4444444444444444, \"#bd3786\"], [0.5555555555555556, \"#d8576b\"], [0.6666666666666666, \"#ed7953\"], [0.7777777777777778, \"#fb9f3a\"], [0.8888888888888888, \"#fdca26\"], [1.0, \"#f0f921\"]], \"sequentialminus\": [[0.0, \"#0d0887\"], [0.1111111111111111, \"#46039f\"], [0.2222222222222222, \"#7201a8\"], [0.3333333333333333, \"#9c179e\"], [0.4444444444444444, \"#bd3786\"], [0.5555555555555556, \"#d8576b\"], [0.6666666666666666, \"#ed7953\"], [0.7777777777777778, \"#fb9f3a\"], [0.8888888888888888, \"#fdca26\"], [1.0, \"#f0f921\"]]}, \"colorway\": [\"#636efa\", \"#EF553B\", \"#00cc96\", \"#ab63fa\", \"#FFA15A\", \"#19d3f3\", \"#FF6692\", \"#B6E880\", \"#FF97FF\", \"#FECB52\"], \"font\": {\"color\": \"#2a3f5f\"}, \"geo\": {\"bgcolor\": \"white\", \"lakecolor\": \"white\", \"landcolor\": \"#E5ECF6\", \"showlakes\": true, \"showland\": true, \"subunitcolor\": \"white\"}, \"hoverlabel\": {\"align\": \"left\"}, \"hovermode\": \"closest\", \"mapbox\": {\"style\": \"light\"}, \"paper_bgcolor\": \"white\", \"plot_bgcolor\": \"#E5ECF6\", \"polar\": {\"angularaxis\": {\"gridcolor\": \"white\", \"linecolor\": \"white\", \"ticks\": \"\"}, \"bgcolor\": \"#E5ECF6\", \"radialaxis\": {\"gridcolor\": \"white\", \"linecolor\": \"white\", \"ticks\": \"\"}}, \"scene\": {\"xaxis\": {\"backgroundcolor\": \"#E5ECF6\", \"gridcolor\": \"white\", \"gridwidth\": 2, \"linecolor\": \"white\", \"showbackground\": true, \"ticks\": \"\", \"zerolinecolor\": \"white\"}, \"yaxis\": {\"backgroundcolor\": \"#E5ECF6\", \"gridcolor\": \"white\", \"gridwidth\": 2, \"linecolor\": \"white\", \"showbackground\": true, \"ticks\": \"\", \"zerolinecolor\": \"white\"}, \"zaxis\": {\"backgroundcolor\": \"#E5ECF6\", \"gridcolor\": \"white\", \"gridwidth\": 2, \"linecolor\": \"white\", \"showbackground\": true, \"ticks\": \"\", \"zerolinecolor\": \"white\"}}, \"shapedefaults\": {\"line\": {\"color\": \"#2a3f5f\"}}, \"ternary\": {\"aaxis\": {\"gridcolor\": \"white\", \"linecolor\": \"white\", \"ticks\": \"\"}, \"baxis\": {\"gridcolor\": \"white\", \"linecolor\": \"white\", \"ticks\": \"\"}, \"bgcolor\": \"#E5ECF6\", \"caxis\": {\"gridcolor\": \"white\", \"linecolor\": \"white\", \"ticks\": \"\"}}, \"title\": {\"x\": 0.05}, \"xaxis\": {\"automargin\": true, \"gridcolor\": \"white\", \"linecolor\": \"white\", \"ticks\": \"\", \"title\": {\"standoff\": 15}, \"zerolinecolor\": \"white\", \"zerolinewidth\": 2}, \"yaxis\": {\"automargin\": true, \"gridcolor\": \"white\", \"linecolor\": \"white\", \"ticks\": \"\", \"title\": {\"standoff\": 15}, \"zerolinecolor\": \"white\", \"zerolinewidth\": 2}}}, \"title\": {\"font\": {\"color\": \"#4D5663\"}, \"text\": \"Distribution of invoice quantities\"}, \"xaxis\": {\"gridcolor\": \"#E1E5ED\", \"showgrid\": true, \"tickfont\": {\"color\": \"#4D5663\"}, \"title\": {\"font\": {\"color\": \"#4D5663\"}, \"text\": \"Quantity of Invoice\"}, \"zerolinecolor\": \"#E1E5ED\"}, \"yaxis\": {\"gridcolor\": \"#E1E5ED\", \"showgrid\": true, \"tickfont\": {\"color\": \"#4D5663\"}, \"title\": {\"font\": {\"color\": \"#4D5663\"}, \"text\": \"Amount of invoices\"}, \"zerolinecolor\": \"#E1E5ED\"}},\n",
       "                        {\"showLink\": true, \"linkText\": \"Export to plot.ly\", \"plotlyServerURL\": \"https://plot.ly\", \"responsive\": true}\n",
       "                    ).then(function(){\n",
       "                            \n",
       "var gd = document.getElementById('ec7e5d51-db88-459e-bcd7-b21b550cd548');\n",
       "var x = new MutationObserver(function (mutations, observer) {{\n",
       "        var display = window.getComputedStyle(gd).display;\n",
       "        if (!display || display === 'none') {{\n",
       "            console.log([gd, 'removed!']);\n",
       "            Plotly.purge(gd);\n",
       "            observer.disconnect();\n",
       "        }}\n",
       "}});\n",
       "\n",
       "// Listen for the removal of the full notebook cells\n",
       "var notebookContainer = gd.closest('#notebook-container');\n",
       "if (notebookContainer) {{\n",
       "    x.observe(notebookContainer, {childList: true});\n",
       "}}\n",
       "\n",
       "// Listen for the clearing of the current output cell\n",
       "var outputEl = gd.closest('.output');\n",
       "if (outputEl) {{\n",
       "    x.observe(outputEl, {childList: true});\n",
       "}}\n",
       "\n",
       "                        })\n",
       "                };\n",
       "                });\n",
       "            </script>\n",
       "        </div>"
      ]
     },
     "metadata": {},
     "output_type": "display_data"
    }
   ],
   "source": [
    "\n",
    "quantityperinvoice = data4.pivot_table(values='Quantity', columns='Country', \n",
    "                      index='InvoiceNo', aggfunc='sum')\n",
    "quantityperinvoice.iplot(kind='hist', xTitle='Quantity of Invoice', \n",
    "           yTitle='Amount of invoices', title='Distribution of invoice quantities')\t"
   ]
  },
  {
   "cell_type": "markdown",
   "metadata": {},
   "source": [
    "## 5. Create an interactive side-by-side bar chart showing the revenue by country listed below (bars) for each of the products listed below."
   ]
  },
  {
   "cell_type": "code",
   "execution_count": 412,
   "metadata": {},
   "outputs": [],
   "source": [
    "product_list = ['JUMBO BAG RED RETROSPOT', \n",
    "                'CREAM HANGING HEART T-LIGHT HOLDER',\n",
    "                'REGENCY CAKESTAND 3 TIER']\n",
    "\n",
    "country_list = ['EIRE', 'Germany', 'France', 'Netherlands']"
   ]
  },
  {
   "cell_type": "code",
   "execution_count": 413,
   "metadata": {},
   "outputs": [],
   "source": [
    "data5 = data"
   ]
  },
  {
   "cell_type": "code",
   "execution_count": 414,
   "metadata": {},
   "outputs": [],
   "source": [
    "data5 = data5[(data5[\"Country\"] == \"EIRE\" ) | (data5[\"Country\"] == \"Germany\" ) | (data5[\"Country\"] == \"France\" ) | (data5[\"Country\"] == \"Netherlands\" ) ]"
   ]
  },
  {
   "cell_type": "code",
   "execution_count": 415,
   "metadata": {},
   "outputs": [],
   "source": [
    "data5 = data5[(data5[\"Description\"].isin(product_list))]"
   ]
  },
  {
   "cell_type": "code",
   "execution_count": 416,
   "metadata": {},
   "outputs": [
    {
     "data": {
      "text/html": [
       "<div>\n",
       "<style scoped>\n",
       "    .dataframe tbody tr th:only-of-type {\n",
       "        vertical-align: middle;\n",
       "    }\n",
       "\n",
       "    .dataframe tbody tr th {\n",
       "        vertical-align: top;\n",
       "    }\n",
       "\n",
       "    .dataframe thead th {\n",
       "        text-align: right;\n",
       "    }\n",
       "</style>\n",
       "<table border=\"1\" class=\"dataframe\">\n",
       "  <thead>\n",
       "    <tr style=\"text-align: right;\">\n",
       "      <th></th>\n",
       "      <th>InvoiceNo</th>\n",
       "      <th>InvoiceDate</th>\n",
       "      <th>StockCode</th>\n",
       "      <th>Description</th>\n",
       "      <th>Quantity</th>\n",
       "      <th>UnitPrice</th>\n",
       "      <th>Revenue</th>\n",
       "      <th>CustomerID</th>\n",
       "      <th>Country</th>\n",
       "    </tr>\n",
       "  </thead>\n",
       "  <tbody>\n",
       "    <tr>\n",
       "      <th>179</th>\n",
       "      <td>539320</td>\n",
       "      <td>2010-12-16 19:16:00</td>\n",
       "      <td>85123A</td>\n",
       "      <td>CREAM HANGING HEART T-LIGHT HOLDER</td>\n",
       "      <td>24</td>\n",
       "      <td>2.95</td>\n",
       "      <td>70.80</td>\n",
       "      <td>14911</td>\n",
       "      <td>EIRE</td>\n",
       "    </tr>\n",
       "    <tr>\n",
       "      <th>198</th>\n",
       "      <td>539722</td>\n",
       "      <td>2010-12-21 13:45:00</td>\n",
       "      <td>85123A</td>\n",
       "      <td>CREAM HANGING HEART T-LIGHT HOLDER</td>\n",
       "      <td>24</td>\n",
       "      <td>2.95</td>\n",
       "      <td>70.80</td>\n",
       "      <td>14911</td>\n",
       "      <td>EIRE</td>\n",
       "    </tr>\n",
       "    <tr>\n",
       "      <th>304</th>\n",
       "      <td>541570</td>\n",
       "      <td>2011-01-19 12:34:00</td>\n",
       "      <td>85123A</td>\n",
       "      <td>CREAM HANGING HEART T-LIGHT HOLDER</td>\n",
       "      <td>256</td>\n",
       "      <td>2.55</td>\n",
       "      <td>652.80</td>\n",
       "      <td>14646</td>\n",
       "      <td>Netherlands</td>\n",
       "    </tr>\n",
       "    <tr>\n",
       "      <th>322</th>\n",
       "      <td>541979</td>\n",
       "      <td>2011-01-24 14:54:00</td>\n",
       "      <td>85123A</td>\n",
       "      <td>CREAM HANGING HEART T-LIGHT HOLDER</td>\n",
       "      <td>6</td>\n",
       "      <td>2.95</td>\n",
       "      <td>17.70</td>\n",
       "      <td>14911</td>\n",
       "      <td>EIRE</td>\n",
       "    </tr>\n",
       "    <tr>\n",
       "      <th>367</th>\n",
       "      <td>542777</td>\n",
       "      <td>2011-02-01 08:31:00</td>\n",
       "      <td>85123A</td>\n",
       "      <td>CREAM HANGING HEART T-LIGHT HOLDER</td>\n",
       "      <td>6</td>\n",
       "      <td>2.95</td>\n",
       "      <td>17.70</td>\n",
       "      <td>14911</td>\n",
       "      <td>EIRE</td>\n",
       "    </tr>\n",
       "    <tr>\n",
       "      <th>...</th>\n",
       "      <td>...</td>\n",
       "      <td>...</td>\n",
       "      <td>...</td>\n",
       "      <td>...</td>\n",
       "      <td>...</td>\n",
       "      <td>...</td>\n",
       "      <td>...</td>\n",
       "      <td>...</td>\n",
       "      <td>...</td>\n",
       "    </tr>\n",
       "    <tr>\n",
       "      <th>143798</th>\n",
       "      <td>580753</td>\n",
       "      <td>2011-12-06 10:00:00</td>\n",
       "      <td>22423</td>\n",
       "      <td>REGENCY CAKESTAND 3 TIER</td>\n",
       "      <td>1</td>\n",
       "      <td>12.75</td>\n",
       "      <td>12.75</td>\n",
       "      <td>12682</td>\n",
       "      <td>France</td>\n",
       "    </tr>\n",
       "    <tr>\n",
       "      <th>143808</th>\n",
       "      <td>581098</td>\n",
       "      <td>2011-12-07 11:42:00</td>\n",
       "      <td>22423</td>\n",
       "      <td>REGENCY CAKESTAND 3 TIER</td>\n",
       "      <td>16</td>\n",
       "      <td>10.95</td>\n",
       "      <td>175.20</td>\n",
       "      <td>14911</td>\n",
       "      <td>EIRE</td>\n",
       "    </tr>\n",
       "    <tr>\n",
       "      <th>143809</th>\n",
       "      <td>581175</td>\n",
       "      <td>2011-12-07 15:16:00</td>\n",
       "      <td>22423</td>\n",
       "      <td>REGENCY CAKESTAND 3 TIER</td>\n",
       "      <td>32</td>\n",
       "      <td>10.95</td>\n",
       "      <td>350.40</td>\n",
       "      <td>14646</td>\n",
       "      <td>Netherlands</td>\n",
       "    </tr>\n",
       "    <tr>\n",
       "      <th>143810</th>\n",
       "      <td>581179</td>\n",
       "      <td>2011-12-07 15:43:00</td>\n",
       "      <td>22423</td>\n",
       "      <td>REGENCY CAKESTAND 3 TIER</td>\n",
       "      <td>64</td>\n",
       "      <td>10.95</td>\n",
       "      <td>700.80</td>\n",
       "      <td>12471</td>\n",
       "      <td>Germany</td>\n",
       "    </tr>\n",
       "    <tr>\n",
       "      <th>143813</th>\n",
       "      <td>581279</td>\n",
       "      <td>2011-12-08 11:35:00</td>\n",
       "      <td>22423</td>\n",
       "      <td>REGENCY CAKESTAND 3 TIER</td>\n",
       "      <td>6</td>\n",
       "      <td>12.75</td>\n",
       "      <td>76.50</td>\n",
       "      <td>12437</td>\n",
       "      <td>France</td>\n",
       "    </tr>\n",
       "  </tbody>\n",
       "</table>\n",
       "<p>338 rows × 9 columns</p>\n",
       "</div>"
      ],
      "text/plain": [
       "        InvoiceNo         InvoiceDate StockCode  \\\n",
       "179        539320 2010-12-16 19:16:00    85123A   \n",
       "198        539722 2010-12-21 13:45:00    85123A   \n",
       "304        541570 2011-01-19 12:34:00    85123A   \n",
       "322        541979 2011-01-24 14:54:00    85123A   \n",
       "367        542777 2011-02-01 08:31:00    85123A   \n",
       "...           ...                 ...       ...   \n",
       "143798     580753 2011-12-06 10:00:00     22423   \n",
       "143808     581098 2011-12-07 11:42:00     22423   \n",
       "143809     581175 2011-12-07 15:16:00     22423   \n",
       "143810     581179 2011-12-07 15:43:00     22423   \n",
       "143813     581279 2011-12-08 11:35:00     22423   \n",
       "\n",
       "                               Description  Quantity  UnitPrice  Revenue  \\\n",
       "179     CREAM HANGING HEART T-LIGHT HOLDER        24       2.95    70.80   \n",
       "198     CREAM HANGING HEART T-LIGHT HOLDER        24       2.95    70.80   \n",
       "304     CREAM HANGING HEART T-LIGHT HOLDER       256       2.55   652.80   \n",
       "322     CREAM HANGING HEART T-LIGHT HOLDER         6       2.95    17.70   \n",
       "367     CREAM HANGING HEART T-LIGHT HOLDER         6       2.95    17.70   \n",
       "...                                    ...       ...        ...      ...   \n",
       "143798            REGENCY CAKESTAND 3 TIER         1      12.75    12.75   \n",
       "143808            REGENCY CAKESTAND 3 TIER        16      10.95   175.20   \n",
       "143809            REGENCY CAKESTAND 3 TIER        32      10.95   350.40   \n",
       "143810            REGENCY CAKESTAND 3 TIER        64      10.95   700.80   \n",
       "143813            REGENCY CAKESTAND 3 TIER         6      12.75    76.50   \n",
       "\n",
       "        CustomerID      Country  \n",
       "179          14911         EIRE  \n",
       "198          14911         EIRE  \n",
       "304          14646  Netherlands  \n",
       "322          14911         EIRE  \n",
       "367          14911         EIRE  \n",
       "...            ...          ...  \n",
       "143798       12682       France  \n",
       "143808       14911         EIRE  \n",
       "143809       14646  Netherlands  \n",
       "143810       12471      Germany  \n",
       "143813       12437       France  \n",
       "\n",
       "[338 rows x 9 columns]"
      ]
     },
     "execution_count": 416,
     "metadata": {},
     "output_type": "execute_result"
    }
   ],
   "source": [
    "data5"
   ]
  },
  {
   "cell_type": "code",
   "execution_count": 417,
   "metadata": {},
   "outputs": [],
   "source": [
    "\n",
    "data6 = data5.pivot_table(values='Revenue', columns=['Description'], \n",
    "                      index=['Country'], aggfunc='sum')\n"
   ]
  },
  {
   "cell_type": "code",
   "execution_count": 418,
   "metadata": {},
   "outputs": [
    {
     "data": {
      "text/html": [
       "<div>\n",
       "<style scoped>\n",
       "    .dataframe tbody tr th:only-of-type {\n",
       "        vertical-align: middle;\n",
       "    }\n",
       "\n",
       "    .dataframe tbody tr th {\n",
       "        vertical-align: top;\n",
       "    }\n",
       "\n",
       "    .dataframe thead th {\n",
       "        text-align: right;\n",
       "    }\n",
       "</style>\n",
       "<table border=\"1\" class=\"dataframe\">\n",
       "  <thead>\n",
       "    <tr style=\"text-align: right;\">\n",
       "      <th>Description</th>\n",
       "      <th>CREAM HANGING HEART T-LIGHT HOLDER</th>\n",
       "      <th>JUMBO BAG RED RETROSPOT</th>\n",
       "      <th>REGENCY CAKESTAND 3 TIER</th>\n",
       "    </tr>\n",
       "    <tr>\n",
       "      <th>Country</th>\n",
       "      <th></th>\n",
       "      <th></th>\n",
       "      <th></th>\n",
       "    </tr>\n",
       "  </thead>\n",
       "  <tbody>\n",
       "    <tr>\n",
       "      <th>EIRE</th>\n",
       "      <td>2740.80</td>\n",
       "      <td>278.72</td>\n",
       "      <td>7388.55</td>\n",
       "    </tr>\n",
       "    <tr>\n",
       "      <th>France</th>\n",
       "      <td>131.75</td>\n",
       "      <td>903.37</td>\n",
       "      <td>2816.85</td>\n",
       "    </tr>\n",
       "    <tr>\n",
       "      <th>Germany</th>\n",
       "      <td>35.40</td>\n",
       "      <td>1072.76</td>\n",
       "      <td>9061.95</td>\n",
       "    </tr>\n",
       "    <tr>\n",
       "      <th>Netherlands</th>\n",
       "      <td>1167.00</td>\n",
       "      <td>3468.00</td>\n",
       "      <td>3166.35</td>\n",
       "    </tr>\n",
       "  </tbody>\n",
       "</table>\n",
       "</div>"
      ],
      "text/plain": [
       "Description  CREAM HANGING HEART T-LIGHT HOLDER  JUMBO BAG RED RETROSPOT  \\\n",
       "Country                                                                    \n",
       "EIRE                                    2740.80                   278.72   \n",
       "France                                   131.75                   903.37   \n",
       "Germany                                   35.40                  1072.76   \n",
       "Netherlands                             1167.00                  3468.00   \n",
       "\n",
       "Description  REGENCY CAKESTAND 3 TIER  \n",
       "Country                                \n",
       "EIRE                          7388.55  \n",
       "France                        2816.85  \n",
       "Germany                       9061.95  \n",
       "Netherlands                   3166.35  "
      ]
     },
     "execution_count": 418,
     "metadata": {},
     "output_type": "execute_result"
    }
   ],
   "source": [
    "data6"
   ]
  },
  {
   "cell_type": "code",
   "execution_count": 419,
   "metadata": {},
   "outputs": [
    {
     "data": {
      "application/vnd.plotly.v1+json": {
       "config": {
        "plotlyServerURL": "https://plot.ly"
       },
       "data": [
        {
         "name": "CREAM HANGING HEART T-LIGHT HOLDER",
         "type": "bar",
         "x": [
          "EIRE",
          "France",
          "Germany",
          "Netherlands"
         ],
         "y": [
          2740.8,
          131.75,
          35.40000000000001,
          1167
         ]
        },
        {
         "name": "JUMBO BAG RED RETROSPOT",
         "type": "bar",
         "x": [
          "EIRE",
          "France",
          "Germany",
          "Netherlands"
         ],
         "y": [
          278.72,
          903.3699999999998,
          1072.7599999999998,
          3468
         ]
        },
        {
         "name": "REGENCY CAKESTAND 3 TIER",
         "type": "bar",
         "x": [
          "EIRE",
          "France",
          "Germany",
          "Netherlands"
         ],
         "y": [
          7388.5499999999965,
          2816.85,
          9061.949999999997,
          3166.35
         ]
        }
       ],
       "layout": {
        "barmode": "group",
        "template": {
         "data": {
          "bar": [
           {
            "error_x": {
             "color": "#2a3f5f"
            },
            "error_y": {
             "color": "#2a3f5f"
            },
            "marker": {
             "line": {
              "color": "#E5ECF6",
              "width": 0.5
             }
            },
            "type": "bar"
           }
          ],
          "barpolar": [
           {
            "marker": {
             "line": {
              "color": "#E5ECF6",
              "width": 0.5
             }
            },
            "type": "barpolar"
           }
          ],
          "carpet": [
           {
            "aaxis": {
             "endlinecolor": "#2a3f5f",
             "gridcolor": "white",
             "linecolor": "white",
             "minorgridcolor": "white",
             "startlinecolor": "#2a3f5f"
            },
            "baxis": {
             "endlinecolor": "#2a3f5f",
             "gridcolor": "white",
             "linecolor": "white",
             "minorgridcolor": "white",
             "startlinecolor": "#2a3f5f"
            },
            "type": "carpet"
           }
          ],
          "choropleth": [
           {
            "colorbar": {
             "outlinewidth": 0,
             "ticks": ""
            },
            "type": "choropleth"
           }
          ],
          "contour": [
           {
            "colorbar": {
             "outlinewidth": 0,
             "ticks": ""
            },
            "colorscale": [
             [
              0,
              "#0d0887"
             ],
             [
              0.1111111111111111,
              "#46039f"
             ],
             [
              0.2222222222222222,
              "#7201a8"
             ],
             [
              0.3333333333333333,
              "#9c179e"
             ],
             [
              0.4444444444444444,
              "#bd3786"
             ],
             [
              0.5555555555555556,
              "#d8576b"
             ],
             [
              0.6666666666666666,
              "#ed7953"
             ],
             [
              0.7777777777777778,
              "#fb9f3a"
             ],
             [
              0.8888888888888888,
              "#fdca26"
             ],
             [
              1,
              "#f0f921"
             ]
            ],
            "type": "contour"
           }
          ],
          "contourcarpet": [
           {
            "colorbar": {
             "outlinewidth": 0,
             "ticks": ""
            },
            "type": "contourcarpet"
           }
          ],
          "heatmap": [
           {
            "colorbar": {
             "outlinewidth": 0,
             "ticks": ""
            },
            "colorscale": [
             [
              0,
              "#0d0887"
             ],
             [
              0.1111111111111111,
              "#46039f"
             ],
             [
              0.2222222222222222,
              "#7201a8"
             ],
             [
              0.3333333333333333,
              "#9c179e"
             ],
             [
              0.4444444444444444,
              "#bd3786"
             ],
             [
              0.5555555555555556,
              "#d8576b"
             ],
             [
              0.6666666666666666,
              "#ed7953"
             ],
             [
              0.7777777777777778,
              "#fb9f3a"
             ],
             [
              0.8888888888888888,
              "#fdca26"
             ],
             [
              1,
              "#f0f921"
             ]
            ],
            "type": "heatmap"
           }
          ],
          "heatmapgl": [
           {
            "colorbar": {
             "outlinewidth": 0,
             "ticks": ""
            },
            "colorscale": [
             [
              0,
              "#0d0887"
             ],
             [
              0.1111111111111111,
              "#46039f"
             ],
             [
              0.2222222222222222,
              "#7201a8"
             ],
             [
              0.3333333333333333,
              "#9c179e"
             ],
             [
              0.4444444444444444,
              "#bd3786"
             ],
             [
              0.5555555555555556,
              "#d8576b"
             ],
             [
              0.6666666666666666,
              "#ed7953"
             ],
             [
              0.7777777777777778,
              "#fb9f3a"
             ],
             [
              0.8888888888888888,
              "#fdca26"
             ],
             [
              1,
              "#f0f921"
             ]
            ],
            "type": "heatmapgl"
           }
          ],
          "histogram": [
           {
            "marker": {
             "colorbar": {
              "outlinewidth": 0,
              "ticks": ""
             }
            },
            "type": "histogram"
           }
          ],
          "histogram2d": [
           {
            "colorbar": {
             "outlinewidth": 0,
             "ticks": ""
            },
            "colorscale": [
             [
              0,
              "#0d0887"
             ],
             [
              0.1111111111111111,
              "#46039f"
             ],
             [
              0.2222222222222222,
              "#7201a8"
             ],
             [
              0.3333333333333333,
              "#9c179e"
             ],
             [
              0.4444444444444444,
              "#bd3786"
             ],
             [
              0.5555555555555556,
              "#d8576b"
             ],
             [
              0.6666666666666666,
              "#ed7953"
             ],
             [
              0.7777777777777778,
              "#fb9f3a"
             ],
             [
              0.8888888888888888,
              "#fdca26"
             ],
             [
              1,
              "#f0f921"
             ]
            ],
            "type": "histogram2d"
           }
          ],
          "histogram2dcontour": [
           {
            "colorbar": {
             "outlinewidth": 0,
             "ticks": ""
            },
            "colorscale": [
             [
              0,
              "#0d0887"
             ],
             [
              0.1111111111111111,
              "#46039f"
             ],
             [
              0.2222222222222222,
              "#7201a8"
             ],
             [
              0.3333333333333333,
              "#9c179e"
             ],
             [
              0.4444444444444444,
              "#bd3786"
             ],
             [
              0.5555555555555556,
              "#d8576b"
             ],
             [
              0.6666666666666666,
              "#ed7953"
             ],
             [
              0.7777777777777778,
              "#fb9f3a"
             ],
             [
              0.8888888888888888,
              "#fdca26"
             ],
             [
              1,
              "#f0f921"
             ]
            ],
            "type": "histogram2dcontour"
           }
          ],
          "mesh3d": [
           {
            "colorbar": {
             "outlinewidth": 0,
             "ticks": ""
            },
            "type": "mesh3d"
           }
          ],
          "parcoords": [
           {
            "line": {
             "colorbar": {
              "outlinewidth": 0,
              "ticks": ""
             }
            },
            "type": "parcoords"
           }
          ],
          "pie": [
           {
            "automargin": true,
            "type": "pie"
           }
          ],
          "scatter": [
           {
            "marker": {
             "colorbar": {
              "outlinewidth": 0,
              "ticks": ""
             }
            },
            "type": "scatter"
           }
          ],
          "scatter3d": [
           {
            "line": {
             "colorbar": {
              "outlinewidth": 0,
              "ticks": ""
             }
            },
            "marker": {
             "colorbar": {
              "outlinewidth": 0,
              "ticks": ""
             }
            },
            "type": "scatter3d"
           }
          ],
          "scattercarpet": [
           {
            "marker": {
             "colorbar": {
              "outlinewidth": 0,
              "ticks": ""
             }
            },
            "type": "scattercarpet"
           }
          ],
          "scattergeo": [
           {
            "marker": {
             "colorbar": {
              "outlinewidth": 0,
              "ticks": ""
             }
            },
            "type": "scattergeo"
           }
          ],
          "scattergl": [
           {
            "marker": {
             "colorbar": {
              "outlinewidth": 0,
              "ticks": ""
             }
            },
            "type": "scattergl"
           }
          ],
          "scattermapbox": [
           {
            "marker": {
             "colorbar": {
              "outlinewidth": 0,
              "ticks": ""
             }
            },
            "type": "scattermapbox"
           }
          ],
          "scatterpolar": [
           {
            "marker": {
             "colorbar": {
              "outlinewidth": 0,
              "ticks": ""
             }
            },
            "type": "scatterpolar"
           }
          ],
          "scatterpolargl": [
           {
            "marker": {
             "colorbar": {
              "outlinewidth": 0,
              "ticks": ""
             }
            },
            "type": "scatterpolargl"
           }
          ],
          "scatterternary": [
           {
            "marker": {
             "colorbar": {
              "outlinewidth": 0,
              "ticks": ""
             }
            },
            "type": "scatterternary"
           }
          ],
          "surface": [
           {
            "colorbar": {
             "outlinewidth": 0,
             "ticks": ""
            },
            "colorscale": [
             [
              0,
              "#0d0887"
             ],
             [
              0.1111111111111111,
              "#46039f"
             ],
             [
              0.2222222222222222,
              "#7201a8"
             ],
             [
              0.3333333333333333,
              "#9c179e"
             ],
             [
              0.4444444444444444,
              "#bd3786"
             ],
             [
              0.5555555555555556,
              "#d8576b"
             ],
             [
              0.6666666666666666,
              "#ed7953"
             ],
             [
              0.7777777777777778,
              "#fb9f3a"
             ],
             [
              0.8888888888888888,
              "#fdca26"
             ],
             [
              1,
              "#f0f921"
             ]
            ],
            "type": "surface"
           }
          ],
          "table": [
           {
            "cells": {
             "fill": {
              "color": "#EBF0F8"
             },
             "line": {
              "color": "white"
             }
            },
            "header": {
             "fill": {
              "color": "#C8D4E3"
             },
             "line": {
              "color": "white"
             }
            },
            "type": "table"
           }
          ]
         },
         "layout": {
          "annotationdefaults": {
           "arrowcolor": "#2a3f5f",
           "arrowhead": 0,
           "arrowwidth": 1
          },
          "coloraxis": {
           "colorbar": {
            "outlinewidth": 0,
            "ticks": ""
           }
          },
          "colorscale": {
           "diverging": [
            [
             0,
             "#8e0152"
            ],
            [
             0.1,
             "#c51b7d"
            ],
            [
             0.2,
             "#de77ae"
            ],
            [
             0.3,
             "#f1b6da"
            ],
            [
             0.4,
             "#fde0ef"
            ],
            [
             0.5,
             "#f7f7f7"
            ],
            [
             0.6,
             "#e6f5d0"
            ],
            [
             0.7,
             "#b8e186"
            ],
            [
             0.8,
             "#7fbc41"
            ],
            [
             0.9,
             "#4d9221"
            ],
            [
             1,
             "#276419"
            ]
           ],
           "sequential": [
            [
             0,
             "#0d0887"
            ],
            [
             0.1111111111111111,
             "#46039f"
            ],
            [
             0.2222222222222222,
             "#7201a8"
            ],
            [
             0.3333333333333333,
             "#9c179e"
            ],
            [
             0.4444444444444444,
             "#bd3786"
            ],
            [
             0.5555555555555556,
             "#d8576b"
            ],
            [
             0.6666666666666666,
             "#ed7953"
            ],
            [
             0.7777777777777778,
             "#fb9f3a"
            ],
            [
             0.8888888888888888,
             "#fdca26"
            ],
            [
             1,
             "#f0f921"
            ]
           ],
           "sequentialminus": [
            [
             0,
             "#0d0887"
            ],
            [
             0.1111111111111111,
             "#46039f"
            ],
            [
             0.2222222222222222,
             "#7201a8"
            ],
            [
             0.3333333333333333,
             "#9c179e"
            ],
            [
             0.4444444444444444,
             "#bd3786"
            ],
            [
             0.5555555555555556,
             "#d8576b"
            ],
            [
             0.6666666666666666,
             "#ed7953"
            ],
            [
             0.7777777777777778,
             "#fb9f3a"
            ],
            [
             0.8888888888888888,
             "#fdca26"
            ],
            [
             1,
             "#f0f921"
            ]
           ]
          },
          "colorway": [
           "#636efa",
           "#EF553B",
           "#00cc96",
           "#ab63fa",
           "#FFA15A",
           "#19d3f3",
           "#FF6692",
           "#B6E880",
           "#FF97FF",
           "#FECB52"
          ],
          "font": {
           "color": "#2a3f5f"
          },
          "geo": {
           "bgcolor": "white",
           "lakecolor": "white",
           "landcolor": "#E5ECF6",
           "showlakes": true,
           "showland": true,
           "subunitcolor": "white"
          },
          "hoverlabel": {
           "align": "left"
          },
          "hovermode": "closest",
          "mapbox": {
           "style": "light"
          },
          "paper_bgcolor": "white",
          "plot_bgcolor": "#E5ECF6",
          "polar": {
           "angularaxis": {
            "gridcolor": "white",
            "linecolor": "white",
            "ticks": ""
           },
           "bgcolor": "#E5ECF6",
           "radialaxis": {
            "gridcolor": "white",
            "linecolor": "white",
            "ticks": ""
           }
          },
          "scene": {
           "xaxis": {
            "backgroundcolor": "#E5ECF6",
            "gridcolor": "white",
            "gridwidth": 2,
            "linecolor": "white",
            "showbackground": true,
            "ticks": "",
            "zerolinecolor": "white"
           },
           "yaxis": {
            "backgroundcolor": "#E5ECF6",
            "gridcolor": "white",
            "gridwidth": 2,
            "linecolor": "white",
            "showbackground": true,
            "ticks": "",
            "zerolinecolor": "white"
           },
           "zaxis": {
            "backgroundcolor": "#E5ECF6",
            "gridcolor": "white",
            "gridwidth": 2,
            "linecolor": "white",
            "showbackground": true,
            "ticks": "",
            "zerolinecolor": "white"
           }
          },
          "shapedefaults": {
           "line": {
            "color": "#2a3f5f"
           }
          },
          "ternary": {
           "aaxis": {
            "gridcolor": "white",
            "linecolor": "white",
            "ticks": ""
           },
           "baxis": {
            "gridcolor": "white",
            "linecolor": "white",
            "ticks": ""
           },
           "bgcolor": "#E5ECF6",
           "caxis": {
            "gridcolor": "white",
            "linecolor": "white",
            "ticks": ""
           }
          },
          "title": {
           "x": 0.05
          },
          "xaxis": {
           "automargin": true,
           "gridcolor": "white",
           "linecolor": "white",
           "ticks": "",
           "title": {
            "standoff": 15
           },
           "zerolinecolor": "white",
           "zerolinewidth": 2
          },
          "yaxis": {
           "automargin": true,
           "gridcolor": "white",
           "linecolor": "white",
           "ticks": "",
           "title": {
            "standoff": 15
           },
           "zerolinecolor": "white",
           "zerolinewidth": 2
          }
         }
        }
       }
      },
      "text/html": [
       "<div>\n",
       "        \n",
       "        \n",
       "            <div id=\"f8c850a0-95e4-4767-bcdd-d8cdd7199783\" class=\"plotly-graph-div\" style=\"height:525px; width:100%;\"></div>\n",
       "            <script type=\"text/javascript\">\n",
       "                require([\"plotly\"], function(Plotly) {\n",
       "                    window.PLOTLYENV=window.PLOTLYENV || {};\n",
       "                    \n",
       "                if (document.getElementById(\"f8c850a0-95e4-4767-bcdd-d8cdd7199783\")) {\n",
       "                    Plotly.newPlot(\n",
       "                        'f8c850a0-95e4-4767-bcdd-d8cdd7199783',\n",
       "                        [{\"name\": \"CREAM HANGING HEART T-LIGHT HOLDER\", \"type\": \"bar\", \"x\": [\"EIRE\", \"France\", \"Germany\", \"Netherlands\"], \"y\": [2740.8, 131.75, 35.40000000000001, 1167.0]}, {\"name\": \"JUMBO BAG RED RETROSPOT\", \"type\": \"bar\", \"x\": [\"EIRE\", \"France\", \"Germany\", \"Netherlands\"], \"y\": [278.72, 903.3699999999998, 1072.7599999999998, 3468.0]}, {\"name\": \"REGENCY CAKESTAND 3 TIER\", \"type\": \"bar\", \"x\": [\"EIRE\", \"France\", \"Germany\", \"Netherlands\"], \"y\": [7388.5499999999965, 2816.85, 9061.949999999997, 3166.35]}],\n",
       "                        {\"barmode\": \"group\", \"template\": {\"data\": {\"bar\": [{\"error_x\": {\"color\": \"#2a3f5f\"}, \"error_y\": {\"color\": \"#2a3f5f\"}, \"marker\": {\"line\": {\"color\": \"#E5ECF6\", \"width\": 0.5}}, \"type\": \"bar\"}], \"barpolar\": [{\"marker\": {\"line\": {\"color\": \"#E5ECF6\", \"width\": 0.5}}, \"type\": \"barpolar\"}], \"carpet\": [{\"aaxis\": {\"endlinecolor\": \"#2a3f5f\", \"gridcolor\": \"white\", \"linecolor\": \"white\", \"minorgridcolor\": \"white\", \"startlinecolor\": \"#2a3f5f\"}, \"baxis\": {\"endlinecolor\": \"#2a3f5f\", \"gridcolor\": \"white\", \"linecolor\": \"white\", \"minorgridcolor\": \"white\", \"startlinecolor\": \"#2a3f5f\"}, \"type\": \"carpet\"}], \"choropleth\": [{\"colorbar\": {\"outlinewidth\": 0, \"ticks\": \"\"}, \"type\": \"choropleth\"}], \"contour\": [{\"colorbar\": {\"outlinewidth\": 0, \"ticks\": \"\"}, \"colorscale\": [[0.0, \"#0d0887\"], [0.1111111111111111, \"#46039f\"], [0.2222222222222222, \"#7201a8\"], [0.3333333333333333, \"#9c179e\"], [0.4444444444444444, \"#bd3786\"], [0.5555555555555556, \"#d8576b\"], [0.6666666666666666, \"#ed7953\"], [0.7777777777777778, \"#fb9f3a\"], [0.8888888888888888, \"#fdca26\"], [1.0, \"#f0f921\"]], \"type\": \"contour\"}], \"contourcarpet\": [{\"colorbar\": {\"outlinewidth\": 0, \"ticks\": \"\"}, \"type\": \"contourcarpet\"}], \"heatmap\": [{\"colorbar\": {\"outlinewidth\": 0, \"ticks\": \"\"}, \"colorscale\": [[0.0, \"#0d0887\"], [0.1111111111111111, \"#46039f\"], [0.2222222222222222, \"#7201a8\"], [0.3333333333333333, \"#9c179e\"], [0.4444444444444444, \"#bd3786\"], [0.5555555555555556, \"#d8576b\"], [0.6666666666666666, \"#ed7953\"], [0.7777777777777778, \"#fb9f3a\"], [0.8888888888888888, \"#fdca26\"], [1.0, \"#f0f921\"]], \"type\": \"heatmap\"}], \"heatmapgl\": [{\"colorbar\": {\"outlinewidth\": 0, \"ticks\": \"\"}, \"colorscale\": [[0.0, \"#0d0887\"], [0.1111111111111111, \"#46039f\"], [0.2222222222222222, \"#7201a8\"], [0.3333333333333333, \"#9c179e\"], [0.4444444444444444, \"#bd3786\"], [0.5555555555555556, \"#d8576b\"], [0.6666666666666666, \"#ed7953\"], [0.7777777777777778, \"#fb9f3a\"], [0.8888888888888888, \"#fdca26\"], [1.0, \"#f0f921\"]], \"type\": \"heatmapgl\"}], \"histogram\": [{\"marker\": {\"colorbar\": {\"outlinewidth\": 0, \"ticks\": \"\"}}, \"type\": \"histogram\"}], \"histogram2d\": [{\"colorbar\": {\"outlinewidth\": 0, \"ticks\": \"\"}, \"colorscale\": [[0.0, \"#0d0887\"], [0.1111111111111111, \"#46039f\"], [0.2222222222222222, \"#7201a8\"], [0.3333333333333333, \"#9c179e\"], [0.4444444444444444, \"#bd3786\"], [0.5555555555555556, \"#d8576b\"], [0.6666666666666666, \"#ed7953\"], [0.7777777777777778, \"#fb9f3a\"], [0.8888888888888888, \"#fdca26\"], [1.0, \"#f0f921\"]], \"type\": \"histogram2d\"}], \"histogram2dcontour\": [{\"colorbar\": {\"outlinewidth\": 0, \"ticks\": \"\"}, \"colorscale\": [[0.0, \"#0d0887\"], [0.1111111111111111, \"#46039f\"], [0.2222222222222222, \"#7201a8\"], [0.3333333333333333, \"#9c179e\"], [0.4444444444444444, \"#bd3786\"], [0.5555555555555556, \"#d8576b\"], [0.6666666666666666, \"#ed7953\"], [0.7777777777777778, \"#fb9f3a\"], [0.8888888888888888, \"#fdca26\"], [1.0, \"#f0f921\"]], \"type\": \"histogram2dcontour\"}], \"mesh3d\": [{\"colorbar\": {\"outlinewidth\": 0, \"ticks\": \"\"}, \"type\": \"mesh3d\"}], \"parcoords\": [{\"line\": {\"colorbar\": {\"outlinewidth\": 0, \"ticks\": \"\"}}, \"type\": \"parcoords\"}], \"pie\": [{\"automargin\": true, \"type\": \"pie\"}], \"scatter\": [{\"marker\": {\"colorbar\": {\"outlinewidth\": 0, \"ticks\": \"\"}}, \"type\": \"scatter\"}], \"scatter3d\": [{\"line\": {\"colorbar\": {\"outlinewidth\": 0, \"ticks\": \"\"}}, \"marker\": {\"colorbar\": {\"outlinewidth\": 0, \"ticks\": \"\"}}, \"type\": \"scatter3d\"}], \"scattercarpet\": [{\"marker\": {\"colorbar\": {\"outlinewidth\": 0, \"ticks\": \"\"}}, \"type\": \"scattercarpet\"}], \"scattergeo\": [{\"marker\": {\"colorbar\": {\"outlinewidth\": 0, \"ticks\": \"\"}}, \"type\": \"scattergeo\"}], \"scattergl\": [{\"marker\": {\"colorbar\": {\"outlinewidth\": 0, \"ticks\": \"\"}}, \"type\": \"scattergl\"}], \"scattermapbox\": [{\"marker\": {\"colorbar\": {\"outlinewidth\": 0, \"ticks\": \"\"}}, \"type\": \"scattermapbox\"}], \"scatterpolar\": [{\"marker\": {\"colorbar\": {\"outlinewidth\": 0, \"ticks\": \"\"}}, \"type\": \"scatterpolar\"}], \"scatterpolargl\": [{\"marker\": {\"colorbar\": {\"outlinewidth\": 0, \"ticks\": \"\"}}, \"type\": \"scatterpolargl\"}], \"scatterternary\": [{\"marker\": {\"colorbar\": {\"outlinewidth\": 0, \"ticks\": \"\"}}, \"type\": \"scatterternary\"}], \"surface\": [{\"colorbar\": {\"outlinewidth\": 0, \"ticks\": \"\"}, \"colorscale\": [[0.0, \"#0d0887\"], [0.1111111111111111, \"#46039f\"], [0.2222222222222222, \"#7201a8\"], [0.3333333333333333, \"#9c179e\"], [0.4444444444444444, \"#bd3786\"], [0.5555555555555556, \"#d8576b\"], [0.6666666666666666, \"#ed7953\"], [0.7777777777777778, \"#fb9f3a\"], [0.8888888888888888, \"#fdca26\"], [1.0, \"#f0f921\"]], \"type\": \"surface\"}], \"table\": [{\"cells\": {\"fill\": {\"color\": \"#EBF0F8\"}, \"line\": {\"color\": \"white\"}}, \"header\": {\"fill\": {\"color\": \"#C8D4E3\"}, \"line\": {\"color\": \"white\"}}, \"type\": \"table\"}]}, \"layout\": {\"annotationdefaults\": {\"arrowcolor\": \"#2a3f5f\", \"arrowhead\": 0, \"arrowwidth\": 1}, \"coloraxis\": {\"colorbar\": {\"outlinewidth\": 0, \"ticks\": \"\"}}, \"colorscale\": {\"diverging\": [[0, \"#8e0152\"], [0.1, \"#c51b7d\"], [0.2, \"#de77ae\"], [0.3, \"#f1b6da\"], [0.4, \"#fde0ef\"], [0.5, \"#f7f7f7\"], [0.6, \"#e6f5d0\"], [0.7, \"#b8e186\"], [0.8, \"#7fbc41\"], [0.9, \"#4d9221\"], [1, \"#276419\"]], \"sequential\": [[0.0, \"#0d0887\"], [0.1111111111111111, \"#46039f\"], [0.2222222222222222, \"#7201a8\"], [0.3333333333333333, \"#9c179e\"], [0.4444444444444444, \"#bd3786\"], [0.5555555555555556, \"#d8576b\"], [0.6666666666666666, \"#ed7953\"], [0.7777777777777778, \"#fb9f3a\"], [0.8888888888888888, \"#fdca26\"], [1.0, \"#f0f921\"]], \"sequentialminus\": [[0.0, \"#0d0887\"], [0.1111111111111111, \"#46039f\"], [0.2222222222222222, \"#7201a8\"], [0.3333333333333333, \"#9c179e\"], [0.4444444444444444, \"#bd3786\"], [0.5555555555555556, \"#d8576b\"], [0.6666666666666666, \"#ed7953\"], [0.7777777777777778, \"#fb9f3a\"], [0.8888888888888888, \"#fdca26\"], [1.0, \"#f0f921\"]]}, \"colorway\": [\"#636efa\", \"#EF553B\", \"#00cc96\", \"#ab63fa\", \"#FFA15A\", \"#19d3f3\", \"#FF6692\", \"#B6E880\", \"#FF97FF\", \"#FECB52\"], \"font\": {\"color\": \"#2a3f5f\"}, \"geo\": {\"bgcolor\": \"white\", \"lakecolor\": \"white\", \"landcolor\": \"#E5ECF6\", \"showlakes\": true, \"showland\": true, \"subunitcolor\": \"white\"}, \"hoverlabel\": {\"align\": \"left\"}, \"hovermode\": \"closest\", \"mapbox\": {\"style\": \"light\"}, \"paper_bgcolor\": \"white\", \"plot_bgcolor\": \"#E5ECF6\", \"polar\": {\"angularaxis\": {\"gridcolor\": \"white\", \"linecolor\": \"white\", \"ticks\": \"\"}, \"bgcolor\": \"#E5ECF6\", \"radialaxis\": {\"gridcolor\": \"white\", \"linecolor\": \"white\", \"ticks\": \"\"}}, \"scene\": {\"xaxis\": {\"backgroundcolor\": \"#E5ECF6\", \"gridcolor\": \"white\", \"gridwidth\": 2, \"linecolor\": \"white\", \"showbackground\": true, \"ticks\": \"\", \"zerolinecolor\": \"white\"}, \"yaxis\": {\"backgroundcolor\": \"#E5ECF6\", \"gridcolor\": \"white\", \"gridwidth\": 2, \"linecolor\": \"white\", \"showbackground\": true, \"ticks\": \"\", \"zerolinecolor\": \"white\"}, \"zaxis\": {\"backgroundcolor\": \"#E5ECF6\", \"gridcolor\": \"white\", \"gridwidth\": 2, \"linecolor\": \"white\", \"showbackground\": true, \"ticks\": \"\", \"zerolinecolor\": \"white\"}}, \"shapedefaults\": {\"line\": {\"color\": \"#2a3f5f\"}}, \"ternary\": {\"aaxis\": {\"gridcolor\": \"white\", \"linecolor\": \"white\", \"ticks\": \"\"}, \"baxis\": {\"gridcolor\": \"white\", \"linecolor\": \"white\", \"ticks\": \"\"}, \"bgcolor\": \"#E5ECF6\", \"caxis\": {\"gridcolor\": \"white\", \"linecolor\": \"white\", \"ticks\": \"\"}}, \"title\": {\"x\": 0.05}, \"xaxis\": {\"automargin\": true, \"gridcolor\": \"white\", \"linecolor\": \"white\", \"ticks\": \"\", \"title\": {\"standoff\": 15}, \"zerolinecolor\": \"white\", \"zerolinewidth\": 2}, \"yaxis\": {\"automargin\": true, \"gridcolor\": \"white\", \"linecolor\": \"white\", \"ticks\": \"\", \"title\": {\"standoff\": 15}, \"zerolinecolor\": \"white\", \"zerolinewidth\": 2}}}},\n",
       "                        {\"responsive\": true}\n",
       "                    ).then(function(){\n",
       "                            \n",
       "var gd = document.getElementById('f8c850a0-95e4-4767-bcdd-d8cdd7199783');\n",
       "var x = new MutationObserver(function (mutations, observer) {{\n",
       "        var display = window.getComputedStyle(gd).display;\n",
       "        if (!display || display === 'none') {{\n",
       "            console.log([gd, 'removed!']);\n",
       "            Plotly.purge(gd);\n",
       "            observer.disconnect();\n",
       "        }}\n",
       "}});\n",
       "\n",
       "// Listen for the removal of the full notebook cells\n",
       "var notebookContainer = gd.closest('#notebook-container');\n",
       "if (notebookContainer) {{\n",
       "    x.observe(notebookContainer, {childList: true});\n",
       "}}\n",
       "\n",
       "// Listen for the clearing of the current output cell\n",
       "var outputEl = gd.closest('.output');\n",
       "if (outputEl) {{\n",
       "    x.observe(outputEl, {childList: true});\n",
       "}}\n",
       "\n",
       "                        })\n",
       "                };\n",
       "                });\n",
       "            </script>\n",
       "        </div>"
      ]
     },
     "metadata": {},
     "output_type": "display_data"
    }
   ],
   "source": [
    "fig = go.Figure(data=[\n",
    "    go.Bar(name=\"CREAM HANGING HEART T-LIGHT HOLDER\", x=data6.index, y=data6[\"CREAM HANGING HEART T-LIGHT HOLDER\"]),\n",
    "    go.Bar(name='JUMBO BAG RED RETROSPOT', x=data6.index, y=data6[\"JUMBO BAG RED RETROSPOT\"]),\n",
    "    go.Bar(name='REGENCY CAKESTAND 3 TIER', x=data6.index, y=data6[\"REGENCY CAKESTAND 3 TIER\"])\n",
    "])\n",
    "# Change the bar mode\n",
    "fig.update_layout(barmode='group')\n",
    "fig.show()"
   ]
  },
  {
   "cell_type": "markdown",
   "metadata": {},
   "source": [
    "## 6. Create an interactive line chart showing quantity sold by day for the United Kingdom. Add drop-down boxes for Year and Month that allow you to filter the date range that appears in the chart."
   ]
  },
  {
   "cell_type": "code",
   "execution_count": 434,
   "metadata": {},
   "outputs": [],
   "source": [
    "data['Year'] = pd.DatetimeIndex(data['InvoiceDate']).year\n",
    "data['Month'] = pd.DatetimeIndex(data['InvoiceDate']).month\n",
    "data['Day'] = pd.DatetimeIndex(data['InvoiceDate']).day\n",
    "uk = data[data['Country']=='United Kingdom']"
   ]
  },
  {
   "cell_type": "code",
   "execution_count": 435,
   "metadata": {},
   "outputs": [
    {
     "data": {
      "text/html": [
       "<div>\n",
       "<style scoped>\n",
       "    .dataframe tbody tr th:only-of-type {\n",
       "        vertical-align: middle;\n",
       "    }\n",
       "\n",
       "    .dataframe tbody tr th {\n",
       "        vertical-align: top;\n",
       "    }\n",
       "\n",
       "    .dataframe thead th {\n",
       "        text-align: right;\n",
       "    }\n",
       "</style>\n",
       "<table border=\"1\" class=\"dataframe\">\n",
       "  <thead>\n",
       "    <tr style=\"text-align: right;\">\n",
       "      <th></th>\n",
       "      <th>InvoiceNo</th>\n",
       "      <th>InvoiceDate</th>\n",
       "      <th>StockCode</th>\n",
       "      <th>Description</th>\n",
       "      <th>Quantity</th>\n",
       "      <th>UnitPrice</th>\n",
       "      <th>Revenue</th>\n",
       "      <th>CustomerID</th>\n",
       "      <th>Country</th>\n",
       "      <th>Year</th>\n",
       "      <th>Month</th>\n",
       "      <th>Day</th>\n",
       "    </tr>\n",
       "  </thead>\n",
       "  <tbody>\n",
       "    <tr>\n",
       "      <th>0</th>\n",
       "      <td>536365</td>\n",
       "      <td>2010-12-01 08:26:00</td>\n",
       "      <td>85123A</td>\n",
       "      <td>CREAM HANGING HEART T-LIGHT HOLDER</td>\n",
       "      <td>6</td>\n",
       "      <td>2.55</td>\n",
       "      <td>15.30</td>\n",
       "      <td>17850</td>\n",
       "      <td>United Kingdom</td>\n",
       "      <td>2010</td>\n",
       "      <td>12</td>\n",
       "      <td>1</td>\n",
       "    </tr>\n",
       "    <tr>\n",
       "      <th>1</th>\n",
       "      <td>536373</td>\n",
       "      <td>2010-12-01 09:02:00</td>\n",
       "      <td>85123A</td>\n",
       "      <td>CREAM HANGING HEART T-LIGHT HOLDER</td>\n",
       "      <td>6</td>\n",
       "      <td>2.55</td>\n",
       "      <td>15.30</td>\n",
       "      <td>17850</td>\n",
       "      <td>United Kingdom</td>\n",
       "      <td>2010</td>\n",
       "      <td>12</td>\n",
       "      <td>1</td>\n",
       "    </tr>\n",
       "    <tr>\n",
       "      <th>2</th>\n",
       "      <td>536375</td>\n",
       "      <td>2010-12-01 09:32:00</td>\n",
       "      <td>85123A</td>\n",
       "      <td>CREAM HANGING HEART T-LIGHT HOLDER</td>\n",
       "      <td>6</td>\n",
       "      <td>2.55</td>\n",
       "      <td>15.30</td>\n",
       "      <td>17850</td>\n",
       "      <td>United Kingdom</td>\n",
       "      <td>2010</td>\n",
       "      <td>12</td>\n",
       "      <td>1</td>\n",
       "    </tr>\n",
       "    <tr>\n",
       "      <th>3</th>\n",
       "      <td>536390</td>\n",
       "      <td>2010-12-01 10:19:00</td>\n",
       "      <td>85123A</td>\n",
       "      <td>CREAM HANGING HEART T-LIGHT HOLDER</td>\n",
       "      <td>64</td>\n",
       "      <td>2.55</td>\n",
       "      <td>163.20</td>\n",
       "      <td>17511</td>\n",
       "      <td>United Kingdom</td>\n",
       "      <td>2010</td>\n",
       "      <td>12</td>\n",
       "      <td>1</td>\n",
       "    </tr>\n",
       "    <tr>\n",
       "      <th>4</th>\n",
       "      <td>536394</td>\n",
       "      <td>2010-12-01 10:39:00</td>\n",
       "      <td>85123A</td>\n",
       "      <td>CREAM HANGING HEART T-LIGHT HOLDER</td>\n",
       "      <td>32</td>\n",
       "      <td>2.55</td>\n",
       "      <td>81.60</td>\n",
       "      <td>13408</td>\n",
       "      <td>United Kingdom</td>\n",
       "      <td>2010</td>\n",
       "      <td>12</td>\n",
       "      <td>1</td>\n",
       "    </tr>\n",
       "    <tr>\n",
       "      <th>...</th>\n",
       "      <td>...</td>\n",
       "      <td>...</td>\n",
       "      <td>...</td>\n",
       "      <td>...</td>\n",
       "      <td>...</td>\n",
       "      <td>...</td>\n",
       "      <td>...</td>\n",
       "      <td>...</td>\n",
       "      <td>...</td>\n",
       "      <td>...</td>\n",
       "      <td>...</td>\n",
       "      <td>...</td>\n",
       "    </tr>\n",
       "    <tr>\n",
       "      <th>396029</th>\n",
       "      <td>580691</td>\n",
       "      <td>2011-12-05 15:48:00</td>\n",
       "      <td>90214W</td>\n",
       "      <td>LETTER \"W\" BLING KEY RING</td>\n",
       "      <td>12</td>\n",
       "      <td>0.29</td>\n",
       "      <td>3.48</td>\n",
       "      <td>13790</td>\n",
       "      <td>United Kingdom</td>\n",
       "      <td>2011</td>\n",
       "      <td>12</td>\n",
       "      <td>5</td>\n",
       "    </tr>\n",
       "    <tr>\n",
       "      <th>396030</th>\n",
       "      <td>580691</td>\n",
       "      <td>2011-12-05 15:48:00</td>\n",
       "      <td>90214Z</td>\n",
       "      <td>LETTER \"Z\" BLING KEY RING</td>\n",
       "      <td>12</td>\n",
       "      <td>0.29</td>\n",
       "      <td>3.48</td>\n",
       "      <td>13790</td>\n",
       "      <td>United Kingdom</td>\n",
       "      <td>2011</td>\n",
       "      <td>12</td>\n",
       "      <td>5</td>\n",
       "    </tr>\n",
       "    <tr>\n",
       "      <th>396031</th>\n",
       "      <td>580865</td>\n",
       "      <td>2011-12-06 11:58:00</td>\n",
       "      <td>90089</td>\n",
       "      <td>PINK CRYSTAL SKULL PHONE CHARM</td>\n",
       "      <td>12</td>\n",
       "      <td>0.19</td>\n",
       "      <td>2.28</td>\n",
       "      <td>17914</td>\n",
       "      <td>United Kingdom</td>\n",
       "      <td>2011</td>\n",
       "      <td>12</td>\n",
       "      <td>6</td>\n",
       "    </tr>\n",
       "    <tr>\n",
       "      <th>396032</th>\n",
       "      <td>580865</td>\n",
       "      <td>2011-12-06 11:58:00</td>\n",
       "      <td>90089</td>\n",
       "      <td>PINK CRYSTAL SKULL PHONE CHARM</td>\n",
       "      <td>12</td>\n",
       "      <td>0.19</td>\n",
       "      <td>2.28</td>\n",
       "      <td>17914</td>\n",
       "      <td>United Kingdom</td>\n",
       "      <td>2011</td>\n",
       "      <td>12</td>\n",
       "      <td>6</td>\n",
       "    </tr>\n",
       "    <tr>\n",
       "      <th>396033</th>\n",
       "      <td>581425</td>\n",
       "      <td>2011-12-08 15:31:00</td>\n",
       "      <td>90089</td>\n",
       "      <td>PINK CRYSTAL SKULL PHONE CHARM</td>\n",
       "      <td>1</td>\n",
       "      <td>0.19</td>\n",
       "      <td>0.19</td>\n",
       "      <td>14796</td>\n",
       "      <td>United Kingdom</td>\n",
       "      <td>2011</td>\n",
       "      <td>12</td>\n",
       "      <td>8</td>\n",
       "    </tr>\n",
       "  </tbody>\n",
       "</table>\n",
       "<p>353983 rows × 12 columns</p>\n",
       "</div>"
      ],
      "text/plain": [
       "        InvoiceNo         InvoiceDate StockCode  \\\n",
       "0          536365 2010-12-01 08:26:00    85123A   \n",
       "1          536373 2010-12-01 09:02:00    85123A   \n",
       "2          536375 2010-12-01 09:32:00    85123A   \n",
       "3          536390 2010-12-01 10:19:00    85123A   \n",
       "4          536394 2010-12-01 10:39:00    85123A   \n",
       "...           ...                 ...       ...   \n",
       "396029     580691 2011-12-05 15:48:00    90214W   \n",
       "396030     580691 2011-12-05 15:48:00    90214Z   \n",
       "396031     580865 2011-12-06 11:58:00     90089   \n",
       "396032     580865 2011-12-06 11:58:00     90089   \n",
       "396033     581425 2011-12-08 15:31:00     90089   \n",
       "\n",
       "                               Description  Quantity  UnitPrice  Revenue  \\\n",
       "0       CREAM HANGING HEART T-LIGHT HOLDER         6       2.55    15.30   \n",
       "1       CREAM HANGING HEART T-LIGHT HOLDER         6       2.55    15.30   \n",
       "2       CREAM HANGING HEART T-LIGHT HOLDER         6       2.55    15.30   \n",
       "3       CREAM HANGING HEART T-LIGHT HOLDER        64       2.55   163.20   \n",
       "4       CREAM HANGING HEART T-LIGHT HOLDER        32       2.55    81.60   \n",
       "...                                    ...       ...        ...      ...   \n",
       "396029           LETTER \"W\" BLING KEY RING        12       0.29     3.48   \n",
       "396030           LETTER \"Z\" BLING KEY RING        12       0.29     3.48   \n",
       "396031      PINK CRYSTAL SKULL PHONE CHARM        12       0.19     2.28   \n",
       "396032      PINK CRYSTAL SKULL PHONE CHARM        12       0.19     2.28   \n",
       "396033      PINK CRYSTAL SKULL PHONE CHARM         1       0.19     0.19   \n",
       "\n",
       "        CustomerID         Country  Year  Month  Day  \n",
       "0            17850  United Kingdom  2010     12    1  \n",
       "1            17850  United Kingdom  2010     12    1  \n",
       "2            17850  United Kingdom  2010     12    1  \n",
       "3            17511  United Kingdom  2010     12    1  \n",
       "4            13408  United Kingdom  2010     12    1  \n",
       "...            ...             ...   ...    ...  ...  \n",
       "396029       13790  United Kingdom  2011     12    5  \n",
       "396030       13790  United Kingdom  2011     12    5  \n",
       "396031       17914  United Kingdom  2011     12    6  \n",
       "396032       17914  United Kingdom  2011     12    6  \n",
       "396033       14796  United Kingdom  2011     12    8  \n",
       "\n",
       "[353983 rows x 12 columns]"
      ]
     },
     "execution_count": 435,
     "metadata": {},
     "output_type": "execute_result"
    }
   ],
   "source": [
    "uk"
   ]
  },
  {
   "cell_type": "code",
   "execution_count": 441,
   "metadata": {},
   "outputs": [
    {
     "data": {
      "application/vnd.plotly.v1+json": {
       "config": {
        "linkText": "Export to plot.ly",
        "plotlyServerURL": "https://plot.ly",
        "showLink": true
       },
       "data": [
        {
         "line": {
          "color": "rgba(255, 153, 51, 1.0)",
          "dash": "solid",
          "shape": "linear",
          "width": 1.3
         },
         "mode": "lines",
         "name": "2010",
         "text": "",
         "type": "scatter",
         "x": [
          1,
          2,
          3,
          4,
          5,
          6,
          7,
          8,
          9,
          10,
          11,
          12,
          13,
          14,
          15,
          16,
          17,
          18,
          19,
          20,
          21,
          22,
          23,
          24,
          25,
          26,
          27,
          28,
          29,
          30,
          31
         ],
         "y": [
          21308,
          30987,
          7646,
          "",
          13603,
          15515,
          18218,
          18879,
          13506,
          14027,
          "",
          8190,
          15032,
          16570,
          18245,
          28176,
          4488,
          "",
          3247,
          11828,
          3711,
          2232,
          2161,
          "",
          "",
          "",
          "",
          "",
          "",
          "",
          ""
         ]
        },
        {
         "line": {
          "color": "rgba(55, 128, 191, 1.0)",
          "dash": "solid",
          "shape": "linear",
          "width": 1.3
         },
         "mode": "lines",
         "name": "2011",
         "text": "",
         "type": "scatter",
         "x": [
          1,
          2,
          3,
          4,
          5,
          6,
          7,
          8,
          9,
          10,
          11,
          12,
          13,
          14,
          15,
          16,
          17,
          18,
          19,
          20,
          21,
          22,
          23,
          24,
          25,
          26,
          27,
          28,
          29,
          30,
          31
         ],
         "y": [
          124277,
          107038,
          117348,
          170798,
          164098,
          154762,
          156036,
          132290,
          122534,
          119883,
          158648,
          91032,
          115779,
          125940,
          101730,
          115521,
          141970,
          136448,
          95736,
          154334,
          131679,
          127317,
          117558,
          141278,
          118029,
          89904,
          120151,
          136143,
          78989,
          97605,
          61873
         ]
        }
       ],
       "layout": {
        "legend": {
         "bgcolor": "#F5F6F9",
         "font": {
          "color": "#4D5663"
         }
        },
        "paper_bgcolor": "#F5F6F9",
        "plot_bgcolor": "#F5F6F9",
        "template": {
         "data": {
          "bar": [
           {
            "error_x": {
             "color": "#2a3f5f"
            },
            "error_y": {
             "color": "#2a3f5f"
            },
            "marker": {
             "line": {
              "color": "#E5ECF6",
              "width": 0.5
             }
            },
            "type": "bar"
           }
          ],
          "barpolar": [
           {
            "marker": {
             "line": {
              "color": "#E5ECF6",
              "width": 0.5
             }
            },
            "type": "barpolar"
           }
          ],
          "carpet": [
           {
            "aaxis": {
             "endlinecolor": "#2a3f5f",
             "gridcolor": "white",
             "linecolor": "white",
             "minorgridcolor": "white",
             "startlinecolor": "#2a3f5f"
            },
            "baxis": {
             "endlinecolor": "#2a3f5f",
             "gridcolor": "white",
             "linecolor": "white",
             "minorgridcolor": "white",
             "startlinecolor": "#2a3f5f"
            },
            "type": "carpet"
           }
          ],
          "choropleth": [
           {
            "colorbar": {
             "outlinewidth": 0,
             "ticks": ""
            },
            "type": "choropleth"
           }
          ],
          "contour": [
           {
            "colorbar": {
             "outlinewidth": 0,
             "ticks": ""
            },
            "colorscale": [
             [
              0,
              "#0d0887"
             ],
             [
              0.1111111111111111,
              "#46039f"
             ],
             [
              0.2222222222222222,
              "#7201a8"
             ],
             [
              0.3333333333333333,
              "#9c179e"
             ],
             [
              0.4444444444444444,
              "#bd3786"
             ],
             [
              0.5555555555555556,
              "#d8576b"
             ],
             [
              0.6666666666666666,
              "#ed7953"
             ],
             [
              0.7777777777777778,
              "#fb9f3a"
             ],
             [
              0.8888888888888888,
              "#fdca26"
             ],
             [
              1,
              "#f0f921"
             ]
            ],
            "type": "contour"
           }
          ],
          "contourcarpet": [
           {
            "colorbar": {
             "outlinewidth": 0,
             "ticks": ""
            },
            "type": "contourcarpet"
           }
          ],
          "heatmap": [
           {
            "colorbar": {
             "outlinewidth": 0,
             "ticks": ""
            },
            "colorscale": [
             [
              0,
              "#0d0887"
             ],
             [
              0.1111111111111111,
              "#46039f"
             ],
             [
              0.2222222222222222,
              "#7201a8"
             ],
             [
              0.3333333333333333,
              "#9c179e"
             ],
             [
              0.4444444444444444,
              "#bd3786"
             ],
             [
              0.5555555555555556,
              "#d8576b"
             ],
             [
              0.6666666666666666,
              "#ed7953"
             ],
             [
              0.7777777777777778,
              "#fb9f3a"
             ],
             [
              0.8888888888888888,
              "#fdca26"
             ],
             [
              1,
              "#f0f921"
             ]
            ],
            "type": "heatmap"
           }
          ],
          "heatmapgl": [
           {
            "colorbar": {
             "outlinewidth": 0,
             "ticks": ""
            },
            "colorscale": [
             [
              0,
              "#0d0887"
             ],
             [
              0.1111111111111111,
              "#46039f"
             ],
             [
              0.2222222222222222,
              "#7201a8"
             ],
             [
              0.3333333333333333,
              "#9c179e"
             ],
             [
              0.4444444444444444,
              "#bd3786"
             ],
             [
              0.5555555555555556,
              "#d8576b"
             ],
             [
              0.6666666666666666,
              "#ed7953"
             ],
             [
              0.7777777777777778,
              "#fb9f3a"
             ],
             [
              0.8888888888888888,
              "#fdca26"
             ],
             [
              1,
              "#f0f921"
             ]
            ],
            "type": "heatmapgl"
           }
          ],
          "histogram": [
           {
            "marker": {
             "colorbar": {
              "outlinewidth": 0,
              "ticks": ""
             }
            },
            "type": "histogram"
           }
          ],
          "histogram2d": [
           {
            "colorbar": {
             "outlinewidth": 0,
             "ticks": ""
            },
            "colorscale": [
             [
              0,
              "#0d0887"
             ],
             [
              0.1111111111111111,
              "#46039f"
             ],
             [
              0.2222222222222222,
              "#7201a8"
             ],
             [
              0.3333333333333333,
              "#9c179e"
             ],
             [
              0.4444444444444444,
              "#bd3786"
             ],
             [
              0.5555555555555556,
              "#d8576b"
             ],
             [
              0.6666666666666666,
              "#ed7953"
             ],
             [
              0.7777777777777778,
              "#fb9f3a"
             ],
             [
              0.8888888888888888,
              "#fdca26"
             ],
             [
              1,
              "#f0f921"
             ]
            ],
            "type": "histogram2d"
           }
          ],
          "histogram2dcontour": [
           {
            "colorbar": {
             "outlinewidth": 0,
             "ticks": ""
            },
            "colorscale": [
             [
              0,
              "#0d0887"
             ],
             [
              0.1111111111111111,
              "#46039f"
             ],
             [
              0.2222222222222222,
              "#7201a8"
             ],
             [
              0.3333333333333333,
              "#9c179e"
             ],
             [
              0.4444444444444444,
              "#bd3786"
             ],
             [
              0.5555555555555556,
              "#d8576b"
             ],
             [
              0.6666666666666666,
              "#ed7953"
             ],
             [
              0.7777777777777778,
              "#fb9f3a"
             ],
             [
              0.8888888888888888,
              "#fdca26"
             ],
             [
              1,
              "#f0f921"
             ]
            ],
            "type": "histogram2dcontour"
           }
          ],
          "mesh3d": [
           {
            "colorbar": {
             "outlinewidth": 0,
             "ticks": ""
            },
            "type": "mesh3d"
           }
          ],
          "parcoords": [
           {
            "line": {
             "colorbar": {
              "outlinewidth": 0,
              "ticks": ""
             }
            },
            "type": "parcoords"
           }
          ],
          "pie": [
           {
            "automargin": true,
            "type": "pie"
           }
          ],
          "scatter": [
           {
            "marker": {
             "colorbar": {
              "outlinewidth": 0,
              "ticks": ""
             }
            },
            "type": "scatter"
           }
          ],
          "scatter3d": [
           {
            "line": {
             "colorbar": {
              "outlinewidth": 0,
              "ticks": ""
             }
            },
            "marker": {
             "colorbar": {
              "outlinewidth": 0,
              "ticks": ""
             }
            },
            "type": "scatter3d"
           }
          ],
          "scattercarpet": [
           {
            "marker": {
             "colorbar": {
              "outlinewidth": 0,
              "ticks": ""
             }
            },
            "type": "scattercarpet"
           }
          ],
          "scattergeo": [
           {
            "marker": {
             "colorbar": {
              "outlinewidth": 0,
              "ticks": ""
             }
            },
            "type": "scattergeo"
           }
          ],
          "scattergl": [
           {
            "marker": {
             "colorbar": {
              "outlinewidth": 0,
              "ticks": ""
             }
            },
            "type": "scattergl"
           }
          ],
          "scattermapbox": [
           {
            "marker": {
             "colorbar": {
              "outlinewidth": 0,
              "ticks": ""
             }
            },
            "type": "scattermapbox"
           }
          ],
          "scatterpolar": [
           {
            "marker": {
             "colorbar": {
              "outlinewidth": 0,
              "ticks": ""
             }
            },
            "type": "scatterpolar"
           }
          ],
          "scatterpolargl": [
           {
            "marker": {
             "colorbar": {
              "outlinewidth": 0,
              "ticks": ""
             }
            },
            "type": "scatterpolargl"
           }
          ],
          "scatterternary": [
           {
            "marker": {
             "colorbar": {
              "outlinewidth": 0,
              "ticks": ""
             }
            },
            "type": "scatterternary"
           }
          ],
          "surface": [
           {
            "colorbar": {
             "outlinewidth": 0,
             "ticks": ""
            },
            "colorscale": [
             [
              0,
              "#0d0887"
             ],
             [
              0.1111111111111111,
              "#46039f"
             ],
             [
              0.2222222222222222,
              "#7201a8"
             ],
             [
              0.3333333333333333,
              "#9c179e"
             ],
             [
              0.4444444444444444,
              "#bd3786"
             ],
             [
              0.5555555555555556,
              "#d8576b"
             ],
             [
              0.6666666666666666,
              "#ed7953"
             ],
             [
              0.7777777777777778,
              "#fb9f3a"
             ],
             [
              0.8888888888888888,
              "#fdca26"
             ],
             [
              1,
              "#f0f921"
             ]
            ],
            "type": "surface"
           }
          ],
          "table": [
           {
            "cells": {
             "fill": {
              "color": "#EBF0F8"
             },
             "line": {
              "color": "white"
             }
            },
            "header": {
             "fill": {
              "color": "#C8D4E3"
             },
             "line": {
              "color": "white"
             }
            },
            "type": "table"
           }
          ]
         },
         "layout": {
          "annotationdefaults": {
           "arrowcolor": "#2a3f5f",
           "arrowhead": 0,
           "arrowwidth": 1
          },
          "coloraxis": {
           "colorbar": {
            "outlinewidth": 0,
            "ticks": ""
           }
          },
          "colorscale": {
           "diverging": [
            [
             0,
             "#8e0152"
            ],
            [
             0.1,
             "#c51b7d"
            ],
            [
             0.2,
             "#de77ae"
            ],
            [
             0.3,
             "#f1b6da"
            ],
            [
             0.4,
             "#fde0ef"
            ],
            [
             0.5,
             "#f7f7f7"
            ],
            [
             0.6,
             "#e6f5d0"
            ],
            [
             0.7,
             "#b8e186"
            ],
            [
             0.8,
             "#7fbc41"
            ],
            [
             0.9,
             "#4d9221"
            ],
            [
             1,
             "#276419"
            ]
           ],
           "sequential": [
            [
             0,
             "#0d0887"
            ],
            [
             0.1111111111111111,
             "#46039f"
            ],
            [
             0.2222222222222222,
             "#7201a8"
            ],
            [
             0.3333333333333333,
             "#9c179e"
            ],
            [
             0.4444444444444444,
             "#bd3786"
            ],
            [
             0.5555555555555556,
             "#d8576b"
            ],
            [
             0.6666666666666666,
             "#ed7953"
            ],
            [
             0.7777777777777778,
             "#fb9f3a"
            ],
            [
             0.8888888888888888,
             "#fdca26"
            ],
            [
             1,
             "#f0f921"
            ]
           ],
           "sequentialminus": [
            [
             0,
             "#0d0887"
            ],
            [
             0.1111111111111111,
             "#46039f"
            ],
            [
             0.2222222222222222,
             "#7201a8"
            ],
            [
             0.3333333333333333,
             "#9c179e"
            ],
            [
             0.4444444444444444,
             "#bd3786"
            ],
            [
             0.5555555555555556,
             "#d8576b"
            ],
            [
             0.6666666666666666,
             "#ed7953"
            ],
            [
             0.7777777777777778,
             "#fb9f3a"
            ],
            [
             0.8888888888888888,
             "#fdca26"
            ],
            [
             1,
             "#f0f921"
            ]
           ]
          },
          "colorway": [
           "#636efa",
           "#EF553B",
           "#00cc96",
           "#ab63fa",
           "#FFA15A",
           "#19d3f3",
           "#FF6692",
           "#B6E880",
           "#FF97FF",
           "#FECB52"
          ],
          "font": {
           "color": "#2a3f5f"
          },
          "geo": {
           "bgcolor": "white",
           "lakecolor": "white",
           "landcolor": "#E5ECF6",
           "showlakes": true,
           "showland": true,
           "subunitcolor": "white"
          },
          "hoverlabel": {
           "align": "left"
          },
          "hovermode": "closest",
          "mapbox": {
           "style": "light"
          },
          "paper_bgcolor": "white",
          "plot_bgcolor": "#E5ECF6",
          "polar": {
           "angularaxis": {
            "gridcolor": "white",
            "linecolor": "white",
            "ticks": ""
           },
           "bgcolor": "#E5ECF6",
           "radialaxis": {
            "gridcolor": "white",
            "linecolor": "white",
            "ticks": ""
           }
          },
          "scene": {
           "xaxis": {
            "backgroundcolor": "#E5ECF6",
            "gridcolor": "white",
            "gridwidth": 2,
            "linecolor": "white",
            "showbackground": true,
            "ticks": "",
            "zerolinecolor": "white"
           },
           "yaxis": {
            "backgroundcolor": "#E5ECF6",
            "gridcolor": "white",
            "gridwidth": 2,
            "linecolor": "white",
            "showbackground": true,
            "ticks": "",
            "zerolinecolor": "white"
           },
           "zaxis": {
            "backgroundcolor": "#E5ECF6",
            "gridcolor": "white",
            "gridwidth": 2,
            "linecolor": "white",
            "showbackground": true,
            "ticks": "",
            "zerolinecolor": "white"
           }
          },
          "shapedefaults": {
           "line": {
            "color": "#2a3f5f"
           }
          },
          "ternary": {
           "aaxis": {
            "gridcolor": "white",
            "linecolor": "white",
            "ticks": ""
           },
           "baxis": {
            "gridcolor": "white",
            "linecolor": "white",
            "ticks": ""
           },
           "bgcolor": "#E5ECF6",
           "caxis": {
            "gridcolor": "white",
            "linecolor": "white",
            "ticks": ""
           }
          },
          "title": {
           "x": 0.05
          },
          "xaxis": {
           "automargin": true,
           "gridcolor": "white",
           "linecolor": "white",
           "ticks": "",
           "title": {
            "standoff": 15
           },
           "zerolinecolor": "white",
           "zerolinewidth": 2
          },
          "yaxis": {
           "automargin": true,
           "gridcolor": "white",
           "linecolor": "white",
           "ticks": "",
           "title": {
            "standoff": 15
           },
           "zerolinecolor": "white",
           "zerolinewidth": 2
          }
         }
        },
        "title": {
         "font": {
          "color": "#4D5663"
         },
         "text": "Avg. Churn Rate by Year"
        },
        "xaxis": {
         "gridcolor": "#E1E5ED",
         "showgrid": true,
         "tickfont": {
          "color": "#4D5663"
         },
         "title": {
          "font": {
           "color": "#4D5663"
          },
          "text": ""
         },
         "zerolinecolor": "#E1E5ED"
        },
        "yaxis": {
         "gridcolor": "#E1E5ED",
         "showgrid": true,
         "tickfont": {
          "color": "#4D5663"
         },
         "title": {
          "font": {
           "color": "#4D5663"
          },
          "text": ""
         },
         "zerolinecolor": "#E1E5ED"
        }
       }
      },
      "text/html": [
       "<div>\n",
       "        \n",
       "        \n",
       "            <div id=\"51c82245-1355-4ed5-a869-cce34de496e2\" class=\"plotly-graph-div\" style=\"height:525px; width:100%;\"></div>\n",
       "            <script type=\"text/javascript\">\n",
       "                require([\"plotly\"], function(Plotly) {\n",
       "                    window.PLOTLYENV=window.PLOTLYENV || {};\n",
       "                    window.PLOTLYENV.BASE_URL='https://plot.ly';\n",
       "                    \n",
       "                if (document.getElementById(\"51c82245-1355-4ed5-a869-cce34de496e2\")) {\n",
       "                    Plotly.newPlot(\n",
       "                        '51c82245-1355-4ed5-a869-cce34de496e2',\n",
       "                        [{\"line\": {\"color\": \"rgba(255, 153, 51, 1.0)\", \"dash\": \"solid\", \"shape\": \"linear\", \"width\": 1.3}, \"mode\": \"lines\", \"name\": \"2010\", \"text\": \"\", \"type\": \"scatter\", \"x\": [1, 2, 3, 4, 5, 6, 7, 8, 9, 10, 11, 12, 13, 14, 15, 16, 17, 18, 19, 20, 21, 22, 23, 24, 25, 26, 27, 28, 29, 30, 31], \"y\": [21308.0, 30987.0, 7646.0, \"\", 13603.0, 15515.0, 18218.0, 18879.0, 13506.0, 14027.0, \"\", 8190.0, 15032.0, 16570.0, 18245.0, 28176.0, 4488.0, \"\", 3247.0, 11828.0, 3711.0, 2232.0, 2161.0, \"\", \"\", \"\", \"\", \"\", \"\", \"\", \"\"]}, {\"line\": {\"color\": \"rgba(55, 128, 191, 1.0)\", \"dash\": \"solid\", \"shape\": \"linear\", \"width\": 1.3}, \"mode\": \"lines\", \"name\": \"2011\", \"text\": \"\", \"type\": \"scatter\", \"x\": [1, 2, 3, 4, 5, 6, 7, 8, 9, 10, 11, 12, 13, 14, 15, 16, 17, 18, 19, 20, 21, 22, 23, 24, 25, 26, 27, 28, 29, 30, 31], \"y\": [124277.0, 107038.0, 117348.0, 170798.0, 164098.0, 154762.0, 156036.0, 132290.0, 122534.0, 119883.0, 158648.0, 91032.0, 115779.0, 125940.0, 101730.0, 115521.0, 141970.0, 136448.0, 95736.0, 154334.0, 131679.0, 127317.0, 117558.0, 141278.0, 118029.0, 89904.0, 120151.0, 136143.0, 78989.0, 97605.0, 61873.0]}],\n",
       "                        {\"legend\": {\"bgcolor\": \"#F5F6F9\", \"font\": {\"color\": \"#4D5663\"}}, \"paper_bgcolor\": \"#F5F6F9\", \"plot_bgcolor\": \"#F5F6F9\", \"template\": {\"data\": {\"bar\": [{\"error_x\": {\"color\": \"#2a3f5f\"}, \"error_y\": {\"color\": \"#2a3f5f\"}, \"marker\": {\"line\": {\"color\": \"#E5ECF6\", \"width\": 0.5}}, \"type\": \"bar\"}], \"barpolar\": [{\"marker\": {\"line\": {\"color\": \"#E5ECF6\", \"width\": 0.5}}, \"type\": \"barpolar\"}], \"carpet\": [{\"aaxis\": {\"endlinecolor\": \"#2a3f5f\", \"gridcolor\": \"white\", \"linecolor\": \"white\", \"minorgridcolor\": \"white\", \"startlinecolor\": \"#2a3f5f\"}, \"baxis\": {\"endlinecolor\": \"#2a3f5f\", \"gridcolor\": \"white\", \"linecolor\": \"white\", \"minorgridcolor\": \"white\", \"startlinecolor\": \"#2a3f5f\"}, \"type\": \"carpet\"}], \"choropleth\": [{\"colorbar\": {\"outlinewidth\": 0, \"ticks\": \"\"}, \"type\": \"choropleth\"}], \"contour\": [{\"colorbar\": {\"outlinewidth\": 0, \"ticks\": \"\"}, \"colorscale\": [[0.0, \"#0d0887\"], [0.1111111111111111, \"#46039f\"], [0.2222222222222222, \"#7201a8\"], [0.3333333333333333, \"#9c179e\"], [0.4444444444444444, \"#bd3786\"], [0.5555555555555556, \"#d8576b\"], [0.6666666666666666, \"#ed7953\"], [0.7777777777777778, \"#fb9f3a\"], [0.8888888888888888, \"#fdca26\"], [1.0, \"#f0f921\"]], \"type\": \"contour\"}], \"contourcarpet\": [{\"colorbar\": {\"outlinewidth\": 0, \"ticks\": \"\"}, \"type\": \"contourcarpet\"}], \"heatmap\": [{\"colorbar\": {\"outlinewidth\": 0, \"ticks\": \"\"}, \"colorscale\": [[0.0, \"#0d0887\"], [0.1111111111111111, \"#46039f\"], [0.2222222222222222, \"#7201a8\"], [0.3333333333333333, \"#9c179e\"], [0.4444444444444444, \"#bd3786\"], [0.5555555555555556, \"#d8576b\"], [0.6666666666666666, \"#ed7953\"], [0.7777777777777778, \"#fb9f3a\"], [0.8888888888888888, \"#fdca26\"], [1.0, \"#f0f921\"]], \"type\": \"heatmap\"}], \"heatmapgl\": [{\"colorbar\": {\"outlinewidth\": 0, \"ticks\": \"\"}, \"colorscale\": [[0.0, \"#0d0887\"], [0.1111111111111111, \"#46039f\"], [0.2222222222222222, \"#7201a8\"], [0.3333333333333333, \"#9c179e\"], [0.4444444444444444, \"#bd3786\"], [0.5555555555555556, \"#d8576b\"], [0.6666666666666666, \"#ed7953\"], [0.7777777777777778, \"#fb9f3a\"], [0.8888888888888888, \"#fdca26\"], [1.0, \"#f0f921\"]], \"type\": \"heatmapgl\"}], \"histogram\": [{\"marker\": {\"colorbar\": {\"outlinewidth\": 0, \"ticks\": \"\"}}, \"type\": \"histogram\"}], \"histogram2d\": [{\"colorbar\": {\"outlinewidth\": 0, \"ticks\": \"\"}, \"colorscale\": [[0.0, \"#0d0887\"], [0.1111111111111111, \"#46039f\"], [0.2222222222222222, \"#7201a8\"], [0.3333333333333333, \"#9c179e\"], [0.4444444444444444, \"#bd3786\"], [0.5555555555555556, \"#d8576b\"], [0.6666666666666666, \"#ed7953\"], [0.7777777777777778, \"#fb9f3a\"], [0.8888888888888888, \"#fdca26\"], [1.0, \"#f0f921\"]], \"type\": \"histogram2d\"}], \"histogram2dcontour\": [{\"colorbar\": {\"outlinewidth\": 0, \"ticks\": \"\"}, \"colorscale\": [[0.0, \"#0d0887\"], [0.1111111111111111, \"#46039f\"], [0.2222222222222222, \"#7201a8\"], [0.3333333333333333, \"#9c179e\"], [0.4444444444444444, \"#bd3786\"], [0.5555555555555556, \"#d8576b\"], [0.6666666666666666, \"#ed7953\"], [0.7777777777777778, \"#fb9f3a\"], [0.8888888888888888, \"#fdca26\"], [1.0, \"#f0f921\"]], \"type\": \"histogram2dcontour\"}], \"mesh3d\": [{\"colorbar\": {\"outlinewidth\": 0, \"ticks\": \"\"}, \"type\": \"mesh3d\"}], \"parcoords\": [{\"line\": {\"colorbar\": {\"outlinewidth\": 0, \"ticks\": \"\"}}, \"type\": \"parcoords\"}], \"pie\": [{\"automargin\": true, \"type\": \"pie\"}], \"scatter\": [{\"marker\": {\"colorbar\": {\"outlinewidth\": 0, \"ticks\": \"\"}}, \"type\": \"scatter\"}], \"scatter3d\": [{\"line\": {\"colorbar\": {\"outlinewidth\": 0, \"ticks\": \"\"}}, \"marker\": {\"colorbar\": {\"outlinewidth\": 0, \"ticks\": \"\"}}, \"type\": \"scatter3d\"}], \"scattercarpet\": [{\"marker\": {\"colorbar\": {\"outlinewidth\": 0, \"ticks\": \"\"}}, \"type\": \"scattercarpet\"}], \"scattergeo\": [{\"marker\": {\"colorbar\": {\"outlinewidth\": 0, \"ticks\": \"\"}}, \"type\": \"scattergeo\"}], \"scattergl\": [{\"marker\": {\"colorbar\": {\"outlinewidth\": 0, \"ticks\": \"\"}}, \"type\": \"scattergl\"}], \"scattermapbox\": [{\"marker\": {\"colorbar\": {\"outlinewidth\": 0, \"ticks\": \"\"}}, \"type\": \"scattermapbox\"}], \"scatterpolar\": [{\"marker\": {\"colorbar\": {\"outlinewidth\": 0, \"ticks\": \"\"}}, \"type\": \"scatterpolar\"}], \"scatterpolargl\": [{\"marker\": {\"colorbar\": {\"outlinewidth\": 0, \"ticks\": \"\"}}, \"type\": \"scatterpolargl\"}], \"scatterternary\": [{\"marker\": {\"colorbar\": {\"outlinewidth\": 0, \"ticks\": \"\"}}, \"type\": \"scatterternary\"}], \"surface\": [{\"colorbar\": {\"outlinewidth\": 0, \"ticks\": \"\"}, \"colorscale\": [[0.0, \"#0d0887\"], [0.1111111111111111, \"#46039f\"], [0.2222222222222222, \"#7201a8\"], [0.3333333333333333, \"#9c179e\"], [0.4444444444444444, \"#bd3786\"], [0.5555555555555556, \"#d8576b\"], [0.6666666666666666, \"#ed7953\"], [0.7777777777777778, \"#fb9f3a\"], [0.8888888888888888, \"#fdca26\"], [1.0, \"#f0f921\"]], \"type\": \"surface\"}], \"table\": [{\"cells\": {\"fill\": {\"color\": \"#EBF0F8\"}, \"line\": {\"color\": \"white\"}}, \"header\": {\"fill\": {\"color\": \"#C8D4E3\"}, \"line\": {\"color\": \"white\"}}, \"type\": \"table\"}]}, \"layout\": {\"annotationdefaults\": {\"arrowcolor\": \"#2a3f5f\", \"arrowhead\": 0, \"arrowwidth\": 1}, \"coloraxis\": {\"colorbar\": {\"outlinewidth\": 0, \"ticks\": \"\"}}, \"colorscale\": {\"diverging\": [[0, \"#8e0152\"], [0.1, \"#c51b7d\"], [0.2, \"#de77ae\"], [0.3, \"#f1b6da\"], [0.4, \"#fde0ef\"], [0.5, \"#f7f7f7\"], [0.6, \"#e6f5d0\"], [0.7, \"#b8e186\"], [0.8, \"#7fbc41\"], [0.9, \"#4d9221\"], [1, \"#276419\"]], \"sequential\": [[0.0, \"#0d0887\"], [0.1111111111111111, \"#46039f\"], [0.2222222222222222, \"#7201a8\"], [0.3333333333333333, \"#9c179e\"], [0.4444444444444444, \"#bd3786\"], [0.5555555555555556, \"#d8576b\"], [0.6666666666666666, \"#ed7953\"], [0.7777777777777778, \"#fb9f3a\"], [0.8888888888888888, \"#fdca26\"], [1.0, \"#f0f921\"]], \"sequentialminus\": [[0.0, \"#0d0887\"], [0.1111111111111111, \"#46039f\"], [0.2222222222222222, \"#7201a8\"], [0.3333333333333333, \"#9c179e\"], [0.4444444444444444, \"#bd3786\"], [0.5555555555555556, \"#d8576b\"], [0.6666666666666666, \"#ed7953\"], [0.7777777777777778, \"#fb9f3a\"], [0.8888888888888888, \"#fdca26\"], [1.0, \"#f0f921\"]]}, \"colorway\": [\"#636efa\", \"#EF553B\", \"#00cc96\", \"#ab63fa\", \"#FFA15A\", \"#19d3f3\", \"#FF6692\", \"#B6E880\", \"#FF97FF\", \"#FECB52\"], \"font\": {\"color\": \"#2a3f5f\"}, \"geo\": {\"bgcolor\": \"white\", \"lakecolor\": \"white\", \"landcolor\": \"#E5ECF6\", \"showlakes\": true, \"showland\": true, \"subunitcolor\": \"white\"}, \"hoverlabel\": {\"align\": \"left\"}, \"hovermode\": \"closest\", \"mapbox\": {\"style\": \"light\"}, \"paper_bgcolor\": \"white\", \"plot_bgcolor\": \"#E5ECF6\", \"polar\": {\"angularaxis\": {\"gridcolor\": \"white\", \"linecolor\": \"white\", \"ticks\": \"\"}, \"bgcolor\": \"#E5ECF6\", \"radialaxis\": {\"gridcolor\": \"white\", \"linecolor\": \"white\", \"ticks\": \"\"}}, \"scene\": {\"xaxis\": {\"backgroundcolor\": \"#E5ECF6\", \"gridcolor\": \"white\", \"gridwidth\": 2, \"linecolor\": \"white\", \"showbackground\": true, \"ticks\": \"\", \"zerolinecolor\": \"white\"}, \"yaxis\": {\"backgroundcolor\": \"#E5ECF6\", \"gridcolor\": \"white\", \"gridwidth\": 2, \"linecolor\": \"white\", \"showbackground\": true, \"ticks\": \"\", \"zerolinecolor\": \"white\"}, \"zaxis\": {\"backgroundcolor\": \"#E5ECF6\", \"gridcolor\": \"white\", \"gridwidth\": 2, \"linecolor\": \"white\", \"showbackground\": true, \"ticks\": \"\", \"zerolinecolor\": \"white\"}}, \"shapedefaults\": {\"line\": {\"color\": \"#2a3f5f\"}}, \"ternary\": {\"aaxis\": {\"gridcolor\": \"white\", \"linecolor\": \"white\", \"ticks\": \"\"}, \"baxis\": {\"gridcolor\": \"white\", \"linecolor\": \"white\", \"ticks\": \"\"}, \"bgcolor\": \"#E5ECF6\", \"caxis\": {\"gridcolor\": \"white\", \"linecolor\": \"white\", \"ticks\": \"\"}}, \"title\": {\"x\": 0.05}, \"xaxis\": {\"automargin\": true, \"gridcolor\": \"white\", \"linecolor\": \"white\", \"ticks\": \"\", \"title\": {\"standoff\": 15}, \"zerolinecolor\": \"white\", \"zerolinewidth\": 2}, \"yaxis\": {\"automargin\": true, \"gridcolor\": \"white\", \"linecolor\": \"white\", \"ticks\": \"\", \"title\": {\"standoff\": 15}, \"zerolinecolor\": \"white\", \"zerolinewidth\": 2}}}, \"title\": {\"font\": {\"color\": \"#4D5663\"}, \"text\": \"Avg. Churn Rate by Year\"}, \"xaxis\": {\"gridcolor\": \"#E1E5ED\", \"showgrid\": true, \"tickfont\": {\"color\": \"#4D5663\"}, \"title\": {\"font\": {\"color\": \"#4D5663\"}, \"text\": \"\"}, \"zerolinecolor\": \"#E1E5ED\"}, \"yaxis\": {\"gridcolor\": \"#E1E5ED\", \"showgrid\": true, \"tickfont\": {\"color\": \"#4D5663\"}, \"title\": {\"font\": {\"color\": \"#4D5663\"}, \"text\": \"\"}, \"zerolinecolor\": \"#E1E5ED\"}},\n",
       "                        {\"showLink\": true, \"linkText\": \"Export to plot.ly\", \"plotlyServerURL\": \"https://plot.ly\", \"responsive\": true}\n",
       "                    ).then(function(){\n",
       "                            \n",
       "var gd = document.getElementById('51c82245-1355-4ed5-a869-cce34de496e2');\n",
       "var x = new MutationObserver(function (mutations, observer) {{\n",
       "        var display = window.getComputedStyle(gd).display;\n",
       "        if (!display || display === 'none') {{\n",
       "            console.log([gd, 'removed!']);\n",
       "            Plotly.purge(gd);\n",
       "            observer.disconnect();\n",
       "        }}\n",
       "}});\n",
       "\n",
       "// Listen for the removal of the full notebook cells\n",
       "var notebookContainer = gd.closest('#notebook-container');\n",
       "if (notebookContainer) {{\n",
       "    x.observe(notebookContainer, {childList: true});\n",
       "}}\n",
       "\n",
       "// Listen for the clearing of the current output cell\n",
       "var outputEl = gd.closest('.output');\n",
       "if (outputEl) {{\n",
       "    x.observe(outputEl, {childList: true});\n",
       "}}\n",
       "\n",
       "                        })\n",
       "                };\n",
       "                });\n",
       "            </script>\n",
       "        </div>"
      ]
     },
     "metadata": {},
     "output_type": "display_data"
    }
   ],
   "source": [
    "@interact(Selection=['Year', 'Month'])\n",
    "\n",
    "def linechart(Selection):\n",
    "    df = uk.pivot_table(values='Quantity', columns=Selection,\n",
    "                            index='Day', aggfunc='sum').reset_index()\n",
    "\n",
    "    df.iplot(kind='line', x='Day', title='Avg. Churn Rate by ' + Selection.title())"
   ]
  },
  {
   "cell_type": "markdown",
   "metadata": {},
   "source": [
    "## 7. Create an interactive scatter plot that plots number of invoices (x-axis) vs. number of customers (y-axis) and the plot points represent individual products. Add two sliders that control the x and y axis ranges."
   ]
  },
  {
   "cell_type": "code",
   "execution_count": null,
   "metadata": {},
   "outputs": [],
   "source": []
  },
  {
   "cell_type": "code",
   "execution_count": null,
   "metadata": {},
   "outputs": [],
   "source": [
    "agg_func = {'InvoiceNo':'nunique',\n",
    "            'Quantity':'sum',\n",
    "            'UnitPrice':'mean',\n",
    "            'Revenue':'sum',\n",
    "            'CustomerID':'nunique'}\n",
    "\n",
    "products = uk.groupby('Description').agg(agg_func)"
   ]
  },
  {
   "cell_type": "code",
   "execution_count": null,
   "metadata": {},
   "outputs": [],
   "source": [
    "#no se hacerlo"
   ]
  },
  {
   "cell_type": "markdown",
   "metadata": {},
   "source": [
    "## 8. Creat an interactive bar chart that shows revenue by product description. Add a text field widget that filters the results to show the product that contain the text entered in their description."
   ]
  },
  {
   "cell_type": "code",
   "execution_count": null,
   "metadata": {},
   "outputs": [],
   "source": [
    "#no se hacerlo"
   ]
  }
 ],
 "metadata": {
  "kernelspec": {
   "display_name": "Python 3",
   "language": "python",
   "name": "python3"
  },
  "language_info": {
   "codemirror_mode": {
    "name": "ipython",
    "version": 3
   },
   "file_extension": ".py",
   "mimetype": "text/x-python",
   "name": "python",
   "nbconvert_exporter": "python",
   "pygments_lexer": "ipython3",
   "version": "3.8.1"
  }
 },
 "nbformat": 4,
 "nbformat_minor": 2
}
