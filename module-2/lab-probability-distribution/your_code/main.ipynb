{
 "cells": [
  {
   "cell_type": "markdown",
   "metadata": {},
   "source": [
    "# Before your start:\n",
    "- Read the README.md file\n",
    "- Comment as much as you can and use the resources (README.md file)\n",
    "- Happy learning!"
   ]
  },
  {
   "cell_type": "code",
   "execution_count": 61,
   "metadata": {},
   "outputs": [],
   "source": [
    "# Import your libraries\n",
    "import matplotlib.pyplot as plt\n",
    "import seaborn as sns\n",
    "import scipy.stats\n",
    "import numpy as np\n",
    "import pandas as pd"
   ]
  },
  {
   "cell_type": "markdown",
   "metadata": {},
   "source": [
    "# Challenge 1 - Generate and Plot Normal Distributions"
   ]
  },
  {
   "cell_type": "markdown",
   "metadata": {},
   "source": [
    "#### Step 1: Generate samples and test normal distribution\n",
    "\n",
    "Use mean=50, standard_deviation=5, and sample_size=[10, 50, 500, 5000] to generate 4 random samples that are normally distributed. Test your normal distributions with [`scipy.stats.normaltest`](https://docs.scipy.org/doc/scipy/reference/generated/scipy.stats.normaltest.html).\n",
    "\n",
    "\n",
    "*Hint: Read the documentation for `scipy.stats.normaltest`. The function does not simply return Yes or No for whether your data is normal distribution. It returns the likelihood.*"
   ]
  },
  {
   "cell_type": "code",
   "execution_count": 59,
   "metadata": {},
   "outputs": [
    {
     "name": "stdout",
     "output_type": "stream",
     "text": [
      "0.05\n",
      "p = 0.387859\n",
      "The null hypothesis cannot be rejected\n"
     ]
    }
   ],
   "source": [
    "from scipy import stats\n",
    "\n",
    "a = np.random.normal(size=10 , loc=50 , scale=5 )\n",
    "b = np.random.normal(size=50 , loc=50 , scale=5 )\n",
    "c = np.random.normal(size=500 , loc=50 , scale=5 )\n",
    "d = np.random.normal(size=5000 , loc=50 , scale=5 )\n",
    "x = np.concatenate((a, b,c,d))\n",
    "k2, p = stats.normaltest(x)\n",
    "alpha = 0.05\n",
    "print(alpha)\n",
    "print(\"p = {:g}\".format(p))\n",
    "\n",
    "if p < alpha:  # null hypothesis: x comes from a normal distribution\n",
    "     print(\"The null hypothesis can be rejected\")\n",
    "else:\n",
    "     print(\"The null hypothesis cannot be rejected\")\n"
   ]
  },
  {
   "cell_type": "markdown",
   "metadata": {},
   "source": [
    "#### Interpret the normaltest results and make your observations."
   ]
  },
  {
   "cell_type": "code",
   "execution_count": null,
   "metadata": {},
   "outputs": [],
   "source": [
    "# Explain the test results here\n",
    "\n",
    "#Podemos observarque estamos ante una distribución normal ya que por muchas veces que hagamos el test, la hipótesis nula no puede ser rechazada\n"
   ]
  },
  {
   "cell_type": "markdown",
   "metadata": {},
   "source": [
    "#### Step 2: Plot normal distributions\n",
    "\n",
    "Use matplotlib subplots to plot a histogram of each sample. \n",
    "\n",
    "*Hints:*\n",
    "- Use subplots to compare your figures side by side.\n",
    "\n",
    "- Your output should look like below:\n",
    "\n",
    "![normal distributions with different sample sizes](ch-1.png)"
   ]
  },
  {
   "cell_type": "code",
   "execution_count": 39,
   "metadata": {},
   "outputs": [
    {
     "data": {
      "text/plain": [
       "(array([  2.,   0.,   0.,   2.,   1.,   0.,   1.,   1.,   1.,   1.,   2.,\n",
       "          7.,   1.,   6.,   3.,   7.,   5.,  11.,   5.,   9.,  14.,   9.,\n",
       "         27.,  19.,  21.,  23.,  28.,  33.,  32.,  31.,  42.,  42.,  62.,\n",
       "         63.,  61.,  87.,  70.,  71.,  93., 110.,  99.,  99., 127., 125.,\n",
       "        133., 114., 136., 134., 121., 122., 151., 141., 141., 168., 143.,\n",
       "        142., 138., 120., 116., 123., 111., 137., 110.,  88.,  93.,  89.,\n",
       "         83.,  88.,  63.,  62.,  57.,  42.,  45.,  45.,  49.,  32.,  34.,\n",
       "         26.,  18.,  20.,  21.,  12.,  10.,  11.,   9.,  11.,   4.,   4.,\n",
       "          3.,   4.,   4.,   7.,   3.,   1.,   2.,   1.,   2.,   1.,   1.,\n",
       "          1.]),\n",
       " array([31.69485596, 32.04640357, 32.39795117, 32.74949878, 33.10104638,\n",
       "        33.45259399, 33.8041416 , 34.1556892 , 34.50723681, 34.85878441,\n",
       "        35.21033202, 35.56187963, 35.91342723, 36.26497484, 36.61652244,\n",
       "        36.96807005, 37.31961765, 37.67116526, 38.02271287, 38.37426047,\n",
       "        38.72580808, 39.07735568, 39.42890329, 39.78045089, 40.1319985 ,\n",
       "        40.48354611, 40.83509371, 41.18664132, 41.53818892, 41.88973653,\n",
       "        42.24128414, 42.59283174, 42.94437935, 43.29592695, 43.64747456,\n",
       "        43.99902216, 44.35056977, 44.70211738, 45.05366498, 45.40521259,\n",
       "        45.75676019, 46.1083078 , 46.4598554 , 46.81140301, 47.16295062,\n",
       "        47.51449822, 47.86604583, 48.21759343, 48.56914104, 48.92068865,\n",
       "        49.27223625, 49.62378386, 49.97533146, 50.32687907, 50.67842667,\n",
       "        51.02997428, 51.38152189, 51.73306949, 52.0846171 , 52.4361647 ,\n",
       "        52.78771231, 53.13925991, 53.49080752, 53.84235513, 54.19390273,\n",
       "        54.54545034, 54.89699794, 55.24854555, 55.60009316, 55.95164076,\n",
       "        56.30318837, 56.65473597, 57.00628358, 57.35783118, 57.70937879,\n",
       "        58.0609264 , 58.412474  , 58.76402161, 59.11556921, 59.46711682,\n",
       "        59.81866442, 60.17021203, 60.52175964, 60.87330724, 61.22485485,\n",
       "        61.57640245, 61.92795006, 62.27949767, 62.63104527, 62.98259288,\n",
       "        63.33414048, 63.68568809, 64.03723569, 64.3887833 , 64.74033091,\n",
       "        65.09187851, 65.44342612, 65.79497372, 66.14652133, 66.49806893,\n",
       "        66.84961654]),\n",
       " <a list of 100 Patch objects>)"
      ]
     },
     "execution_count": 39,
     "metadata": {},
     "output_type": "execute_result"
    },
    {
     "data": {
      "image/png": "[encoded data removed]",
      "text/plain": [
       "<Figure size 1080x360 with 4 Axes>"
      ]
     },
     "metadata": {
      "needs_background": "light"
     },
     "output_type": "display_data"
    }
   ],
   "source": [
    "# Your code here\n",
    "\n",
    "plt.figure(figsize=(15,5))\n",
    "plt.subplot(1,4,1)\n",
    "plt.hist(a)\n",
    "\n",
    "plt.subplot(1,4,2)\n",
    "plt.hist(b)\n",
    "\n",
    "plt.subplot(1,4,3)\n",
    "plt.hist(c,bins=100)\n",
    "\n",
    "plt.subplot(1,4,4)\n",
    "plt.hist(d,bins=100)\n",
    "\n",
    "\n",
    "\n",
    "\n"
   ]
  },
  {
   "cell_type": "markdown",
   "metadata": {},
   "source": [
    "#### Compare the distributions above. What do you observe? Explain with the Central Limit Theorem."
   ]
  },
  {
   "cell_type": "markdown",
   "metadata": {},
   "source": [
    "# Your comment and explanation here\n",
    "\n",
    "El teorema del límite central garantiza una distribución aproximadamente normal cuando n es suficientemente grande.\n",
    "Así, cuando un dato o resultado es la suma de contribuciones independientes, de igual magnitud y “con un tamaño típico”, este resultado corresponderá a una distribución Gaussiana siempre que el número de contribuciones (el número de sumandos) sea un número considerable (no pequeño).\n",
    "\n",
    "\n"
   ]
  },
  {
   "cell_type": "markdown",
   "metadata": {},
   "source": [
    "# Challenge 2 - Plot Probability Mass Function (PMF)"
   ]
  },
  {
   "cell_type": "markdown",
   "metadata": {},
   "source": [
    "#### Background knowledge\n",
    "\n",
    "[PMF](https://en.wikipedia.org/wiki/Probability_mass_function) shows the probability distribution of a **discrete random variable**. A [discrete random variable](https://en.wikipedia.org/wiki/Random_variable#Discrete_random_variable) has random numeric values that are not continuous. For example, the number of people in a household can only be integers but not floats. Therefore the number of people in a household is a discrete variable.\n",
    "\n",
    "#### Question: We assume that the probability of clicking an Ad in a Youtube video is 0.15. We have a sample of 5 people who wathched the video and we want to plot the PMF for a binomial distribution.\n",
    "\n",
    "*Hint: use binom from `scipy.stats.binom`. Your output should look like below:*\n",
    "\n",
    "![binom 10](ch-2.png)"
   ]
  },
  {
   "cell_type": "code",
   "execution_count": 130,
   "metadata": {},
   "outputs": [
    {
     "data": {
      "text/plain": [
       "[<matplotlib.lines.Line2D at 0x2300ea43cd0>]"
      ]
     },
     "execution_count": 130,
     "metadata": {},
     "output_type": "execute_result"
    },
    {
     "data": {
      "image/png": "[encoded data removed]",
      "text/plain": [
       "<Figure size 432x288 with 1 Axes>"
      ]
     },
     "metadata": {
      "needs_background": "light"
     },
     "output_type": "display_data"
    }
   ],
   "source": [
    "n = 5\n",
    "p = 0.15\n",
    "k = np.arange(n)\n",
    "rv = binom.pmf(k,n,p)\n",
    "plt.plot(rv)\n"
   ]
  },
  {
   "cell_type": "markdown",
   "metadata": {},
   "source": [
    "#### Explain what you observe from the plot above"
   ]
  },
  {
   "cell_type": "markdown",
   "metadata": {},
   "source": [
    "# Your comment here\n",
    "La probabilidad de que una persona haya clikeado es mayor que la probabilidad de 2,3,4,5\n"
   ]
  },
  {
   "cell_type": "markdown",
   "metadata": {},
   "source": [
    "#### Now plot PMF with 50, 500, and 5000 visitors."
   ]
  },
  {
   "cell_type": "code",
   "execution_count": 144,
   "metadata": {},
   "outputs": [
    {
     "data": {
      "text/plain": [
       "[<matplotlib.lines.Line2D at 0x2300edcde20>]"
      ]
     },
     "execution_count": 144,
     "metadata": {},
     "output_type": "execute_result"
    },
    {
     "data": {
      "image/png": "[encoded data removed]",
      "text/plain": [
       "<Figure size 1080x360 with 3 Axes>"
      ]
     },
     "metadata": {
      "needs_background": "light"
     },
     "output_type": "display_data"
    }
   ],
   "source": [
    "# Your code here\n",
    "plt.figure(figsize=(15,5))\n",
    "plt.subplot(1,3,1)\n",
    "n = 50\n",
    "p = 0.15\n",
    "k = np.arange(n)\n",
    "rv = binom.pmf(k,n,p)\n",
    "plt.plot(rv)\n",
    "plt.subplot(1,3,2)\n",
    "n = 500\n",
    "p = 0.15\n",
    "k = np.arange(n)\n",
    "rv = binom.pmf(k,n,p)\n",
    "plt.plot(rv)\n",
    "plt.subplot(1,3,3)\n",
    "n = 5000\n",
    "p = 0.15\n",
    "k = np.arange(n)\n",
    "rv = binom.pmf(k,n,p)\n",
    "plt.plot(rv)\n"
   ]
  },
  {
   "cell_type": "markdown",
   "metadata": {},
   "source": [
    "#### What did you notice from the distribution plots? Comment your findings."
   ]
  },
  {
   "cell_type": "markdown",
   "metadata": {},
   "source": [
    "# Your comment here\n",
    "Aqui podemos comprobar que la probabilidad sobre 50 personas se hace máxima en 7,5, 75 sobre 500 y 750 sobre 5000"
   ]
  },
  {
   "cell_type": "markdown",
   "metadata": {},
   "source": [
    "# Challenge 3"
   ]
  },
  {
   "cell_type": "markdown",
   "metadata": {},
   "source": [
    "#### Reaserch the Poisson distribution. Write about your own understanding of the Poisson distribution."
   ]
  },
  {
   "cell_type": "markdown",
   "metadata": {},
   "source": [
    "# Your comment here\n",
    "\n",
    "En teoría de probabilidad y estadística, la distribución de Poisson es una distribución de probabilidad discreta que expresa, a partir de una frecuencia de ocurrencia media, la probabilidad de que ocurra un determinado número de eventos durante cierto período de tiempo. Concretamente, se especializa en la probabilidad de ocurrencia de sucesos con probabilidades muy pequeñas, o sucesos «raros»."
   ]
  },
  {
   "cell_type": "markdown",
   "metadata": {},
   "source": [
    "#### A website has an average of 300 visits per day. What is the probability of getting 320 visitors in a day?\n",
    "\n",
    "*Hint: use `scipy.stats.poisson`*"
   ]
  },
  {
   "cell_type": "code",
   "execution_count": 173,
   "metadata": {},
   "outputs": [
    {
     "data": {
      "text/plain": [
       "0.011612348610402475"
      ]
     },
     "execution_count": 173,
     "metadata": {},
     "output_type": "execute_result"
    }
   ],
   "source": [
    "# Your code here\n",
    "from scipy.stats import poisson\n",
    "\n",
    "mu = 300\n",
    "\n",
    "rv = poisson.pmf(320,mu)\n",
    "\n",
    "rv\n",
    "\n",
    "\n"
   ]
  },
  {
   "cell_type": "markdown",
   "metadata": {},
   "source": [
    "#### What is the probability of getting 60 visits?"
   ]
  },
  {
   "cell_type": "code",
   "execution_count": 174,
   "metadata": {},
   "outputs": [
    {
     "data": {
      "text/plain": [
       "2.622743762294515e-64"
      ]
     },
     "execution_count": 174,
     "metadata": {},
     "output_type": "execute_result"
    }
   ],
   "source": [
    "# Your code here\n",
    "\n",
    "\n",
    "mu = 300\n",
    "\n",
    "rv = poisson.pmf(60,mu)\n",
    "\n",
    "rv\n"
   ]
  },
  {
   "cell_type": "markdown",
   "metadata": {},
   "source": [
    "#### Plot the distribution of the probability for getting 0-1000 visits.\n",
    "\n",
    "*Hints:* \n",
    "\n",
    "- Create a list to store the Poisson distribution probabilities for n=0 to 1000. Then plot the probabilities.\n",
    "\n",
    "- Your plot should look like below:\n",
    "\n",
    "![poisson distribution](ch-3.png)"
   ]
  },
  {
   "cell_type": "code",
   "execution_count": 170,
   "metadata": {},
   "outputs": [
    {
     "data": {
      "text/plain": [
       "[<matplotlib.lines.Line2D at 0x230103d5430>]"
      ]
     },
     "execution_count": 170,
     "metadata": {},
     "output_type": "execute_result"
    },
    {
     "data": {
      "image/png": "[encoded data removed]",
      "text/plain": [
       "<Figure size 432x288 with 1 Axes>"
      ]
     },
     "metadata": {
      "needs_background": "light"
     },
     "output_type": "display_data"
    }
   ],
   "source": [
    "# your code here\n",
    "k = np.arange(1000)\n",
    "plt.plot(k,poisson.pmf(k,mu))"
   ]
  },
  {
   "cell_type": "code",
   "execution_count": null,
   "metadata": {},
   "outputs": [],
   "source": []
  }
 ],
 "metadata": {
  "anaconda-cloud": {},
  "kernelspec": {
   "display_name": "Python 3",
   "language": "python",
   "name": "python3"
  },
  "language_info": {
   "codemirror_mode": {
    "name": "ipython",
    "version": 3
   },
   "file_extension": ".py",
   "mimetype": "text/x-python",
   "name": "python",
   "nbconvert_exporter": "python",
   "pygments_lexer": "ipython3",
   "version": "3.8.1"
  }
 },
 "nbformat": 4,
 "nbformat_minor": 1
}
